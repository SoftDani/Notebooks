{
 "cells": [
  {
   "cell_type": "code",
   "execution_count": 7,
   "id": "adde48ed",
   "metadata": {
    "scrolled": true
   },
   "outputs": [
    {
     "ename": "ImportError",
     "evalue": "cannot import name 'FeatureSelector' from 'feature_selector' (unknown location)",
     "output_type": "error",
     "traceback": [
      "\u001b[1;31m---------------------------------------------------------------------------\u001b[0m",
      "\u001b[1;31mImportError\u001b[0m                               Traceback (most recent call last)",
      "\u001b[1;32mC:\\Users\\PRACTI~1\\AppData\\Local\\Temp/ipykernel_11276/92859345.py\u001b[0m in \u001b[0;36m<module>\u001b[1;34m\u001b[0m\n\u001b[0;32m     38\u001b[0m \u001b[1;32mfrom\u001b[0m \u001b[0mscipy\u001b[0m\u001b[1;33m.\u001b[0m\u001b[0mcluster\u001b[0m\u001b[1;33m.\u001b[0m\u001b[0mhierarchy\u001b[0m \u001b[1;32mimport\u001b[0m \u001b[0mdendrogram\u001b[0m\u001b[1;33m,\u001b[0m \u001b[0mlinkage\u001b[0m\u001b[1;33m\u001b[0m\u001b[1;33m\u001b[0m\u001b[0m\n\u001b[0;32m     39\u001b[0m \u001b[1;33m\u001b[0m\u001b[0m\n\u001b[1;32m---> 40\u001b[1;33m \u001b[1;32mfrom\u001b[0m \u001b[0mfeature_selector\u001b[0m \u001b[1;32mimport\u001b[0m \u001b[0mFeatureSelector\u001b[0m\u001b[1;33m\u001b[0m\u001b[1;33m\u001b[0m\u001b[0m\n\u001b[0m\u001b[0;32m     41\u001b[0m \u001b[1;33m\u001b[0m\u001b[0m\n\u001b[0;32m     42\u001b[0m \u001b[1;31m# Configuración warnings\u001b[0m\u001b[1;33m\u001b[0m\u001b[1;33m\u001b[0m\u001b[1;33m\u001b[0m\u001b[0m\n",
      "\u001b[1;31mImportError\u001b[0m: cannot import name 'FeatureSelector' from 'feature_selector' (unknown location)"
     ]
    }
   ],
   "source": [
    "# Tratamiento de datos\n",
    "# ------------------------------------------------------------------------------\n",
    "import numpy as np\n",
    "import pandas as pd\n",
    "\n",
    "# Gráficos\n",
    "# ------------------------------------------------------------------------------\n",
    "import matplotlib.pyplot as plt\n",
    "\n",
    "# Preprocesado y modelado\n",
    "# ------------------------------------------------------------------------------\n",
    "from sklearn.datasets import load_boston\n",
    "from sklearn.model_selection import train_test_split\n",
    "from sklearn.tree import DecisionTreeRegressor\n",
    "from sklearn.tree import DecisionTreeClassifier\n",
    "from sklearn.tree import plot_tree\n",
    "from sklearn.tree import export_graphviz\n",
    "from sklearn.tree import export_text\n",
    "from sklearn import metrics\n",
    "from sklearn.model_selection import GridSearchCV\n",
    "from sklearn.metrics import mean_squared_error\n",
    "from sklearn.preprocessing import MinMaxScaler\n",
    "from sklearn.tree import export_graphviz\n",
    "from sklearn.metrics import accuracy_score\n",
    "from sklearn import tree\n",
    "from sklearn.metrics import confusion_matrix\n",
    "from sklearn.metrics import classification_report\n",
    "from sklearn import svm, datasets\n",
    "from sklearn.metrics import ConfusionMatrixDisplay\n",
    "from sklearn.metrics import plot_confusion_matrix\n",
    "#from sklearn.externals.six import StringIO  \n",
    "from IPython.display import Image  \n",
    "from io import StringIO\n",
    "import pydotplus\n",
    "from sklearn import tree\n",
    "import graphviz \n",
    "from seaborn import load_dataset\n",
    "from scipy.cluster.hierarchy import dendrogram, linkage\n",
    "\n",
    "from feature_selector import FeatureSelector \n",
    "\n",
    "# Configuración warnings\n",
    "# Warnings\n",
    "# ------------------------------------------------------------------------------\n",
    "import warnings\n",
    "warnings.filterwarnings('once')\n",
    "warnings.filterwarnings(\"ignore\", category=DeprecationWarning)\n",
    "# ------------------------------------------------------------------------------\n",
    "\n",
    "import seaborn as sns\n",
    "import vlc\n",
    "import pathlib\n",
    "print('Ruta actual de trabajo '+ str(pathlib.Path().absolute()))\n",
    "np.random.seed(0)\n"
   ]
  },
  {
   "cell_type": "code",
   "execution_count": null,
   "id": "88c3895f",
   "metadata": {},
   "outputs": [],
   "source": [
    "#sound=vlc.MediaPlayer(r'C:\\Users\\Practicas\\Documents\\Prediccion talleres\\sounds\\wavs_conga_groove.wav')\n",
    "#sound.play()"
   ]
  },
  {
   "cell_type": "code",
   "execution_count": null,
   "id": "092648b0",
   "metadata": {},
   "outputs": [],
   "source": [
    "df = pd.read_csv (r'C:\\\\Users\\Practicas\\Documents\\Prediccion talleres\\data\\taller_operaciones.csv',sep=';')\n",
    "df"
   ]
  },
  {
   "cell_type": "code",
   "execution_count": null,
   "id": "762b7e59",
   "metadata": {},
   "outputs": [],
   "source": [
    "df = df.drop('ndias', 1)\n",
    "df = df.drop('ndias_ant_area', 1)\n",
    "df = df.drop('ndias_ant_tipo', 1)\n",
    "#df.reset_index(drop = True, inplace = True)\n",
    "df"
   ]
  },
  {
   "cell_type": "code",
   "execution_count": null,
   "id": "dbfab162",
   "metadata": {
    "scrolled": true
   },
   "outputs": [],
   "source": [
    "#indexNames = df[ (df['ndias_ant'] > 150)\n",
    "                #& (df['ndias_ant'] <= 0) ].index\n",
    "#df=df.drop(df[ (df['ndias_ant'] > 150)& (df['ndias_ant'] <= 0) ].index, inplace=True)\n",
    "df_drop=df[df['ndias_ant']>150].index\n",
    "df=df.drop(df_drop)\n",
    "df_drop=df[df['ndias_ant']<=0].index\n",
    "df=df.drop(df_drop)\n",
    "df=df.reset_index(drop = True)\n",
    "df"
   ]
  },
  {
   "cell_type": "code",
   "execution_count": null,
   "id": "12cc8182",
   "metadata": {},
   "outputs": [],
   "source": [
    "df"
   ]
  },
  {
   "cell_type": "markdown",
   "id": "20a1a2d6",
   "metadata": {},
   "source": [
    "# AGRUPAMOS"
   ]
  },
  {
   "cell_type": "markdown",
   "id": "4ef5ca19",
   "metadata": {},
   "source": [
    "## SISTEMA DE REFRIGERACIÓN"
   ]
  },
  {
   "cell_type": "code",
   "execution_count": null,
   "id": "8fa0ff23",
   "metadata": {},
   "outputs": [],
   "source": [
    "df['grupopera'] = np.where(\n",
    "                        (df['nomopera'].str.contains('Bomba agua'))|\n",
    "                        (df['nomopera'].str.contains('Intercooler'))|\n",
    "                        (df['nomopera'].str.contains('Manguito/s calefaccion'))|\n",
    "                        (df['nomopera'].str.contains('Manguito/s motor'))|\n",
    "                        (df['nomopera'].str.contains('Radiador'))|  \n",
    "                        (df['nomopera'].str.contains('Termostatos'))| \n",
    "                        (df['nomopera'].str.contains('Fuga refrigerante'))| \n",
    "                        (df['nomopera'].str.contains('Presion en circuito refrigeracion'))\n",
    "                         ,'Sistema refrigreración',np.nan)"
   ]
  },
  {
   "cell_type": "markdown",
   "id": "b5233958",
   "metadata": {},
   "source": [
    "## SISTEMA DE DIRECION"
   ]
  },
  {
   "cell_type": "code",
   "execution_count": null,
   "id": "c37b032e",
   "metadata": {},
   "outputs": [],
   "source": [
    "df['grupopera'] = np.where((df['nomopera'].str.contains('Caja direccion'))|\n",
    "                           (df['nomopera'].str.contains('Fuga aceite servodireccion'))|\n",
    "                           (df['nomopera'].str.contains('Rotulas direccion'))|\n",
    "                           (df['nomopera'].str.contains('Alineado de direccion'))|\n",
    "                           (df['nomopera'].str.contains('Timoneria direccion'))\n",
    "                           ,'Sistema dirección',df['grupopera'])"
   ]
  },
  {
   "cell_type": "markdown",
   "id": "4e164a1e",
   "metadata": {},
   "source": [
    "## SISTEMA FRENOS"
   ]
  },
  {
   "cell_type": "code",
   "execution_count": null,
   "id": "c6b03a88",
   "metadata": {},
   "outputs": [],
   "source": [
    "df['grupopera'] = np.where((df['nomopera'].str.contains('Frenos 1º eje'))|\n",
    "                           (df['nomopera'].str.contains('Frenos 2º eje'))|\n",
    "                           (df['nomopera'].str.contains('Frenos 3º eje'))|\n",
    "                           (df['nomopera'].str.contains('Freno mano'))|\n",
    "                           (df['nomopera'].str.contains('Disco'))|\n",
    "                           (df['nomopera'].str.contains('Bomba freno'))\n",
    "                           ,'Sistema frenos',df['grupopera'])"
   ]
  },
  {
   "cell_type": "markdown",
   "id": "6c2f1f88",
   "metadata": {},
   "source": [
    "## SISTEMA DE ESCAPE"
   ]
  },
  {
   "cell_type": "code",
   "execution_count": null,
   "id": "da99879f",
   "metadata": {},
   "outputs": [],
   "source": [
    "df['grupopera'] = np.where((df['nomopera'].str.contains('Flexible escape'))|\n",
    "                           (df['nomopera'].str.contains('Fuga escape'))|\n",
    "                           (df['nomopera'].str.contains('Catalizador'))|\n",
    "                           (df['nomopera'].str.contains('Silencioso'))\n",
    "                           ,'Sistema de escape',df['grupopera'])"
   ]
  },
  {
   "cell_type": "code",
   "execution_count": null,
   "id": "d19888e4",
   "metadata": {},
   "outputs": [],
   "source": [
    "## SISTEMA AMORTIGUACIÓN"
   ]
  },
  {
   "cell_type": "code",
   "execution_count": null,
   "id": "1fc9e863",
   "metadata": {},
   "outputs": [],
   "source": [
    "df['grupopera'] = np.where((df['nomopera'].str.contains('Regular suspension'))|\n",
    "                           (df['nomopera'].str.contains('Amortiguador 2º eje derecho'))|\n",
    "                           (df['nomopera'].str.contains('Amortiguadores 2º eje'))|\n",
    "                           (df['nomopera'].str.contains('Amortiguadores 3º eje'))|\n",
    "                           (df['nomopera'].str.contains('Tirantes/silembrocs 1º eje'))|\n",
    "                           (df['nomopera'].str.contains('Tirantes/silembrocs 2º eje'))\n",
    "                           ,'Sistema de amortiguación',df['grupopera'])"
   ]
  },
  {
   "cell_type": "markdown",
   "id": "49ebfceb",
   "metadata": {},
   "source": [
    "## SISTEMA DE ALIMENTACIÓN"
   ]
  },
  {
   "cell_type": "code",
   "execution_count": null,
   "id": "c8bc33ea",
   "metadata": {},
   "outputs": [],
   "source": [
    "df['grupopera'] = np.where((df['nomopera'].str.contains('Inyectores'))|\n",
    "                           (df['nomopera'].str.contains('Reglaje inyectores'))\n",
    "                           ,'Sistema de alimentación',df['grupopera'])"
   ]
  },
  {
   "cell_type": "markdown",
   "id": "f48901c3",
   "metadata": {},
   "source": [
    "## MOTOR"
   ]
  },
  {
   "cell_type": "code",
   "execution_count": null,
   "id": "0243f038",
   "metadata": {},
   "outputs": [],
   "source": [
    "df['grupopera'] = np.where((df['nomopera'].str.contains('Cambiar turbina/motor condensadora'))|\n",
    "                           (df['nomopera'].str.contains('Culata del compresor del motor'))|\n",
    "                           (df['nomopera'].str.contains('Fuga aceite motor'))|\n",
    "                           (df['nomopera'].str.contains('Limpiar motor'))|\n",
    "                           (df['nomopera'].str.contains('Motor'))|\n",
    "                           (df['nomopera'].str.contains('Poleas motor'))|\n",
    "                           (df['nomopera'].str.contains('Reten trasero motor'))|\n",
    "                           (df['nomopera'].str.contains('Ruido en motor'))|\n",
    "                           (df['nomopera'].str.contains('Arbol de levas'))|\n",
    "                           (df['nomopera'].str.contains('Casquillos de biela'))|\n",
    "                           (df['nomopera'].str.contains('Potencia motor'))|\n",
    "                           (df['nomopera'].str.contains('Turbo'))|\n",
    "                           (df['nomopera'].str.contains('Manguito/s admision'))|\n",
    "                           (df['nomopera'].str.contains('Tacos motor'))\n",
    "                           ,'Motor',df['grupopera'])"
   ]
  },
  {
   "cell_type": "markdown",
   "id": "34260841",
   "metadata": {},
   "source": [
    "## Precalentador"
   ]
  },
  {
   "cell_type": "code",
   "execution_count": null,
   "id": "a483e5bd",
   "metadata": {},
   "outputs": [],
   "source": [
    "df['grupopera'] = np.where((df['nomopera'].str.contains('recalentador'))\n",
    "                           ,'Precalentador',df['grupopera'])"
   ]
  },
  {
   "cell_type": "markdown",
   "id": "edbfcb5a",
   "metadata": {},
   "source": [
    "## Alternador"
   ]
  },
  {
   "cell_type": "code",
   "execution_count": null,
   "id": "f838d1e4",
   "metadata": {},
   "outputs": [],
   "source": [
    "df['grupopera'] = np.where((df['nomopera'].str.contains('Alternador'))|\n",
    "                           #(df['nomopera'].str.contains('Soporte alternador'))|\n",
    "                           (df['nomopera'].str.contains('Alternador auxiliar'))\n",
    "                           ,'Alternador',df['grupopera'])"
   ]
  },
  {
   "cell_type": "markdown",
   "id": "7ab5359d",
   "metadata": {},
   "source": [
    "## ABS/EBS"
   ]
  },
  {
   "cell_type": "code",
   "execution_count": null,
   "id": "3fb5c70b",
   "metadata": {},
   "outputs": [],
   "source": [
    "df['grupopera'] = np.where((df['nomopera'].str.contains('Fallo en ABS/EBS'))\n",
    "                           ,'ABS/EBS',df['grupopera'])"
   ]
  },
  {
   "cell_type": "markdown",
   "id": "8f654856",
   "metadata": {},
   "source": [
    "## ADBLUE"
   ]
  },
  {
   "cell_type": "code",
   "execution_count": null,
   "id": "1ad43140",
   "metadata": {},
   "outputs": [],
   "source": [
    "df['grupopera'] = np.where((df['nomopera'].str.contains('Fallo adblue'))|\n",
    "                           (df['nomopera'].str.contains('Fuga adblue'))\n",
    "                           ,'Adblue',df['grupopera'])"
   ]
  },
  {
   "cell_type": "markdown",
   "id": "0b3e8bf8",
   "metadata": {},
   "source": [
    "## BATERIAS"
   ]
  },
  {
   "cell_type": "code",
   "execution_count": null,
   "id": "2085a682",
   "metadata": {},
   "outputs": [],
   "source": [
    "df['grupopera'] = np.where((df['nomopera'].str.contains('Baterias'))|\n",
    "                           (df['nomopera'].str.contains('Carga de baterias'))\n",
    "                           ,'Baterias',df['grupopera'])"
   ]
  },
  {
   "cell_type": "markdown",
   "id": "83da066c",
   "metadata": {},
   "source": [
    "## CORREAS"
   ]
  },
  {
   "cell_type": "code",
   "execution_count": null,
   "id": "e94eec3e",
   "metadata": {},
   "outputs": [],
   "source": [
    "df['grupopera'] = np.where((df['nomopera'].str.contains('orrea'))\n",
    "                           ,'Correas',df['grupopera'])"
   ]
  },
  {
   "cell_type": "markdown",
   "id": "5385b5b9",
   "metadata": {},
   "source": [
    "## Reglaje de Válvulas"
   ]
  },
  {
   "cell_type": "code",
   "execution_count": null,
   "id": "569f5a2a",
   "metadata": {},
   "outputs": [],
   "source": [
    "df['grupopera'] = np.where((df['nomopera'].str.contains('valvula'))\n",
    "                           ,'Reglaje válvulas',df['grupopera'])"
   ]
  },
  {
   "cell_type": "markdown",
   "id": "cffd8536",
   "metadata": {},
   "source": [
    "## Filtro Particulas"
   ]
  },
  {
   "cell_type": "code",
   "execution_count": null,
   "id": "37ff9167",
   "metadata": {},
   "outputs": [],
   "source": [
    "df['grupopera'] = np.where((df['nomopera'].str.contains('iltro part'))\n",
    "                           ,'Filtro de Particulas',df['grupopera'])"
   ]
  },
  {
   "cell_type": "markdown",
   "id": "1c96c78f",
   "metadata": {},
   "source": [
    "## EDC"
   ]
  },
  {
   "cell_type": "code",
   "execution_count": null,
   "id": "1466c05d",
   "metadata": {},
   "outputs": [],
   "source": [
    "df['grupopera'] = np.where((df['nomopera'].str.contains('EDC'))\n",
    "                           ,'Fallo en EDC',df['grupopera'])"
   ]
  },
  {
   "cell_type": "markdown",
   "id": "972dff97",
   "metadata": {},
   "source": [
    "## Fuga de Aire"
   ]
  },
  {
   "cell_type": "code",
   "execution_count": null,
   "id": "1857f6e3",
   "metadata": {},
   "outputs": [],
   "source": [
    "df['grupopera'] = np.where((df['nomopera'].str.contains('Fuga de aire'))\n",
    "                           ,'Fuga de aire',df['grupopera'])"
   ]
  },
  {
   "cell_type": "markdown",
   "id": "33c0d529",
   "metadata": {},
   "source": [
    "## TURBINA MOTOR"
   ]
  },
  {
   "cell_type": "code",
   "execution_count": null,
   "id": "3f89cd1d",
   "metadata": {},
   "outputs": [],
   "source": [
    "df['grupopera'] = np.where((df['nomopera'].str.contains('turbina'))\n",
    "                           ,'Cambiar turbina/motor condensadora',df['grupopera'])"
   ]
  },
  {
   "cell_type": "markdown",
   "id": "25241687",
   "metadata": {},
   "source": [
    "## GASOIL"
   ]
  },
  {
   "cell_type": "code",
   "execution_count": null,
   "id": "1365fce4",
   "metadata": {},
   "outputs": [],
   "source": [
    "df['grupopera'] = np.where((df['nomopera'].str.contains('Deposito de gasoil'))|\n",
    "                           #(df['nomopera'].str.contains('Cambio filtro gasoil'))|\n",
    "                           (df['nomopera'].str.contains('Fuga gasoil'))\n",
    "                           ,'Gasoil',df['grupopera'])"
   ]
  },
  {
   "cell_type": "markdown",
   "id": "9976fe6c",
   "metadata": {},
   "source": [
    "## Fallo en AVS"
   ]
  },
  {
   "cell_type": "code",
   "execution_count": null,
   "id": "0c7a4230",
   "metadata": {},
   "outputs": [],
   "source": [
    "df['grupopera'] = np.where((df['nomopera'].str.contains('AVS'))\n",
    "                           ,'Fallo en AVS',df['grupopera'])"
   ]
  },
  {
   "cell_type": "markdown",
   "id": "ab5a88b5",
   "metadata": {},
   "source": [
    "## Fuelle"
   ]
  },
  {
   "cell_type": "code",
   "execution_count": null,
   "id": "bb7322ea",
   "metadata": {},
   "outputs": [],
   "source": [
    "df['grupopera'] = np.where((df['nomopera'].str.contains('Fuelle 1º eje derecho'))|\n",
    "                           (df['nomopera'].str.contains('Fuelle 1º eje izquierdo'))|\n",
    "                           (df['nomopera'].str.contains('Fuelles 2º eje'))|\n",
    "                           (df['nomopera'].str.contains('Fuelles1º eje'))\n",
    "                           ,'Fuelle',df['grupopera'])"
   ]
  },
  {
   "cell_type": "markdown",
   "id": "98748c2f",
   "metadata": {},
   "source": [
    "## Pinchazo"
   ]
  },
  {
   "cell_type": "code",
   "execution_count": null,
   "id": "ab90ac91",
   "metadata": {},
   "outputs": [],
   "source": [
    "df['grupopera'] = np.where((df['nomopera'].str.contains('pinchazo'))\n",
    "                           ,'Pinchazo',df['grupopera'])"
   ]
  },
  {
   "cell_type": "markdown",
   "id": "209c44d3",
   "metadata": {},
   "source": [
    "#### Eliminación de  operaciones no agrupadas"
   ]
  },
  {
   "cell_type": "code",
   "execution_count": null,
   "id": "b2116c77",
   "metadata": {},
   "outputs": [],
   "source": [
    "df=df[~df['grupopera'].str.contains(\"nan\")]\n",
    "df.groupby(['grupopera']).count()"
   ]
  },
  {
   "cell_type": "code",
   "execution_count": null,
   "id": "8fcc1f02",
   "metadata": {},
   "outputs": [],
   "source": [
    "df = df.drop('nomopera', 1)\n",
    "df"
   ]
  },
  {
   "cell_type": "code",
   "execution_count": null,
   "id": "dd36840c",
   "metadata": {},
   "outputs": [],
   "source": [
    "df.shape"
   ]
  },
  {
   "cell_type": "code",
   "execution_count": null,
   "id": "5fbeefd5",
   "metadata": {
    "scrolled": true
   },
   "outputs": [],
   "source": [
    "df= df[['grupopera','marca','modelo','v_codigbus','tipo','v_edad','capacidad','ndias_ant','subtipo','potencia']]\n",
    "df"
   ]
  },
  {
   "cell_type": "markdown",
   "id": "4b26300a",
   "metadata": {},
   "source": [
    "# Sistema de escape"
   ]
  },
  {
   "cell_type": "code",
   "execution_count": null,
   "id": "79c3f7b7",
   "metadata": {},
   "outputs": [],
   "source": [
    "target='Motor'\n",
    "df['target'] = np.where((df['grupopera'].str.contains(target)),1,0)\n",
    "df"
   ]
  },
  {
   "cell_type": "code",
   "execution_count": null,
   "id": "986b30de",
   "metadata": {},
   "outputs": [],
   "source": [
    "df =df.dropna()\n",
    "df.reset_index(drop = True, inplace = True)"
   ]
  },
  {
   "cell_type": "code",
   "execution_count": null,
   "id": "454770ff",
   "metadata": {
    "scrolled": true
   },
   "outputs": [],
   "source": [
    "df"
   ]
  },
  {
   "cell_type": "code",
   "execution_count": null,
   "id": "1112352f",
   "metadata": {},
   "outputs": [],
   "source": []
  },
  {
   "cell_type": "code",
   "execution_count": null,
   "id": "f6ed55a8",
   "metadata": {},
   "outputs": [],
   "source": [
    "import category_encoders as ce\n",
    "df_cat=df.select_dtypes(include=np.object)\n",
    "cols_cat=df_cat.columns\n",
    "encoder = ce.OrdinalEncoder(cols=['marca','tipo','modelo','v_codigbus','subtipo'])\n",
    "df_enc = encoder.fit_transform(df_cat)\n",
    "df_enc"
   ]
  },
  {
   "cell_type": "code",
   "execution_count": null,
   "id": "a64d902d",
   "metadata": {},
   "outputs": [],
   "source": []
  },
  {
   "cell_type": "code",
   "execution_count": null,
   "id": "5eb716db",
   "metadata": {},
   "outputs": [],
   "source": []
  },
  {
   "cell_type": "code",
   "execution_count": null,
   "id": "f49eacb9",
   "metadata": {},
   "outputs": [],
   "source": [
    "df_num=df.select_dtypes(include=np.number)\n",
    "cols_num=df_num.columns\n",
    "scaler = MinMaxScaler()\n",
    "scaled_df = scaler.fit_transform(df_num)\n",
    "scaled_df = pd.DataFrame(scaled_df, columns=cols_num)"
   ]
  },
  {
   "cell_type": "code",
   "execution_count": null,
   "id": "419d85d2",
   "metadata": {},
   "outputs": [],
   "source": [
    "df_num"
   ]
  },
  {
   "cell_type": "code",
   "execution_count": null,
   "id": "8d8fde22",
   "metadata": {},
   "outputs": [],
   "source": [
    "df_norm=pd.concat([df_enc, scaled_df], axis=1,)\n",
    "df_norm.shape"
   ]
  },
  {
   "cell_type": "code",
   "execution_count": null,
   "id": "cc43cfe5",
   "metadata": {},
   "outputs": [],
   "source": [
    "df_norm"
   ]
  },
  {
   "cell_type": "code",
   "execution_count": null,
   "id": "b81af6d1",
   "metadata": {},
   "outputs": [],
   "source": [
    "df_norm = df_norm.drop('grupopera', 1)\n",
    "df_norm"
   ]
  },
  {
   "cell_type": "code",
   "execution_count": null,
   "id": "48e84562",
   "metadata": {},
   "outputs": [],
   "source": []
  },
  {
   "cell_type": "code",
   "execution_count": null,
   "id": "183c022c",
   "metadata": {},
   "outputs": [],
   "source": [
    "\n"
   ]
  },
  {
   "cell_type": "code",
   "execution_count": null,
   "id": "9a707268",
   "metadata": {},
   "outputs": [],
   "source": []
  },
  {
   "cell_type": "code",
   "execution_count": null,
   "id": "17fd4201",
   "metadata": {},
   "outputs": [],
   "source": []
  },
  {
   "cell_type": "code",
   "execution_count": null,
   "id": "0b1992b9",
   "metadata": {},
   "outputs": [],
   "source": [
    "df_v_codigbus = pd.DataFrame({'v_codigbus':pd.unique(df.v_codigbus), 'codigo':pd.unique(df_norm.v_codigbus)})\n",
    "df_v_codigbus"
   ]
  },
  {
   "cell_type": "code",
   "execution_count": null,
   "id": "0585b005",
   "metadata": {},
   "outputs": [],
   "source": [
    "df_marca = pd.DataFrame({'Marca':pd.unique(df.marca), 'codigo':pd.unique(df_norm.marca)})\n",
    "df_marca "
   ]
  },
  {
   "cell_type": "code",
   "execution_count": null,
   "id": "6fd50e88",
   "metadata": {},
   "outputs": [],
   "source": [
    "df_modelo = pd.DataFrame({'modelo':pd.unique(df.modelo), 'codigo':pd.unique(df_norm.modelo)})\n",
    "df_modelo "
   ]
  },
  {
   "cell_type": "code",
   "execution_count": null,
   "id": "f9192c27",
   "metadata": {},
   "outputs": [],
   "source": [
    "df_tipo = pd.DataFrame({'tipo':pd.unique(df.tipo), 'codigo':pd.unique(df_norm.tipo)})\n",
    "df_tipo "
   ]
  },
  {
   "cell_type": "code",
   "execution_count": null,
   "id": "1cb4a2d8",
   "metadata": {},
   "outputs": [],
   "source": [
    "df_subtipo = pd.DataFrame({'subtipo':pd.unique(df.subtipo), 'codigo':pd.unique(df_norm.subtipo)})\n",
    "df_subtipo"
   ]
  },
  {
   "cell_type": "code",
   "execution_count": null,
   "id": "e958accb",
   "metadata": {},
   "outputs": [],
   "source": [
    "df_modelo = pd.DataFrame({'modelo':pd.unique(df.modelo), 'codigo':pd.unique(df_norm.modelo)})\n",
    "df_modelo"
   ]
  },
  {
   "cell_type": "code",
   "execution_count": null,
   "id": "d6102763",
   "metadata": {},
   "outputs": [],
   "source": [
    "df_target1=df_norm[df['target']==1]\n",
    "df_target0=df_norm[df['target']==0]"
   ]
  },
  {
   "cell_type": "code",
   "execution_count": null,
   "id": "706c9d10",
   "metadata": {},
   "outputs": [],
   "source": [
    "X_train_t, X_test_t, y_train_t, y_test_t = train_test_split(\n",
    "                                        #df_target0.drop(columns = \"target\"),\n",
    "                                        df_target0,\n",
    "                                        df_target0['target'],\n",
    "                                        test_size=0.9,\n",
    "                                        random_state = 123\n",
    "                                    )"
   ]
  },
  {
   "cell_type": "code",
   "execution_count": null,
   "id": "e1bafce7",
   "metadata": {},
   "outputs": [],
   "source": [
    "X_train_t"
   ]
  },
  {
   "cell_type": "code",
   "execution_count": null,
   "id": "bc3873b9",
   "metadata": {},
   "outputs": [],
   "source": [
    "df_norm = pd.concat([df_target1,X_train_t])\n",
    "df_norm.reset_index(drop = True, inplace = True)\n",
    "df_norm['target']. value_counts ()"
   ]
  },
  {
   "cell_type": "code",
   "execution_count": null,
   "id": "e79c7c94",
   "metadata": {},
   "outputs": [],
   "source": []
  },
  {
   "cell_type": "code",
   "execution_count": null,
   "id": "04a1c334",
   "metadata": {},
   "outputs": [],
   "source": [
    "hist_mean= df_norm.hist(bins=20,figsize=(15,10),grid=False, color='teal')"
   ]
  },
  {
   "cell_type": "code",
   "execution_count": null,
   "id": "4194e554",
   "metadata": {},
   "outputs": [],
   "source": []
  },
  {
   "cell_type": "code",
   "execution_count": null,
   "id": "c5147b0f",
   "metadata": {},
   "outputs": [],
   "source": [
    "plt.figure(figsize=(15,10))\n",
    "sns.set(style='darkgrid')\n",
    "\n",
    "sns.countplot(y=\"target\",data=df_norm)\n",
    "\n",
    "plt.xlabel('Cantidad de observaciones') "
   ]
  },
  {
   "cell_type": "code",
   "execution_count": null,
   "id": "6219d1b3",
   "metadata": {},
   "outputs": [],
   "source": [
    "df_norm['target']. value_counts ()"
   ]
  },
  {
   "cell_type": "code",
   "execution_count": null,
   "id": "bb4fd7ce",
   "metadata": {},
   "outputs": [],
   "source": []
  },
  {
   "cell_type": "code",
   "execution_count": null,
   "id": "cbf6b53e",
   "metadata": {},
   "outputs": [],
   "source": []
  },
  {
   "cell_type": "code",
   "execution_count": null,
   "id": "a449785b",
   "metadata": {},
   "outputs": [],
   "source": []
  },
  {
   "cell_type": "code",
   "execution_count": null,
   "id": "e9c39f95",
   "metadata": {},
   "outputs": [],
   "source": [
    "df.ndias_ant.describe()"
   ]
  },
  {
   "cell_type": "code",
   "execution_count": null,
   "id": "369e57c8",
   "metadata": {},
   "outputs": [],
   "source": [
    "df.describe()"
   ]
  },
  {
   "cell_type": "code",
   "execution_count": null,
   "id": "7df86cc8",
   "metadata": {},
   "outputs": [],
   "source": []
  },
  {
   "cell_type": "code",
   "execution_count": null,
   "id": "ef4c7186",
   "metadata": {
    "scrolled": true
   },
   "outputs": [],
   "source": [
    "plt.figure(figsize=(15,5))\n",
    "plt.xlabel('repetitividad')\n",
    "#plt.xticks(np.arange(0, 11, step=1)) #change from 0-based array index to 1-based human-readable label\n",
    "plt.ylabel('Nº de días')\n",
    "df.ndias_ant.plot()"
   ]
  },
  {
   "cell_type": "code",
   "execution_count": null,
   "id": "d5d57628",
   "metadata": {},
   "outputs": [],
   "source": []
  },
  {
   "cell_type": "code",
   "execution_count": null,
   "id": "36aed0c3",
   "metadata": {},
   "outputs": [],
   "source": [
    "fs1 = FeatureSelector(data = df_norm, labels = df_enc.columns)\n",
    "fs1.identify_missing(missing_threshold=0.8)"
   ]
  },
  {
   "cell_type": "code",
   "execution_count": null,
   "id": "13d3d52a",
   "metadata": {},
   "outputs": [],
   "source": [
    "fs1.plot_missing()"
   ]
  },
  {
   "cell_type": "code",
   "execution_count": null,
   "id": "36c34a15",
   "metadata": {},
   "outputs": [],
   "source": [
    "round(df.isna().sum() * 100 / len(df),2)"
   ]
  },
  {
   "cell_type": "code",
   "execution_count": null,
   "id": "b979bf64",
   "metadata": {},
   "outputs": [],
   "source": []
  },
  {
   "cell_type": "code",
   "execution_count": null,
   "id": "95c20bdb",
   "metadata": {},
   "outputs": [],
   "source": [
    "fs1.identify_collinear(correlation_threshold=0.8)"
   ]
  },
  {
   "cell_type": "code",
   "execution_count": null,
   "id": "008a438d",
   "metadata": {
    "scrolled": false
   },
   "outputs": [],
   "source": [
    "collinear_features = fs1.ops['collinear']\n",
    "collinear=fs1.record_collinear\n",
    "collinear.sort_values(by='corr_value', ascending=False)"
   ]
  },
  {
   "cell_type": "code",
   "execution_count": null,
   "id": "522c810e",
   "metadata": {},
   "outputs": [],
   "source": []
  },
  {
   "cell_type": "code",
   "execution_count": null,
   "id": "e2b3c2e2",
   "metadata": {},
   "outputs": [],
   "source": [
    "fs1.plot_collinear(plot_all=True)\n",
    "plt.xticks(rotation=45)\n",
    "plt.yticks(rotation=1)"
   ]
  },
  {
   "cell_type": "code",
   "execution_count": null,
   "id": "d682ea96",
   "metadata": {
    "scrolled": false
   },
   "outputs": [],
   "source": [
    "f,ax=plt.subplots(figsize=(15,10))\n",
    "plt.yticks(rotation=90)\n",
    "sns.heatmap(df_norm.corr(),annot=True,linewidths=.10,fmt='.2f',cmap='icefire', ax=ax)#cmap='YlGnBu', ax=ax)"
   ]
  },
  {
   "cell_type": "markdown",
   "id": "1b02845d",
   "metadata": {},
   "source": [
    "# Análisis de componentes principales"
   ]
  },
  {
   "cell_type": "code",
   "execution_count": null,
   "id": "4b686b76",
   "metadata": {
    "scrolled": true
   },
   "outputs": [],
   "source": [
    "df_feat = np.transpose(df_norm)\n",
    "df_feat=df_feat.drop('target', 0)"
   ]
  },
  {
   "cell_type": "code",
   "execution_count": null,
   "id": "be66a36e",
   "metadata": {},
   "outputs": [],
   "source": [
    "df_feat.index"
   ]
  },
  {
   "cell_type": "code",
   "execution_count": null,
   "id": "18de9765",
   "metadata": {},
   "outputs": [],
   "source": [
    "names =  df_feat.index\n",
    "\n",
    "names"
   ]
  },
  {
   "cell_type": "code",
   "execution_count": null,
   "id": "44381fd5",
   "metadata": {},
   "outputs": [],
   "source": [
    "\n",
    "from sklearn.decomposition import PCA\n",
    "pca = PCA().fit(df_feat)\n",
    "\n",
    "\n",
    "plt.rcParams[\"figure.figsize\"] = (12,6)\n",
    "\n",
    "fig, ax = plt.subplots(figsize=(10,5))\n",
    "xi = np.arange(1, 10, step=1)\n",
    "y = np.cumsum(pca.explained_variance_ratio_)\n",
    "\n",
    "#plt.figure(figsize=(20,10))\n",
    "plt.ylim(0.0,1.1)\n",
    "plt.plot(xi, y, marker='o', linestyle='--', color='b')\n",
    "\n",
    "plt.xlabel('Number of Components')\n",
    "plt.xticks(np.arange(0, 11, step=1)) #change from 0-based array index to 1-based human-readable label\n",
    "plt.ylabel('Cumulative variance (%)')\n",
    "plt.title('The number of components needed to explain variance')\n",
    "\n",
    "plt.axhline(y=0.99, color='r', linestyle='-')\n",
    "plt.text(0.5, 0.85, '99% cut-off threshold', color = 'red', fontsize=16)\n",
    "\n",
    "ax.grid(axis='x')\n",
    "\n",
    "plt.show()"
   ]
  },
  {
   "cell_type": "code",
   "execution_count": null,
   "id": "fbceccc3",
   "metadata": {},
   "outputs": [],
   "source": []
  },
  {
   "cell_type": "code",
   "execution_count": null,
   "id": "f2b88dcf",
   "metadata": {
    "scrolled": false
   },
   "outputs": [],
   "source": [
    "from sklearn import preprocessing \n",
    "min_max_scaler = preprocessing.MinMaxScaler()\n",
    "features_norm = min_max_scaler.fit_transform(df_feat)\n",
    "\n",
    "\n",
    "\n",
    "#1.2. Principal Component Analysis\n",
    "from sklearn.decomposition import PCA\n",
    "estimator = PCA (n_components = 2)\n",
    "X_pca = estimator.fit_transform(features_norm)\n",
    "print(\"Variance Ratio: \", estimator.explained_variance_ratio_) \n",
    "\n",
    "\n",
    "import matplotlib.pyplot as plt\n",
    "fig, ax = plt.subplots(figsize=(15,8))\n",
    "for i in range(len(X_pca)):\n",
    "    plt.text(X_pca[i][0], X_pca[i][1], names[i]) \n",
    "\n",
    "\n",
    "plt.xlim(-20, 60)\n",
    "plt.ylim(-10, 30)\n",
    "ax.grid(True)\n",
    "fig.tight_layout()\n",
    "plt.show()"
   ]
  },
  {
   "cell_type": "markdown",
   "id": "30afe324",
   "metadata": {},
   "source": [
    "# Clustering jerárquico"
   ]
  },
  {
   "cell_type": "code",
   "execution_count": null,
   "id": "da8071cc",
   "metadata": {},
   "outputs": [],
   "source": [
    "from scipy import cluster\n",
    "import sklearn.neighbors\n",
    "dist = sklearn.neighbors.DistanceMetric.get_metric('euclidean')\n",
    "matdist= dist.pairwise(features_norm)\n",
    "\n",
    "\n",
    "# 3.1.1 Visualization\n",
    "import seaborn as sns; sns.set()\n",
    "plt.figure(figsize=(10,5))\n",
    "ax = sns.heatmap(matdist,vmin=0, vmax=1, yticklabels = names, xticklabels = names)"
   ]
  },
  {
   "cell_type": "code",
   "execution_count": null,
   "id": "56cb6cd1",
   "metadata": {},
   "outputs": [],
   "source": [
    "# 3. Building the Dendrogram\t\n",
    "# http://docs.scipy.org/doc/scipy/reference/generated/scipy.cluster.hierarchy.linkage.html#scipy.cluster.hierarchy.linkage\n",
    "clusters = cluster.hierarchy.linkage(matdist, method = 'single')\n",
    "# http://docs.scipy.org/doc/scipy-0.14.0/reference/generated/scipy.cluster.hierarchy.dendrogram.html\n",
    "plt.figure(figsize=(15,5))\n",
    "cluster.hierarchy.dendrogram(clusters, color_threshold = 8, labels = names , leaf_rotation=90)\n",
    "plt.show()"
   ]
  },
  {
   "cell_type": "code",
   "execution_count": null,
   "id": "6f6d32e6",
   "metadata": {},
   "outputs": [],
   "source": [
    "# 3. Building the Dendrogram\t\n",
    "# http://docs.scipy.org/doc/scipy/reference/generated/scipy.cluster.hierarchy.linkage.html#scipy.cluster.hierarchy.linkage\n",
    "# clusters = cluster.hierarchy.linkage(matdist, method = 'ward')\n",
    "# http://docs.scipy.org/doc/scipy-0.14.0/reference/generated/scipy.cluster.hierarchy.dendrogram.html\n",
    "# plt.figure(figsize=(15,5))\n",
    "# cluster.hierarchy.dendrogram(clusters, color_threshold = 20, labels = names , leaf_rotation=90)\n",
    "# plt.show()"
   ]
  },
  {
   "cell_type": "code",
   "execution_count": null,
   "id": "5f0e559c",
   "metadata": {},
   "outputs": [],
   "source": [
    "cut = 8 # !!!! ad-hoc\n",
    "labels = cluster.hierarchy.fcluster(clusters, cut , criterion = 'distance')\n",
    "\n",
    "labels"
   ]
  },
  {
   "cell_type": "code",
   "execution_count": null,
   "id": "42ac75f4",
   "metadata": {},
   "outputs": [],
   "source": [
    "#plotting orginal points with color related to label\n",
    "plt.figure(figsize=(15,5))\n",
    "plt.scatter(X_pca[:,0], X_pca[:,1], c=labels,s=20,cmap='rainbow')\n",
    "for i in range(len(X_pca)):\n",
    "    plt.text(X_pca[i][0], X_pca[i][1], names[i]) \n",
    "\n",
    "\n",
    "plt.grid()\n",
    "plt.show()"
   ]
  },
  {
   "cell_type": "code",
   "execution_count": null,
   "id": "119dcbf7",
   "metadata": {},
   "outputs": [],
   "source": [
    "from sklearn.decomposition import PCA\n",
    "pca = PCA().fit(df_norm.drop('target', 1))\n",
    "\n",
    "\n",
    "plt.rcParams[\"figure.figsize\"] = (12,6)\n",
    "\n",
    "fig, ax = plt.subplots(figsize=(10,5))\n",
    "xi = np.arange(1, 10, step=1)\n",
    "y = np.cumsum(pca.explained_variance_ratio_)\n",
    "\n",
    "#plt.figure(figsize=(20,10))\n",
    "plt.ylim(0.0,1.1)\n",
    "plt.plot(xi, y, marker='o', linestyle='--', color='b')\n",
    "\n",
    "plt.xlabel('Number of Components')\n",
    "plt.xticks(np.arange(0, 11, step=1)) #change from 0-based array index to 1-based human-readable label\n",
    "plt.ylabel('Cumulative variance (%)')\n",
    "plt.title('The number of components needed to explain variance')\n",
    "\n",
    "plt.axhline(y=0.99, color='r', linestyle='-')\n",
    "plt.text(0.5, 0.85, '99% cut-off threshold', color = 'red', fontsize=16)\n",
    "\n",
    "ax.grid(axis='x')\n",
    "\n",
    "plt.show()"
   ]
  },
  {
   "cell_type": "code",
   "execution_count": null,
   "id": "49ce861a",
   "metadata": {},
   "outputs": [],
   "source": []
  },
  {
   "cell_type": "code",
   "execution_count": null,
   "id": "d53ab6f3",
   "metadata": {},
   "outputs": [],
   "source": []
  },
  {
   "cell_type": "code",
   "execution_count": null,
   "id": "0a9c040d",
   "metadata": {},
   "outputs": [],
   "source": [
    "names=df_norm['target']"
   ]
  },
  {
   "cell_type": "code",
   "execution_count": null,
   "id": "c8fbc682",
   "metadata": {},
   "outputs": [],
   "source": [
    "from sklearn import preprocessing \n",
    "min_max_scaler = preprocessing.MinMaxScaler()\n",
    "features_norm = min_max_scaler.fit_transform(df_norm.drop('target', 1))\n",
    "\n",
    "\n",
    "\n",
    "#1.2. Principal Component Analysis\n",
    "from sklearn.decomposition import PCA\n",
    "estimator = PCA (n_components = 8)\n",
    "X_pca = estimator.fit_transform(features_norm)\n",
    "print(\"Variance Ratio: \", estimator.explained_variance_ratio_) \n",
    "\n",
    "\n",
    "import matplotlib.pyplot as plt\n",
    "fig, ax = plt.subplots(figsize=(15,8))\n",
    "for i in range(len(X_pca)):\n",
    "    plt.text(X_pca[i][0], X_pca[i][2], names[i]) \n",
    "\n",
    "\n",
    "plt.xlim(-0.5, 1.5)\n",
    "plt.ylim(-0.75, 1)\n",
    "ax.grid(True)\n",
    "fig.tight_layout()\n",
    "plt.show()"
   ]
  },
  {
   "cell_type": "code",
   "execution_count": null,
   "id": "1cffe6e2",
   "metadata": {},
   "outputs": [],
   "source": []
  },
  {
   "cell_type": "code",
   "execution_count": null,
   "id": "0d17bceb",
   "metadata": {},
   "outputs": [],
   "source": []
  },
  {
   "cell_type": "code",
   "execution_count": null,
   "id": "91f97c3b",
   "metadata": {},
   "outputs": [],
   "source": []
  },
  {
   "cell_type": "code",
   "execution_count": null,
   "id": "60bec920",
   "metadata": {},
   "outputs": [],
   "source": []
  },
  {
   "cell_type": "code",
   "execution_count": null,
   "id": "610086a2",
   "metadata": {},
   "outputs": [],
   "source": [
    "from scipy import cluster\n",
    "import sklearn.neighbors\n",
    "dist = sklearn.neighbors.DistanceMetric.get_metric('euclidean')\n",
    "matdist= dist.pairwise(features_norm)\n",
    "minPts=10"
   ]
  },
  {
   "cell_type": "markdown",
   "id": "57df1a7b",
   "metadata": {
    "scrolled": true
   },
   "source": [
    "# DBSCAN"
   ]
  },
  {
   "cell_type": "code",
   "execution_count": null,
   "id": "9a6b9c8f",
   "metadata": {},
   "outputs": [],
   "source": [
    "\n",
    "\n",
    "from sklearn.neighbors import kneighbors_graph\n",
    "A = kneighbors_graph(features_norm, minPts, include_self=False)\n",
    "Ar = A.toarray()\n",
    "\n",
    "seq = []\n",
    "for i,s in enumerate(features_norm):\n",
    "    for j in range(len(features_norm)):\n",
    "        if Ar[i][j] != 0:\n",
    "            seq.append(matdist[i][j])\n",
    "            \n",
    "seq.sort()\n",
    "# establecer intervalo ejes\n",
    "fig = plt.figure()\n",
    "ax = fig.gca()\n",
    "ax.set_xticks(np.arange(0, 50000, 10000))\n",
    "ax.set_yticks(np.arange(0, 1.5, 0.1))\n",
    "\n",
    "plt.plot(seq)\n",
    "plt.xticks(rotation=45)\n",
    "\n",
    "plt.show()"
   ]
  },
  {
   "cell_type": "code",
   "execution_count": null,
   "id": "80637476",
   "metadata": {
    "scrolled": true
   },
   "outputs": [],
   "source": [
    "from sklearn.cluster import DBSCAN\n",
    "\n",
    "for eps in np.arange(0.2, 0.8, 0.01):\n",
    "  db = DBSCAN(eps, min_samples=minPts).fit(features_norm)\n",
    "  core_samples_mask = np.zeros_like(db.labels_, dtype=bool)\n",
    "  core_samples_mask[db.core_sample_indices_] = True\n",
    "  labels = db.labels_\n",
    "  n_clusters_ = len(set(labels)) - (1 if -1 in labels else 0)\n",
    "  n_outliers = list(labels).count(-1)\n",
    "  print (\"%6.2f, %d, %d\" % (eps, n_clusters_, n_outliers))\n",
    "  \n",
    "#labels"
   ]
  },
  {
   "cell_type": "code",
   "execution_count": null,
   "id": "61ef5ac8",
   "metadata": {},
   "outputs": [],
   "source": [
    "db = DBSCAN(eps=0.45, min_samples=minPts).fit(features_norm)\n",
    "labels = db.labels_\n",
    "labels"
   ]
  },
  {
   "cell_type": "code",
   "execution_count": null,
   "id": "c01fcac5",
   "metadata": {},
   "outputs": [],
   "source": [
    "labels[labels==4] = 6\n",
    "labels[labels==3] = 5\n",
    "labels[labels==2] = 4\n",
    "labels[labels==1] = 3\n",
    "labels[labels==0] = 2\n",
    "labels[labels==-1] = 1\n",
    "\n",
    "\n"
   ]
  },
  {
   "cell_type": "code",
   "execution_count": null,
   "id": "ded75391",
   "metadata": {},
   "outputs": [],
   "source": [
    "#plotting orginal points with color related to label\n",
    "plt.figure(figsize=(15,8))\n",
    "plt.scatter(X_pca[:,0], X_pca[:,1], c=labels,s=50, cmap='rainbow')\n",
    "for i in range(len(X_pca)):\n",
    "    plt.text(X_pca[i][0], X_pca[i][1], labels[i]) \n",
    "plt.grid()\n",
    "plt.show()"
   ]
  },
  {
   "cell_type": "code",
   "execution_count": null,
   "id": "a2dc1552",
   "metadata": {},
   "outputs": [],
   "source": []
  },
  {
   "cell_type": "code",
   "execution_count": null,
   "id": "52bf0797",
   "metadata": {},
   "outputs": [],
   "source": [
    "df_norm['DBSCAN_cluster']= labels"
   ]
  },
  {
   "cell_type": "markdown",
   "id": "9d8a9fcd",
   "metadata": {},
   "source": [
    "# KMEANS"
   ]
  },
  {
   "cell_type": "code",
   "execution_count": null,
   "id": "db8c52ea",
   "metadata": {},
   "outputs": [],
   "source": []
  },
  {
   "cell_type": "code",
   "execution_count": null,
   "id": "bd96e0aa",
   "metadata": {},
   "outputs": [],
   "source": [
    "from sklearn.cluster import KMeans\n",
    "\n",
    "\n",
    "wcss=[]\n",
    "for i in range(1,15):\n",
    "    kmeans=KMeans(n_clusters=i, init='k-means++',random_state=123)\n",
    "    kmeans.fit(features_norm)\n",
    "    wcss.append(kmeans.inertia_)\n",
    "\n",
    "plt.plot(range(1,15),wcss)\n",
    "plt.title('The Elbow Method')\n",
    "plt.xlabel('Number of Clusters')\n",
    "plt.ylabel('Within-Cluster Sum of Squares')\n",
    "plt.show()"
   ]
  },
  {
   "cell_type": "code",
   "execution_count": null,
   "id": "d7753a00",
   "metadata": {},
   "outputs": [],
   "source": [
    "clusterer = KMeans(n_clusters=4, random_state=123)\n",
    "cluster_labels = clusterer.fit_predict(features_norm)\n",
    "print(cluster_labels)"
   ]
  },
  {
   "cell_type": "code",
   "execution_count": null,
   "id": "93c7477e",
   "metadata": {
    "scrolled": false
   },
   "outputs": [],
   "source": [
    "from sklearn.metrics import silhouette_samples, silhouette_score\n",
    "import matplotlib.cm as cm\n",
    "\n",
    "range_n_clusters = [2, 3, 4, 5, 6]\n",
    "for n_clusters in range_n_clusters:\n",
    "    # Create a subplot with 1 row and 2 columns\n",
    "    fig, (ax1, ax2) = plt.subplots(1, 2)\n",
    "    fig.set_size_inches(18, 7)\n",
    "\n",
    "    # The 1st subplot is the silhouette plot\n",
    "    # The silhouette coefficient can range from -1, 1 but in this example all\n",
    "    # lie within [-0.1, 1]\n",
    "    ax1.set_xlim([-0.1, 1])\n",
    "    # The (n_clusters+1)*10 is for inserting blank space between silhouette\n",
    "    # plots of individual clusters, to demarcate them clearly.\n",
    "    ax1.set_ylim([0, len(features_norm) + (n_clusters + 1) * 10])\n",
    "\n",
    "    # Initialize the clusterer with n_clusters value and a random generator\n",
    "    # seed of 10 for reproducibility.\n",
    "    clusterer = KMeans(n_clusters=n_clusters, random_state=10)\n",
    "    cluster_labels = clusterer.fit_predict(features_norm)\n",
    "\n",
    "    # The silhouette_score gives the average value for all the samples.\n",
    "    # This gives a perspective into the density and separation of the formed\n",
    "    # clusters\n",
    "    silhouette_avg = silhouette_score(features_norm, cluster_labels)\n",
    "    print(\"For n_clusters =\", n_clusters,\n",
    "          \"The average silhouette_score is :\", silhouette_avg)\n",
    "\n",
    "    # Compute the silhouette scores for each sample\n",
    "    sample_silhouette_values = silhouette_samples(features_norm, cluster_labels)\n",
    "\n",
    "    y_lower = 10\n",
    "    for i in range(n_clusters):\n",
    "        # Aggregate the silhouette scores for samples belonging to\n",
    "        # cluster i, and sort them\n",
    "        ith_cluster_silhouette_values = \\\n",
    "            sample_silhouette_values[cluster_labels == i]\n",
    "\n",
    "        ith_cluster_silhouette_values.sort()\n",
    "\n",
    "        size_cluster_i = ith_cluster_silhouette_values.shape[0]\n",
    "        y_upper = y_lower + size_cluster_i\n",
    "\n",
    "        color = cm.nipy_spectral(float(i) / n_clusters)\n",
    "        ax1.fill_betweenx(np.arange(y_lower, y_upper),\n",
    "                          0, ith_cluster_silhouette_values,\n",
    "                          facecolor=color, edgecolor=color, alpha=0.7)\n",
    "\n",
    "        # Label the silhouette plots with their cluster numbers at the middle\n",
    "        ax1.text(-0.05, y_lower + 0.5 * size_cluster_i, str(i))\n",
    "\n",
    "        # Compute the new y_lower for next plot\n",
    "        y_lower = y_upper + 10  # 10 for the 0 samples\n",
    "\n",
    "    ax1.set_title(\"The silhouette plot for the various clusters.\")\n",
    "    ax1.set_xlabel(\"The silhouette coefficient values\")\n",
    "    ax1.set_ylabel(\"Cluster label\")\n",
    "\n",
    "    # The vertical line for average silhouette score of all the values\n",
    "    ax1.axvline(x=silhouette_avg, color=\"red\", linestyle=\"--\")\n",
    "\n",
    "    ax1.set_yticks([])  # Clear the yaxis labels / ticks\n",
    "    ax1.set_xticks([-0.1, 0, 0.2, 0.4, 0.6, 0.8, 1])\n",
    "\n",
    "    # 2nd Plot showing the actual clusters formed\n",
    "    colors = cm.nipy_spectral(cluster_labels.astype(float) / n_clusters)\n",
    "    ax2.scatter(X_pca[:, 0], X_pca[:, 1], marker='.', s=30, lw=0, alpha=0.7,\n",
    "                c=colors, edgecolor='k')\n",
    "\n",
    "    # Labeling the clusters\n",
    "    centers = clusterer.cluster_centers_\n",
    "    # Draw white circles at cluster centers\n",
    "    ax2.scatter(centers[:, 0], centers[:, 1], marker='o',\n",
    "                c=\"white\", alpha=1, s=200, edgecolor='k')\n",
    "\n",
    "    for i, c in enumerate(centers):\n",
    "        ax2.scatter(c[0], c[1], marker='$%d$' % i, alpha=1,\n",
    "                    s=50, edgecolor='k')\n",
    "\n",
    "    ax2.set_title(\"The visualization of the clustered data.\")\n",
    "    ax2.set_xlabel(\"Feature space for the 1st feature\")\n",
    "    ax2.set_ylabel(\"Feature space for the 2nd feature\")\n",
    "\n",
    "    plt.suptitle((\"Silhouette analysis for KMeans clustering on sample data \"\n",
    "                  \"with n_clusters = %d\" % n_clusters),\n",
    "                 fontsize=14, fontweight='bold')\n",
    "\n",
    "plt.show()"
   ]
  },
  {
   "cell_type": "code",
   "execution_count": null,
   "id": "0057fc34",
   "metadata": {},
   "outputs": [],
   "source": [
    "\n",
    "from sklearn.cluster import KMeans\n",
    "kmeans = KMeans(n_clusters=2, random_state=123)\n",
    "labels = kmeans.fit_predict(features_norm)\n",
    "centers = kmeans.cluster_centers_\n",
    "labels = kmeans.predict(features_norm)\n",
    "\n",
    "# plot the cluster assignments and cluster centers\n",
    "#plt.scatter(scaled_features_copy_temp.iloc[:,0], scaled_features_copy_temp.iloc[:,1], c=y_pred, cmap=\"jet\")\n",
    "plt.figure(figsize=(15,8))\n",
    "plt.scatter(X_pca[:,0], X_pca[:,1], c=labels, s=30, cmap='viridis')\n",
    "plt.scatter(kmeans.cluster_centers_[:, 0],   \n",
    "            kmeans.cluster_centers_[:, 1],\n",
    "            marker='^', \n",
    "            c=[0,1],#2,3,4,5],\n",
    "            s=100, \n",
    "            linewidth=2,\n",
    "            edgecolor='black',\n",
    "            cmap=\"jet\")\n",
    "\n"
   ]
  },
  {
   "cell_type": "code",
   "execution_count": null,
   "id": "1296ad80",
   "metadata": {},
   "outputs": [],
   "source": [
    "df_norm['Kmeans_cluster']= labels"
   ]
  },
  {
   "cell_type": "code",
   "execution_count": null,
   "id": "2f41dd95",
   "metadata": {},
   "outputs": [],
   "source": []
  },
  {
   "cell_type": "code",
   "execution_count": null,
   "id": "eccb582f",
   "metadata": {},
   "outputs": [],
   "source": []
  },
  {
   "cell_type": "code",
   "execution_count": null,
   "id": "51c1577e",
   "metadata": {},
   "outputs": [],
   "source": [
    "f,ax=plt.subplots(figsize=(15,10))\n",
    "plt.yticks(rotation=90)\n",
    "sns.heatmap(df_norm.corr(),annot=True,linewidths=.10,fmt='.2f',cmap='icefire', ax=ax)#cmap='YlGnBu', ax=ax)"
   ]
  },
  {
   "cell_type": "code",
   "execution_count": null,
   "id": "bf4f534c",
   "metadata": {},
   "outputs": [],
   "source": []
  },
  {
   "cell_type": "code",
   "execution_count": null,
   "id": "f37f2f37",
   "metadata": {},
   "outputs": [],
   "source": [
    "df_feat = np.transpose(df_norm)\n",
    "df_feat=df_feat.drop('target', 0)"
   ]
  },
  {
   "cell_type": "code",
   "execution_count": null,
   "id": "b0688ee9",
   "metadata": {
    "scrolled": true
   },
   "outputs": [],
   "source": [
    "names =  df_feat.index\n",
    "names"
   ]
  },
  {
   "cell_type": "code",
   "execution_count": null,
   "id": "f3fafce8",
   "metadata": {},
   "outputs": [],
   "source": [
    "from sklearn.decomposition import PCA\n",
    "pca = PCA().fit(df_feat)\n",
    "\n",
    "\n",
    "plt.rcParams[\"figure.figsize\"] = (12,6)\n",
    "\n",
    "fig, ax = plt.subplots(figsize=(10,5))\n",
    "xi = np.arange(1, 12, step=1)\n",
    "y = np.cumsum(pca.explained_variance_ratio_)\n",
    "\n",
    "#plt.figure(figsize=(20,10))\n",
    "plt.ylim(0.0,1.1)\n",
    "plt.plot(xi, y, marker='o', linestyle='--', color='b')\n",
    "\n",
    "plt.xlabel('Number of Components')\n",
    "plt.xticks(np.arange(0, 11, step=1)) #change from 0-based array index to 1-based human-readable label\n",
    "plt.ylabel('Cumulative variance (%)')\n",
    "plt.title('The number of components needed to explain variance')\n",
    "\n",
    "plt.axhline(y=0.99, color='r', linestyle='-')\n",
    "plt.text(0.5, 0.85, '99% cut-off threshold', color = 'red', fontsize=16)\n",
    "\n",
    "ax.grid(axis='x')\n",
    "\n",
    "plt.show()"
   ]
  },
  {
   "cell_type": "code",
   "execution_count": null,
   "id": "8089100c",
   "metadata": {},
   "outputs": [],
   "source": [
    "from sklearn import preprocessing \n",
    "min_max_scaler = preprocessing.MinMaxScaler()\n",
    "features_norm = min_max_scaler.fit_transform(df_feat)\n",
    "\n",
    "\n",
    "\n",
    "#1.2. Principal Component Analysis\n",
    "from sklearn.decomposition import PCA\n",
    "estimator = PCA (n_components = 2)\n",
    "X_pca = estimator.fit_transform(features_norm)\n",
    "print(\"Variance Ratio: \", estimator.explained_variance_ratio_) \n",
    "\n",
    "\n",
    "import matplotlib.pyplot as plt\n",
    "fig, ax = plt.subplots(figsize=(15,8))\n",
    "for i in range(len(X_pca)):\n",
    "    plt.text(X_pca[i][0], X_pca[i][1], names[i]) \n",
    "\n",
    "\n",
    "plt.xlim(-20, 60)\n",
    "plt.ylim(-10, 30)\n",
    "ax.grid(True)\n",
    "fig.tight_layout()\n",
    "plt.show()"
   ]
  },
  {
   "cell_type": "code",
   "execution_count": null,
   "id": "a71c2bf6",
   "metadata": {},
   "outputs": [],
   "source": []
  },
  {
   "cell_type": "code",
   "execution_count": null,
   "id": "bcb6a86a",
   "metadata": {},
   "outputs": [],
   "source": [
    "df_norm"
   ]
  },
  {
   "cell_type": "code",
   "execution_count": null,
   "id": "c257917a",
   "metadata": {
    "scrolled": true
   },
   "outputs": [],
   "source": [
    "df_norm.columns"
   ]
  },
  {
   "cell_type": "markdown",
   "id": "1440ca58",
   "metadata": {},
   "source": [
    "test=df_n.to_numpy()\n",
    "test"
   ]
  },
  {
   "cell_type": "code",
   "execution_count": null,
   "id": "b0bcabc2",
   "metadata": {},
   "outputs": [],
   "source": [
    "features=['target', 'modelo', 'v_codigbus', 'v_edad', 'capacidad','marca','Kmeans_cluster']\n",
    "#['marca', 'modelo', 'v_codigbus', 'tipo', 'v_edad', 'subtipo','capacidad', 'ndias_ant', 'potencia', 'target']\n",
    "            \n",
    "new_df=df_norm[features]\n"
   ]
  },
  {
   "cell_type": "code",
   "execution_count": null,
   "id": "be408f1d",
   "metadata": {},
   "outputs": [],
   "source": [
    " new_df[features] =  new_df[features].astype('int')"
   ]
  },
  {
   "cell_type": "code",
   "execution_count": null,
   "id": "073928fd",
   "metadata": {},
   "outputs": [],
   "source": []
  },
  {
   "cell_type": "code",
   "execution_count": null,
   "id": "9a0a53e5",
   "metadata": {},
   "outputs": [],
   "source": []
  },
  {
   "cell_type": "markdown",
   "id": "14334e2a",
   "metadata": {},
   "source": [
    "# SPLIT TRAIN MODEL"
   ]
  },
  {
   "cell_type": "markdown",
   "id": "1dff017e",
   "metadata": {},
   "source": [
    "### Validación cruzada"
   ]
  },
  {
   "cell_type": "code",
   "execution_count": null,
   "id": "b00ea33a",
   "metadata": {},
   "outputs": [],
   "source": [
    "from sklearn.model_selection import KFold"
   ]
  },
  {
   "cell_type": "code",
   "execution_count": null,
   "id": "1558c402",
   "metadata": {},
   "outputs": [],
   "source": [
    "cv = KFold(n_splits = 10, shuffle = False) # "
   ]
  },
  {
   "cell_type": "markdown",
   "id": "fca39ad1",
   "metadata": {},
   "source": [
    "### Split dataset"
   ]
  },
  {
   "cell_type": "code",
   "execution_count": null,
   "id": "8fcbd81a",
   "metadata": {},
   "outputs": [],
   "source": []
  },
  {
   "cell_type": "code",
   "execution_count": 6,
   "id": "842a58f7",
   "metadata": {},
   "outputs": [
    {
     "ename": "NameError",
     "evalue": "name 'new_df' is not defined",
     "output_type": "error",
     "traceback": [
      "\u001b[1;31m---------------------------------------------------------------------------\u001b[0m",
      "\u001b[1;31mNameError\u001b[0m                                 Traceback (most recent call last)",
      "\u001b[1;32mC:\\Users\\PRACTI~1\\AppData\\Local\\Temp/ipykernel_11276/4212200710.py\u001b[0m in \u001b[0;36m<module>\u001b[1;34m\u001b[0m\n\u001b[0;32m      1\u001b[0m X_train, X_test, y_train, y_test = train_test_split(\n\u001b[1;32m----> 2\u001b[1;33m                                         \u001b[0mnew_df\u001b[0m\u001b[1;33m.\u001b[0m\u001b[0mdrop\u001b[0m\u001b[1;33m(\u001b[0m\u001b[0mcolumns\u001b[0m \u001b[1;33m=\u001b[0m \u001b[1;34m\"target\"\u001b[0m\u001b[1;33m)\u001b[0m\u001b[1;33m,\u001b[0m\u001b[1;33m\u001b[0m\u001b[1;33m\u001b[0m\u001b[0m\n\u001b[0m\u001b[0;32m      3\u001b[0m                                         \u001b[1;31m#new_df,\u001b[0m\u001b[1;33m\u001b[0m\u001b[1;33m\u001b[0m\u001b[1;33m\u001b[0m\u001b[0m\n\u001b[0;32m      4\u001b[0m                                         \u001b[0mnew_df\u001b[0m\u001b[1;33m[\u001b[0m\u001b[1;34m'target'\u001b[0m\u001b[1;33m]\u001b[0m\u001b[1;33m,\u001b[0m\u001b[1;33m\u001b[0m\u001b[1;33m\u001b[0m\u001b[0m\n\u001b[0;32m      5\u001b[0m                                         \u001b[0mtest_size\u001b[0m\u001b[1;33m=\u001b[0m\u001b[1;36m0.25\u001b[0m\u001b[1;33m,\u001b[0m\u001b[1;33m\u001b[0m\u001b[1;33m\u001b[0m\u001b[0m\n",
      "\u001b[1;31mNameError\u001b[0m: name 'new_df' is not defined"
     ]
    }
   ],
   "source": [
    "X_train, X_test, y_train, y_test = train_test_split(\n",
    "                                        new_df.drop(columns = \"target\"),\n",
    "                                        #new_df,\n",
    "                                        new_df['target'],\n",
    "                                        test_size=0.25,\n",
    "                                        random_state = 123\n",
    "                                    )"
   ]
  },
  {
   "cell_type": "code",
   "execution_count": null,
   "id": "852eb516",
   "metadata": {},
   "outputs": [],
   "source": [
    "X_train_c, X_test_c, y_train_c, y_test_c = train_test_split(\n",
    "                                        new_df,\n",
    "                                        new_df['target'],\n",
    "                                        test_size=0.25,\n",
    "                                        random_state = 123\n",
    "                                    )"
   ]
  },
  {
   "cell_type": "code",
   "execution_count": null,
   "id": "9092cb55",
   "metadata": {},
   "outputs": [],
   "source": []
  },
  {
   "cell_type": "code",
   "execution_count": null,
   "id": "d0d470b8",
   "metadata": {},
   "outputs": [],
   "source": [
    "train=X_train_c\n",
    "train.reset_index(drop = True, inplace = True)\n",
    "round((train.isnull().sum()/len(train))*100,2)"
   ]
  },
  {
   "cell_type": "markdown",
   "id": "b9892ce5",
   "metadata": {},
   "source": [
    "\n",
    "# ************************   MODELADO    ********************\n"
   ]
  },
  {
   "cell_type": "markdown",
   "id": "a712bc05",
   "metadata": {},
   "source": [
    "# RANDOM FOREST CLASSIFIER\n",
    "## RandomizedSearch"
   ]
  },
  {
   "cell_type": "code",
   "execution_count": 329,
   "id": "9191fa2d",
   "metadata": {},
   "outputs": [],
   "source": [
    "from sklearn.model_selection import GridSearchCV, RandomizedSearchCV \n",
    "from sklearn.ensemble import GradientBoostingClassifier\n",
    "from sklearn.ensemble import RandomForestClassifier\n",
    "from sklearn.metrics import f1_score, make_scorer,accuracy_score"
   ]
  },
  {
   "cell_type": "code",
   "execution_count": 330,
   "id": "f65c0abe",
   "metadata": {},
   "outputs": [],
   "source": [
    "RF=RandomForestClassifier(random_state=0)"
   ]
  },
  {
   "cell_type": "code",
   "execution_count": 335,
   "id": "32375f25",
   "metadata": {},
   "outputs": [
    {
     "data": {
      "text/plain": [
       "\"\\nparameters_ran={'bootstrap': [True, False],\\n               'criterion':['gini', 'entropy'],\\n               'max_depth': np.arange(70,120,1),\\n               'max_features': ['auto', 'sqrt'],\\n               'min_samples_leaf': np.arange(2,5,1),\\n               'min_samples_split':  np.arange(3,10,1),\\n               'max_features':['auto', 'sqrt', 'log2'],\\n               'class_weight':['balanced', 'balanced_subsample'],\\n               'n_estimators':np.arange(70,120,1)\\n            }\\n  \""
      ]
     },
     "execution_count": 335,
     "metadata": {},
     "output_type": "execute_result"
    }
   ],
   "source": [
    " \n",
    "parameters_ran={'bootstrap': [True, False],\n",
    "               'criterion':['gini', 'entropy'],\n",
    "               'max_depth': np.arange(10,200,1),\n",
    "               'max_features': ['auto', 'sqrt'],\n",
    "               'min_samples_leaf': np.arange(2,5,1),\n",
    "               'min_samples_split':  np.arange(3,11,1),\n",
    "               'max_features':['auto', 'sqrt', 'log2'],\n",
    "               'class_weight':['balanced', 'balanced_subsample'],\n",
    "               'n_estimators':np.arange(10,200,5)\n",
    "            }\n",
    "'''\n",
    "parameters_ran={'bootstrap': [True, False],\n",
    "               'criterion':['gini', 'entropy'],\n",
    "               'max_depth': np.arange(70,120,1),\n",
    "               'max_features': ['auto', 'sqrt'],\n",
    "               'min_samples_leaf': np.arange(2,5,1),\n",
    "               'min_samples_split':  np.arange(3,10,1),\n",
    "               'max_features':['auto', 'sqrt', 'log2'],\n",
    "               'class_weight':['balanced', 'balanced_subsample'],\n",
    "               'n_estimators':np.arange(70,120,1)\n",
    "            }\n",
    "  '''         "
   ]
  },
  {
   "cell_type": "code",
   "execution_count": 336,
   "id": "4638a186",
   "metadata": {},
   "outputs": [
    {
     "name": "stdout",
     "output_type": "stream",
     "text": [
      "Fitting 5 folds for each of 1000 candidates, totalling 5000 fits\n"
     ]
    },
    {
     "data": {
      "text/plain": [
       "RandomizedSearchCV(cv=5, estimator=RandomForestClassifier(random_state=0),\n",
       "                   n_iter=1000, n_jobs=-1,\n",
       "                   param_distributions={'bootstrap': [True, False],\n",
       "                                        'class_weight': ['balanced',\n",
       "                                                         'balanced_subsample'],\n",
       "                                        'criterion': ['gini', 'entropy'],\n",
       "                                        'max_depth': array([ 10,  11,  12,  13,  14,  15,  16,  17,  18,  19,  20,  21,  22,\n",
       "        23,  24,  25,  26,  27,  28,  29,  30,  31,  32,  33,  34,  35,\n",
       "        36,  37,  38,  39,  40,  41,  42,  43,  44,  45,  46...\n",
       "       192, 193, 194, 195, 196, 197, 198, 199]),\n",
       "                                        'max_features': ['auto', 'sqrt',\n",
       "                                                         'log2'],\n",
       "                                        'min_samples_leaf': array([2, 3, 4]),\n",
       "                                        'min_samples_split': array([ 3,  4,  5,  6,  7,  8,  9, 10]),\n",
       "                                        'n_estimators': array([ 10,  15,  20,  25,  30,  35,  40,  45,  50,  55,  60,  65,  70,\n",
       "        75,  80,  85,  90,  95, 100, 105, 110, 115, 120, 125, 130, 135,\n",
       "       140, 145, 150, 155, 160, 165, 170, 175, 180, 185, 190, 195])},\n",
       "                   random_state=0, scoring='accuracy', verbose=1)"
      ]
     },
     "execution_count": 336,
     "metadata": {},
     "output_type": "execute_result"
    }
   ],
   "source": [
    "ran_rf=RandomizedSearchCV(RF,parameters_ran,cv=5,scoring='accuracy',verbose=1,n_jobs=-1,random_state=0,n_iter=1000) \n",
    "ran_rf.fit(X_train,y_train)"
   ]
  },
  {
   "cell_type": "code",
   "execution_count": 556,
   "id": "d4655de9",
   "metadata": {},
   "outputs": [
    {
     "data": {
      "text/plain": [
       "RandomForestClassifier(class_weight='balanced', max_depth=97,\n",
       "                       max_features='sqrt', min_samples_leaf=4,\n",
       "                       min_samples_split=5, n_estimators=74, random_state=0)"
      ]
     },
     "execution_count": 556,
     "metadata": {},
     "output_type": "execute_result"
    }
   ],
   "source": [
    "ran_rf.best_estimator_"
   ]
  },
  {
   "cell_type": "code",
   "execution_count": 333,
   "id": "e283bdac",
   "metadata": {},
   "outputs": [
    {
     "name": "stdout",
     "output_type": "stream",
     "text": [
      "Best parameters from Randomsearch: {'n_estimators': 20, 'min_samples_split': 7, 'min_samples_leaf': 2, 'max_features': 'auto', 'max_depth': 10, 'criterion': 'entropy', 'class_weight': 'balanced', 'bootstrap': True}\n",
      "CV score=0.5661\n"
     ]
    }
   ],
   "source": [
    "print(\"Best parameters from Randomsearch: {}\".format(ran_rf.best_params_))\n",
    "print(\"CV score=%0.4f\" % ran_rf.best_score_)\n",
    "cv_results = ran_rf.cv_results_"
   ]
  },
  {
   "cell_type": "code",
   "execution_count": 337,
   "id": "95220668",
   "metadata": {
    "scrolled": true
   },
   "outputs": [
    {
     "name": "stdout",
     "output_type": "stream",
     "text": [
      "Best parameters from Randomsearch: {'n_estimators': 160, 'min_samples_split': 3, 'min_samples_leaf': 4, 'max_features': 'sqrt', 'max_depth': 10, 'criterion': 'entropy', 'class_weight': 'balanced', 'bootstrap': True}\n",
      "CV score=0.5635\n"
     ]
    }
   ],
   "source": [
    "print(\"Best parameters from Randomsearch: {}\".format(ran_rf.best_params_))\n",
    "print(\"CV score=%0.4f\" % ran_rf.best_score_)\n",
    "cv_results = ran_rf.cv_results_"
   ]
  },
  {
   "cell_type": "code",
   "execution_count": 599,
   "id": "1fc2f989",
   "metadata": {},
   "outputs": [
    {
     "name": "stdout",
     "output_type": "stream",
     "text": [
      "Best parameters from Randomsearch: {'n_estimators': 73, 'min_samples_split': 6, 'min_samples_leaf': 3, 'max_features': 'sqrt', 'max_depth': 73, 'criterion': 'gini', 'class_weight': 'balanced', 'bootstrap': True}\n",
      "CV score=0.6601\n"
     ]
    }
   ],
   "source": [
    "print(\"Best parameters from Randomsearch: {}\".format(ran_rf.best_params_))\n",
    "print(\"CV score=%0.4f\" % ran_rf.best_score_)\n",
    "cv_results = ran_rf.cv_results_"
   ]
  },
  {
   "cell_type": "code",
   "execution_count": 365,
   "id": "e5c8d589",
   "metadata": {},
   "outputs": [
    {
     "data": {
      "text/plain": [
       "'SISTEMA DE ESCAPE'"
      ]
     },
     "execution_count": 365,
     "metadata": {},
     "output_type": "execute_result"
    }
   ],
   "source": [
    "target.upper()"
   ]
  },
  {
   "cell_type": "markdown",
   "id": "4debdd77",
   "metadata": {},
   "source": [
    "# NOTIFICACIÓN DE PROCESO TERMINADO"
   ]
  },
  {
   "cell_type": "code",
   "execution_count": 338,
   "id": "a18138de",
   "metadata": {},
   "outputs": [],
   "source": [
    "# NOTIFICACIÓN DE PROCESO TERMINADO\n",
    "import requests\n",
    "import vlc\n",
    "from datetime import datetime\n",
    "now = datetime.now()\n",
    "fecha=('Fecha: '+str(now.day)+'-'+str(now.month)+'-'+str(now.year)+' Hora: '+str(now.hour)+':'+str(now.minute))\n",
    "\n",
    "idBot = '5018694182:AAFfuyvlA9S8JJgrJ0WbUJlwSHz_tFluCI8'\n",
    "idGrupo = '-743732742'\n",
    "\n",
    "def enviarMensaje(mensaje):\n",
    "    requests.post('https://api.telegram.org/bot' + idBot + '/sendMessage',\n",
    "              data={'chat_id': idGrupo, 'text': mensaje, 'parse_mode': 'HTML'})\n",
    "\n",
    "def enviarDocumento(ruta):\n",
    "    requests.post('https://api.telegram.org/bot' + idBot + '/sendDocument',\n",
    "              files={'document': (ruta, open(ruta, 'rb'))},\n",
    "              data={'chat_id': idGrupo, 'caption': 'imagen caption'})\n",
    "    \n",
    "enviarMensaje(target.upper()+'\\n'+fecha+'\\n'+'RandomSearch Random Forest: '+'\\n'\n",
    "              + str(ran_rf.best_params_)+'\\n'+'Best Score :%0.4f' % ran_rf.best_score_)\n",
    "\n",
    "#enviarDocumento(r'C:\\Users\\Practicas\\Documents\\Prediccion talleres\\sounds\\wavs_conga_groove.wav')\n",
    "    \n",
    "sound=vlc.MediaPlayer(r'C:\\Users\\Practicas\\Documents\\Prediccion talleres\\sounds\\wavs_conga_groove.wav')\n",
    "#sound.play()\n"
   ]
  },
  {
   "cell_type": "code",
   "execution_count": 111,
   "id": "e53594c5",
   "metadata": {},
   "outputs": [
    {
     "ename": "NameError",
     "evalue": "name 'ran_rf' is not defined",
     "output_type": "error",
     "traceback": [
      "\u001b[1;31m---------------------------------------------------------------------------\u001b[0m",
      "\u001b[1;31mNameError\u001b[0m                                 Traceback (most recent call last)",
      "\u001b[1;32mC:\\Users\\PRACTI~1\\AppData\\Local\\Temp/ipykernel_10308/738703987.py\u001b[0m in \u001b[0;36m<module>\u001b[1;34m\u001b[0m\n\u001b[1;32m----> 1\u001b[1;33m \u001b[0mran_rf\u001b[0m\u001b[1;33m.\u001b[0m\u001b[0mbest_estimator_\u001b[0m\u001b[1;33m\u001b[0m\u001b[1;33m\u001b[0m\u001b[0m\n\u001b[0m",
      "\u001b[1;31mNameError\u001b[0m: name 'ran_rf' is not defined"
     ]
    }
   ],
   "source": [
    "ran_rf.best_estimator_"
   ]
  },
  {
   "cell_type": "code",
   "execution_count": 112,
   "id": "3d0ed478",
   "metadata": {},
   "outputs": [],
   "source": [
    "'''\n",
    "parameters_grid={'bootstrap': [True],\n",
    "               'criterion':['gini'],\n",
    "               'max_depth': np.arange(60,90,1),\n",
    "               'min_samples_leaf': np.arange(2,5,1),\n",
    "               'min_samples_split':  np.arange(5,10,1),\n",
    "               'max_features':['auto', 'sqrt'],\n",
    "               'class_weight':['balanced','balanced_subsample'],\n",
    "               'n_estimators':np.arange(70,120,1)\n",
    "            }\n",
    "'''\n",
    "parameters_grid={'bootstrap': [True],\n",
    "               'criterion':['gini'],\n",
    "               'max_depth': np.arange(65,80,1),\n",
    "               'max_features': ['auto'],\n",
    "               'min_samples_leaf': [3],\n",
    "               'min_samples_split': [6],\n",
    "               'max_features':['sqrt'],\n",
    "               'class_weight':['balanced'],\n",
    "               'n_estimators': np.arange(65,80,1)\n",
    "            }\n"
   ]
  },
  {
   "cell_type": "code",
   "execution_count": 113,
   "id": "6346251b",
   "metadata": {},
   "outputs": [
    {
     "name": "stdout",
     "output_type": "stream",
     "text": [
      "Fitting 5 folds for each of 225 candidates, totalling 1125 fits\n"
     ]
    },
    {
     "data": {
      "text/plain": [
       "GridSearchCV(cv=5, estimator=RandomForestClassifier(random_state=0), n_jobs=-1,\n",
       "             param_grid={'bootstrap': [True], 'class_weight': ['balanced'],\n",
       "                         'criterion': ['gini'],\n",
       "                         'max_depth': array([65, 66, 67, 68, 69, 70, 71, 72, 73, 74, 75, 76, 77, 78, 79]),\n",
       "                         'max_features': ['sqrt'], 'min_samples_leaf': [3],\n",
       "                         'min_samples_split': [6],\n",
       "                         'n_estimators': array([65, 66, 67, 68, 69, 70, 71, 72, 73, 74, 75, 76, 77, 78, 79])},\n",
       "             scoring='accuracy', verbose=1)"
      ]
     },
     "execution_count": 113,
     "metadata": {},
     "output_type": "execute_result"
    }
   ],
   "source": [
    "grid_rf = GridSearchCV(RF,parameters_grid,cv=5,scoring='accuracy',verbose=1,n_jobs=-1) \n",
    "grid_rf.fit(X_train,y_train)"
   ]
  },
  {
   "cell_type": "code",
   "execution_count": 609,
   "id": "9354293a",
   "metadata": {},
   "outputs": [
    {
     "name": "stdout",
     "output_type": "stream",
     "text": [
      "Best parameters from gridsearch: {'bootstrap': True, 'class_weight': 'balanced', 'criterion': 'gini', 'max_depth': 60, 'max_features': 'auto', 'min_samples_leaf': 3, 'min_samples_split': 8, 'n_estimators': 111}\n",
      "CV score=0.653\n"
     ]
    }
   ],
   "source": [
    "print(\"Best parameters from gridsearch: {}\".format(grid_rf.best_params_))\n",
    "print(\"CV score=%0.3f\" % grid_rf.best_score_)\n",
    "cv_results = grid_rf.cv_results_"
   ]
  },
  {
   "cell_type": "code",
   "execution_count": 114,
   "id": "ffe1d357",
   "metadata": {},
   "outputs": [
    {
     "name": "stdout",
     "output_type": "stream",
     "text": [
      "Best parameters from gridsearch: {'bootstrap': True, 'class_weight': 'balanced', 'criterion': 'gini', 'max_depth': 65, 'max_features': 'sqrt', 'min_samples_leaf': 3, 'min_samples_split': 6, 'n_estimators': 66}\n",
      "CV score=0.640\n"
     ]
    }
   ],
   "source": [
    "print(\"Best parameters from gridsearch: {}\".format(grid_rf.best_params_))\n",
    "print(\"CV score=%0.3f\" % grid_rf.best_score_)\n",
    "cv_results = grid_rf.cv_results_"
   ]
  },
  {
   "cell_type": "code",
   "execution_count": 119,
   "id": "d6f2ce09",
   "metadata": {},
   "outputs": [],
   "source": [
    "from sklearn.cluster import KMeans\n",
    "kmeans = KMeans(n_clusters=2, random_state=123)\n",
    "labels = kmeans.fit_predict(X_test_t)\n",
    "centers = kmeans.cluster_centers_\n",
    "labels = kmeans.predict(X_test_t)"
   ]
  },
  {
   "cell_type": "code",
   "execution_count": 120,
   "id": "c513179a",
   "metadata": {},
   "outputs": [
    {
     "name": "stderr",
     "output_type": "stream",
     "text": [
      "C:\\Users\\PRACTI~1\\AppData\\Local\\Temp/ipykernel_10308/987311369.py:1: SettingWithCopyWarning: \n",
      "A value is trying to be set on a copy of a slice from a DataFrame.\n",
      "Try using .loc[row_indexer,col_indexer] = value instead\n",
      "\n",
      "See the caveats in the documentation: https://pandas.pydata.org/pandas-docs/stable/user_guide/indexing.html#returning-a-view-versus-a-copy\n",
      "  X_test_t['Kmeans_cluster']= labels\n"
     ]
    }
   ],
   "source": [
    "X_test_t['Kmeans_cluster']= labels\n",
    "X_test_t=X_test_t[features]\n",
    "X_test_t=X_test_t.drop('target', 1)"
   ]
  },
  {
   "cell_type": "code",
   "execution_count": 121,
   "id": "fe6f7ab5",
   "metadata": {},
   "outputs": [
    {
     "data": {
      "text/plain": [
       "Index(['modelo', 'v_codigbus', 'v_edad', 'capacidad', 'marca',\n",
       "       'Kmeans_cluster'],\n",
       "      dtype='object')"
      ]
     },
     "execution_count": 121,
     "metadata": {},
     "output_type": "execute_result"
    }
   ],
   "source": [
    "X_test_t.columns"
   ]
  },
  {
   "cell_type": "code",
   "execution_count": 604,
   "id": "8c8d64d4",
   "metadata": {},
   "outputs": [
    {
     "data": {
      "text/plain": [
       "RandomForestClassifier(class_weight='balanced', max_depth=73,\n",
       "                       max_features='sqrt', min_samples_leaf=3,\n",
       "                       min_samples_split=6, n_estimators=73)"
      ]
     },
     "execution_count": 604,
     "metadata": {},
     "output_type": "execute_result"
    }
   ],
   "source": [
    "ran_rf.best_estimator_"
   ]
  },
  {
   "cell_type": "code",
   "execution_count": 124,
   "id": "af037528",
   "metadata": {},
   "outputs": [
    {
     "name": "stdout",
     "output_type": "stream",
     "text": [
      "Accuracy:  0.7000636357208513\n"
     ]
    }
   ],
   "source": [
    "# constructor\n",
    "test=X_test\n",
    "RF = RandomForestClassifier(random_state=0,bootstrap= True,\n",
    "                               class_weight='balanced',\n",
    "                               criterion='gini',\n",
    "                               max_depth=60,\n",
    "                               max_features='auto',\n",
    "                               min_samples_leaf=3,\n",
    "                               min_samples_split=8,\n",
    "                               n_estimators=111)\n",
    "\n",
    "#Predicción\n",
    "RF.fit(X_train,y_train)\n",
    "y_pred = RF.predict(X_test_t)\n",
    "acc = accuracy_score(y_test_t, y_pred)\n",
    "print ('Accuracy: ', acc)\n",
    "\n",
    "#Salida\n",
    "output = pd.DataFrame({ 'date': X_test_t.index,'Real': y_test_t, 'Predicho': y_pred})"
   ]
  },
  {
   "cell_type": "code",
   "execution_count": 126,
   "id": "ddf8dca9",
   "metadata": {},
   "outputs": [
    {
     "name": "stdout",
     "output_type": "stream",
     "text": [
      "DECISION TREE CLASSIFIER \n",
      "\n",
      "              precision    recall  f1-score   support\n",
      "\n",
      "         0.0       1.00      0.70      0.82     14143\n",
      "         1.0       0.00      0.00      0.00         0\n",
      "\n",
      "    accuracy                           0.70     14143\n",
      "   macro avg       0.50      0.35      0.41     14143\n",
      "weighted avg       1.00      0.70      0.82     14143\n",
      "\n"
     ]
    },
    {
     "name": "stderr",
     "output_type": "stream",
     "text": [
      "C:\\Users\\Practicas\\anaconda3\\lib\\site-packages\\sklearn\\metrics\\_classification.py:1245: UndefinedMetricWarning: Recall and F-score are ill-defined and being set to 0.0 in labels with no true samples. Use `zero_division` parameter to control this behavior.\n",
      "  _warn_prf(average, modifier, msg_start, len(result))\n",
      "C:\\Users\\Practicas\\anaconda3\\lib\\site-packages\\sklearn\\metrics\\_classification.py:1245: UndefinedMetricWarning: Recall and F-score are ill-defined and being set to 0.0 in labels with no true samples. Use `zero_division` parameter to control this behavior.\n",
      "  _warn_prf(average, modifier, msg_start, len(result))\n",
      "C:\\Users\\Practicas\\anaconda3\\lib\\site-packages\\sklearn\\metrics\\_classification.py:1245: UndefinedMetricWarning: Recall and F-score are ill-defined and being set to 0.0 in labels with no true samples. Use `zero_division` parameter to control this behavior.\n",
      "  _warn_prf(average, modifier, msg_start, len(result))\n"
     ]
    }
   ],
   "source": [
    "print('DECISION TREE CLASSIFIER \\n')\n",
    "print(classification_report(y_test_t, y_pred))"
   ]
  },
  {
   "cell_type": "code",
   "execution_count": 127,
   "id": "5b1b85b9",
   "metadata": {},
   "outputs": [
    {
     "name": "stdout",
     "output_type": "stream",
     "text": [
      "Accuracy:  0.55\n"
     ]
    }
   ],
   "source": [
    "# constructor\n",
    "test=X_test\n",
    "RF = RandomForestClassifier(random_state=0,bootstrap= True,\n",
    "                               class_weight='balanced',\n",
    "                               criterion='gini',\n",
    "                               max_depth=60,\n",
    "                               max_features='auto',\n",
    "                               min_samples_leaf=3,\n",
    "                               min_samples_split=8,\n",
    "                               n_estimators=111)\n",
    "\n",
    "#Predicción\n",
    "RF.fit(X_train,y_train)\n",
    "y_pred = RF.predict(X_test)\n",
    "acc = accuracy_score(y_test, y_pred)\n",
    "print ('Accuracy: ', acc)\n",
    "\n",
    "#Salida\n",
    "output = pd.DataFrame({ 'date': X_test.index,'Real': y_test, 'Predicho': y_pred})"
   ]
  },
  {
   "cell_type": "code",
   "execution_count": 128,
   "id": "fc79d004",
   "metadata": {},
   "outputs": [
    {
     "name": "stdout",
     "output_type": "stream",
     "text": [
      "DECISION TREE CLASSIFIER \n",
      "\n",
      "              precision    recall  f1-score   support\n",
      "\n",
      "           0       0.58      0.61      0.59        54\n",
      "           1       0.51      0.48      0.49        46\n",
      "\n",
      "    accuracy                           0.55       100\n",
      "   macro avg       0.55      0.54      0.54       100\n",
      "weighted avg       0.55      0.55      0.55       100\n",
      "\n"
     ]
    }
   ],
   "source": [
    "print('DECISION TREE CLASSIFIER \\n')\n",
    "print(classification_report(y_test, y_pred))"
   ]
  },
  {
   "cell_type": "code",
   "execution_count": null,
   "id": "b74e36c5",
   "metadata": {
    "scrolled": false
   },
   "outputs": [],
   "source": []
  },
  {
   "cell_type": "code",
   "execution_count": null,
   "id": "7bab750f",
   "metadata": {},
   "outputs": [],
   "source": []
  },
  {
   "cell_type": "code",
   "execution_count": null,
   "id": "3b0ac98e",
   "metadata": {},
   "outputs": [],
   "source": []
  },
  {
   "cell_type": "code",
   "execution_count": 610,
   "id": "ca4ec5d2",
   "metadata": {},
   "outputs": [],
   "source": [
    "# NOTIFICACIÓN DE PROCESO TERMINADO\n",
    "import requests\n",
    "import vlc\n",
    "from datetime import datetime\n",
    "now = datetime.now()\n",
    "fecha=('Fecha: '+str(now.day)+'-'+str(now.month)+'-'+str(now.year)+' Hora: '+str(now.hour)+':'+str(now.minute))\n",
    "\n",
    "idBot = '5018694182:AAFfuyvlA9S8JJgrJ0WbUJlwSHz_tFluCI8'\n",
    "idGrupo = '-743732742'\n",
    "\n",
    "def enviarMensaje(mensaje):\n",
    "    requests.post('https://api.telegram.org/bot' + idBot + '/sendMessage',\n",
    "              data={'chat_id': idGrupo, 'text': mensaje, 'parse_mode': 'HTML'})\n",
    "\n",
    "def enviarDocumento(ruta):\n",
    "    requests.post('https://api.telegram.org/bot' + idBot + '/sendDocument',\n",
    "              files={'document': (ruta, open(ruta, 'rb'))},\n",
    "              data={'chat_id': idGrupo, 'caption': 'imagen caption'})\n",
    "    \n",
    "enviarMensaje(target.upper()+'\\n'+fecha+'\\n'+'GridSearch Random Forest: '+'\\n'+\n",
    "              str(grid_rf.best_params_)+'\\n'+'Best Score :%0.4f' % grid_rf.best_score_)\n",
    "\n",
    "#enviarDocumento(r'C:\\Users\\Practicas\\Documents\\Prediccion talleres\\sounds\\wavs_conga_groove.wav')\n",
    "    \n",
    "sound=vlc.MediaPlayer(r'C:\\Users\\Practicas\\Documents\\Prediccion talleres\\sounds\\wavs_conga_groove.wav')\n",
    "#sound.play()"
   ]
  },
  {
   "cell_type": "markdown",
   "id": "c3479432",
   "metadata": {
    "scrolled": false
   },
   "source": [
    "# SVC"
   ]
  },
  {
   "cell_type": "code",
   "execution_count": 2,
   "id": "257185dd",
   "metadata": {},
   "outputs": [],
   "source": [
    "from sklearn.model_selection import GridSearchCV, RandomizedSearchCV \n",
    "from sklearn.svm import SVC # \"Support vector classifier\"\n",
    "from scipy import stats"
   ]
  },
  {
   "cell_type": "code",
   "execution_count": 3,
   "id": "1b519676",
   "metadata": {},
   "outputs": [
    {
     "data": {
      "text/plain": [
       "SVC(probability=True, random_state=0)"
      ]
     },
     "execution_count": 3,
     "metadata": {},
     "output_type": "execute_result"
    }
   ],
   "source": [
    "\n",
    "svc = SVC(probability = True, random_state = 0)\n",
    "svc"
   ]
  },
  {
   "cell_type": "code",
   "execution_count": null,
   "id": "92910a56",
   "metadata": {},
   "outputs": [],
   "source": []
  },
  {
   "cell_type": "code",
   "execution_count": 4,
   "id": "eabf5339",
   "metadata": {},
   "outputs": [
    {
     "data": {
      "text/plain": [
       "'\\nparameters_ran_svc={\\'C\\': np.arange(0.6, 1, 0.02),\\n                    #\\'kernel\\': [\\'rbf\\',\\'linear\\', \\'poly\\', \\'sigmoid\\', \\'precomputed\\'],\\n                    \"gamma\": np.arange(0.6, 1, 0.02),\\n                    \\'decision_function_shape\\':[\\'ovo\\',\\'ovr\\'],\\n                    \\'class_weight\\': [\\'dict\\',\\'balanced\\', \\'None\\']\\n                   }\\n\\nparameters_ran_svc={\\'C\\': np.arange(0.1, 2, 0.2),\\n                    \\'kernel\\': [ \\'poly\\', \\'sigmoid\\',\\'rbf\\',\\'linear\\'], #\\'precomputed\\'],\\n                    #\\'coef0\\':np.arange(0.2, 0.8, 0.01),\\n                    \\'degree\\':np.arange(2, 5,1),\\n                    \"gamma\": np.arange(0.1, 1, 0.2),\\n                    \\'decision_function_shape\\':[\\'ovo\\',\\'ovr\\'],\\n                    \\'class_weight\\': [\\'balanced\\']\\n                   }\\n\\nparameters_ran_svc={\\'C\\': np.arange(0.68, 0.8, 0.01),\\n                    \\'kernel\\': [ \\'poly\\', \\'sigmoid\\',\\'rbf\\',\\'linear\\',], #\\'precomputed\\'],\\n                    #\\'coef0\\':np.arange(0.2, 0.8, 0.01),\\n                    \\'degree\\':np.arange(2, 5,1),\\n                    \"gamma\": np.arange(0.6, 0.8, 0.01),\\n                    \\'decision_function_shape\\':[\\'ovo\\',\\'ovr\\'],\\n                    \\'class_weight\\': [\\'balanced\\']\\n                   }\\n'"
      ]
     },
     "execution_count": 4,
     "metadata": {},
     "output_type": "execute_result"
    }
   ],
   "source": [
    "\n",
    "parameters_ran_svc={'C': np.arange(0.1, 2, 0.1),\n",
    "                    #'kernel': ['rbf','linear', 'poly', 'sigmoid'],\n",
    "                    \"gamma\": np.arange(0.1, 1, 0.1),\n",
    "                    'decision_function_shape':['ovo','ovr'],\n",
    "                    'class_weight': ['dict','balanced', 'None']\n",
    "                   }\n",
    "'''\n",
    "parameters_ran_svc={'C': np.arange(0.6, 1, 0.02),\n",
    "                    #'kernel': ['rbf','linear', 'poly', 'sigmoid', 'precomputed'],\n",
    "                    \"gamma\": np.arange(0.6, 1, 0.02),\n",
    "                    'decision_function_shape':['ovo','ovr'],\n",
    "                    'class_weight': ['dict','balanced', 'None']\n",
    "                   }\n",
    "\n",
    "parameters_ran_svc={'C': np.arange(0.1, 2, 0.2),\n",
    "                    'kernel': [ 'poly', 'sigmoid','rbf','linear'], #'precomputed'],\n",
    "                    #'coef0':np.arange(0.2, 0.8, 0.01),\n",
    "                    'degree':np.arange(2, 5,1),\n",
    "                    \"gamma\": np.arange(0.1, 1, 0.2),\n",
    "                    'decision_function_shape':['ovo','ovr'],\n",
    "                    'class_weight': ['balanced']\n",
    "                   }\n",
    "\n",
    "parameters_ran_svc={'C': np.arange(0.68, 0.8, 0.01),\n",
    "                    'kernel': [ 'poly', 'sigmoid','rbf','linear',], #'precomputed'],\n",
    "                    #'coef0':np.arange(0.2, 0.8, 0.01),\n",
    "                    'degree':np.arange(2, 5,1),\n",
    "                    \"gamma\": np.arange(0.6, 0.8, 0.01),\n",
    "                    'decision_function_shape':['ovo','ovr'],\n",
    "                    'class_weight': ['balanced']\n",
    "                   }\n",
    "'''\n",
    " "
   ]
  },
  {
   "cell_type": "code",
   "execution_count": 5,
   "id": "3ab145c8",
   "metadata": {},
   "outputs": [
    {
     "ename": "NameError",
     "evalue": "name 'X_train' is not defined",
     "output_type": "error",
     "traceback": [
      "\u001b[1;31m---------------------------------------------------------------------------\u001b[0m",
      "\u001b[1;31mNameError\u001b[0m                                 Traceback (most recent call last)",
      "\u001b[1;32mC:\\Users\\PRACTI~1\\AppData\\Local\\Temp/ipykernel_11276/779397992.py\u001b[0m in \u001b[0;36m<module>\u001b[1;34m\u001b[0m\n\u001b[0;32m      1\u001b[0m \u001b[0mran_svc\u001b[0m\u001b[1;33m=\u001b[0m\u001b[0mRandomizedSearchCV\u001b[0m\u001b[1;33m(\u001b[0m\u001b[0msvc\u001b[0m\u001b[1;33m,\u001b[0m\u001b[0mparameters_ran_svc\u001b[0m\u001b[1;33m,\u001b[0m\u001b[0mcv\u001b[0m\u001b[1;33m=\u001b[0m\u001b[1;36m5\u001b[0m\u001b[1;33m,\u001b[0m\u001b[0mscoring\u001b[0m\u001b[1;33m=\u001b[0m\u001b[1;34m'accuracy'\u001b[0m\u001b[1;33m,\u001b[0m\u001b[0mverbose\u001b[0m\u001b[1;33m=\u001b[0m\u001b[1;36m1\u001b[0m\u001b[1;33m,\u001b[0m\u001b[0mn_jobs\u001b[0m\u001b[1;33m=\u001b[0m\u001b[1;33m-\u001b[0m\u001b[1;36m1\u001b[0m\u001b[1;33m,\u001b[0m\u001b[0mrandom_state\u001b[0m\u001b[1;33m=\u001b[0m\u001b[1;36m0\u001b[0m\u001b[1;33m,\u001b[0m\u001b[0mn_iter\u001b[0m\u001b[1;33m=\u001b[0m\u001b[1;36m10\u001b[0m\u001b[1;33m)\u001b[0m\u001b[1;33m\u001b[0m\u001b[1;33m\u001b[0m\u001b[0m\n\u001b[1;32m----> 2\u001b[1;33m \u001b[0mran_svc\u001b[0m\u001b[1;33m.\u001b[0m\u001b[0mfit\u001b[0m\u001b[1;33m(\u001b[0m\u001b[0mX_train\u001b[0m\u001b[1;33m,\u001b[0m\u001b[0my_train\u001b[0m\u001b[1;33m)\u001b[0m\u001b[1;33m\u001b[0m\u001b[1;33m\u001b[0m\u001b[0m\n\u001b[0m",
      "\u001b[1;31mNameError\u001b[0m: name 'X_train' is not defined"
     ]
    }
   ],
   "source": [
    "ran_svc=RandomizedSearchCV(svc,parameters_ran_svc,cv=5,scoring='accuracy',verbose=1,n_jobs=-1,random_state=0,n_iter=10) \n",
    "ran_svc.fit(X_train,y_train)"
   ]
  },
  {
   "cell_type": "code",
   "execution_count": null,
   "id": "e0b26c19",
   "metadata": {},
   "outputs": [],
   "source": []
  },
  {
   "cell_type": "code",
   "execution_count": null,
   "id": "14bfeed2",
   "metadata": {},
   "outputs": [],
   "source": []
  },
  {
   "cell_type": "code",
   "execution_count": null,
   "id": "6693089a",
   "metadata": {},
   "outputs": [],
   "source": [
    "print(\"Best parameters from Randomsearch: {}\".format(ran_svc.best_params_))\n",
    "print(\"CV score=%0.3f\" % ran_svc.best_score_)\n",
    "cv_results = ran_svc.cv_results_"
   ]
  },
  {
   "cell_type": "code",
   "execution_count": null,
   "id": "05562edc",
   "metadata": {},
   "outputs": [],
   "source": [
    "print(\"Best parameters from Randomsearch: {}\".format(ran_svc.best_params_))\n",
    "print(\"CV score=%0.3f\" % ran_svc.best_score_)\n",
    "cv_results = ran_svc.cv_results_"
   ]
  },
  {
   "cell_type": "code",
   "execution_count": null,
   "id": "fdb95ad2",
   "metadata": {},
   "outputs": [],
   "source": [
    "# NOTIFICACIÓN DE PROCESO TERMINADO\n",
    "import requests\n",
    "import vlc\n",
    "from datetime import datetime\n",
    "now = datetime.now()\n",
    "fecha=('Fecha: '+str(now.day)+'-'+str(now.month)+'-'+str(now.year)+' Hora: '+str(now.hour)+':'+str(now.minute))\n",
    "\n",
    "idBot = '5018694182:AAFfuyvlA9S8JJgrJ0WbUJlwSHz_tFluCI8'\n",
    "idGrupo = '-743732742'\n",
    "\n",
    "def enviarMensaje(mensaje):\n",
    "    requests.post('https://api.telegram.org/bot' + idBot + '/sendMessage',\n",
    "              data={'chat_id': idGrupo, 'text': mensaje, 'parse_mode': 'HTML'})\n",
    "\n",
    "def enviarDocumento(ruta):\n",
    "    requests.post('https://api.telegram.org/bot' + idBot + '/sendDocument',\n",
    "              files={'document': (ruta, open(ruta, 'rb'))},\n",
    "              data={'chat_id': idGrupo, 'caption': 'imagen caption'})\n",
    "    \n",
    "enviarMensaje(target.upper()+'\\n'+fecha+'\\n'+'RandomSearch SVC: '+'\\n'+\n",
    "              str(ran_svc.best_params_)+'\\n'+'Best Score :%0.4f' % ran_svc.best_score_)\n",
    "\n",
    "#enviarDocumento(r'C:\\Users\\Practicas\\Documents\\Prediccion talleres\\sounds\\wavs_conga_groove.wav')\n",
    "    \n",
    "sound=vlc.MediaPlayer(r'C:\\Users\\Practicas\\Documents\\Prediccion talleres\\sounds\\wavs_conga_groove.wav')\n",
    "#sound.play()"
   ]
  },
  {
   "cell_type": "code",
   "execution_count": null,
   "id": "256def36",
   "metadata": {},
   "outputs": [],
   "source": [
    "parameters_grid_svc={'C': np.arange(0.75, 0.9, 0.01),\n",
    "                    #'kernel': ['rbf','linear', 'poly', 'sigmoid', 'precomputed'],\n",
    "                    'degree':np.arange(2, 5,1)\n",
    "                    \"gamma\": np.arange(0.6, 0.7, 0.01),\n",
    "                    'decision_function_shape':['ovo','ovr'],\n",
    "                    'class_weight': ['balanced']\n",
    "                   }\n"
   ]
  },
  {
   "cell_type": "code",
   "execution_count": null,
   "id": "98bcd97b",
   "metadata": {},
   "outputs": [],
   "source": [
    "grid_svc = GridSearchCV(svc,parameters_grid_svc,cv=5,scoring='accuracy',verbose=1,n_jobs=-1) \n",
    "grid_svc.fit(X_train,y_train)"
   ]
  },
  {
   "cell_type": "code",
   "execution_count": null,
   "id": "38f7d94b",
   "metadata": {},
   "outputs": [],
   "source": [
    "sound=vlc.MediaPlayer(r'C:\\Users\\Practicas\\Documents\\Prediccion talleres\\sounds\\wavs_conga_groove.wav')\n",
    "sound.play()"
   ]
  },
  {
   "cell_type": "code",
   "execution_count": null,
   "id": "1995e596",
   "metadata": {},
   "outputs": [],
   "source": [
    "print(\"Best parameters from gridsearch: {}\".format(grid_svc.best_params_))\n",
    "print(\"CV score=%0.3f\" % grid_svc.best_score_)\n",
    "cv_results = grid_svc.cv_results_"
   ]
  },
  {
   "cell_type": "code",
   "execution_count": null,
   "id": "169aed32",
   "metadata": {},
   "outputs": [],
   "source": [
    "# NOTIFICACIÓN DE PROCESO TERMINADO\n",
    "import requests\n",
    "import vlc\n",
    "from datetime import datetime\n",
    "now = datetime.now()\n",
    "fecha=('Fecha: '+str(now.day)+'-'+str(now.month)+'-'+str(now.year)+' Hora: '+str(now.hour)+':'+str(now.minute))\n",
    "\n",
    "idBot = '5018694182:AAFfuyvlA9S8JJgrJ0WbUJlwSHz_tFluCI8'\n",
    "idGrupo = '-743732742'\n",
    "\n",
    "def enviarMensaje(mensaje):\n",
    "    requests.post('https://api.telegram.org/bot' + idBot + '/sendMessage',\n",
    "              data={'chat_id': idGrupo, 'text': mensaje, 'parse_mode': 'HTML'})\n",
    "\n",
    "def enviarDocumento(ruta):\n",
    "    requests.post('https://api.telegram.org/bot' + idBot + '/sendDocument',\n",
    "              files={'document': (ruta, open(ruta, 'rb'))},\n",
    "              data={'chat_id': idGrupo, 'caption': 'imagen caption'})\n",
    "    \n",
    "enviarMensaje(target.upper()+'\\n'+fecha+'\\n'+'GridSearch SVC: '+'\\n'+\n",
    "              str(grid_svc.best_params_)+'\\n'+'Best Score :%0.4f' % grid_svc.best_score_)\n",
    "\n",
    "#enviarDocumento(r'C:\\Users\\Practicas\\Documents\\Prediccion talleres\\sounds\\wavs_conga_groove.wav')\n",
    "    \n",
    "sound=vlc.MediaPlayer(r'C:\\Users\\Practicas\\Documents\\Prediccion talleres\\sounds\\wavs_conga_groove.wav')\n",
    "#sound.play()"
   ]
  },
  {
   "cell_type": "markdown",
   "id": "c88247aa",
   "metadata": {},
   "source": [
    "# constructor\n",
    "test=X_test\n",
    "svc = SVC(probability = True, random_state = 0,\n",
    "          C=0.85 ,\n",
    "          gamma= 0.69,\n",
    "          decision_function_shape='ovo',\n",
    "          class_weight='balanced')\n",
    "\n",
    "#Predicción\n",
    "svc.fit(X_train,y_train)\n",
    "y_pred = svc.predict(X_test)\n",
    "acc = accuracy_score(y_test, y_pred)\n",
    "print ('Accuracy: ', acc)\n",
    "\n",
    "#Salida\n",
    "output_svr = pd.DataFrame({ 'date': X_test.index,'Real': y_test, 'Predicho': y_pred})"
   ]
  },
  {
   "cell_type": "markdown",
   "id": "96af50cd",
   "metadata": {},
   "source": [
    "print('DECISION TREE CLASSIFIER \\n')\n",
    "print(classification_report(y_test, y_pred))"
   ]
  }
 ],
 "metadata": {
  "kernelspec": {
   "display_name": "Python 3 (ipykernel)",
   "language": "python",
   "name": "python3"
  },
  "language_info": {
   "codemirror_mode": {
    "name": "ipython",
    "version": 3
   },
   "file_extension": ".py",
   "mimetype": "text/x-python",
   "name": "python",
   "nbconvert_exporter": "python",
   "pygments_lexer": "ipython3",
   "version": "3.8.8"
  }
 },
 "nbformat": 4,
 "nbformat_minor": 5
}
