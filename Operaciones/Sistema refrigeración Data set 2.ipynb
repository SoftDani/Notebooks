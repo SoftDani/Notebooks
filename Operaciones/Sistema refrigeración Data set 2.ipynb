{
 "cells": [
  {
   "cell_type": "code",
   "execution_count": 869,
   "id": "adde48ed",
   "metadata": {},
   "outputs": [
    {
     "name": "stdout",
     "output_type": "stream",
     "text": [
      "Ruta actual de trabajo C:\\Users\\Dani\\OneDrive - SOFTOUR SISTEMAS S.L\\Data_Science\\Prediccion talleres\\Operaciones\n"
     ]
    }
   ],
   "source": [
    "# Tratamiento de datos\n",
    "# ------------------------------------------------------------------------------\n",
    "import numpy as np\n",
    "import pandas as pd\n",
    "\n",
    "# Gráficos\n",
    "# ------------------------------------------------------------------------------\n",
    "import matplotlib.pyplot as plt\n",
    "\n",
    "# Preprocesado y modelado\n",
    "# ------------------------------------------------------------------------------\n",
    "from sklearn.datasets import load_boston\n",
    "from sklearn.model_selection import train_test_split\n",
    "from sklearn.tree import DecisionTreeRegressor\n",
    "from sklearn.tree import DecisionTreeClassifier\n",
    "from sklearn.tree import plot_tree\n",
    "from sklearn.tree import export_graphviz\n",
    "from sklearn.tree import export_text\n",
    "from sklearn import metrics\n",
    "from sklearn.model_selection import GridSearchCV\n",
    "from sklearn.metrics import mean_squared_error\n",
    "from sklearn.preprocessing import MinMaxScaler\n",
    "from sklearn.tree import export_graphviz\n",
    "from sklearn.metrics import accuracy_score\n",
    "from sklearn import tree\n",
    "from sklearn.metrics import confusion_matrix\n",
    "from sklearn.metrics import classification_report\n",
    "from sklearn import svm, datasets\n",
    "from sklearn.metrics import ConfusionMatrixDisplay\n",
    "from sklearn.metrics import plot_confusion_matrix\n",
    "#from sklearn.externals.six import StringIO  \n",
    "from IPython.display import Image  \n",
    "from io import StringIO\n",
    "import pydotplus\n",
    "from sklearn import tree\n",
    "import graphviz \n",
    "from seaborn import load_dataset\n",
    "from scipy.cluster.hierarchy import dendrogram, linkage\n",
    "\n",
    "from feature_selector import FeatureSelector \n",
    "#import vlc\n",
    "# Configuración warnings\n",
    "# Warnings\n",
    "# ------------------------------------------------------------------------------\n",
    "import warnings\n",
    "warnings.filterwarnings('once')\n",
    "warnings.filterwarnings(\"ignore\", category=DeprecationWarning)\n",
    "# ------------------------------------------------------------------------------\n",
    "\n",
    "import seaborn as sns\n",
    "\n",
    "import pathlib\n",
    "print('Ruta actual de trabajo '+ str(pathlib.Path().absolute()))\n",
    "np.random.seed(0)"
   ]
  },
  {
   "cell_type": "markdown",
   "id": "44d27015",
   "metadata": {},
   "source": [
    "**nomopera**: nombre de la operación que se realiza en la reparación   \n",
    "**aliasemp**: nombre del empleado que hizo la reparación   \n",
    "**nomempresa**: Nombre de la empresa que repara el vehiculo que forma parte del grupo   \n",
    "**taller_prove**: Nombre de la empresa externa que repara el vehiculo   \n",
    "**v_codibud**: codigo del autobus   \n",
    "**v_edad**: Edad del autobus   \n",
    "**ndias_ant**: día desde la anterior reparación   \n",
    "**capacidad**: capacidad dle vehiculo   \n",
    "**marca**: Marca del vehiculo   \n",
    "**modelo**: Modelo del vehiculo   \n",
    "**potencia**: potencia dle vehiculo   \n",
    "**tipo**: depende del  uso y el modelo del vehiculo   \n",
    "**subtipo**: depende de la longitud y la capcidad dle vehiculo   "
   ]
  },
  {
   "cell_type": "markdown",
   "id": "d5df3526",
   "metadata": {},
   "source": [
    "Cargamos los datasets"
   ]
  },
  {
   "cell_type": "code",
   "execution_count": 870,
   "id": "092648b0",
   "metadata": {},
   "outputs": [
    {
     "data": {
      "text/html": [
       "<div>\n",
       "<style scoped>\n",
       "    .dataframe tbody tr th:only-of-type {\n",
       "        vertical-align: middle;\n",
       "    }\n",
       "\n",
       "    .dataframe tbody tr th {\n",
       "        vertical-align: top;\n",
       "    }\n",
       "\n",
       "    .dataframe thead th {\n",
       "        text-align: right;\n",
       "    }\n",
       "</style>\n",
       "<table border=\"1\" class=\"dataframe\">\n",
       "  <thead>\n",
       "    <tr style=\"text-align: right;\">\n",
       "      <th></th>\n",
       "      <th>nomopera</th>\n",
       "      <th>aliasemp</th>\n",
       "      <th>nomempresa</th>\n",
       "      <th>taller_prove</th>\n",
       "      <th>v_codigbus</th>\n",
       "      <th>v_edad</th>\n",
       "      <th>ndias_ant</th>\n",
       "      <th>capacidad</th>\n",
       "      <th>marca</th>\n",
       "      <th>modelo</th>\n",
       "      <th>potencia</th>\n",
       "      <th>tipo</th>\n",
       "      <th>subtipo</th>\n",
       "    </tr>\n",
       "  </thead>\n",
       "  <tbody>\n",
       "    <tr>\n",
       "      <th>0</th>\n",
       "      <td>Tacografo</td>\n",
       "      <td>NaN</td>\n",
       "      <td>Cave Talleres</td>\n",
       "      <td>NaN</td>\n",
       "      <td>T305</td>\n",
       "      <td>0.0</td>\n",
       "      <td>18</td>\n",
       "      <td>45</td>\n",
       "      <td>MAN</td>\n",
       "      <td>SC7</td>\n",
       "      <td>353</td>\n",
       "      <td>Discrecional</td>\n",
       "      <td>Normal</td>\n",
       "    </tr>\n",
       "    <tr>\n",
       "      <th>1</th>\n",
       "      <td>Toldo turisticos</td>\n",
       "      <td>NaN</td>\n",
       "      <td>Cave Talleres</td>\n",
       "      <td>NaN</td>\n",
       "      <td>U205</td>\n",
       "      <td>32.0</td>\n",
       "      <td>10</td>\n",
       "      <td>81</td>\n",
       "      <td>MAN</td>\n",
       "      <td>SIN ASIGNAR</td>\n",
       "      <td>NaN</td>\n",
       "      <td>BUS TURISTICO</td>\n",
       "      <td>Turistic Valencia</td>\n",
       "    </tr>\n",
       "    <tr>\n",
       "      <th>2</th>\n",
       "      <td>Cambio filtro gasoil</td>\n",
       "      <td>NaN</td>\n",
       "      <td>Cave Talleres</td>\n",
       "      <td>NaN</td>\n",
       "      <td>T308</td>\n",
       "      <td>3.0</td>\n",
       "      <td>49</td>\n",
       "      <td>47</td>\n",
       "      <td>VOLVO</td>\n",
       "      <td>i6 15.37</td>\n",
       "      <td>345</td>\n",
       "      <td>Discrecional</td>\n",
       "      <td>Normal</td>\n",
       "    </tr>\n",
       "    <tr>\n",
       "      <th>3</th>\n",
       "      <td>Potencia motor</td>\n",
       "      <td>NaN</td>\n",
       "      <td>Cave Talleres</td>\n",
       "      <td>NaN</td>\n",
       "      <td>T308</td>\n",
       "      <td>3.0</td>\n",
       "      <td>49</td>\n",
       "      <td>47</td>\n",
       "      <td>VOLVO</td>\n",
       "      <td>i6 15.37</td>\n",
       "      <td>345</td>\n",
       "      <td>Discrecional</td>\n",
       "      <td>Normal</td>\n",
       "    </tr>\n",
       "    <tr>\n",
       "      <th>4</th>\n",
       "      <td>Fallo en EDC</td>\n",
       "      <td>NaN</td>\n",
       "      <td>Cave Talleres</td>\n",
       "      <td>NaN</td>\n",
       "      <td>T308</td>\n",
       "      <td>3.0</td>\n",
       "      <td>49</td>\n",
       "      <td>47</td>\n",
       "      <td>VOLVO</td>\n",
       "      <td>i6 15.37</td>\n",
       "      <td>345</td>\n",
       "      <td>Discrecional</td>\n",
       "      <td>Normal</td>\n",
       "    </tr>\n",
       "    <tr>\n",
       "      <th>...</th>\n",
       "      <td>...</td>\n",
       "      <td>...</td>\n",
       "      <td>...</td>\n",
       "      <td>...</td>\n",
       "      <td>...</td>\n",
       "      <td>...</td>\n",
       "      <td>...</td>\n",
       "      <td>...</td>\n",
       "      <td>...</td>\n",
       "      <td>...</td>\n",
       "      <td>...</td>\n",
       "      <td>...</td>\n",
       "      <td>...</td>\n",
       "    </tr>\n",
       "    <tr>\n",
       "      <th>29913</th>\n",
       "      <td>Caja cambios</td>\n",
       "      <td>NaN</td>\n",
       "      <td>Cave Talleres</td>\n",
       "      <td>NaN</td>\n",
       "      <td>E660</td>\n",
       "      <td>3.0</td>\n",
       "      <td>43</td>\n",
       "      <td>5</td>\n",
       "      <td>FORD</td>\n",
       "      <td>MONDEO</td>\n",
       "      <td>NaN</td>\n",
       "      <td>TURISMO</td>\n",
       "      <td>NaN</td>\n",
       "    </tr>\n",
       "    <tr>\n",
       "      <th>29914</th>\n",
       "      <td>Cambio filtro gasoil</td>\n",
       "      <td>ESCRIBANO</td>\n",
       "      <td>Cave Talleres</td>\n",
       "      <td>NaN</td>\n",
       "      <td>X116</td>\n",
       "      <td>14.0</td>\n",
       "      <td>22</td>\n",
       "      <td>23</td>\n",
       "      <td>IVECO</td>\n",
       "      <td>TOURING III</td>\n",
       "      <td>331</td>\n",
       "      <td>Discrecional</td>\n",
       "      <td>Normal</td>\n",
       "    </tr>\n",
       "    <tr>\n",
       "      <th>29915</th>\n",
       "      <td>Cambiar/limpiar filtros</td>\n",
       "      <td>CARABAÑA</td>\n",
       "      <td>Cave Talleres</td>\n",
       "      <td>NaN</td>\n",
       "      <td>H117</td>\n",
       "      <td>6.0</td>\n",
       "      <td>1</td>\n",
       "      <td>71</td>\n",
       "      <td>MAN</td>\n",
       "      <td>i6 15.37</td>\n",
       "      <td>353</td>\n",
       "      <td>Discrecional</td>\n",
       "      <td>Normal</td>\n",
       "    </tr>\n",
       "    <tr>\n",
       "      <th>29916</th>\n",
       "      <td>Precalentador</td>\n",
       "      <td>CARABAÑA</td>\n",
       "      <td>Cave Talleres</td>\n",
       "      <td>NaN</td>\n",
       "      <td>H117</td>\n",
       "      <td>6.0</td>\n",
       "      <td>1</td>\n",
       "      <td>71</td>\n",
       "      <td>MAN</td>\n",
       "      <td>i6 15.37</td>\n",
       "      <td>353</td>\n",
       "      <td>Discrecional</td>\n",
       "      <td>Normal</td>\n",
       "    </tr>\n",
       "    <tr>\n",
       "      <th>29917</th>\n",
       "      <td>Nodriza</td>\n",
       "      <td>RODRIGUEZ</td>\n",
       "      <td>Cave Talleres</td>\n",
       "      <td>NaN</td>\n",
       "      <td>T530</td>\n",
       "      <td>17.0</td>\n",
       "      <td>253</td>\n",
       "      <td>NaN</td>\n",
       "      <td>AUDI</td>\n",
       "      <td>A8 4.2</td>\n",
       "      <td>NaN</td>\n",
       "      <td>TURISMO</td>\n",
       "      <td>NaN</td>\n",
       "    </tr>\n",
       "  </tbody>\n",
       "</table>\n",
       "<p>29918 rows × 13 columns</p>\n",
       "</div>"
      ],
      "text/plain": [
       "                      nomopera   aliasemp     nomempresa taller_prove  \\\n",
       "0                    Tacografo        NaN  Cave Talleres          NaN   \n",
       "1             Toldo turisticos        NaN  Cave Talleres          NaN   \n",
       "2         Cambio filtro gasoil        NaN  Cave Talleres          NaN   \n",
       "3               Potencia motor        NaN  Cave Talleres          NaN   \n",
       "4                 Fallo en EDC        NaN  Cave Talleres          NaN   \n",
       "...                        ...        ...            ...          ...   \n",
       "29913             Caja cambios        NaN  Cave Talleres          NaN   \n",
       "29914     Cambio filtro gasoil  ESCRIBANO  Cave Talleres          NaN   \n",
       "29915  Cambiar/limpiar filtros   CARABAÑA  Cave Talleres          NaN   \n",
       "29916            Precalentador   CARABAÑA  Cave Talleres          NaN   \n",
       "29917                  Nodriza  RODRIGUEZ  Cave Talleres          NaN   \n",
       "\n",
       "      v_codigbus  v_edad ndias_ant capacidad  marca       modelo potencia  \\\n",
       "0           T305     0.0        18        45    MAN          SC7      353   \n",
       "1           U205    32.0        10        81    MAN  SIN ASIGNAR      NaN   \n",
       "2           T308     3.0        49        47  VOLVO     i6 15.37      345   \n",
       "3           T308     3.0        49        47  VOLVO     i6 15.37      345   \n",
       "4           T308     3.0        49        47  VOLVO     i6 15.37      345   \n",
       "...          ...     ...       ...       ...    ...          ...      ...   \n",
       "29913       E660     3.0        43         5   FORD       MONDEO      NaN   \n",
       "29914       X116    14.0        22        23  IVECO  TOURING III      331   \n",
       "29915       H117     6.0         1        71    MAN     i6 15.37      353   \n",
       "29916       H117     6.0         1        71    MAN     i6 15.37      353   \n",
       "29917       T530    17.0       253       NaN   AUDI       A8 4.2      NaN   \n",
       "\n",
       "                tipo            subtipo  \n",
       "0       Discrecional             Normal  \n",
       "1      BUS TURISTICO  Turistic Valencia  \n",
       "2       Discrecional             Normal  \n",
       "3       Discrecional             Normal  \n",
       "4       Discrecional             Normal  \n",
       "...              ...                ...  \n",
       "29913        TURISMO                NaN  \n",
       "29914   Discrecional             Normal  \n",
       "29915   Discrecional             Normal  \n",
       "29916   Discrecional             Normal  \n",
       "29917        TURISMO                NaN  \n",
       "\n",
       "[29918 rows x 13 columns]"
      ]
     },
     "execution_count": 870,
     "metadata": {},
     "output_type": "execute_result"
    }
   ],
   "source": [
    "#df = pd.read_csv (r'C:\\\\Users\\Practicas\\Documents\\Prediccion talleres\\data\\taller_operaciones.csv',sep=';')\n",
    "#df = pd.read_csv (r'C:\\Users\\Dani\\OneDrive - SOFTOUR SISTEMAS S.L\\Data_Science\\Prediccion talleres\\data\\taller_operaciones.csv',sep=';')\n",
    "df = pd.read_csv (r'C:\\Users\\Dani\\OneDrive - SOFTOUR SISTEMAS S.L\\Data_Science\\Prediccion talleres\\data\\taller211227.csv',sep=';')\n",
    "buses= pd.read_csv (r'C:\\Users\\Dani\\OneDrive - SOFTOUR SISTEMAS S.L\\Data_Science\\Prediccion talleres\\data\\Fichas_buses.csv',sep=',')\n",
    "df"
   ]
  },
  {
   "cell_type": "markdown",
   "id": "6a6937d3",
   "metadata": {},
   "source": [
    "Con en dataset buses se pretende rellenar los errores  en las potencias del dataset original"
   ]
  },
  {
   "cell_type": "code",
   "execution_count": 871,
   "id": "15850370",
   "metadata": {},
   "outputs": [
    {
     "data": {
      "text/html": [
       "<div>\n",
       "<style scoped>\n",
       "    .dataframe tbody tr th:only-of-type {\n",
       "        vertical-align: middle;\n",
       "    }\n",
       "\n",
       "    .dataframe tbody tr th {\n",
       "        vertical-align: top;\n",
       "    }\n",
       "\n",
       "    .dataframe thead th {\n",
       "        text-align: right;\n",
       "    }\n",
       "</style>\n",
       "<table border=\"1\" class=\"dataframe\">\n",
       "  <thead>\n",
       "    <tr style=\"text-align: right;\">\n",
       "      <th></th>\n",
       "      <th>codigbus</th>\n",
       "      <th>potencia</th>\n",
       "    </tr>\n",
       "  </thead>\n",
       "  <tbody>\n",
       "    <tr>\n",
       "      <th>0</th>\n",
       "      <td>﻿G080</td>\n",
       "      <td>324</td>\n",
       "    </tr>\n",
       "    <tr>\n",
       "      <th>1</th>\n",
       "      <td>54HC</td>\n",
       "      <td>338</td>\n",
       "    </tr>\n",
       "    <tr>\n",
       "      <th>2</th>\n",
       "      <td>58HC</td>\n",
       "      <td>338</td>\n",
       "    </tr>\n",
       "    <tr>\n",
       "      <th>3</th>\n",
       "      <td>61HC</td>\n",
       "      <td>280</td>\n",
       "    </tr>\n",
       "    <tr>\n",
       "      <th>4</th>\n",
       "      <td>62HC</td>\n",
       "      <td>310</td>\n",
       "    </tr>\n",
       "    <tr>\n",
       "      <th>...</th>\n",
       "      <td>...</td>\n",
       "      <td>...</td>\n",
       "    </tr>\n",
       "    <tr>\n",
       "      <th>541</th>\n",
       "      <td>X115</td>\n",
       "      <td>122</td>\n",
       "    </tr>\n",
       "    <tr>\n",
       "      <th>542</th>\n",
       "      <td>X116</td>\n",
       "      <td>331</td>\n",
       "    </tr>\n",
       "    <tr>\n",
       "      <th>543</th>\n",
       "      <td>X117</td>\n",
       "      <td>353</td>\n",
       "    </tr>\n",
       "    <tr>\n",
       "      <th>544</th>\n",
       "      <td>X118</td>\n",
       "      <td>226</td>\n",
       "    </tr>\n",
       "    <tr>\n",
       "      <th>545</th>\n",
       "      <td>X119</td>\n",
       "      <td>324</td>\n",
       "    </tr>\n",
       "  </tbody>\n",
       "</table>\n",
       "<p>546 rows × 2 columns</p>\n",
       "</div>"
      ],
      "text/plain": [
       "    codigbus  potencia\n",
       "0      ﻿G080       324\n",
       "1       54HC       338\n",
       "2       58HC       338\n",
       "3       61HC       280\n",
       "4       62HC       310\n",
       "..       ...       ...\n",
       "541     X115       122\n",
       "542     X116       331\n",
       "543     X117       353\n",
       "544     X118       226\n",
       "545     X119       324\n",
       "\n",
       "[546 rows x 2 columns]"
      ]
     },
     "execution_count": 871,
     "metadata": {},
     "output_type": "execute_result"
    }
   ],
   "source": [
    "buses= buses[['codigbus','potencia']]\n",
    "buses"
   ]
  },
  {
   "cell_type": "code",
   "execution_count": 872,
   "id": "393f7375",
   "metadata": {},
   "outputs": [
    {
     "data": {
      "text/html": [
       "<div>\n",
       "<style scoped>\n",
       "    .dataframe tbody tr th:only-of-type {\n",
       "        vertical-align: middle;\n",
       "    }\n",
       "\n",
       "    .dataframe tbody tr th {\n",
       "        vertical-align: top;\n",
       "    }\n",
       "\n",
       "    .dataframe thead th {\n",
       "        text-align: right;\n",
       "    }\n",
       "</style>\n",
       "<table border=\"1\" class=\"dataframe\">\n",
       "  <thead>\n",
       "    <tr style=\"text-align: right;\">\n",
       "      <th></th>\n",
       "      <th>nomopera</th>\n",
       "      <th>aliasemp</th>\n",
       "      <th>nomempresa</th>\n",
       "      <th>taller_prove</th>\n",
       "      <th>v_codigbus</th>\n",
       "      <th>v_edad</th>\n",
       "      <th>ndias_ant</th>\n",
       "      <th>capacidad</th>\n",
       "      <th>marca</th>\n",
       "      <th>modelo</th>\n",
       "      <th>potencia_x</th>\n",
       "      <th>tipo</th>\n",
       "      <th>subtipo</th>\n",
       "      <th>codigbus</th>\n",
       "      <th>potencia_y</th>\n",
       "    </tr>\n",
       "  </thead>\n",
       "  <tbody>\n",
       "    <tr>\n",
       "      <th>0</th>\n",
       "      <td>Tacografo</td>\n",
       "      <td>NaN</td>\n",
       "      <td>Cave Talleres</td>\n",
       "      <td>NaN</td>\n",
       "      <td>T305</td>\n",
       "      <td>0.0</td>\n",
       "      <td>18</td>\n",
       "      <td>45</td>\n",
       "      <td>MAN</td>\n",
       "      <td>SC7</td>\n",
       "      <td>353</td>\n",
       "      <td>Discrecional</td>\n",
       "      <td>Normal</td>\n",
       "      <td>T305</td>\n",
       "      <td>353.0</td>\n",
       "    </tr>\n",
       "    <tr>\n",
       "      <th>1</th>\n",
       "      <td>Toldo turisticos</td>\n",
       "      <td>NaN</td>\n",
       "      <td>Cave Talleres</td>\n",
       "      <td>NaN</td>\n",
       "      <td>U205</td>\n",
       "      <td>32.0</td>\n",
       "      <td>10</td>\n",
       "      <td>81</td>\n",
       "      <td>MAN</td>\n",
       "      <td>SIN ASIGNAR</td>\n",
       "      <td>NaN</td>\n",
       "      <td>BUS TURISTICO</td>\n",
       "      <td>Turistic Valencia</td>\n",
       "      <td>U205</td>\n",
       "      <td>147.0</td>\n",
       "    </tr>\n",
       "    <tr>\n",
       "      <th>2</th>\n",
       "      <td>Cambio filtro gasoil</td>\n",
       "      <td>NaN</td>\n",
       "      <td>Cave Talleres</td>\n",
       "      <td>NaN</td>\n",
       "      <td>T308</td>\n",
       "      <td>3.0</td>\n",
       "      <td>49</td>\n",
       "      <td>47</td>\n",
       "      <td>VOLVO</td>\n",
       "      <td>i6 15.37</td>\n",
       "      <td>345</td>\n",
       "      <td>Discrecional</td>\n",
       "      <td>Normal</td>\n",
       "      <td>T308</td>\n",
       "      <td>345.0</td>\n",
       "    </tr>\n",
       "    <tr>\n",
       "      <th>3</th>\n",
       "      <td>Potencia motor</td>\n",
       "      <td>NaN</td>\n",
       "      <td>Cave Talleres</td>\n",
       "      <td>NaN</td>\n",
       "      <td>T308</td>\n",
       "      <td>3.0</td>\n",
       "      <td>49</td>\n",
       "      <td>47</td>\n",
       "      <td>VOLVO</td>\n",
       "      <td>i6 15.37</td>\n",
       "      <td>345</td>\n",
       "      <td>Discrecional</td>\n",
       "      <td>Normal</td>\n",
       "      <td>T308</td>\n",
       "      <td>345.0</td>\n",
       "    </tr>\n",
       "    <tr>\n",
       "      <th>4</th>\n",
       "      <td>Fallo en EDC</td>\n",
       "      <td>NaN</td>\n",
       "      <td>Cave Talleres</td>\n",
       "      <td>NaN</td>\n",
       "      <td>T308</td>\n",
       "      <td>3.0</td>\n",
       "      <td>49</td>\n",
       "      <td>47</td>\n",
       "      <td>VOLVO</td>\n",
       "      <td>i6 15.37</td>\n",
       "      <td>345</td>\n",
       "      <td>Discrecional</td>\n",
       "      <td>Normal</td>\n",
       "      <td>T308</td>\n",
       "      <td>345.0</td>\n",
       "    </tr>\n",
       "    <tr>\n",
       "      <th>...</th>\n",
       "      <td>...</td>\n",
       "      <td>...</td>\n",
       "      <td>...</td>\n",
       "      <td>...</td>\n",
       "      <td>...</td>\n",
       "      <td>...</td>\n",
       "      <td>...</td>\n",
       "      <td>...</td>\n",
       "      <td>...</td>\n",
       "      <td>...</td>\n",
       "      <td>...</td>\n",
       "      <td>...</td>\n",
       "      <td>...</td>\n",
       "      <td>...</td>\n",
       "      <td>...</td>\n",
       "    </tr>\n",
       "    <tr>\n",
       "      <th>29913</th>\n",
       "      <td>Caja cambios</td>\n",
       "      <td>NaN</td>\n",
       "      <td>Cave Talleres</td>\n",
       "      <td>NaN</td>\n",
       "      <td>E660</td>\n",
       "      <td>3.0</td>\n",
       "      <td>43</td>\n",
       "      <td>5</td>\n",
       "      <td>FORD</td>\n",
       "      <td>MONDEO</td>\n",
       "      <td>NaN</td>\n",
       "      <td>TURISMO</td>\n",
       "      <td>NaN</td>\n",
       "      <td>NaN</td>\n",
       "      <td>NaN</td>\n",
       "    </tr>\n",
       "    <tr>\n",
       "      <th>29914</th>\n",
       "      <td>Cambio filtro gasoil</td>\n",
       "      <td>ESCRIBANO</td>\n",
       "      <td>Cave Talleres</td>\n",
       "      <td>NaN</td>\n",
       "      <td>X116</td>\n",
       "      <td>14.0</td>\n",
       "      <td>22</td>\n",
       "      <td>23</td>\n",
       "      <td>IVECO</td>\n",
       "      <td>TOURING III</td>\n",
       "      <td>331</td>\n",
       "      <td>Discrecional</td>\n",
       "      <td>Normal</td>\n",
       "      <td>X116</td>\n",
       "      <td>331.0</td>\n",
       "    </tr>\n",
       "    <tr>\n",
       "      <th>29915</th>\n",
       "      <td>Cambiar/limpiar filtros</td>\n",
       "      <td>CARABAÑA</td>\n",
       "      <td>Cave Talleres</td>\n",
       "      <td>NaN</td>\n",
       "      <td>H117</td>\n",
       "      <td>6.0</td>\n",
       "      <td>1</td>\n",
       "      <td>71</td>\n",
       "      <td>MAN</td>\n",
       "      <td>i6 15.37</td>\n",
       "      <td>353</td>\n",
       "      <td>Discrecional</td>\n",
       "      <td>Normal</td>\n",
       "      <td>H117</td>\n",
       "      <td>353.0</td>\n",
       "    </tr>\n",
       "    <tr>\n",
       "      <th>29916</th>\n",
       "      <td>Precalentador</td>\n",
       "      <td>CARABAÑA</td>\n",
       "      <td>Cave Talleres</td>\n",
       "      <td>NaN</td>\n",
       "      <td>H117</td>\n",
       "      <td>6.0</td>\n",
       "      <td>1</td>\n",
       "      <td>71</td>\n",
       "      <td>MAN</td>\n",
       "      <td>i6 15.37</td>\n",
       "      <td>353</td>\n",
       "      <td>Discrecional</td>\n",
       "      <td>Normal</td>\n",
       "      <td>H117</td>\n",
       "      <td>353.0</td>\n",
       "    </tr>\n",
       "    <tr>\n",
       "      <th>29917</th>\n",
       "      <td>Nodriza</td>\n",
       "      <td>RODRIGUEZ</td>\n",
       "      <td>Cave Talleres</td>\n",
       "      <td>NaN</td>\n",
       "      <td>T530</td>\n",
       "      <td>17.0</td>\n",
       "      <td>253</td>\n",
       "      <td>NaN</td>\n",
       "      <td>AUDI</td>\n",
       "      <td>A8 4.2</td>\n",
       "      <td>NaN</td>\n",
       "      <td>TURISMO</td>\n",
       "      <td>NaN</td>\n",
       "      <td>NaN</td>\n",
       "      <td>NaN</td>\n",
       "    </tr>\n",
       "  </tbody>\n",
       "</table>\n",
       "<p>29918 rows × 15 columns</p>\n",
       "</div>"
      ],
      "text/plain": [
       "                      nomopera   aliasemp     nomempresa taller_prove  \\\n",
       "0                    Tacografo        NaN  Cave Talleres          NaN   \n",
       "1             Toldo turisticos        NaN  Cave Talleres          NaN   \n",
       "2         Cambio filtro gasoil        NaN  Cave Talleres          NaN   \n",
       "3               Potencia motor        NaN  Cave Talleres          NaN   \n",
       "4                 Fallo en EDC        NaN  Cave Talleres          NaN   \n",
       "...                        ...        ...            ...          ...   \n",
       "29913             Caja cambios        NaN  Cave Talleres          NaN   \n",
       "29914     Cambio filtro gasoil  ESCRIBANO  Cave Talleres          NaN   \n",
       "29915  Cambiar/limpiar filtros   CARABAÑA  Cave Talleres          NaN   \n",
       "29916            Precalentador   CARABAÑA  Cave Talleres          NaN   \n",
       "29917                  Nodriza  RODRIGUEZ  Cave Talleres          NaN   \n",
       "\n",
       "      v_codigbus  v_edad ndias_ant capacidad  marca       modelo potencia_x  \\\n",
       "0           T305     0.0        18        45    MAN          SC7        353   \n",
       "1           U205    32.0        10        81    MAN  SIN ASIGNAR        NaN   \n",
       "2           T308     3.0        49        47  VOLVO     i6 15.37        345   \n",
       "3           T308     3.0        49        47  VOLVO     i6 15.37        345   \n",
       "4           T308     3.0        49        47  VOLVO     i6 15.37        345   \n",
       "...          ...     ...       ...       ...    ...          ...        ...   \n",
       "29913       E660     3.0        43         5   FORD       MONDEO        NaN   \n",
       "29914       X116    14.0        22        23  IVECO  TOURING III        331   \n",
       "29915       H117     6.0         1        71    MAN     i6 15.37        353   \n",
       "29916       H117     6.0         1        71    MAN     i6 15.37        353   \n",
       "29917       T530    17.0       253       NaN   AUDI       A8 4.2        NaN   \n",
       "\n",
       "                tipo            subtipo codigbus  potencia_y  \n",
       "0       Discrecional             Normal     T305       353.0  \n",
       "1      BUS TURISTICO  Turistic Valencia     U205       147.0  \n",
       "2       Discrecional             Normal     T308       345.0  \n",
       "3       Discrecional             Normal     T308       345.0  \n",
       "4       Discrecional             Normal     T308       345.0  \n",
       "...              ...                ...      ...         ...  \n",
       "29913        TURISMO                NaN      NaN         NaN  \n",
       "29914   Discrecional             Normal     X116       331.0  \n",
       "29915   Discrecional             Normal     H117       353.0  \n",
       "29916   Discrecional             Normal     H117       353.0  \n",
       "29917        TURISMO                NaN      NaN         NaN  \n",
       "\n",
       "[29918 rows x 15 columns]"
      ]
     },
     "execution_count": 872,
     "metadata": {},
     "output_type": "execute_result"
    }
   ],
   "source": [
    "df=df.merge(buses, how='left', left_on=['v_codigbus'], right_on=['codigbus'])\n",
    "df"
   ]
  },
  {
   "cell_type": "code",
   "execution_count": 873,
   "id": "bcf325bb",
   "metadata": {},
   "outputs": [
    {
     "data": {
      "text/plain": [
       "Index(['nomopera', 'aliasemp', 'nomempresa', 'taller_prove', 'v_codigbus',\n",
       "       'v_edad', 'ndias_ant', 'capacidad', 'marca', 'modelo', 'potencia_x',\n",
       "       'tipo', 'subtipo', 'codigbus', 'potencia_y'],\n",
       "      dtype='object')"
      ]
     },
     "execution_count": 873,
     "metadata": {},
     "output_type": "execute_result"
    }
   ],
   "source": [
    "df.columns\n"
   ]
  },
  {
   "cell_type": "code",
   "execution_count": 874,
   "id": "aff246a6",
   "metadata": {},
   "outputs": [
    {
     "data": {
      "text/plain": [
       "0        353\n",
       "1        NaN\n",
       "2        345\n",
       "3        345\n",
       "4        345\n",
       "        ... \n",
       "29913    NaN\n",
       "29914    331\n",
       "29915    353\n",
       "29916    353\n",
       "29917    NaN\n",
       "Name: potencia_x, Length: 29918, dtype: object"
      ]
     },
     "execution_count": 874,
     "metadata": {},
     "output_type": "execute_result"
    }
   ],
   "source": [
    "df['potencia_x']"
   ]
  },
  {
   "cell_type": "markdown",
   "id": "18a6052d",
   "metadata": {},
   "source": [
    "sustituimos las inconsistencias de la columna potencia_x"
   ]
  },
  {
   "cell_type": "code",
   "execution_count": 875,
   "id": "da21ad08",
   "metadata": {},
   "outputs": [],
   "source": [
    "df['potencia_x'] = np.where(\n",
    "                        (df['potencia_x'].str.contains('16 PAX'))|\n",
    "                        (df['potencia_x'].str.contains('URBANO'))|\n",
    "                        (df['potencia_x'].str.contains('Midibus'))|\n",
    "                        (df['potencia_x'].str.contains('0'))|\n",
    "                        (df['potencia_x'].str.contains('Microbus'))|  \n",
    "                        (df['potencia_x'].str.contains('Normal'))\n",
    "                         ,df['potencia_y'],df['potencia_x'])"
   ]
  },
  {
   "cell_type": "code",
   "execution_count": 876,
   "id": "9797592d",
   "metadata": {},
   "outputs": [
    {
     "name": "stderr",
     "output_type": "stream",
     "text": [
      "C:\\Users\\Dani\\AppData\\Local\\Temp/ipykernel_12976/3551062973.py:1: FutureWarning: In a future version of pandas all arguments of DataFrame.drop except for the argument 'labels' will be keyword-only\n",
      "  df = df.drop('potencia_y', 1)\n"
     ]
    },
    {
     "data": {
      "text/html": [
       "<div>\n",
       "<style scoped>\n",
       "    .dataframe tbody tr th:only-of-type {\n",
       "        vertical-align: middle;\n",
       "    }\n",
       "\n",
       "    .dataframe tbody tr th {\n",
       "        vertical-align: top;\n",
       "    }\n",
       "\n",
       "    .dataframe thead th {\n",
       "        text-align: right;\n",
       "    }\n",
       "</style>\n",
       "<table border=\"1\" class=\"dataframe\">\n",
       "  <thead>\n",
       "    <tr style=\"text-align: right;\">\n",
       "      <th></th>\n",
       "      <th>nomopera</th>\n",
       "      <th>aliasemp</th>\n",
       "      <th>nomempresa</th>\n",
       "      <th>taller_prove</th>\n",
       "      <th>v_codigbus</th>\n",
       "      <th>v_edad</th>\n",
       "      <th>ndias_ant</th>\n",
       "      <th>capacidad</th>\n",
       "      <th>marca</th>\n",
       "      <th>modelo</th>\n",
       "      <th>potencia</th>\n",
       "      <th>tipo</th>\n",
       "      <th>subtipo</th>\n",
       "      <th>codigbus</th>\n",
       "    </tr>\n",
       "  </thead>\n",
       "  <tbody>\n",
       "    <tr>\n",
       "      <th>0</th>\n",
       "      <td>Tacografo</td>\n",
       "      <td>NaN</td>\n",
       "      <td>Cave Talleres</td>\n",
       "      <td>NaN</td>\n",
       "      <td>T305</td>\n",
       "      <td>0.0</td>\n",
       "      <td>18</td>\n",
       "      <td>45</td>\n",
       "      <td>MAN</td>\n",
       "      <td>SC7</td>\n",
       "      <td>353</td>\n",
       "      <td>Discrecional</td>\n",
       "      <td>Normal</td>\n",
       "      <td>T305</td>\n",
       "    </tr>\n",
       "    <tr>\n",
       "      <th>1</th>\n",
       "      <td>Toldo turisticos</td>\n",
       "      <td>NaN</td>\n",
       "      <td>Cave Talleres</td>\n",
       "      <td>NaN</td>\n",
       "      <td>U205</td>\n",
       "      <td>32.0</td>\n",
       "      <td>10</td>\n",
       "      <td>81</td>\n",
       "      <td>MAN</td>\n",
       "      <td>SIN ASIGNAR</td>\n",
       "      <td>NaN</td>\n",
       "      <td>BUS TURISTICO</td>\n",
       "      <td>Turistic Valencia</td>\n",
       "      <td>U205</td>\n",
       "    </tr>\n",
       "    <tr>\n",
       "      <th>2</th>\n",
       "      <td>Cambio filtro gasoil</td>\n",
       "      <td>NaN</td>\n",
       "      <td>Cave Talleres</td>\n",
       "      <td>NaN</td>\n",
       "      <td>T308</td>\n",
       "      <td>3.0</td>\n",
       "      <td>49</td>\n",
       "      <td>47</td>\n",
       "      <td>VOLVO</td>\n",
       "      <td>i6 15.37</td>\n",
       "      <td>345</td>\n",
       "      <td>Discrecional</td>\n",
       "      <td>Normal</td>\n",
       "      <td>T308</td>\n",
       "    </tr>\n",
       "    <tr>\n",
       "      <th>3</th>\n",
       "      <td>Potencia motor</td>\n",
       "      <td>NaN</td>\n",
       "      <td>Cave Talleres</td>\n",
       "      <td>NaN</td>\n",
       "      <td>T308</td>\n",
       "      <td>3.0</td>\n",
       "      <td>49</td>\n",
       "      <td>47</td>\n",
       "      <td>VOLVO</td>\n",
       "      <td>i6 15.37</td>\n",
       "      <td>345</td>\n",
       "      <td>Discrecional</td>\n",
       "      <td>Normal</td>\n",
       "      <td>T308</td>\n",
       "    </tr>\n",
       "    <tr>\n",
       "      <th>4</th>\n",
       "      <td>Fallo en EDC</td>\n",
       "      <td>NaN</td>\n",
       "      <td>Cave Talleres</td>\n",
       "      <td>NaN</td>\n",
       "      <td>T308</td>\n",
       "      <td>3.0</td>\n",
       "      <td>49</td>\n",
       "      <td>47</td>\n",
       "      <td>VOLVO</td>\n",
       "      <td>i6 15.37</td>\n",
       "      <td>345</td>\n",
       "      <td>Discrecional</td>\n",
       "      <td>Normal</td>\n",
       "      <td>T308</td>\n",
       "    </tr>\n",
       "    <tr>\n",
       "      <th>...</th>\n",
       "      <td>...</td>\n",
       "      <td>...</td>\n",
       "      <td>...</td>\n",
       "      <td>...</td>\n",
       "      <td>...</td>\n",
       "      <td>...</td>\n",
       "      <td>...</td>\n",
       "      <td>...</td>\n",
       "      <td>...</td>\n",
       "      <td>...</td>\n",
       "      <td>...</td>\n",
       "      <td>...</td>\n",
       "      <td>...</td>\n",
       "      <td>...</td>\n",
       "    </tr>\n",
       "    <tr>\n",
       "      <th>29913</th>\n",
       "      <td>Caja cambios</td>\n",
       "      <td>NaN</td>\n",
       "      <td>Cave Talleres</td>\n",
       "      <td>NaN</td>\n",
       "      <td>E660</td>\n",
       "      <td>3.0</td>\n",
       "      <td>43</td>\n",
       "      <td>5</td>\n",
       "      <td>FORD</td>\n",
       "      <td>MONDEO</td>\n",
       "      <td>NaN</td>\n",
       "      <td>TURISMO</td>\n",
       "      <td>NaN</td>\n",
       "      <td>NaN</td>\n",
       "    </tr>\n",
       "    <tr>\n",
       "      <th>29914</th>\n",
       "      <td>Cambio filtro gasoil</td>\n",
       "      <td>ESCRIBANO</td>\n",
       "      <td>Cave Talleres</td>\n",
       "      <td>NaN</td>\n",
       "      <td>X116</td>\n",
       "      <td>14.0</td>\n",
       "      <td>22</td>\n",
       "      <td>23</td>\n",
       "      <td>IVECO</td>\n",
       "      <td>TOURING III</td>\n",
       "      <td>331</td>\n",
       "      <td>Discrecional</td>\n",
       "      <td>Normal</td>\n",
       "      <td>X116</td>\n",
       "    </tr>\n",
       "    <tr>\n",
       "      <th>29915</th>\n",
       "      <td>Cambiar/limpiar filtros</td>\n",
       "      <td>CARABAÑA</td>\n",
       "      <td>Cave Talleres</td>\n",
       "      <td>NaN</td>\n",
       "      <td>H117</td>\n",
       "      <td>6.0</td>\n",
       "      <td>1</td>\n",
       "      <td>71</td>\n",
       "      <td>MAN</td>\n",
       "      <td>i6 15.37</td>\n",
       "      <td>353</td>\n",
       "      <td>Discrecional</td>\n",
       "      <td>Normal</td>\n",
       "      <td>H117</td>\n",
       "    </tr>\n",
       "    <tr>\n",
       "      <th>29916</th>\n",
       "      <td>Precalentador</td>\n",
       "      <td>CARABAÑA</td>\n",
       "      <td>Cave Talleres</td>\n",
       "      <td>NaN</td>\n",
       "      <td>H117</td>\n",
       "      <td>6.0</td>\n",
       "      <td>1</td>\n",
       "      <td>71</td>\n",
       "      <td>MAN</td>\n",
       "      <td>i6 15.37</td>\n",
       "      <td>353</td>\n",
       "      <td>Discrecional</td>\n",
       "      <td>Normal</td>\n",
       "      <td>H117</td>\n",
       "    </tr>\n",
       "    <tr>\n",
       "      <th>29917</th>\n",
       "      <td>Nodriza</td>\n",
       "      <td>RODRIGUEZ</td>\n",
       "      <td>Cave Talleres</td>\n",
       "      <td>NaN</td>\n",
       "      <td>T530</td>\n",
       "      <td>17.0</td>\n",
       "      <td>253</td>\n",
       "      <td>NaN</td>\n",
       "      <td>AUDI</td>\n",
       "      <td>A8 4.2</td>\n",
       "      <td>NaN</td>\n",
       "      <td>TURISMO</td>\n",
       "      <td>NaN</td>\n",
       "      <td>NaN</td>\n",
       "    </tr>\n",
       "  </tbody>\n",
       "</table>\n",
       "<p>29918 rows × 14 columns</p>\n",
       "</div>"
      ],
      "text/plain": [
       "                      nomopera   aliasemp     nomempresa taller_prove  \\\n",
       "0                    Tacografo        NaN  Cave Talleres          NaN   \n",
       "1             Toldo turisticos        NaN  Cave Talleres          NaN   \n",
       "2         Cambio filtro gasoil        NaN  Cave Talleres          NaN   \n",
       "3               Potencia motor        NaN  Cave Talleres          NaN   \n",
       "4                 Fallo en EDC        NaN  Cave Talleres          NaN   \n",
       "...                        ...        ...            ...          ...   \n",
       "29913             Caja cambios        NaN  Cave Talleres          NaN   \n",
       "29914     Cambio filtro gasoil  ESCRIBANO  Cave Talleres          NaN   \n",
       "29915  Cambiar/limpiar filtros   CARABAÑA  Cave Talleres          NaN   \n",
       "29916            Precalentador   CARABAÑA  Cave Talleres          NaN   \n",
       "29917                  Nodriza  RODRIGUEZ  Cave Talleres          NaN   \n",
       "\n",
       "      v_codigbus  v_edad ndias_ant capacidad  marca       modelo potencia  \\\n",
       "0           T305     0.0        18        45    MAN          SC7      353   \n",
       "1           U205    32.0        10        81    MAN  SIN ASIGNAR      NaN   \n",
       "2           T308     3.0        49        47  VOLVO     i6 15.37      345   \n",
       "3           T308     3.0        49        47  VOLVO     i6 15.37      345   \n",
       "4           T308     3.0        49        47  VOLVO     i6 15.37      345   \n",
       "...          ...     ...       ...       ...    ...          ...      ...   \n",
       "29913       E660     3.0        43         5   FORD       MONDEO      NaN   \n",
       "29914       X116    14.0        22        23  IVECO  TOURING III      331   \n",
       "29915       H117     6.0         1        71    MAN     i6 15.37      353   \n",
       "29916       H117     6.0         1        71    MAN     i6 15.37      353   \n",
       "29917       T530    17.0       253       NaN   AUDI       A8 4.2      NaN   \n",
       "\n",
       "                tipo            subtipo codigbus  \n",
       "0       Discrecional             Normal     T305  \n",
       "1      BUS TURISTICO  Turistic Valencia     U205  \n",
       "2       Discrecional             Normal     T308  \n",
       "3       Discrecional             Normal     T308  \n",
       "4       Discrecional             Normal     T308  \n",
       "...              ...                ...      ...  \n",
       "29913        TURISMO                NaN      NaN  \n",
       "29914   Discrecional             Normal     X116  \n",
       "29915   Discrecional             Normal     H117  \n",
       "29916   Discrecional             Normal     H117  \n",
       "29917        TURISMO                NaN      NaN  \n",
       "\n",
       "[29918 rows x 14 columns]"
      ]
     },
     "execution_count": 876,
     "metadata": {},
     "output_type": "execute_result"
    }
   ],
   "source": [
    "df = df.drop('potencia_y', 1)\n",
    "df = df.rename(columns={'potencia_x': 'potencia'})\n",
    "df"
   ]
  },
  {
   "cell_type": "code",
   "execution_count": 877,
   "id": "294ffc22",
   "metadata": {
    "scrolled": true
   },
   "outputs": [
    {
     "data": {
      "text/plain": [
       "191     1348\n",
       "338     1347\n",
       "324     1107\n",
       "353     1077\n",
       "228     1049\n",
       "        ... \n",
       "94         8\n",
       "90.0       7\n",
       "85         2\n",
       "5          2\n",
       "321        2\n",
       "Name: potencia, Length: 72, dtype: int64"
      ]
     },
     "execution_count": 877,
     "metadata": {},
     "output_type": "execute_result"
    }
   ],
   "source": [
    "x=df['potencia'].value_counts()\n",
    "x"
   ]
  },
  {
   "cell_type": "markdown",
   "id": "c3225911",
   "metadata": {},
   "source": [
    "asignamos a los valores de pontencia 0 el valor de la mediana, para no perder datos, ya que en pruebas anteriores se ha visto que la potencia no es decisiva a la hora de predecir."
   ]
  },
  {
   "cell_type": "code",
   "execution_count": 878,
   "id": "6c6849a6",
   "metadata": {},
   "outputs": [
    {
     "data": {
      "text/plain": [
       "265.0"
      ]
     },
     "execution_count": 878,
     "metadata": {},
     "output_type": "execute_result"
    }
   ],
   "source": [
    "mediana_pot=df['potencia'].median()\n",
    "mediana_pot"
   ]
  },
  {
   "cell_type": "code",
   "execution_count": 879,
   "id": "8ffe9439",
   "metadata": {},
   "outputs": [],
   "source": [
    "df.potencia = df.potencia.astype(float)\n",
    "df['potencia'] = np.where( (df['potencia']==0),mediana_pot,df['potencia'])"
   ]
  },
  {
   "cell_type": "code",
   "execution_count": null,
   "id": "dc1d3f24",
   "metadata": {},
   "outputs": [],
   "source": []
  },
  {
   "cell_type": "code",
   "execution_count": 880,
   "id": "5a4a7416",
   "metadata": {},
   "outputs": [
    {
     "data": {
      "text/html": [
       "<div>\n",
       "<style scoped>\n",
       "    .dataframe tbody tr th:only-of-type {\n",
       "        vertical-align: middle;\n",
       "    }\n",
       "\n",
       "    .dataframe tbody tr th {\n",
       "        vertical-align: top;\n",
       "    }\n",
       "\n",
       "    .dataframe thead th {\n",
       "        text-align: right;\n",
       "    }\n",
       "</style>\n",
       "<table border=\"1\" class=\"dataframe\">\n",
       "  <thead>\n",
       "    <tr style=\"text-align: right;\">\n",
       "      <th></th>\n",
       "      <th>potencia</th>\n",
       "    </tr>\n",
       "  </thead>\n",
       "  <tbody>\n",
       "    <tr>\n",
       "      <th>0</th>\n",
       "      <td>353.0</td>\n",
       "    </tr>\n",
       "    <tr>\n",
       "      <th>1</th>\n",
       "      <td>NaN</td>\n",
       "    </tr>\n",
       "    <tr>\n",
       "      <th>2</th>\n",
       "      <td>345.0</td>\n",
       "    </tr>\n",
       "    <tr>\n",
       "      <th>3</th>\n",
       "      <td>220.0</td>\n",
       "    </tr>\n",
       "    <tr>\n",
       "      <th>4</th>\n",
       "      <td>320.0</td>\n",
       "    </tr>\n",
       "    <tr>\n",
       "      <th>...</th>\n",
       "      <td>...</td>\n",
       "    </tr>\n",
       "    <tr>\n",
       "      <th>67</th>\n",
       "      <td>103.0</td>\n",
       "    </tr>\n",
       "    <tr>\n",
       "      <th>68</th>\n",
       "      <td>81.0</td>\n",
       "    </tr>\n",
       "    <tr>\n",
       "      <th>69</th>\n",
       "      <td>116.0</td>\n",
       "    </tr>\n",
       "    <tr>\n",
       "      <th>70</th>\n",
       "      <td>5.0</td>\n",
       "    </tr>\n",
       "    <tr>\n",
       "      <th>71</th>\n",
       "      <td>321.0</td>\n",
       "    </tr>\n",
       "  </tbody>\n",
       "</table>\n",
       "<p>72 rows × 1 columns</p>\n",
       "</div>"
      ],
      "text/plain": [
       "    potencia\n",
       "0      353.0\n",
       "1        NaN\n",
       "2      345.0\n",
       "3      220.0\n",
       "4      320.0\n",
       "..       ...\n",
       "67     103.0\n",
       "68      81.0\n",
       "69     116.0\n",
       "70       5.0\n",
       "71     321.0\n",
       "\n",
       "[72 rows x 1 columns]"
      ]
     },
     "execution_count": 880,
     "metadata": {},
     "output_type": "execute_result"
    }
   ],
   "source": [
    "df_potencia = pd.DataFrame({'potencia':pd.unique(df.potencia)})\n",
    "df_potencia"
   ]
  },
  {
   "cell_type": "code",
   "execution_count": 881,
   "id": "6ea054ab",
   "metadata": {},
   "outputs": [],
   "source": [
    "df['potencia'].fillna(value=mediana_pot, inplace=True) "
   ]
  },
  {
   "cell_type": "code",
   "execution_count": 882,
   "id": "d09b772f",
   "metadata": {},
   "outputs": [
    {
     "data": {
      "text/plain": [
       "count    29918.000000\n",
       "mean       258.617388\n",
       "std         60.003545\n",
       "min          5.000000\n",
       "25%        228.000000\n",
       "50%        265.000000\n",
       "75%        309.000000\n",
       "max        360.000000\n",
       "Name: potencia, dtype: float64"
      ]
     },
     "execution_count": 882,
     "metadata": {},
     "output_type": "execute_result"
    }
   ],
   "source": [
    "\n",
    "df['potencia'].describe()\n"
   ]
  },
  {
   "cell_type": "markdown",
   "id": "ad8074be",
   "metadata": {},
   "source": [
    "creamos la columna taller, mediante 'nomempresa' y 'taller_prove', \n",
    "si una empresa con taller propio por cualquier motivo  contrata otro taller proveedor para hacer una reparación\n",
    "la columna taller tomara el taller porvedor como taller de la reparación, si no, la propia empresa.\n"
   ]
  },
  {
   "cell_type": "code",
   "execution_count": 883,
   "id": "d5e98f30",
   "metadata": {},
   "outputs": [
    {
     "data": {
      "text/html": [
       "<div>\n",
       "<style scoped>\n",
       "    .dataframe tbody tr th:only-of-type {\n",
       "        vertical-align: middle;\n",
       "    }\n",
       "\n",
       "    .dataframe tbody tr th {\n",
       "        vertical-align: top;\n",
       "    }\n",
       "\n",
       "    .dataframe thead th {\n",
       "        text-align: right;\n",
       "    }\n",
       "</style>\n",
       "<table border=\"1\" class=\"dataframe\">\n",
       "  <thead>\n",
       "    <tr style=\"text-align: right;\">\n",
       "      <th></th>\n",
       "      <th>nomopera</th>\n",
       "      <th>aliasemp</th>\n",
       "      <th>nomempresa</th>\n",
       "      <th>taller_prove</th>\n",
       "      <th>v_codigbus</th>\n",
       "      <th>v_edad</th>\n",
       "      <th>ndias_ant</th>\n",
       "      <th>capacidad</th>\n",
       "      <th>marca</th>\n",
       "      <th>modelo</th>\n",
       "      <th>potencia</th>\n",
       "      <th>tipo</th>\n",
       "      <th>subtipo</th>\n",
       "      <th>codigbus</th>\n",
       "      <th>taller</th>\n",
       "    </tr>\n",
       "  </thead>\n",
       "  <tbody>\n",
       "    <tr>\n",
       "      <th>0</th>\n",
       "      <td>Tacografo</td>\n",
       "      <td>Sin asignar</td>\n",
       "      <td>Cave Talleres</td>\n",
       "      <td>NaN</td>\n",
       "      <td>T305</td>\n",
       "      <td>0.0</td>\n",
       "      <td>18</td>\n",
       "      <td>45</td>\n",
       "      <td>MAN</td>\n",
       "      <td>SC7</td>\n",
       "      <td>353.0</td>\n",
       "      <td>Discrecional</td>\n",
       "      <td>Normal</td>\n",
       "      <td>T305</td>\n",
       "      <td>Cave Talleres</td>\n",
       "    </tr>\n",
       "    <tr>\n",
       "      <th>1</th>\n",
       "      <td>Toldo turisticos</td>\n",
       "      <td>Sin asignar</td>\n",
       "      <td>Cave Talleres</td>\n",
       "      <td>NaN</td>\n",
       "      <td>U205</td>\n",
       "      <td>32.0</td>\n",
       "      <td>10</td>\n",
       "      <td>81</td>\n",
       "      <td>MAN</td>\n",
       "      <td>SIN ASIGNAR</td>\n",
       "      <td>265.0</td>\n",
       "      <td>BUS TURISTICO</td>\n",
       "      <td>Turistic Valencia</td>\n",
       "      <td>U205</td>\n",
       "      <td>Cave Talleres</td>\n",
       "    </tr>\n",
       "    <tr>\n",
       "      <th>2</th>\n",
       "      <td>Cambio filtro gasoil</td>\n",
       "      <td>Sin asignar</td>\n",
       "      <td>Cave Talleres</td>\n",
       "      <td>NaN</td>\n",
       "      <td>T308</td>\n",
       "      <td>3.0</td>\n",
       "      <td>49</td>\n",
       "      <td>47</td>\n",
       "      <td>VOLVO</td>\n",
       "      <td>i6 15.37</td>\n",
       "      <td>345.0</td>\n",
       "      <td>Discrecional</td>\n",
       "      <td>Normal</td>\n",
       "      <td>T308</td>\n",
       "      <td>Cave Talleres</td>\n",
       "    </tr>\n",
       "    <tr>\n",
       "      <th>3</th>\n",
       "      <td>Potencia motor</td>\n",
       "      <td>Sin asignar</td>\n",
       "      <td>Cave Talleres</td>\n",
       "      <td>NaN</td>\n",
       "      <td>T308</td>\n",
       "      <td>3.0</td>\n",
       "      <td>49</td>\n",
       "      <td>47</td>\n",
       "      <td>VOLVO</td>\n",
       "      <td>i6 15.37</td>\n",
       "      <td>345.0</td>\n",
       "      <td>Discrecional</td>\n",
       "      <td>Normal</td>\n",
       "      <td>T308</td>\n",
       "      <td>Cave Talleres</td>\n",
       "    </tr>\n",
       "    <tr>\n",
       "      <th>4</th>\n",
       "      <td>Fallo en EDC</td>\n",
       "      <td>Sin asignar</td>\n",
       "      <td>Cave Talleres</td>\n",
       "      <td>NaN</td>\n",
       "      <td>T308</td>\n",
       "      <td>3.0</td>\n",
       "      <td>49</td>\n",
       "      <td>47</td>\n",
       "      <td>VOLVO</td>\n",
       "      <td>i6 15.37</td>\n",
       "      <td>345.0</td>\n",
       "      <td>Discrecional</td>\n",
       "      <td>Normal</td>\n",
       "      <td>T308</td>\n",
       "      <td>Cave Talleres</td>\n",
       "    </tr>\n",
       "    <tr>\n",
       "      <th>...</th>\n",
       "      <td>...</td>\n",
       "      <td>...</td>\n",
       "      <td>...</td>\n",
       "      <td>...</td>\n",
       "      <td>...</td>\n",
       "      <td>...</td>\n",
       "      <td>...</td>\n",
       "      <td>...</td>\n",
       "      <td>...</td>\n",
       "      <td>...</td>\n",
       "      <td>...</td>\n",
       "      <td>...</td>\n",
       "      <td>...</td>\n",
       "      <td>...</td>\n",
       "      <td>...</td>\n",
       "    </tr>\n",
       "    <tr>\n",
       "      <th>29913</th>\n",
       "      <td>Caja cambios</td>\n",
       "      <td>Sin asignar</td>\n",
       "      <td>Cave Talleres</td>\n",
       "      <td>NaN</td>\n",
       "      <td>E660</td>\n",
       "      <td>3.0</td>\n",
       "      <td>43</td>\n",
       "      <td>5</td>\n",
       "      <td>FORD</td>\n",
       "      <td>MONDEO</td>\n",
       "      <td>265.0</td>\n",
       "      <td>TURISMO</td>\n",
       "      <td>NaN</td>\n",
       "      <td>NaN</td>\n",
       "      <td>Cave Talleres</td>\n",
       "    </tr>\n",
       "    <tr>\n",
       "      <th>29914</th>\n",
       "      <td>Cambio filtro gasoil</td>\n",
       "      <td>ESCRIBANO</td>\n",
       "      <td>Cave Talleres</td>\n",
       "      <td>NaN</td>\n",
       "      <td>X116</td>\n",
       "      <td>14.0</td>\n",
       "      <td>22</td>\n",
       "      <td>23</td>\n",
       "      <td>IVECO</td>\n",
       "      <td>TOURING III</td>\n",
       "      <td>331.0</td>\n",
       "      <td>Discrecional</td>\n",
       "      <td>Normal</td>\n",
       "      <td>X116</td>\n",
       "      <td>Cave Talleres</td>\n",
       "    </tr>\n",
       "    <tr>\n",
       "      <th>29915</th>\n",
       "      <td>Cambiar/limpiar filtros</td>\n",
       "      <td>CARABAÑA</td>\n",
       "      <td>Cave Talleres</td>\n",
       "      <td>NaN</td>\n",
       "      <td>H117</td>\n",
       "      <td>6.0</td>\n",
       "      <td>1</td>\n",
       "      <td>71</td>\n",
       "      <td>MAN</td>\n",
       "      <td>i6 15.37</td>\n",
       "      <td>353.0</td>\n",
       "      <td>Discrecional</td>\n",
       "      <td>Normal</td>\n",
       "      <td>H117</td>\n",
       "      <td>Cave Talleres</td>\n",
       "    </tr>\n",
       "    <tr>\n",
       "      <th>29916</th>\n",
       "      <td>Precalentador</td>\n",
       "      <td>CARABAÑA</td>\n",
       "      <td>Cave Talleres</td>\n",
       "      <td>NaN</td>\n",
       "      <td>H117</td>\n",
       "      <td>6.0</td>\n",
       "      <td>1</td>\n",
       "      <td>71</td>\n",
       "      <td>MAN</td>\n",
       "      <td>i6 15.37</td>\n",
       "      <td>353.0</td>\n",
       "      <td>Discrecional</td>\n",
       "      <td>Normal</td>\n",
       "      <td>H117</td>\n",
       "      <td>Cave Talleres</td>\n",
       "    </tr>\n",
       "    <tr>\n",
       "      <th>29917</th>\n",
       "      <td>Nodriza</td>\n",
       "      <td>RODRIGUEZ</td>\n",
       "      <td>Cave Talleres</td>\n",
       "      <td>NaN</td>\n",
       "      <td>T530</td>\n",
       "      <td>17.0</td>\n",
       "      <td>253</td>\n",
       "      <td>NaN</td>\n",
       "      <td>AUDI</td>\n",
       "      <td>A8 4.2</td>\n",
       "      <td>265.0</td>\n",
       "      <td>TURISMO</td>\n",
       "      <td>NaN</td>\n",
       "      <td>NaN</td>\n",
       "      <td>Cave Talleres</td>\n",
       "    </tr>\n",
       "  </tbody>\n",
       "</table>\n",
       "<p>29918 rows × 15 columns</p>\n",
       "</div>"
      ],
      "text/plain": [
       "                      nomopera     aliasemp     nomempresa taller_prove  \\\n",
       "0                    Tacografo  Sin asignar  Cave Talleres          NaN   \n",
       "1             Toldo turisticos  Sin asignar  Cave Talleres          NaN   \n",
       "2         Cambio filtro gasoil  Sin asignar  Cave Talleres          NaN   \n",
       "3               Potencia motor  Sin asignar  Cave Talleres          NaN   \n",
       "4                 Fallo en EDC  Sin asignar  Cave Talleres          NaN   \n",
       "...                        ...          ...            ...          ...   \n",
       "29913             Caja cambios  Sin asignar  Cave Talleres          NaN   \n",
       "29914     Cambio filtro gasoil    ESCRIBANO  Cave Talleres          NaN   \n",
       "29915  Cambiar/limpiar filtros     CARABAÑA  Cave Talleres          NaN   \n",
       "29916            Precalentador     CARABAÑA  Cave Talleres          NaN   \n",
       "29917                  Nodriza    RODRIGUEZ  Cave Talleres          NaN   \n",
       "\n",
       "      v_codigbus  v_edad ndias_ant capacidad  marca       modelo  potencia  \\\n",
       "0           T305     0.0        18        45    MAN          SC7     353.0   \n",
       "1           U205    32.0        10        81    MAN  SIN ASIGNAR     265.0   \n",
       "2           T308     3.0        49        47  VOLVO     i6 15.37     345.0   \n",
       "3           T308     3.0        49        47  VOLVO     i6 15.37     345.0   \n",
       "4           T308     3.0        49        47  VOLVO     i6 15.37     345.0   \n",
       "...          ...     ...       ...       ...    ...          ...       ...   \n",
       "29913       E660     3.0        43         5   FORD       MONDEO     265.0   \n",
       "29914       X116    14.0        22        23  IVECO  TOURING III     331.0   \n",
       "29915       H117     6.0         1        71    MAN     i6 15.37     353.0   \n",
       "29916       H117     6.0         1        71    MAN     i6 15.37     353.0   \n",
       "29917       T530    17.0       253       NaN   AUDI       A8 4.2     265.0   \n",
       "\n",
       "                tipo            subtipo codigbus         taller  \n",
       "0       Discrecional             Normal     T305  Cave Talleres  \n",
       "1      BUS TURISTICO  Turistic Valencia     U205  Cave Talleres  \n",
       "2       Discrecional             Normal     T308  Cave Talleres  \n",
       "3       Discrecional             Normal     T308  Cave Talleres  \n",
       "4       Discrecional             Normal     T308  Cave Talleres  \n",
       "...              ...                ...      ...            ...  \n",
       "29913        TURISMO                NaN      NaN  Cave Talleres  \n",
       "29914   Discrecional             Normal     X116  Cave Talleres  \n",
       "29915   Discrecional             Normal     H117  Cave Talleres  \n",
       "29916   Discrecional             Normal     H117  Cave Talleres  \n",
       "29917        TURISMO                NaN      NaN  Cave Talleres  \n",
       "\n",
       "[29918 rows x 15 columns]"
      ]
     },
     "execution_count": 883,
     "metadata": {},
     "output_type": "execute_result"
    }
   ],
   "source": [
    "df['taller']=df['taller_prove']\n",
    "df['taller'] = df['taller'].fillna(df['nomempresa'])\n",
    "df['aliasemp'] = df['aliasemp'].fillna('Sin asignar')\n",
    "#df['potencia'] = df['potencia'].fillna(df['potencia'].median)\n",
    "df"
   ]
  },
  {
   "cell_type": "code",
   "execution_count": null,
   "id": "233eca30",
   "metadata": {},
   "outputs": [],
   "source": []
  },
  {
   "cell_type": "code",
   "execution_count": null,
   "id": "6b5d6010",
   "metadata": {},
   "outputs": [],
   "source": []
  },
  {
   "cell_type": "code",
   "execution_count": null,
   "id": "00191a7c",
   "metadata": {},
   "outputs": [],
   "source": []
  },
  {
   "cell_type": "markdown",
   "id": "6b1a4ef1",
   "metadata": {},
   "source": [
    "df = df.drop('ndias', 1)\n",
    "df = df.drop('ndias_ant_area', 1)\n",
    "df = df.drop('ndias_ant_tipo', 1)\n",
    "#df.reset_index(drop = True, inplace = True)\n",
    "df"
   ]
  },
  {
   "cell_type": "code",
   "execution_count": 884,
   "id": "36ac6993",
   "metadata": {},
   "outputs": [
    {
     "name": "stderr",
     "output_type": "stream",
     "text": [
      "C:\\Users\\Dani\\AppData\\Local\\Temp/ipykernel_12976/3397618746.py:1: FutureWarning: In a future version of pandas all arguments of DataFrame.drop except for the argument 'labels' will be keyword-only\n",
      "  df = df.drop('nomempresa', 1)\n"
     ]
    }
   ],
   "source": [
    "df = df.drop('nomempresa', 1)\n",
    "df = df.drop('taller_prove', 1)\n",
    "df = df.drop('codigbus', 1)"
   ]
  },
  {
   "cell_type": "code",
   "execution_count": 885,
   "id": "62635542",
   "metadata": {},
   "outputs": [
    {
     "data": {
      "text/plain": [
       "nomopera       object\n",
       "aliasemp       object\n",
       "v_codigbus     object\n",
       "v_edad        float64\n",
       "ndias_ant      object\n",
       "capacidad      object\n",
       "marca          object\n",
       "modelo         object\n",
       "potencia      float64\n",
       "tipo           object\n",
       "subtipo        object\n",
       "taller         object\n",
       "dtype: object"
      ]
     },
     "execution_count": 885,
     "metadata": {},
     "output_type": "execute_result"
    }
   ],
   "source": [
    "df.dtypes"
   ]
  },
  {
   "cell_type": "markdown",
   "id": "dc9863d3",
   "metadata": {},
   "source": [
    "imputamos valores sin asignar para no perder datos,"
   ]
  },
  {
   "cell_type": "code",
   "execution_count": 886,
   "id": "93aac7cb",
   "metadata": {},
   "outputs": [],
   "source": [
    "df['tipo'] = df['tipo'].fillna('Sin asignar')\n",
    "df['subtipo'] = df['subtipo'].fillna('Sin asignar')"
   ]
  },
  {
   "cell_type": "code",
   "execution_count": 887,
   "id": "5692da00",
   "metadata": {},
   "outputs": [
    {
     "data": {
      "text/plain": [
       "nomopera      1.83\n",
       "aliasemp      0.00\n",
       "v_codigbus    1.83\n",
       "v_edad        1.83\n",
       "ndias_ant     1.83\n",
       "capacidad     3.30\n",
       "marca         1.88\n",
       "modelo        2.01\n",
       "potencia      0.00\n",
       "tipo          0.00\n",
       "subtipo       0.00\n",
       "taller        0.00\n",
       "dtype: float64"
      ]
     },
     "execution_count": 887,
     "metadata": {},
     "output_type": "execute_result"
    }
   ],
   "source": [
    "round(df.isna().sum() * 100 / len(df),2)"
   ]
  },
  {
   "cell_type": "code",
   "execution_count": null,
   "id": "42b6798b",
   "metadata": {},
   "outputs": [],
   "source": []
  },
  {
   "cell_type": "code",
   "execution_count": 888,
   "id": "51c25f3f",
   "metadata": {},
   "outputs": [],
   "source": [
    "df=df.dropna()"
   ]
  },
  {
   "cell_type": "code",
   "execution_count": 889,
   "id": "f509a39e",
   "metadata": {},
   "outputs": [
    {
     "data": {
      "text/plain": [
       "nomopera      0.0\n",
       "aliasemp      0.0\n",
       "v_codigbus    0.0\n",
       "v_edad        0.0\n",
       "ndias_ant     0.0\n",
       "capacidad     0.0\n",
       "marca         0.0\n",
       "modelo        0.0\n",
       "potencia      0.0\n",
       "tipo          0.0\n",
       "subtipo       0.0\n",
       "taller        0.0\n",
       "dtype: float64"
      ]
     },
     "execution_count": 889,
     "metadata": {},
     "output_type": "execute_result"
    }
   ],
   "source": [
    "round(df.isna().sum() * 100 / len(df),2)"
   ]
  },
  {
   "cell_type": "code",
   "execution_count": 890,
   "id": "0d444a41",
   "metadata": {},
   "outputs": [
    {
     "data": {
      "text/plain": [
       "0        18\n",
       "1        10\n",
       "2        49\n",
       "3        49\n",
       "4        49\n",
       "         ..\n",
       "29912     7\n",
       "29913    43\n",
       "29914    22\n",
       "29915     1\n",
       "29916     1\n",
       "Name: ndias_ant, Length: 28674, dtype: int32"
      ]
     },
     "execution_count": 890,
     "metadata": {},
     "output_type": "execute_result"
    }
   ],
   "source": [
    "df['ndias_ant'] = df['ndias_ant'].astype(int)\n",
    "df['ndias_ant']"
   ]
  },
  {
   "cell_type": "markdown",
   "id": "b8148b5b",
   "metadata": {},
   "source": [
    "tratamiento de la columna aliasemp, se van a corregir los errores tipograficos, y los errores cometidos a asignar a alguien que no es mecanico la tarea de mecanico."
   ]
  },
  {
   "cell_type": "code",
   "execution_count": 891,
   "id": "3c98c732",
   "metadata": {},
   "outputs": [],
   "source": [
    "df['aliasemp'] = np.where( (df['aliasemp'].str.contains('IKAÑI')),'IÑAKI',df['aliasemp'])"
   ]
  },
  {
   "cell_type": "code",
   "execution_count": 892,
   "id": "d23d2760",
   "metadata": {},
   "outputs": [
    {
     "data": {
      "text/html": [
       "<div>\n",
       "<style scoped>\n",
       "    .dataframe tbody tr th:only-of-type {\n",
       "        vertical-align: middle;\n",
       "    }\n",
       "\n",
       "    .dataframe tbody tr th {\n",
       "        vertical-align: top;\n",
       "    }\n",
       "\n",
       "    .dataframe thead th {\n",
       "        text-align: right;\n",
       "    }\n",
       "</style>\n",
       "<table border=\"1\" class=\"dataframe\">\n",
       "  <thead>\n",
       "    <tr style=\"text-align: right;\">\n",
       "      <th></th>\n",
       "      <th>nomopera</th>\n",
       "      <th>aliasemp</th>\n",
       "      <th>v_codigbus</th>\n",
       "      <th>v_edad</th>\n",
       "      <th>ndias_ant</th>\n",
       "      <th>capacidad</th>\n",
       "      <th>marca</th>\n",
       "      <th>modelo</th>\n",
       "      <th>potencia</th>\n",
       "      <th>tipo</th>\n",
       "      <th>subtipo</th>\n",
       "      <th>taller</th>\n",
       "    </tr>\n",
       "  </thead>\n",
       "  <tbody>\n",
       "    <tr>\n",
       "      <th>0</th>\n",
       "      <td>Tacografo</td>\n",
       "      <td>Sin asignar</td>\n",
       "      <td>T305</td>\n",
       "      <td>0.0</td>\n",
       "      <td>18</td>\n",
       "      <td>45</td>\n",
       "      <td>MAN</td>\n",
       "      <td>SC7</td>\n",
       "      <td>353.0</td>\n",
       "      <td>Discrecional</td>\n",
       "      <td>Normal</td>\n",
       "      <td>Cave Talleres</td>\n",
       "    </tr>\n",
       "    <tr>\n",
       "      <th>1</th>\n",
       "      <td>Toldo turisticos</td>\n",
       "      <td>Sin asignar</td>\n",
       "      <td>U205</td>\n",
       "      <td>32.0</td>\n",
       "      <td>10</td>\n",
       "      <td>81</td>\n",
       "      <td>MAN</td>\n",
       "      <td>SIN ASIGNAR</td>\n",
       "      <td>265.0</td>\n",
       "      <td>BUS TURISTICO</td>\n",
       "      <td>Turistic Valencia</td>\n",
       "      <td>Cave Talleres</td>\n",
       "    </tr>\n",
       "    <tr>\n",
       "      <th>2</th>\n",
       "      <td>Cambio filtro gasoil</td>\n",
       "      <td>Sin asignar</td>\n",
       "      <td>T308</td>\n",
       "      <td>3.0</td>\n",
       "      <td>49</td>\n",
       "      <td>47</td>\n",
       "      <td>VOLVO</td>\n",
       "      <td>i6 15.37</td>\n",
       "      <td>345.0</td>\n",
       "      <td>Discrecional</td>\n",
       "      <td>Normal</td>\n",
       "      <td>Cave Talleres</td>\n",
       "    </tr>\n",
       "    <tr>\n",
       "      <th>3</th>\n",
       "      <td>Potencia motor</td>\n",
       "      <td>Sin asignar</td>\n",
       "      <td>T308</td>\n",
       "      <td>3.0</td>\n",
       "      <td>49</td>\n",
       "      <td>47</td>\n",
       "      <td>VOLVO</td>\n",
       "      <td>i6 15.37</td>\n",
       "      <td>345.0</td>\n",
       "      <td>Discrecional</td>\n",
       "      <td>Normal</td>\n",
       "      <td>Cave Talleres</td>\n",
       "    </tr>\n",
       "    <tr>\n",
       "      <th>4</th>\n",
       "      <td>Fallo en EDC</td>\n",
       "      <td>Sin asignar</td>\n",
       "      <td>T308</td>\n",
       "      <td>3.0</td>\n",
       "      <td>49</td>\n",
       "      <td>47</td>\n",
       "      <td>VOLVO</td>\n",
       "      <td>i6 15.37</td>\n",
       "      <td>345.0</td>\n",
       "      <td>Discrecional</td>\n",
       "      <td>Normal</td>\n",
       "      <td>Cave Talleres</td>\n",
       "    </tr>\n",
       "    <tr>\n",
       "      <th>...</th>\n",
       "      <td>...</td>\n",
       "      <td>...</td>\n",
       "      <td>...</td>\n",
       "      <td>...</td>\n",
       "      <td>...</td>\n",
       "      <td>...</td>\n",
       "      <td>...</td>\n",
       "      <td>...</td>\n",
       "      <td>...</td>\n",
       "      <td>...</td>\n",
       "      <td>...</td>\n",
       "      <td>...</td>\n",
       "    </tr>\n",
       "    <tr>\n",
       "      <th>29912</th>\n",
       "      <td>Regeneracion filtro particulas</td>\n",
       "      <td>RODRIGUEZ</td>\n",
       "      <td>B166</td>\n",
       "      <td>5.0</td>\n",
       "      <td>7</td>\n",
       "      <td>39</td>\n",
       "      <td>CUMMINS</td>\n",
       "      <td>C10</td>\n",
       "      <td>226.0</td>\n",
       "      <td>Discrecional</td>\n",
       "      <td>Midibus</td>\n",
       "      <td>Cave Talleres</td>\n",
       "    </tr>\n",
       "    <tr>\n",
       "      <th>29913</th>\n",
       "      <td>Caja cambios</td>\n",
       "      <td>Sin asignar</td>\n",
       "      <td>E660</td>\n",
       "      <td>3.0</td>\n",
       "      <td>43</td>\n",
       "      <td>5</td>\n",
       "      <td>FORD</td>\n",
       "      <td>MONDEO</td>\n",
       "      <td>265.0</td>\n",
       "      <td>TURISMO</td>\n",
       "      <td>Sin asignar</td>\n",
       "      <td>Cave Talleres</td>\n",
       "    </tr>\n",
       "    <tr>\n",
       "      <th>29914</th>\n",
       "      <td>Cambio filtro gasoil</td>\n",
       "      <td>ESCRIBANO</td>\n",
       "      <td>X116</td>\n",
       "      <td>14.0</td>\n",
       "      <td>22</td>\n",
       "      <td>23</td>\n",
       "      <td>IVECO</td>\n",
       "      <td>TOURING III</td>\n",
       "      <td>331.0</td>\n",
       "      <td>Discrecional</td>\n",
       "      <td>Normal</td>\n",
       "      <td>Cave Talleres</td>\n",
       "    </tr>\n",
       "    <tr>\n",
       "      <th>29915</th>\n",
       "      <td>Cambiar/limpiar filtros</td>\n",
       "      <td>CARABAÑA</td>\n",
       "      <td>H117</td>\n",
       "      <td>6.0</td>\n",
       "      <td>1</td>\n",
       "      <td>71</td>\n",
       "      <td>MAN</td>\n",
       "      <td>i6 15.37</td>\n",
       "      <td>353.0</td>\n",
       "      <td>Discrecional</td>\n",
       "      <td>Normal</td>\n",
       "      <td>Cave Talleres</td>\n",
       "    </tr>\n",
       "    <tr>\n",
       "      <th>29916</th>\n",
       "      <td>Precalentador</td>\n",
       "      <td>CARABAÑA</td>\n",
       "      <td>H117</td>\n",
       "      <td>6.0</td>\n",
       "      <td>1</td>\n",
       "      <td>71</td>\n",
       "      <td>MAN</td>\n",
       "      <td>i6 15.37</td>\n",
       "      <td>353.0</td>\n",
       "      <td>Discrecional</td>\n",
       "      <td>Normal</td>\n",
       "      <td>Cave Talleres</td>\n",
       "    </tr>\n",
       "  </tbody>\n",
       "</table>\n",
       "<p>28674 rows × 12 columns</p>\n",
       "</div>"
      ],
      "text/plain": [
       "                             nomopera     aliasemp v_codigbus  v_edad  \\\n",
       "0                           Tacografo  Sin asignar       T305     0.0   \n",
       "1                    Toldo turisticos  Sin asignar       U205    32.0   \n",
       "2                Cambio filtro gasoil  Sin asignar       T308     3.0   \n",
       "3                      Potencia motor  Sin asignar       T308     3.0   \n",
       "4                        Fallo en EDC  Sin asignar       T308     3.0   \n",
       "...                               ...          ...        ...     ...   \n",
       "29912  Regeneracion filtro particulas    RODRIGUEZ       B166     5.0   \n",
       "29913                    Caja cambios  Sin asignar       E660     3.0   \n",
       "29914            Cambio filtro gasoil    ESCRIBANO       X116    14.0   \n",
       "29915         Cambiar/limpiar filtros     CARABAÑA       H117     6.0   \n",
       "29916                   Precalentador     CARABAÑA       H117     6.0   \n",
       "\n",
       "       ndias_ant capacidad    marca       modelo  potencia           tipo  \\\n",
       "0             18        45      MAN          SC7     353.0   Discrecional   \n",
       "1             10        81      MAN  SIN ASIGNAR     265.0  BUS TURISTICO   \n",
       "2             49        47    VOLVO     i6 15.37     345.0   Discrecional   \n",
       "3             49        47    VOLVO     i6 15.37     345.0   Discrecional   \n",
       "4             49        47    VOLVO     i6 15.37     345.0   Discrecional   \n",
       "...          ...       ...      ...          ...       ...            ...   \n",
       "29912          7        39  CUMMINS          C10     226.0   Discrecional   \n",
       "29913         43         5     FORD       MONDEO     265.0        TURISMO   \n",
       "29914         22        23    IVECO  TOURING III     331.0   Discrecional   \n",
       "29915          1        71      MAN     i6 15.37     353.0   Discrecional   \n",
       "29916          1        71      MAN     i6 15.37     353.0   Discrecional   \n",
       "\n",
       "                 subtipo         taller  \n",
       "0                 Normal  Cave Talleres  \n",
       "1      Turistic Valencia  Cave Talleres  \n",
       "2                 Normal  Cave Talleres  \n",
       "3                 Normal  Cave Talleres  \n",
       "4                 Normal  Cave Talleres  \n",
       "...                  ...            ...  \n",
       "29912            Midibus  Cave Talleres  \n",
       "29913        Sin asignar  Cave Talleres  \n",
       "29914             Normal  Cave Talleres  \n",
       "29915             Normal  Cave Talleres  \n",
       "29916             Normal  Cave Talleres  \n",
       "\n",
       "[28674 rows x 12 columns]"
      ]
     },
     "execution_count": 892,
     "metadata": {},
     "output_type": "execute_result"
    }
   ],
   "source": [
    "#df['count']=df['aliasemp'].value_counts()\n",
    "df"
   ]
  },
  {
   "cell_type": "code",
   "execution_count": 893,
   "id": "db23c446",
   "metadata": {
    "scrolled": true
   },
   "outputs": [],
   "source": [
    "#df['aliasemp'] = np.where( (df['aliasemp'].value_counts()<100),'Sin asignar',df['aliasemp'])"
   ]
  },
  {
   "cell_type": "code",
   "execution_count": null,
   "id": "19f6b67a",
   "metadata": {},
   "outputs": [],
   "source": []
  },
  {
   "cell_type": "code",
   "execution_count": 894,
   "id": "41dc54df",
   "metadata": {},
   "outputs": [
    {
     "data": {
      "text/html": [
       "<div>\n",
       "<style scoped>\n",
       "    .dataframe tbody tr th:only-of-type {\n",
       "        vertical-align: middle;\n",
       "    }\n",
       "\n",
       "    .dataframe tbody tr th {\n",
       "        vertical-align: top;\n",
       "    }\n",
       "\n",
       "    .dataframe thead th {\n",
       "        text-align: right;\n",
       "    }\n",
       "</style>\n",
       "<table border=\"1\" class=\"dataframe\">\n",
       "  <thead>\n",
       "    <tr style=\"text-align: right;\">\n",
       "      <th></th>\n",
       "      <th>aliasemp</th>\n",
       "      <th>mecanico</th>\n",
       "      <th>count</th>\n",
       "    </tr>\n",
       "  </thead>\n",
       "  <tbody>\n",
       "    <tr>\n",
       "      <th>Sin asignar</th>\n",
       "      <td>9687</td>\n",
       "      <td>Sin asignar</td>\n",
       "      <td>9687</td>\n",
       "    </tr>\n",
       "    <tr>\n",
       "      <th>BERMEJO</th>\n",
       "      <td>1804</td>\n",
       "      <td>BERMEJO</td>\n",
       "      <td>1804</td>\n",
       "    </tr>\n",
       "    <tr>\n",
       "      <th>CARABAÑA</th>\n",
       "      <td>1430</td>\n",
       "      <td>CARABAÑA</td>\n",
       "      <td>1430</td>\n",
       "    </tr>\n",
       "    <tr>\n",
       "      <th>ALEJANDRO</th>\n",
       "      <td>1410</td>\n",
       "      <td>ALEJANDRO</td>\n",
       "      <td>1410</td>\n",
       "    </tr>\n",
       "    <tr>\n",
       "      <th>RODRIGUEZ</th>\n",
       "      <td>1386</td>\n",
       "      <td>RODRIGUEZ</td>\n",
       "      <td>1386</td>\n",
       "    </tr>\n",
       "    <tr>\n",
       "      <th>...</th>\n",
       "      <td>...</td>\n",
       "      <td>...</td>\n",
       "      <td>...</td>\n",
       "    </tr>\n",
       "    <tr>\n",
       "      <th>QUILIS</th>\n",
       "      <td>1</td>\n",
       "      <td>QUILIS</td>\n",
       "      <td>1</td>\n",
       "    </tr>\n",
       "    <tr>\n",
       "      <th>CESAR</th>\n",
       "      <td>1</td>\n",
       "      <td>CESAR</td>\n",
       "      <td>1</td>\n",
       "    </tr>\n",
       "    <tr>\n",
       "      <th>SOLANA</th>\n",
       "      <td>1</td>\n",
       "      <td>SOLANA</td>\n",
       "      <td>1</td>\n",
       "    </tr>\n",
       "    <tr>\n",
       "      <th>ALABAU</th>\n",
       "      <td>1</td>\n",
       "      <td>ALABAU</td>\n",
       "      <td>1</td>\n",
       "    </tr>\n",
       "    <tr>\n",
       "      <th>MUÑOZ</th>\n",
       "      <td>1</td>\n",
       "      <td>MUÑOZ</td>\n",
       "      <td>1</td>\n",
       "    </tr>\n",
       "  </tbody>\n",
       "</table>\n",
       "<p>69 rows × 3 columns</p>\n",
       "</div>"
      ],
      "text/plain": [
       "             aliasemp     mecanico  count\n",
       "Sin asignar      9687  Sin asignar   9687\n",
       "BERMEJO          1804      BERMEJO   1804\n",
       "CARABAÑA         1430     CARABAÑA   1430\n",
       "ALEJANDRO        1410    ALEJANDRO   1410\n",
       "RODRIGUEZ        1386    RODRIGUEZ   1386\n",
       "...               ...          ...    ...\n",
       "QUILIS              1       QUILIS      1\n",
       "CESAR               1        CESAR      1\n",
       "SOLANA              1       SOLANA      1\n",
       "ALABAU              1       ALABAU      1\n",
       "MUÑOZ               1        MUÑOZ      1\n",
       "\n",
       "[69 rows x 3 columns]"
      ]
     },
     "execution_count": 894,
     "metadata": {},
     "output_type": "execute_result"
    }
   ],
   "source": [
    "alias= pd.DataFrame(df['aliasemp'].value_counts())\n",
    "#alias= alias.drop('Sin asignar')\n",
    "alias['mecanico']=alias.index\n",
    "alias['count']=alias['aliasemp']\n",
    "alias\n"
   ]
  },
  {
   "cell_type": "markdown",
   "id": "edf9af86",
   "metadata": {},
   "source": [
    "se crea un dataset con cada mecanico y las reparaciones que ha realizado, para poder eliminar las personas con menos reparaciones, ya que por conocimiento experto se sabe que no son mecanicos."
   ]
  },
  {
   "cell_type": "code",
   "execution_count": 895,
   "id": "68025cc2",
   "metadata": {},
   "outputs": [
    {
     "data": {
      "text/html": [
       "<div>\n",
       "<style scoped>\n",
       "    .dataframe tbody tr th:only-of-type {\n",
       "        vertical-align: middle;\n",
       "    }\n",
       "\n",
       "    .dataframe tbody tr th {\n",
       "        vertical-align: top;\n",
       "    }\n",
       "\n",
       "    .dataframe thead th {\n",
       "        text-align: right;\n",
       "    }\n",
       "</style>\n",
       "<table border=\"1\" class=\"dataframe\">\n",
       "  <thead>\n",
       "    <tr style=\"text-align: right;\">\n",
       "      <th></th>\n",
       "      <th>mecanico</th>\n",
       "      <th>count</th>\n",
       "    </tr>\n",
       "  </thead>\n",
       "  <tbody>\n",
       "    <tr>\n",
       "      <th>0</th>\n",
       "      <td>Sin asignar</td>\n",
       "      <td>9687</td>\n",
       "    </tr>\n",
       "    <tr>\n",
       "      <th>1</th>\n",
       "      <td>BERMEJO</td>\n",
       "      <td>1804</td>\n",
       "    </tr>\n",
       "    <tr>\n",
       "      <th>2</th>\n",
       "      <td>CARABAÑA</td>\n",
       "      <td>1430</td>\n",
       "    </tr>\n",
       "    <tr>\n",
       "      <th>3</th>\n",
       "      <td>ALEJANDRO</td>\n",
       "      <td>1410</td>\n",
       "    </tr>\n",
       "    <tr>\n",
       "      <th>4</th>\n",
       "      <td>RODRIGUEZ</td>\n",
       "      <td>1386</td>\n",
       "    </tr>\n",
       "    <tr>\n",
       "      <th>...</th>\n",
       "      <td>...</td>\n",
       "      <td>...</td>\n",
       "    </tr>\n",
       "    <tr>\n",
       "      <th>64</th>\n",
       "      <td>QUILIS</td>\n",
       "      <td>1</td>\n",
       "    </tr>\n",
       "    <tr>\n",
       "      <th>65</th>\n",
       "      <td>CESAR</td>\n",
       "      <td>1</td>\n",
       "    </tr>\n",
       "    <tr>\n",
       "      <th>66</th>\n",
       "      <td>SOLANA</td>\n",
       "      <td>1</td>\n",
       "    </tr>\n",
       "    <tr>\n",
       "      <th>67</th>\n",
       "      <td>ALABAU</td>\n",
       "      <td>1</td>\n",
       "    </tr>\n",
       "    <tr>\n",
       "      <th>68</th>\n",
       "      <td>MUÑOZ</td>\n",
       "      <td>1</td>\n",
       "    </tr>\n",
       "  </tbody>\n",
       "</table>\n",
       "<p>69 rows × 2 columns</p>\n",
       "</div>"
      ],
      "text/plain": [
       "       mecanico  count\n",
       "0   Sin asignar   9687\n",
       "1       BERMEJO   1804\n",
       "2      CARABAÑA   1430\n",
       "3     ALEJANDRO   1410\n",
       "4     RODRIGUEZ   1386\n",
       "..          ...    ...\n",
       "64       QUILIS      1\n",
       "65        CESAR      1\n",
       "66       SOLANA      1\n",
       "67       ALABAU      1\n",
       "68        MUÑOZ      1\n",
       "\n",
       "[69 rows x 2 columns]"
      ]
     },
     "execution_count": 895,
     "metadata": {},
     "output_type": "execute_result"
    }
   ],
   "source": [
    "alias=alias[['mecanico','count']]\n",
    "alias=alias.reset_index(level=None, drop=True, inplace=False, col_level=0, col_fill='')\n",
    "alias"
   ]
  },
  {
   "cell_type": "code",
   "execution_count": 896,
   "id": "e9e2048f",
   "metadata": {},
   "outputs": [
    {
     "data": {
      "text/html": [
       "<div>\n",
       "<style scoped>\n",
       "    .dataframe tbody tr th:only-of-type {\n",
       "        vertical-align: middle;\n",
       "    }\n",
       "\n",
       "    .dataframe tbody tr th {\n",
       "        vertical-align: top;\n",
       "    }\n",
       "\n",
       "    .dataframe thead th {\n",
       "        text-align: right;\n",
       "    }\n",
       "</style>\n",
       "<table border=\"1\" class=\"dataframe\">\n",
       "  <thead>\n",
       "    <tr style=\"text-align: right;\">\n",
       "      <th></th>\n",
       "      <th>aliasemp</th>\n",
       "      <th>count</th>\n",
       "    </tr>\n",
       "  </thead>\n",
       "  <tbody>\n",
       "    <tr>\n",
       "      <th>0</th>\n",
       "      <td>Sin asignar</td>\n",
       "      <td>9687</td>\n",
       "    </tr>\n",
       "    <tr>\n",
       "      <th>1</th>\n",
       "      <td>BERMEJO</td>\n",
       "      <td>1804</td>\n",
       "    </tr>\n",
       "    <tr>\n",
       "      <th>2</th>\n",
       "      <td>CARABAÑA</td>\n",
       "      <td>1430</td>\n",
       "    </tr>\n",
       "    <tr>\n",
       "      <th>3</th>\n",
       "      <td>ALEJANDRO</td>\n",
       "      <td>1410</td>\n",
       "    </tr>\n",
       "    <tr>\n",
       "      <th>4</th>\n",
       "      <td>RODRIGUEZ</td>\n",
       "      <td>1386</td>\n",
       "    </tr>\n",
       "    <tr>\n",
       "      <th>...</th>\n",
       "      <td>...</td>\n",
       "      <td>...</td>\n",
       "    </tr>\n",
       "    <tr>\n",
       "      <th>64</th>\n",
       "      <td>QUILIS</td>\n",
       "      <td>1</td>\n",
       "    </tr>\n",
       "    <tr>\n",
       "      <th>65</th>\n",
       "      <td>CESAR</td>\n",
       "      <td>1</td>\n",
       "    </tr>\n",
       "    <tr>\n",
       "      <th>66</th>\n",
       "      <td>SOLANA</td>\n",
       "      <td>1</td>\n",
       "    </tr>\n",
       "    <tr>\n",
       "      <th>67</th>\n",
       "      <td>ALABAU</td>\n",
       "      <td>1</td>\n",
       "    </tr>\n",
       "    <tr>\n",
       "      <th>68</th>\n",
       "      <td>MUÑOZ</td>\n",
       "      <td>1</td>\n",
       "    </tr>\n",
       "  </tbody>\n",
       "</table>\n",
       "<p>69 rows × 2 columns</p>\n",
       "</div>"
      ],
      "text/plain": [
       "       aliasemp  count\n",
       "0   Sin asignar   9687\n",
       "1       BERMEJO   1804\n",
       "2      CARABAÑA   1430\n",
       "3     ALEJANDRO   1410\n",
       "4     RODRIGUEZ   1386\n",
       "..          ...    ...\n",
       "64       QUILIS      1\n",
       "65        CESAR      1\n",
       "66       SOLANA      1\n",
       "67       ALABAU      1\n",
       "68        MUÑOZ      1\n",
       "\n",
       "[69 rows x 2 columns]"
      ]
     },
     "execution_count": 896,
     "metadata": {},
     "output_type": "execute_result"
    }
   ],
   "source": [
    "alias.rename(columns={'mecanico': 'aliasemp'}, inplace=True)\n",
    "alias\n"
   ]
  },
  {
   "cell_type": "code",
   "execution_count": 897,
   "id": "d00f9b68",
   "metadata": {},
   "outputs": [
    {
     "data": {
      "text/html": [
       "<div>\n",
       "<style scoped>\n",
       "    .dataframe tbody tr th:only-of-type {\n",
       "        vertical-align: middle;\n",
       "    }\n",
       "\n",
       "    .dataframe tbody tr th {\n",
       "        vertical-align: top;\n",
       "    }\n",
       "\n",
       "    .dataframe thead th {\n",
       "        text-align: right;\n",
       "    }\n",
       "</style>\n",
       "<table border=\"1\" class=\"dataframe\">\n",
       "  <thead>\n",
       "    <tr style=\"text-align: right;\">\n",
       "      <th></th>\n",
       "      <th>nomopera</th>\n",
       "      <th>aliasemp</th>\n",
       "      <th>v_codigbus</th>\n",
       "      <th>v_edad</th>\n",
       "      <th>ndias_ant</th>\n",
       "      <th>capacidad</th>\n",
       "      <th>marca</th>\n",
       "      <th>modelo</th>\n",
       "      <th>potencia</th>\n",
       "      <th>tipo</th>\n",
       "      <th>subtipo</th>\n",
       "      <th>taller</th>\n",
       "      <th>count</th>\n",
       "    </tr>\n",
       "  </thead>\n",
       "  <tbody>\n",
       "    <tr>\n",
       "      <th>0</th>\n",
       "      <td>Tacografo</td>\n",
       "      <td>Sin asignar</td>\n",
       "      <td>T305</td>\n",
       "      <td>0.0</td>\n",
       "      <td>18</td>\n",
       "      <td>45</td>\n",
       "      <td>MAN</td>\n",
       "      <td>SC7</td>\n",
       "      <td>353.0</td>\n",
       "      <td>Discrecional</td>\n",
       "      <td>Normal</td>\n",
       "      <td>Cave Talleres</td>\n",
       "      <td>9687</td>\n",
       "    </tr>\n",
       "    <tr>\n",
       "      <th>1</th>\n",
       "      <td>Toldo turisticos</td>\n",
       "      <td>Sin asignar</td>\n",
       "      <td>U205</td>\n",
       "      <td>32.0</td>\n",
       "      <td>10</td>\n",
       "      <td>81</td>\n",
       "      <td>MAN</td>\n",
       "      <td>SIN ASIGNAR</td>\n",
       "      <td>265.0</td>\n",
       "      <td>BUS TURISTICO</td>\n",
       "      <td>Turistic Valencia</td>\n",
       "      <td>Cave Talleres</td>\n",
       "      <td>9687</td>\n",
       "    </tr>\n",
       "    <tr>\n",
       "      <th>2</th>\n",
       "      <td>Cambio filtro gasoil</td>\n",
       "      <td>Sin asignar</td>\n",
       "      <td>T308</td>\n",
       "      <td>3.0</td>\n",
       "      <td>49</td>\n",
       "      <td>47</td>\n",
       "      <td>VOLVO</td>\n",
       "      <td>i6 15.37</td>\n",
       "      <td>345.0</td>\n",
       "      <td>Discrecional</td>\n",
       "      <td>Normal</td>\n",
       "      <td>Cave Talleres</td>\n",
       "      <td>9687</td>\n",
       "    </tr>\n",
       "    <tr>\n",
       "      <th>3</th>\n",
       "      <td>Potencia motor</td>\n",
       "      <td>Sin asignar</td>\n",
       "      <td>T308</td>\n",
       "      <td>3.0</td>\n",
       "      <td>49</td>\n",
       "      <td>47</td>\n",
       "      <td>VOLVO</td>\n",
       "      <td>i6 15.37</td>\n",
       "      <td>345.0</td>\n",
       "      <td>Discrecional</td>\n",
       "      <td>Normal</td>\n",
       "      <td>Cave Talleres</td>\n",
       "      <td>9687</td>\n",
       "    </tr>\n",
       "    <tr>\n",
       "      <th>4</th>\n",
       "      <td>Fallo en EDC</td>\n",
       "      <td>Sin asignar</td>\n",
       "      <td>T308</td>\n",
       "      <td>3.0</td>\n",
       "      <td>49</td>\n",
       "      <td>47</td>\n",
       "      <td>VOLVO</td>\n",
       "      <td>i6 15.37</td>\n",
       "      <td>345.0</td>\n",
       "      <td>Discrecional</td>\n",
       "      <td>Normal</td>\n",
       "      <td>Cave Talleres</td>\n",
       "      <td>9687</td>\n",
       "    </tr>\n",
       "    <tr>\n",
       "      <th>...</th>\n",
       "      <td>...</td>\n",
       "      <td>...</td>\n",
       "      <td>...</td>\n",
       "      <td>...</td>\n",
       "      <td>...</td>\n",
       "      <td>...</td>\n",
       "      <td>...</td>\n",
       "      <td>...</td>\n",
       "      <td>...</td>\n",
       "      <td>...</td>\n",
       "      <td>...</td>\n",
       "      <td>...</td>\n",
       "      <td>...</td>\n",
       "    </tr>\n",
       "    <tr>\n",
       "      <th>28669</th>\n",
       "      <td>Regeneracion filtro particulas</td>\n",
       "      <td>RODRIGUEZ</td>\n",
       "      <td>B166</td>\n",
       "      <td>5.0</td>\n",
       "      <td>7</td>\n",
       "      <td>39</td>\n",
       "      <td>CUMMINS</td>\n",
       "      <td>C10</td>\n",
       "      <td>226.0</td>\n",
       "      <td>Discrecional</td>\n",
       "      <td>Midibus</td>\n",
       "      <td>Cave Talleres</td>\n",
       "      <td>1386</td>\n",
       "    </tr>\n",
       "    <tr>\n",
       "      <th>28670</th>\n",
       "      <td>Caja cambios</td>\n",
       "      <td>Sin asignar</td>\n",
       "      <td>E660</td>\n",
       "      <td>3.0</td>\n",
       "      <td>43</td>\n",
       "      <td>5</td>\n",
       "      <td>FORD</td>\n",
       "      <td>MONDEO</td>\n",
       "      <td>265.0</td>\n",
       "      <td>TURISMO</td>\n",
       "      <td>Sin asignar</td>\n",
       "      <td>Cave Talleres</td>\n",
       "      <td>9687</td>\n",
       "    </tr>\n",
       "    <tr>\n",
       "      <th>28671</th>\n",
       "      <td>Cambio filtro gasoil</td>\n",
       "      <td>ESCRIBANO</td>\n",
       "      <td>X116</td>\n",
       "      <td>14.0</td>\n",
       "      <td>22</td>\n",
       "      <td>23</td>\n",
       "      <td>IVECO</td>\n",
       "      <td>TOURING III</td>\n",
       "      <td>331.0</td>\n",
       "      <td>Discrecional</td>\n",
       "      <td>Normal</td>\n",
       "      <td>Cave Talleres</td>\n",
       "      <td>143</td>\n",
       "    </tr>\n",
       "    <tr>\n",
       "      <th>28672</th>\n",
       "      <td>Cambiar/limpiar filtros</td>\n",
       "      <td>CARABAÑA</td>\n",
       "      <td>H117</td>\n",
       "      <td>6.0</td>\n",
       "      <td>1</td>\n",
       "      <td>71</td>\n",
       "      <td>MAN</td>\n",
       "      <td>i6 15.37</td>\n",
       "      <td>353.0</td>\n",
       "      <td>Discrecional</td>\n",
       "      <td>Normal</td>\n",
       "      <td>Cave Talleres</td>\n",
       "      <td>1430</td>\n",
       "    </tr>\n",
       "    <tr>\n",
       "      <th>28673</th>\n",
       "      <td>Precalentador</td>\n",
       "      <td>CARABAÑA</td>\n",
       "      <td>H117</td>\n",
       "      <td>6.0</td>\n",
       "      <td>1</td>\n",
       "      <td>71</td>\n",
       "      <td>MAN</td>\n",
       "      <td>i6 15.37</td>\n",
       "      <td>353.0</td>\n",
       "      <td>Discrecional</td>\n",
       "      <td>Normal</td>\n",
       "      <td>Cave Talleres</td>\n",
       "      <td>1430</td>\n",
       "    </tr>\n",
       "  </tbody>\n",
       "</table>\n",
       "<p>28674 rows × 13 columns</p>\n",
       "</div>"
      ],
      "text/plain": [
       "                             nomopera     aliasemp v_codigbus  v_edad  \\\n",
       "0                           Tacografo  Sin asignar       T305     0.0   \n",
       "1                    Toldo turisticos  Sin asignar       U205    32.0   \n",
       "2                Cambio filtro gasoil  Sin asignar       T308     3.0   \n",
       "3                      Potencia motor  Sin asignar       T308     3.0   \n",
       "4                        Fallo en EDC  Sin asignar       T308     3.0   \n",
       "...                               ...          ...        ...     ...   \n",
       "28669  Regeneracion filtro particulas    RODRIGUEZ       B166     5.0   \n",
       "28670                    Caja cambios  Sin asignar       E660     3.0   \n",
       "28671            Cambio filtro gasoil    ESCRIBANO       X116    14.0   \n",
       "28672         Cambiar/limpiar filtros     CARABAÑA       H117     6.0   \n",
       "28673                   Precalentador     CARABAÑA       H117     6.0   \n",
       "\n",
       "       ndias_ant capacidad    marca       modelo  potencia           tipo  \\\n",
       "0             18        45      MAN          SC7     353.0   Discrecional   \n",
       "1             10        81      MAN  SIN ASIGNAR     265.0  BUS TURISTICO   \n",
       "2             49        47    VOLVO     i6 15.37     345.0   Discrecional   \n",
       "3             49        47    VOLVO     i6 15.37     345.0   Discrecional   \n",
       "4             49        47    VOLVO     i6 15.37     345.0   Discrecional   \n",
       "...          ...       ...      ...          ...       ...            ...   \n",
       "28669          7        39  CUMMINS          C10     226.0   Discrecional   \n",
       "28670         43         5     FORD       MONDEO     265.0        TURISMO   \n",
       "28671         22        23    IVECO  TOURING III     331.0   Discrecional   \n",
       "28672          1        71      MAN     i6 15.37     353.0   Discrecional   \n",
       "28673          1        71      MAN     i6 15.37     353.0   Discrecional   \n",
       "\n",
       "                 subtipo         taller  count  \n",
       "0                 Normal  Cave Talleres   9687  \n",
       "1      Turistic Valencia  Cave Talleres   9687  \n",
       "2                 Normal  Cave Talleres   9687  \n",
       "3                 Normal  Cave Talleres   9687  \n",
       "4                 Normal  Cave Talleres   9687  \n",
       "...                  ...            ...    ...  \n",
       "28669            Midibus  Cave Talleres   1386  \n",
       "28670        Sin asignar  Cave Talleres   9687  \n",
       "28671             Normal  Cave Talleres    143  \n",
       "28672             Normal  Cave Talleres   1430  \n",
       "28673             Normal  Cave Talleres   1430  \n",
       "\n",
       "[28674 rows x 13 columns]"
      ]
     },
     "execution_count": 897,
     "metadata": {},
     "output_type": "execute_result"
    }
   ],
   "source": [
    "df=df.merge(alias, on='aliasemp', how='left')\n",
    "#df=pd.merge(df, alias, how='left', left_on=['aliasemp'], right_on=['mecanico'])\n",
    "df"
   ]
  },
  {
   "cell_type": "code",
   "execution_count": 898,
   "id": "eeaa1406",
   "metadata": {},
   "outputs": [
    {
     "data": {
      "text/html": [
       "<div>\n",
       "<style scoped>\n",
       "    .dataframe tbody tr th:only-of-type {\n",
       "        vertical-align: middle;\n",
       "    }\n",
       "\n",
       "    .dataframe tbody tr th {\n",
       "        vertical-align: top;\n",
       "    }\n",
       "\n",
       "    .dataframe thead th {\n",
       "        text-align: right;\n",
       "    }\n",
       "</style>\n",
       "<table border=\"1\" class=\"dataframe\">\n",
       "  <thead>\n",
       "    <tr style=\"text-align: right;\">\n",
       "      <th></th>\n",
       "      <th>nomopera</th>\n",
       "      <th>aliasemp</th>\n",
       "      <th>v_codigbus</th>\n",
       "      <th>v_edad</th>\n",
       "      <th>ndias_ant</th>\n",
       "      <th>capacidad</th>\n",
       "      <th>marca</th>\n",
       "      <th>modelo</th>\n",
       "      <th>potencia</th>\n",
       "      <th>tipo</th>\n",
       "      <th>subtipo</th>\n",
       "      <th>taller</th>\n",
       "      <th>count</th>\n",
       "    </tr>\n",
       "  </thead>\n",
       "  <tbody>\n",
       "    <tr>\n",
       "      <th>0</th>\n",
       "      <td>Tacografo</td>\n",
       "      <td>Sin asignar</td>\n",
       "      <td>T305</td>\n",
       "      <td>0.0</td>\n",
       "      <td>18</td>\n",
       "      <td>45</td>\n",
       "      <td>MAN</td>\n",
       "      <td>SC7</td>\n",
       "      <td>353.0</td>\n",
       "      <td>Discrecional</td>\n",
       "      <td>Normal</td>\n",
       "      <td>Cave Talleres</td>\n",
       "      <td>9687</td>\n",
       "    </tr>\n",
       "    <tr>\n",
       "      <th>1</th>\n",
       "      <td>Toldo turisticos</td>\n",
       "      <td>Sin asignar</td>\n",
       "      <td>U205</td>\n",
       "      <td>32.0</td>\n",
       "      <td>10</td>\n",
       "      <td>81</td>\n",
       "      <td>MAN</td>\n",
       "      <td>SIN ASIGNAR</td>\n",
       "      <td>265.0</td>\n",
       "      <td>BUS TURISTICO</td>\n",
       "      <td>Turistic Valencia</td>\n",
       "      <td>Cave Talleres</td>\n",
       "      <td>9687</td>\n",
       "    </tr>\n",
       "    <tr>\n",
       "      <th>2</th>\n",
       "      <td>Cambio filtro gasoil</td>\n",
       "      <td>Sin asignar</td>\n",
       "      <td>T308</td>\n",
       "      <td>3.0</td>\n",
       "      <td>49</td>\n",
       "      <td>47</td>\n",
       "      <td>VOLVO</td>\n",
       "      <td>i6 15.37</td>\n",
       "      <td>345.0</td>\n",
       "      <td>Discrecional</td>\n",
       "      <td>Normal</td>\n",
       "      <td>Cave Talleres</td>\n",
       "      <td>9687</td>\n",
       "    </tr>\n",
       "    <tr>\n",
       "      <th>3</th>\n",
       "      <td>Potencia motor</td>\n",
       "      <td>Sin asignar</td>\n",
       "      <td>T308</td>\n",
       "      <td>3.0</td>\n",
       "      <td>49</td>\n",
       "      <td>47</td>\n",
       "      <td>VOLVO</td>\n",
       "      <td>i6 15.37</td>\n",
       "      <td>345.0</td>\n",
       "      <td>Discrecional</td>\n",
       "      <td>Normal</td>\n",
       "      <td>Cave Talleres</td>\n",
       "      <td>9687</td>\n",
       "    </tr>\n",
       "    <tr>\n",
       "      <th>4</th>\n",
       "      <td>Fallo en EDC</td>\n",
       "      <td>Sin asignar</td>\n",
       "      <td>T308</td>\n",
       "      <td>3.0</td>\n",
       "      <td>49</td>\n",
       "      <td>47</td>\n",
       "      <td>VOLVO</td>\n",
       "      <td>i6 15.37</td>\n",
       "      <td>345.0</td>\n",
       "      <td>Discrecional</td>\n",
       "      <td>Normal</td>\n",
       "      <td>Cave Talleres</td>\n",
       "      <td>9687</td>\n",
       "    </tr>\n",
       "    <tr>\n",
       "      <th>...</th>\n",
       "      <td>...</td>\n",
       "      <td>...</td>\n",
       "      <td>...</td>\n",
       "      <td>...</td>\n",
       "      <td>...</td>\n",
       "      <td>...</td>\n",
       "      <td>...</td>\n",
       "      <td>...</td>\n",
       "      <td>...</td>\n",
       "      <td>...</td>\n",
       "      <td>...</td>\n",
       "      <td>...</td>\n",
       "      <td>...</td>\n",
       "    </tr>\n",
       "    <tr>\n",
       "      <th>28669</th>\n",
       "      <td>Regeneracion filtro particulas</td>\n",
       "      <td>RODRIGUEZ</td>\n",
       "      <td>B166</td>\n",
       "      <td>5.0</td>\n",
       "      <td>7</td>\n",
       "      <td>39</td>\n",
       "      <td>CUMMINS</td>\n",
       "      <td>C10</td>\n",
       "      <td>226.0</td>\n",
       "      <td>Discrecional</td>\n",
       "      <td>Midibus</td>\n",
       "      <td>Cave Talleres</td>\n",
       "      <td>1386</td>\n",
       "    </tr>\n",
       "    <tr>\n",
       "      <th>28670</th>\n",
       "      <td>Caja cambios</td>\n",
       "      <td>Sin asignar</td>\n",
       "      <td>E660</td>\n",
       "      <td>3.0</td>\n",
       "      <td>43</td>\n",
       "      <td>5</td>\n",
       "      <td>FORD</td>\n",
       "      <td>MONDEO</td>\n",
       "      <td>265.0</td>\n",
       "      <td>TURISMO</td>\n",
       "      <td>Sin asignar</td>\n",
       "      <td>Cave Talleres</td>\n",
       "      <td>9687</td>\n",
       "    </tr>\n",
       "    <tr>\n",
       "      <th>28671</th>\n",
       "      <td>Cambio filtro gasoil</td>\n",
       "      <td>ESCRIBANO</td>\n",
       "      <td>X116</td>\n",
       "      <td>14.0</td>\n",
       "      <td>22</td>\n",
       "      <td>23</td>\n",
       "      <td>IVECO</td>\n",
       "      <td>TOURING III</td>\n",
       "      <td>331.0</td>\n",
       "      <td>Discrecional</td>\n",
       "      <td>Normal</td>\n",
       "      <td>Cave Talleres</td>\n",
       "      <td>143</td>\n",
       "    </tr>\n",
       "    <tr>\n",
       "      <th>28672</th>\n",
       "      <td>Cambiar/limpiar filtros</td>\n",
       "      <td>CARABAÑA</td>\n",
       "      <td>H117</td>\n",
       "      <td>6.0</td>\n",
       "      <td>1</td>\n",
       "      <td>71</td>\n",
       "      <td>MAN</td>\n",
       "      <td>i6 15.37</td>\n",
       "      <td>353.0</td>\n",
       "      <td>Discrecional</td>\n",
       "      <td>Normal</td>\n",
       "      <td>Cave Talleres</td>\n",
       "      <td>1430</td>\n",
       "    </tr>\n",
       "    <tr>\n",
       "      <th>28673</th>\n",
       "      <td>Precalentador</td>\n",
       "      <td>CARABAÑA</td>\n",
       "      <td>H117</td>\n",
       "      <td>6.0</td>\n",
       "      <td>1</td>\n",
       "      <td>71</td>\n",
       "      <td>MAN</td>\n",
       "      <td>i6 15.37</td>\n",
       "      <td>353.0</td>\n",
       "      <td>Discrecional</td>\n",
       "      <td>Normal</td>\n",
       "      <td>Cave Talleres</td>\n",
       "      <td>1430</td>\n",
       "    </tr>\n",
       "  </tbody>\n",
       "</table>\n",
       "<p>28674 rows × 13 columns</p>\n",
       "</div>"
      ],
      "text/plain": [
       "                             nomopera     aliasemp v_codigbus  v_edad  \\\n",
       "0                           Tacografo  Sin asignar       T305     0.0   \n",
       "1                    Toldo turisticos  Sin asignar       U205    32.0   \n",
       "2                Cambio filtro gasoil  Sin asignar       T308     3.0   \n",
       "3                      Potencia motor  Sin asignar       T308     3.0   \n",
       "4                        Fallo en EDC  Sin asignar       T308     3.0   \n",
       "...                               ...          ...        ...     ...   \n",
       "28669  Regeneracion filtro particulas    RODRIGUEZ       B166     5.0   \n",
       "28670                    Caja cambios  Sin asignar       E660     3.0   \n",
       "28671            Cambio filtro gasoil    ESCRIBANO       X116    14.0   \n",
       "28672         Cambiar/limpiar filtros     CARABAÑA       H117     6.0   \n",
       "28673                   Precalentador     CARABAÑA       H117     6.0   \n",
       "\n",
       "       ndias_ant capacidad    marca       modelo  potencia           tipo  \\\n",
       "0             18        45      MAN          SC7     353.0   Discrecional   \n",
       "1             10        81      MAN  SIN ASIGNAR     265.0  BUS TURISTICO   \n",
       "2             49        47    VOLVO     i6 15.37     345.0   Discrecional   \n",
       "3             49        47    VOLVO     i6 15.37     345.0   Discrecional   \n",
       "4             49        47    VOLVO     i6 15.37     345.0   Discrecional   \n",
       "...          ...       ...      ...          ...       ...            ...   \n",
       "28669          7        39  CUMMINS          C10     226.0   Discrecional   \n",
       "28670         43         5     FORD       MONDEO     265.0        TURISMO   \n",
       "28671         22        23    IVECO  TOURING III     331.0   Discrecional   \n",
       "28672          1        71      MAN     i6 15.37     353.0   Discrecional   \n",
       "28673          1        71      MAN     i6 15.37     353.0   Discrecional   \n",
       "\n",
       "                 subtipo         taller  count  \n",
       "0                 Normal  Cave Talleres   9687  \n",
       "1      Turistic Valencia  Cave Talleres   9687  \n",
       "2                 Normal  Cave Talleres   9687  \n",
       "3                 Normal  Cave Talleres   9687  \n",
       "4                 Normal  Cave Talleres   9687  \n",
       "...                  ...            ...    ...  \n",
       "28669            Midibus  Cave Talleres   1386  \n",
       "28670        Sin asignar  Cave Talleres   9687  \n",
       "28671             Normal  Cave Talleres    143  \n",
       "28672             Normal  Cave Talleres   1430  \n",
       "28673             Normal  Cave Talleres   1430  \n",
       "\n",
       "[28674 rows x 13 columns]"
      ]
     },
     "execution_count": 898,
     "metadata": {},
     "output_type": "execute_result"
    }
   ],
   "source": [
    "df['aliasemp'] = np.where((df['count']>=100),df['aliasemp'],'Sin asignar')\n",
    "df"
   ]
  },
  {
   "cell_type": "code",
   "execution_count": 899,
   "id": "815cce56",
   "metadata": {},
   "outputs": [
    {
     "data": {
      "text/plain": [
       "Index(['Sin asignar', 'BERMEJO', 'CARABAÑA', 'ALEJANDRO', 'RODRIGUEZ',\n",
       "       'CESAR GOMEZ', 'DEL REY', 'SERAFIN', 'GUILLERMO', 'RICARDO', 'FONT',\n",
       "       'EFRAIN', 'MIMI', 'FELIX', 'CALIXTO', 'YEVHEN', 'RAFAEL', 'ADRIAN',\n",
       "       'JUAN CARLOS', 'MIÑANA', 'ESTEVE', 'MANOLO TALLER', 'JOSE', 'FERNANDO',\n",
       "       'JAVI', 'JULIAN', 'MARTINEZ', 'JUAN JOSE', 'RUFFINO', 'IÑAKI',\n",
       "       'LLORENTE', 'ESCRIBANO', 'ALFONSO', 'CAFFARENA'],\n",
       "      dtype='object')"
      ]
     },
     "execution_count": 899,
     "metadata": {},
     "output_type": "execute_result"
    }
   ],
   "source": [
    "df['aliasemp'].value_counts().index\n",
    "\n"
   ]
  },
  {
   "cell_type": "code",
   "execution_count": 900,
   "id": "c7138594",
   "metadata": {},
   "outputs": [
    {
     "ename": "SyntaxError",
     "evalue": "invalid syntax (Temp/ipykernel_12976/1756235322.py, line 1)",
     "output_type": "error",
     "traceback": [
      "\u001b[1;36m  File \u001b[1;32m\"C:\\Users\\Dani\\AppData\\Local\\Temp/ipykernel_12976/1756235322.py\"\u001b[1;36m, line \u001b[1;32m1\u001b[0m\n\u001b[1;33m    Se grafican los mecanicos con mas de 100 reparaciones\u001b[0m\n\u001b[1;37m       ^\u001b[0m\n\u001b[1;31mSyntaxError\u001b[0m\u001b[1;31m:\u001b[0m invalid syntax\n"
     ]
    }
   ],
   "source": [
    "Se grafican los mecanicos con mas de 100 reparaciones"
   ]
  },
  {
   "cell_type": "code",
   "execution_count": null,
   "id": "7f6a0daa",
   "metadata": {},
   "outputs": [],
   "source": [
    "plt.figure(figsize=(15,20))\n",
    "limite=200\n",
    "\n",
    "x=df['aliasemp'].value_counts().index\n",
    "y=df['aliasemp'].value_counts()\n",
    "my_color = np.where(y>=limite, 'skyblue', 'red')\n",
    "plt.title((\"Mecanicos en rojo con menos reparaciones de %d\" % limite),fontsize=14, fontweight='bold')\n",
    "plt.barh(x, y,color=my_color)\n",
    "#alias.plot(kind='barh',color=my_color)\n",
    "#plt.savefig(r'C:\\Users\\Dani\\OneDrive - SOFTOUR SISTEMAS S.L\\Data_Science\\Prediccion talleres\\plots\\aliasemp.png')"
   ]
  },
  {
   "cell_type": "code",
   "execution_count": null,
   "id": "4adf6300",
   "metadata": {},
   "outputs": [],
   "source": [
    "se grafican los talleres y las reparaciones realizadas por taller"
   ]
  },
  {
   "cell_type": "code",
   "execution_count": null,
   "id": "ce2ca7b7",
   "metadata": {},
   "outputs": [],
   "source": [
    "plt.figure(figsize=(15,20))\n",
    "limite=200\n",
    "\n",
    "x=df['taller'].value_counts().index\n",
    "y=df['taller'].value_counts()\n",
    "my_color = np.where(y>=limite, 'skyblue', 'red')\n",
    "plt.title((\"Mecanicos en rojo con menos reparaciones de %d\" % limite),fontsize=14, fontweight='bold')\n",
    "plt.barh(x, y,color=my_color)\n",
    "#alias.plot(kind='barh',color=my_color)\n",
    "#plt.savefig(r'C:\\Users\\Dani\\OneDrive - SOFTOUR SISTEMAS S.L\\Data_Science\\Prediccion talleres\\plots\\aliasemp.png')"
   ]
  },
  {
   "cell_type": "code",
   "execution_count": null,
   "id": "6f1521f5",
   "metadata": {},
   "outputs": [],
   "source": [
    "df['taller'].describe()"
   ]
  },
  {
   "cell_type": "code",
   "execution_count": null,
   "id": "dbfab162",
   "metadata": {
    "scrolled": false
   },
   "outputs": [],
   "source": [
    "#indexNames = df[ (df['ndias_ant'] > 150)\n",
    "                #& (df['ndias_ant'] <= 0) ].index\n",
    "#df=df.drop(df[ (df['ndias_ant'] > 150)& (df['ndias_ant'] <= 0) ].index, inplace=True)\n",
    "\n",
    "df_drop=df[df['ndias_ant']>150].index\n",
    "df=df.drop(df_drop)\n",
    "df_drop=df[df['ndias_ant']<=0].index\n",
    "df=df.drop(df_drop)\n",
    "df=df.reset_index(drop = True)\n",
    "df"
   ]
  },
  {
   "cell_type": "code",
   "execution_count": null,
   "id": "c1482ad4",
   "metadata": {},
   "outputs": [],
   "source": []
  },
  {
   "cell_type": "markdown",
   "id": "97254bce",
   "metadata": {},
   "source": [
    "debido a que la variable a predecir tiene muchas opciones se ha decidido agrupar las operaciones de la misma indole, para poder hacer una predicción mas fiable, reduciendo así la cantidad de variable sa predecir.\n"
   ]
  },
  {
   "cell_type": "markdown",
   "id": "20a1a2d6",
   "metadata": {},
   "source": [
    "# AGRUPAMOS"
   ]
  },
  {
   "cell_type": "markdown",
   "id": "4ef5ca19",
   "metadata": {},
   "source": [
    "## SISTEMA DE REFRIGERACIÓN"
   ]
  },
  {
   "cell_type": "code",
   "execution_count": null,
   "id": "8fa0ff23",
   "metadata": {},
   "outputs": [],
   "source": [
    "df['grupopera'] = np.where(\n",
    "                        (df['nomopera'].str.contains('Bomba agua'))|\n",
    "                        (df['nomopera'].str.contains('Intercooler'))|\n",
    "                        (df['nomopera'].str.contains('Manguito/s calefaccion'))|\n",
    "                        (df['nomopera'].str.contains('Manguito/s motor'))|\n",
    "                        (df['nomopera'].str.contains('Radiador'))|  \n",
    "                        (df['nomopera'].str.contains('Termostatos'))| \n",
    "                        (df['nomopera'].str.contains('Fuga refrigerante'))| \n",
    "                        (df['nomopera'].str.contains('Presion en circuito refrigeracion'))\n",
    "                         ,'Sistema refrigeración',np.nan)"
   ]
  },
  {
   "cell_type": "markdown",
   "id": "b5233958",
   "metadata": {},
   "source": [
    "## SISTEMA DE DIRECION"
   ]
  },
  {
   "cell_type": "code",
   "execution_count": null,
   "id": "c37b032e",
   "metadata": {},
   "outputs": [],
   "source": [
    "df['grupopera'] = np.where((df['nomopera'].str.contains('Caja direccion'))|\n",
    "                           (df['nomopera'].str.contains('Fuga aceite servodireccion'))|\n",
    "                           (df['nomopera'].str.contains('Rotulas direccion'))|\n",
    "                           (df['nomopera'].str.contains('Alineado de direccion'))|\n",
    "                           (df['nomopera'].str.contains('Timoneria direccion'))\n",
    "                           ,'Sistema dirección',df['grupopera'])"
   ]
  },
  {
   "cell_type": "markdown",
   "id": "4e164a1e",
   "metadata": {},
   "source": [
    "## SISTEMA FRENOS"
   ]
  },
  {
   "cell_type": "code",
   "execution_count": null,
   "id": "c6b03a88",
   "metadata": {},
   "outputs": [],
   "source": [
    "df['grupopera'] = np.where((df['nomopera'].str.contains('Frenos 1º eje'))|\n",
    "                           (df['nomopera'].str.contains('Frenos 2º eje'))|\n",
    "                           (df['nomopera'].str.contains('Frenos 3º eje'))|\n",
    "                           (df['nomopera'].str.contains('Freno mano'))|\n",
    "                           (df['nomopera'].str.contains('Disco'))|# disco de embrague a parte separar\n",
    "                           (df['nomopera'].str.contains('Bomba freno'))\n",
    "                           ,'Sistema frenos',df['grupopera'])"
   ]
  },
  {
   "cell_type": "markdown",
   "id": "6c2f1f88",
   "metadata": {},
   "source": [
    "## SISTEMA DE ESCAPE"
   ]
  },
  {
   "cell_type": "code",
   "execution_count": null,
   "id": "da99879f",
   "metadata": {},
   "outputs": [],
   "source": [
    "df['grupopera'] = np.where((df['nomopera'].str.contains('Flexible escape'))|\n",
    "                           (df['nomopera'].str.contains('Fuga escape'))|\n",
    "                           (df['nomopera'].str.contains('Catalizador'))|\n",
    "                           (df['nomopera'].str.contains('Silencioso'))\n",
    "                           ,'Sistema de escape',df['grupopera'])"
   ]
  },
  {
   "cell_type": "markdown",
   "id": "201efc2c",
   "metadata": {},
   "source": [
    "## SISTEMA AMORTIGUACIÓN"
   ]
  },
  {
   "cell_type": "code",
   "execution_count": null,
   "id": "1fc9e863",
   "metadata": {},
   "outputs": [],
   "source": [
    "df['grupopera'] = np.where((df['nomopera'].str.contains('Regular suspension'))|\n",
    "                           (df['nomopera'].str.contains('Amortiguador 2º eje derecho'))|\n",
    "                           (df['nomopera'].str.contains('Amortiguadores 2º eje'))|\n",
    "                           (df['nomopera'].str.contains('Amortiguadores 3º eje'))|\n",
    "                           (df['nomopera'].str.contains('Tirantes/silembrocs 1º eje'))|\n",
    "                           (df['nomopera'].str.contains('Tirantes/silembrocs 2º eje'))\n",
    "                           ,'Sistema de amortiguación',df['grupopera'])"
   ]
  },
  {
   "cell_type": "markdown",
   "id": "49ebfceb",
   "metadata": {},
   "source": [
    "## SISTEMA DE ALIMENTACIÓN"
   ]
  },
  {
   "cell_type": "code",
   "execution_count": null,
   "id": "c8bc33ea",
   "metadata": {},
   "outputs": [],
   "source": [
    "df['grupopera'] = np.where((df['nomopera'].str.contains('Inyectores'))|\n",
    "                           (df['nomopera'].str.contains('Reglaje inyectores'))\n",
    "                           ,'Sistema de alimentación',df['grupopera'])"
   ]
  },
  {
   "cell_type": "markdown",
   "id": "f48901c3",
   "metadata": {},
   "source": [
    "## MOTOR"
   ]
  },
  {
   "cell_type": "code",
   "execution_count": null,
   "id": "0243f038",
   "metadata": {},
   "outputs": [],
   "source": [
    "df['grupopera'] = np.where((df['nomopera'].str.contains('Cambiar turbina/motor condensadora'))|\n",
    "                           (df['nomopera'].str.contains('Culata del compresor del motor'))|\n",
    "                           (df['nomopera'].str.contains('Fuga aceite motor'))|\n",
    "                           (df['nomopera'].str.contains('Limpiar motor'))|\n",
    "                           (df['nomopera'].str.contains('Motor'))|\n",
    "                           (df['nomopera'].str.contains('Poleas motor'))|\n",
    "                           (df['nomopera'].str.contains('Reten trasero motor'))|\n",
    "                           (df['nomopera'].str.contains('Ruido en motor'))|\n",
    "                           (df['nomopera'].str.contains('Arbol de levas'))|\n",
    "                           (df['nomopera'].str.contains('Casquillos de biela'))|\n",
    "                           (df['nomopera'].str.contains('Potencia motor'))|\n",
    "                           (df['nomopera'].str.contains('Turbo'))|\n",
    "                           (df['nomopera'].str.contains('Manguito/s admision'))|\n",
    "                           (df['nomopera'].str.contains('Tacos motor'))\n",
    "                           ,'Motor',df['grupopera'])"
   ]
  },
  {
   "cell_type": "markdown",
   "id": "34260841",
   "metadata": {},
   "source": [
    "## Precalentador"
   ]
  },
  {
   "cell_type": "code",
   "execution_count": null,
   "id": "a483e5bd",
   "metadata": {},
   "outputs": [],
   "source": [
    "df['grupopera'] = np.where((df['nomopera'].str.contains('recalentador'))\n",
    "                           ,'Precalentador',df['grupopera'])"
   ]
  },
  {
   "cell_type": "markdown",
   "id": "edbfcb5a",
   "metadata": {},
   "source": [
    "## Alternador"
   ]
  },
  {
   "cell_type": "code",
   "execution_count": null,
   "id": "f838d1e4",
   "metadata": {},
   "outputs": [],
   "source": [
    "df['grupopera'] = np.where((df['nomopera'].str.contains('Alternador'))|\n",
    "                           #(df['nomopera'].str.contains('Soporte alternador'))|\n",
    "                           (df['nomopera'].str.contains('Alternador auxiliar'))\n",
    "                           ,'Alternador',df['grupopera'])"
   ]
  },
  {
   "cell_type": "markdown",
   "id": "7ab5359d",
   "metadata": {},
   "source": [
    "## ABS/EBS"
   ]
  },
  {
   "cell_type": "code",
   "execution_count": null,
   "id": "3fb5c70b",
   "metadata": {},
   "outputs": [],
   "source": [
    "df['grupopera'] = np.where((df['nomopera'].str.contains('Fallo en ABS/EBS'))\n",
    "                           ,'ABS/EBS',df['grupopera'])"
   ]
  },
  {
   "cell_type": "markdown",
   "id": "8f654856",
   "metadata": {},
   "source": [
    "## ADBLUE"
   ]
  },
  {
   "cell_type": "code",
   "execution_count": null,
   "id": "1ad43140",
   "metadata": {},
   "outputs": [],
   "source": [
    "df['grupopera'] = np.where((df['nomopera'].str.contains('Fallo adblue'))|\n",
    "                           (df['nomopera'].str.contains('Fuga adblue'))\n",
    "                           ,'Adblue',df['grupopera'])"
   ]
  },
  {
   "cell_type": "markdown",
   "id": "0b3e8bf8",
   "metadata": {},
   "source": [
    "## BATERIAS"
   ]
  },
  {
   "cell_type": "code",
   "execution_count": null,
   "id": "2085a682",
   "metadata": {},
   "outputs": [],
   "source": [
    "df['grupopera'] = np.where((df['nomopera'].str.contains('Baterias'))|\n",
    "                           (df['nomopera'].str.contains('Carga de baterias'))\n",
    "                           ,'Baterias',df['grupopera'])"
   ]
  },
  {
   "cell_type": "markdown",
   "id": "83da066c",
   "metadata": {},
   "source": [
    "## CORREAS"
   ]
  },
  {
   "cell_type": "code",
   "execution_count": null,
   "id": "e94eec3e",
   "metadata": {},
   "outputs": [],
   "source": [
    "df['grupopera'] = np.where((df['nomopera'].str.contains('orrea'))\n",
    "                           ,'Correas',df['grupopera'])"
   ]
  },
  {
   "cell_type": "markdown",
   "id": "5385b5b9",
   "metadata": {},
   "source": [
    "## Reglaje de Válvulas"
   ]
  },
  {
   "cell_type": "code",
   "execution_count": null,
   "id": "569f5a2a",
   "metadata": {},
   "outputs": [],
   "source": [
    "df['grupopera'] = np.where((df['nomopera'].str.contains('valvula'))\n",
    "                           ,'Reglaje válvulas',df['grupopera'])"
   ]
  },
  {
   "cell_type": "markdown",
   "id": "cffd8536",
   "metadata": {},
   "source": [
    "## Filtro Particulas"
   ]
  },
  {
   "cell_type": "code",
   "execution_count": null,
   "id": "37ff9167",
   "metadata": {},
   "outputs": [],
   "source": [
    "df['grupopera'] = np.where((df['nomopera'].str.contains('iltro part'))\n",
    "                           ,'Filtro de Particulas',df['grupopera'])"
   ]
  },
  {
   "cell_type": "markdown",
   "id": "1c96c78f",
   "metadata": {},
   "source": [
    "## EDC"
   ]
  },
  {
   "cell_type": "code",
   "execution_count": null,
   "id": "1466c05d",
   "metadata": {},
   "outputs": [],
   "source": [
    "df['grupopera'] = np.where((df['nomopera'].str.contains('EDC'))\n",
    "                           ,'Fallo en EDC',df['grupopera'])"
   ]
  },
  {
   "cell_type": "markdown",
   "id": "972dff97",
   "metadata": {},
   "source": [
    "## Fuga de Aire"
   ]
  },
  {
   "cell_type": "code",
   "execution_count": null,
   "id": "1857f6e3",
   "metadata": {},
   "outputs": [],
   "source": [
    "df['grupopera'] = np.where((df['nomopera'].str.contains('Fuga de aire'))\n",
    "                           ,'Fuga de aire',df['grupopera'])"
   ]
  },
  {
   "cell_type": "markdown",
   "id": "33c0d529",
   "metadata": {},
   "source": [
    "## TURBINA MOTOR"
   ]
  },
  {
   "cell_type": "code",
   "execution_count": null,
   "id": "3f89cd1d",
   "metadata": {},
   "outputs": [],
   "source": [
    "df['grupopera'] = np.where((df['nomopera'].str.contains('turbina'))\n",
    "                           ,'Cambiar turbina/motor condensadora',df['grupopera'])"
   ]
  },
  {
   "cell_type": "markdown",
   "id": "25241687",
   "metadata": {},
   "source": [
    "## GASOIL"
   ]
  },
  {
   "cell_type": "code",
   "execution_count": null,
   "id": "1365fce4",
   "metadata": {},
   "outputs": [],
   "source": [
    "df['grupopera'] = np.where((df['nomopera'].str.contains('Deposito de gasoil'))|\n",
    "                           #(df['nomopera'].str.contains('Cambio filtro gasoil'))|\n",
    "                           (df['nomopera'].str.contains('Fuga gasoil'))\n",
    "                           ,'Gasoil',df['grupopera'])"
   ]
  },
  {
   "cell_type": "markdown",
   "id": "9976fe6c",
   "metadata": {},
   "source": [
    "## Fallo en AVS"
   ]
  },
  {
   "cell_type": "code",
   "execution_count": null,
   "id": "0c7a4230",
   "metadata": {},
   "outputs": [],
   "source": [
    "df['grupopera'] = np.where((df['nomopera'].str.contains('AVS'))\n",
    "                           ,'Fallo en AVS',df['grupopera'])"
   ]
  },
  {
   "cell_type": "markdown",
   "id": "ab5a88b5",
   "metadata": {},
   "source": [
    "## Fuelle"
   ]
  },
  {
   "cell_type": "code",
   "execution_count": null,
   "id": "bb7322ea",
   "metadata": {},
   "outputs": [],
   "source": [
    "df['grupopera'] = np.where((df['nomopera'].str.contains('Fuelle 1º eje derecho'))|\n",
    "                           (df['nomopera'].str.contains('Fuelle 1º eje izquierdo'))|\n",
    "                           (df['nomopera'].str.contains('Fuelles 2º eje'))|\n",
    "                           (df['nomopera'].str.contains('Fuelles1º eje'))\n",
    "                           ,'Fuelle',df['grupopera'])"
   ]
  },
  {
   "cell_type": "markdown",
   "id": "98748c2f",
   "metadata": {},
   "source": [
    "## Pinchazo"
   ]
  },
  {
   "cell_type": "code",
   "execution_count": null,
   "id": "ab90ac91",
   "metadata": {},
   "outputs": [],
   "source": [
    "df['grupopera'] = np.where((df['nomopera'].str.contains('pinchazo'))\n",
    "                           ,'Pinchazo',df['grupopera'])"
   ]
  },
  {
   "cell_type": "markdown",
   "id": "209c44d3",
   "metadata": {},
   "source": [
    "#### Eliminación de  operaciones no agrupadas"
   ]
  },
  {
   "cell_type": "code",
   "execution_count": null,
   "id": "b2116c77",
   "metadata": {},
   "outputs": [],
   "source": [
    "df=df[~df['grupopera'].str.contains(\"nan\")]\n",
    "df.groupby(['grupopera']).count()"
   ]
  },
  {
   "cell_type": "code",
   "execution_count": null,
   "id": "8fcc1f02",
   "metadata": {},
   "outputs": [],
   "source": [
    "df = df.drop('nomopera', 1)\n",
    "df"
   ]
  },
  {
   "cell_type": "code",
   "execution_count": null,
   "id": "dd36840c",
   "metadata": {},
   "outputs": [],
   "source": [
    "df.shape"
   ]
  },
  {
   "cell_type": "code",
   "execution_count": null,
   "id": "5fbeefd5",
   "metadata": {
    "scrolled": true
   },
   "outputs": [],
   "source": [
    "df= df[['grupopera','marca','modelo','v_codigbus','tipo','v_edad','capacidad','ndias_ant','subtipo','potencia','aliasemp','taller']]\n",
    "df"
   ]
  },
  {
   "cell_type": "markdown",
   "id": "4b26300a",
   "metadata": {},
   "source": [
    "# Sistema refrigreración"
   ]
  },
  {
   "cell_type": "code",
   "execution_count": null,
   "id": "79c3f7b7",
   "metadata": {},
   "outputs": [],
   "source": [
    "target='Sistema refrigeración'\n",
    "df['target'] = np.where((df['grupopera'].str.contains(target)),1,0)\n",
    "df"
   ]
  },
  {
   "cell_type": "code",
   "execution_count": null,
   "id": "986b30de",
   "metadata": {},
   "outputs": [],
   "source": [
    "df =df.dropna()\n",
    "df.reset_index(drop = True, inplace = True)"
   ]
  },
  {
   "cell_type": "code",
   "execution_count": null,
   "id": "454770ff",
   "metadata": {
    "scrolled": true
   },
   "outputs": [],
   "source": [
    "df"
   ]
  },
  {
   "cell_type": "code",
   "execution_count": null,
   "id": "1112352f",
   "metadata": {},
   "outputs": [],
   "source": [
    "df"
   ]
  },
  {
   "cell_type": "code",
   "execution_count": null,
   "id": "f6ed55a8",
   "metadata": {},
   "outputs": [],
   "source": [
    "import category_encoders as ce\n",
    "df_cat=df.select_dtypes(include=np.object)\n",
    "cols_cat=df_cat.columns\n",
    "encoder = ce.OrdinalEncoder(cols=['marca','tipo','modelo','v_codigbus','subtipo','aliasemp','taller'])\n",
    "df_enc = encoder.fit_transform(df_cat)\n",
    "df_enc"
   ]
  },
  {
   "cell_type": "code",
   "execution_count": null,
   "id": "a64d902d",
   "metadata": {},
   "outputs": [],
   "source": []
  },
  {
   "cell_type": "code",
   "execution_count": null,
   "id": "5eb716db",
   "metadata": {},
   "outputs": [],
   "source": []
  },
  {
   "cell_type": "code",
   "execution_count": null,
   "id": "f49eacb9",
   "metadata": {},
   "outputs": [],
   "source": [
    "df_num=df.select_dtypes(include=np.number)\n",
    "cols_num=df_num.columns\n",
    "scaler = MinMaxScaler()\n",
    "scaled_df = scaler.fit_transform(df_num)\n",
    "scaled_df = pd.DataFrame(scaled_df, columns=cols_num)"
   ]
  },
  {
   "cell_type": "code",
   "execution_count": null,
   "id": "419d85d2",
   "metadata": {},
   "outputs": [],
   "source": [
    "df_num"
   ]
  },
  {
   "cell_type": "code",
   "execution_count": null,
   "id": "8d8fde22",
   "metadata": {},
   "outputs": [],
   "source": [
    "df_norm=pd.concat([df_enc, scaled_df], axis=1,)\n",
    "df_norm.shape"
   ]
  },
  {
   "cell_type": "code",
   "execution_count": null,
   "id": "cc43cfe5",
   "metadata": {},
   "outputs": [],
   "source": [
    "df_norm"
   ]
  },
  {
   "cell_type": "code",
   "execution_count": null,
   "id": "b81af6d1",
   "metadata": {},
   "outputs": [],
   "source": [
    "df_norm = df_norm.drop('grupopera', 1)\n",
    "df_norm"
   ]
  },
  {
   "cell_type": "code",
   "execution_count": null,
   "id": "48e84562",
   "metadata": {},
   "outputs": [],
   "source": []
  },
  {
   "cell_type": "code",
   "execution_count": null,
   "id": "183c022c",
   "metadata": {},
   "outputs": [],
   "source": [
    "\n"
   ]
  },
  {
   "cell_type": "code",
   "execution_count": null,
   "id": "9a707268",
   "metadata": {},
   "outputs": [],
   "source": [
    "df_taller = pd.DataFrame({'taller':pd.unique(df.taller), 'codigo':pd.unique(df_norm.taller)})\n",
    "df_taller"
   ]
  },
  {
   "cell_type": "code",
   "execution_count": null,
   "id": "17fd4201",
   "metadata": {},
   "outputs": [],
   "source": [
    "df_aliasemp = pd.DataFrame({'aliasemp':pd.unique(df.aliasemp), 'codigo':pd.unique(df_norm.aliasemp)})\n",
    "df_aliasemp"
   ]
  },
  {
   "cell_type": "code",
   "execution_count": null,
   "id": "0b1992b9",
   "metadata": {},
   "outputs": [],
   "source": [
    "df_v_codigbus = pd.DataFrame({'v_codigbus':pd.unique(df.v_codigbus), 'codigo':pd.unique(df_norm.v_codigbus)})\n",
    "df_v_codigbus"
   ]
  },
  {
   "cell_type": "code",
   "execution_count": null,
   "id": "0585b005",
   "metadata": {},
   "outputs": [],
   "source": [
    "df_marca = pd.DataFrame({'Marca':pd.unique(df.marca), 'codigo':pd.unique(df_norm.marca)})\n",
    "df_marca "
   ]
  },
  {
   "cell_type": "code",
   "execution_count": null,
   "id": "6fd50e88",
   "metadata": {},
   "outputs": [],
   "source": [
    "df_modelo = pd.DataFrame({'modelo':pd.unique(df.modelo), 'codigo':pd.unique(df_norm.modelo)})\n",
    "df_modelo "
   ]
  },
  {
   "cell_type": "code",
   "execution_count": null,
   "id": "f9192c27",
   "metadata": {},
   "outputs": [],
   "source": [
    "df_tipo = pd.DataFrame({'tipo':pd.unique(df.tipo), 'codigo':pd.unique(df_norm.tipo)})\n",
    "df_tipo "
   ]
  },
  {
   "cell_type": "code",
   "execution_count": null,
   "id": "1cb4a2d8",
   "metadata": {},
   "outputs": [],
   "source": [
    "df_subtipo = pd.DataFrame({'subtipo':pd.unique(df.subtipo), 'codigo':pd.unique(df_norm.subtipo)})\n",
    "df_subtipo"
   ]
  },
  {
   "cell_type": "code",
   "execution_count": null,
   "id": "e958accb",
   "metadata": {},
   "outputs": [],
   "source": [
    "df_modelo = pd.DataFrame({'modelo':pd.unique(df.modelo), 'codigo':pd.unique(df_norm.modelo)})\n",
    "df_modelo"
   ]
  },
  {
   "cell_type": "code",
   "execution_count": null,
   "id": "d6102763",
   "metadata": {},
   "outputs": [],
   "source": [
    "df_target1=df_norm[df['target']==1]\n",
    "df_target0=df_norm[df['target']==0]"
   ]
  },
  {
   "cell_type": "code",
   "execution_count": null,
   "id": "706c9d10",
   "metadata": {},
   "outputs": [],
   "source": [
    "X_train_t, X_test_t, y_train_t, y_test_t = train_test_split(\n",
    "                                        #df_target0.drop(columns = \"target\"),\n",
    "                                        df_target0,\n",
    "                                        df_target0['target'],\n",
    "                                        test_size=0.83,\n",
    "                                        random_state = 123\n",
    "                                    )"
   ]
  },
  {
   "cell_type": "code",
   "execution_count": null,
   "id": "e1bafce7",
   "metadata": {},
   "outputs": [],
   "source": [
    "X_train_t"
   ]
  },
  {
   "cell_type": "code",
   "execution_count": null,
   "id": "bc3873b9",
   "metadata": {},
   "outputs": [],
   "source": [
    "df_norm = pd.concat([df_target1,X_train_t])\n",
    "df_norm.reset_index(drop = True, inplace = True)\n",
    "df_norm['target']. value_counts ()"
   ]
  },
  {
   "cell_type": "code",
   "execution_count": null,
   "id": "b5c543ed",
   "metadata": {},
   "outputs": [],
   "source": []
  },
  {
   "cell_type": "code",
   "execution_count": null,
   "id": "4a263518",
   "metadata": {},
   "outputs": [],
   "source": []
  },
  {
   "cell_type": "code",
   "execution_count": null,
   "id": "e79c7c94",
   "metadata": {},
   "outputs": [],
   "source": []
  },
  {
   "cell_type": "markdown",
   "id": "91a5a6b2",
   "metadata": {
    "scrolled": true
   },
   "source": [
    "###### potencias= pd.unique(df.potencia)\n",
    "potencias= list(potencias)\n",
    "sorted(potencias)\n",
    "len(potencias)\n"
   ]
  },
  {
   "cell_type": "code",
   "execution_count": null,
   "id": "04a1c334",
   "metadata": {},
   "outputs": [],
   "source": [
    "hist_mean= df_norm.hist(bins=20,figsize=(15,10),grid=False, color='teal')"
   ]
  },
  {
   "cell_type": "code",
   "execution_count": null,
   "id": "4194e554",
   "metadata": {},
   "outputs": [],
   "source": []
  },
  {
   "cell_type": "code",
   "execution_count": null,
   "id": "c5147b0f",
   "metadata": {},
   "outputs": [],
   "source": [
    "plt.figure(figsize=(15,10))\n",
    "sns.set(style='darkgrid')\n",
    "\n",
    "sns.countplot(y=\"target\",data=df_norm)\n",
    "\n",
    "plt.xlabel('Cantidad de observaciones') "
   ]
  },
  {
   "cell_type": "code",
   "execution_count": null,
   "id": "6219d1b3",
   "metadata": {},
   "outputs": [],
   "source": [
    "df_norm['target']. value_counts ()"
   ]
  },
  {
   "cell_type": "code",
   "execution_count": null,
   "id": "bb4fd7ce",
   "metadata": {},
   "outputs": [],
   "source": []
  },
  {
   "cell_type": "code",
   "execution_count": null,
   "id": "cbf6b53e",
   "metadata": {},
   "outputs": [],
   "source": []
  },
  {
   "cell_type": "code",
   "execution_count": null,
   "id": "a449785b",
   "metadata": {},
   "outputs": [],
   "source": []
  },
  {
   "cell_type": "code",
   "execution_count": null,
   "id": "e9c39f95",
   "metadata": {},
   "outputs": [],
   "source": [
    "df.ndias_ant.describe()"
   ]
  },
  {
   "cell_type": "code",
   "execution_count": null,
   "id": "369e57c8",
   "metadata": {},
   "outputs": [],
   "source": [
    "df.describe()"
   ]
  },
  {
   "cell_type": "markdown",
   "id": "b2a467c1",
   "metadata": {},
   "source": [
    "#df[df['nomopera'].str.contains(\"Caja\")].groupby(['nomopera']).count()\n",
    "indexNames = df[ (df['ndias_ant'] > 150)\n",
    "                & (df['ndias_ant'] <= 0) ].index\n",
    "df.drop(indexNames , inplace=True)\n",
    "\n",
    "df[df['ndias_ant']>150].hist(bins=20,figsize=(15,10),grid=False, color='teal')"
   ]
  },
  {
   "cell_type": "code",
   "execution_count": null,
   "id": "7df86cc8",
   "metadata": {},
   "outputs": [],
   "source": []
  },
  {
   "cell_type": "code",
   "execution_count": null,
   "id": "ef4c7186",
   "metadata": {
    "scrolled": true
   },
   "outputs": [],
   "source": [
    "plt.figure(figsize=(15,5))\n",
    "plt.xlabel('repetitividad')\n",
    "#plt.xticks(np.arange(0, 11, step=1)) #change from 0-based array index to 1-based human-readable label\n",
    "plt.ylabel('Nº de días')\n",
    "df.ndias_ant.plot()"
   ]
  },
  {
   "cell_type": "code",
   "execution_count": null,
   "id": "d5d57628",
   "metadata": {},
   "outputs": [],
   "source": []
  },
  {
   "cell_type": "code",
   "execution_count": null,
   "id": "36aed0c3",
   "metadata": {},
   "outputs": [],
   "source": [
    "fs1 = FeatureSelector(data = df_norm, labels = df_enc.columns)\n",
    "fs1.identify_missing(missing_threshold=0.8)"
   ]
  },
  {
   "cell_type": "code",
   "execution_count": null,
   "id": "13d3d52a",
   "metadata": {},
   "outputs": [],
   "source": [
    "fs1.plot_missing()"
   ]
  },
  {
   "cell_type": "code",
   "execution_count": null,
   "id": "36c34a15",
   "metadata": {},
   "outputs": [],
   "source": [
    "round(df.isna().sum() * 100 / len(df),2)"
   ]
  },
  {
   "cell_type": "code",
   "execution_count": null,
   "id": "b979bf64",
   "metadata": {},
   "outputs": [],
   "source": []
  },
  {
   "cell_type": "code",
   "execution_count": null,
   "id": "95c20bdb",
   "metadata": {},
   "outputs": [],
   "source": [
    "fs1.identify_collinear(correlation_threshold=0.8)"
   ]
  },
  {
   "cell_type": "code",
   "execution_count": null,
   "id": "008a438d",
   "metadata": {
    "scrolled": false
   },
   "outputs": [],
   "source": [
    "collinear_features = fs1.ops['collinear']\n",
    "collinear=fs1.record_collinear\n",
    "collinear.sort_values(by='corr_value', ascending=False)"
   ]
  },
  {
   "cell_type": "code",
   "execution_count": null,
   "id": "522c810e",
   "metadata": {},
   "outputs": [],
   "source": []
  },
  {
   "cell_type": "code",
   "execution_count": null,
   "id": "e2b3c2e2",
   "metadata": {},
   "outputs": [],
   "source": [
    "fs1.plot_collinear(plot_all=True)\n",
    "plt.xticks(rotation=45)\n",
    "plt.yticks(rotation=1)"
   ]
  },
  {
   "cell_type": "code",
   "execution_count": null,
   "id": "d682ea96",
   "metadata": {
    "scrolled": false
   },
   "outputs": [],
   "source": [
    "f,ax=plt.subplots(figsize=(15,10))\n",
    "plt.yticks(rotation=90)\n",
    "sns.heatmap(df_norm.corr(),annot=True,linewidths=.10,fmt='.2f',cmap='icefire', ax=ax)#cmap='YlGnBu', ax=ax)"
   ]
  },
  {
   "cell_type": "markdown",
   "id": "1b02845d",
   "metadata": {},
   "source": [
    "# Análisis de componentes principales"
   ]
  },
  {
   "cell_type": "code",
   "execution_count": null,
   "id": "4b686b76",
   "metadata": {
    "scrolled": true
   },
   "outputs": [],
   "source": [
    "df_feat = np.transpose(df_norm)\n",
    "df_feat=df_feat.drop('target', 0)"
   ]
  },
  {
   "cell_type": "code",
   "execution_count": null,
   "id": "be66a36e",
   "metadata": {},
   "outputs": [],
   "source": [
    "df_feat.index"
   ]
  },
  {
   "cell_type": "code",
   "execution_count": null,
   "id": "18de9765",
   "metadata": {},
   "outputs": [],
   "source": [
    "names =  df_feat.index\n",
    "names"
   ]
  },
  {
   "cell_type": "code",
   "execution_count": null,
   "id": "44381fd5",
   "metadata": {},
   "outputs": [],
   "source": [
    "\n",
    "from sklearn.decomposition import PCA\n",
    "pca = PCA().fit(df_feat)\n",
    "\n",
    "\n",
    "plt.rcParams[\"figure.figsize\"] = (12,6)\n",
    "\n",
    "fig, ax = plt.subplots(figsize=(10,5))\n",
    "xi = np.arange(1, 12, step=1)\n",
    "y = np.cumsum(pca.explained_variance_ratio_)\n",
    "\n",
    "#plt.figure(figsize=(20,10))\n",
    "plt.ylim(0.0,1.1)\n",
    "plt.plot(xi, y, marker='o', linestyle='--', color='b')\n",
    "\n",
    "plt.xlabel('Number of Components')\n",
    "plt.xticks(np.arange(0, 11, step=1)) #change from 0-based array index to 1-based human-readable label\n",
    "plt.ylabel('Cumulative variance (%)')\n",
    "plt.title('The number of components needed to explain variance')\n",
    "\n",
    "plt.axhline(y=0.99, color='r', linestyle='-')\n",
    "plt.text(0.5, 0.85, '99% cut-off threshold', color = 'red', fontsize=16)\n",
    "\n",
    "ax.grid(axis='x')\n",
    "\n",
    "plt.show()"
   ]
  },
  {
   "cell_type": "code",
   "execution_count": null,
   "id": "fbceccc3",
   "metadata": {},
   "outputs": [],
   "source": []
  },
  {
   "cell_type": "code",
   "execution_count": null,
   "id": "f2b88dcf",
   "metadata": {
    "scrolled": false
   },
   "outputs": [],
   "source": [
    "from sklearn import preprocessing \n",
    "min_max_scaler = preprocessing.MinMaxScaler()\n",
    "features_norm = min_max_scaler.fit_transform(df_feat)\n",
    "\n",
    "\n",
    "\n",
    "#1.2. Principal Component Analysis\n",
    "from sklearn.decomposition import PCA\n",
    "estimator = PCA (n_components = 3)\n",
    "X_pca = estimator.fit_transform(features_norm)\n",
    "print(\"Variance Ratio: \", estimator.explained_variance_ratio_) \n",
    "\n",
    "\n",
    "import matplotlib.pyplot as plt\n",
    "fig, ax = plt.subplots(figsize=(15,8))\n",
    "for i in range(len(X_pca)):\n",
    "    plt.text(X_pca[i][0], X_pca[i][1], names[i]) \n",
    "\n",
    "\n",
    "plt.xlim(-20, 60)\n",
    "plt.ylim(-15, 30)\n",
    "ax.grid(True)\n",
    "fig.tight_layout()\n",
    "plt.show()"
   ]
  },
  {
   "cell_type": "markdown",
   "id": "30afe324",
   "metadata": {},
   "source": [
    "# Clustering jerárquico"
   ]
  },
  {
   "cell_type": "code",
   "execution_count": null,
   "id": "da8071cc",
   "metadata": {},
   "outputs": [],
   "source": [
    "from scipy import cluster\n",
    "import sklearn.neighbors\n",
    "dist = sklearn.neighbors.DistanceMetric.get_metric('euclidean')\n",
    "matdist= dist.pairwise(features_norm)\n",
    "\n",
    "\n",
    "# 3.1.1 Visualization\n",
    "import seaborn as sns; sns.set()\n",
    "plt.figure(figsize=(10,5))\n",
    "ax = sns.heatmap(matdist,vmin=0, vmax=1, yticklabels = names, xticklabels = names)"
   ]
  },
  {
   "cell_type": "code",
   "execution_count": null,
   "id": "56cb6cd1",
   "metadata": {},
   "outputs": [],
   "source": [
    "# 3. Building the Dendrogram\t\n",
    "# http://docs.scipy.org/doc/scipy/reference/generated/scipy.cluster.hierarchy.linkage.html#scipy.cluster.hierarchy.linkage\n",
    "clusters = cluster.hierarchy.linkage(matdist, method = 'single')\n",
    "# http://docs.scipy.org/doc/scipy-0.14.0/reference/generated/scipy.cluster.hierarchy.dendrogram.html\n",
    "plt.figure(figsize=(15,5))\n",
    "cluster.hierarchy.dendrogram(clusters, color_threshold = 8, labels = names , leaf_rotation=90)\n",
    "plt.show()"
   ]
  },
  {
   "cell_type": "code",
   "execution_count": null,
   "id": "6f6d32e6",
   "metadata": {},
   "outputs": [],
   "source": [
    "# 3. Building the Dendrogram\t\n",
    "# http://docs.scipy.org/doc/scipy/reference/generated/scipy.cluster.hierarchy.linkage.html#scipy.cluster.hierarchy.linkage\n",
    "# clusters = cluster.hierarchy.linkage(matdist, method = 'ward')\n",
    "# http://docs.scipy.org/doc/scipy-0.14.0/reference/generated/scipy.cluster.hierarchy.dendrogram.html\n",
    "# plt.figure(figsize=(15,5))\n",
    "# cluster.hierarchy.dendrogram(clusters, color_threshold = 20, labels = names , leaf_rotation=90)\n",
    "# plt.show()"
   ]
  },
  {
   "cell_type": "code",
   "execution_count": null,
   "id": "5f0e559c",
   "metadata": {},
   "outputs": [],
   "source": [
    "cut = 8 # !!!! ad-hoc\n",
    "labels = cluster.hierarchy.fcluster(clusters, cut , criterion = 'distance')\n",
    "\n",
    "labels"
   ]
  },
  {
   "cell_type": "code",
   "execution_count": null,
   "id": "42ac75f4",
   "metadata": {},
   "outputs": [],
   "source": [
    "#plotting orginal points with color related to label\n",
    "plt.figure(figsize=(15,5))\n",
    "plt.scatter(X_pca[:,0], X_pca[:,1], c=labels,s=20,cmap='rainbow')\n",
    "for i in range(len(X_pca)):\n",
    "    plt.text(X_pca[i][0], X_pca[i][1], names[i]) \n",
    "\n",
    "\n",
    "plt.grid()\n",
    "plt.show()"
   ]
  },
  {
   "cell_type": "code",
   "execution_count": null,
   "id": "119dcbf7",
   "metadata": {},
   "outputs": [],
   "source": [
    "from sklearn.decomposition import PCA\n",
    "pca = PCA().fit(df_norm.drop('target', 1))\n",
    "\n",
    "\n",
    "plt.rcParams[\"figure.figsize\"] = (12,6)\n",
    "\n",
    "fig, ax = plt.subplots(figsize=(10,5))\n",
    "xi = np.arange(1, 12, step=1)\n",
    "y = np.cumsum(pca.explained_variance_ratio_)\n",
    "\n",
    "#plt.figure(figsize=(20,10))\n",
    "plt.ylim(0.0,1.1)\n",
    "plt.plot(xi, y, marker='o', linestyle='--', color='b')\n",
    "\n",
    "plt.xlabel('Number of Components')\n",
    "plt.xticks(np.arange(0, 11, step=1)) #change from 0-based array index to 1-based human-readable label\n",
    "plt.ylabel('Cumulative variance (%)')\n",
    "plt.title('The number of components needed to explain variance')\n",
    "\n",
    "plt.axhline(y=0.99, color='r', linestyle='-')\n",
    "plt.text(0.5, 0.85, '99% cut-off threshold', color = 'red', fontsize=16)\n",
    "\n",
    "ax.grid(axis='x')\n",
    "\n",
    "plt.show()"
   ]
  },
  {
   "cell_type": "code",
   "execution_count": null,
   "id": "49ce861a",
   "metadata": {},
   "outputs": [],
   "source": []
  },
  {
   "cell_type": "code",
   "execution_count": null,
   "id": "d53ab6f3",
   "metadata": {},
   "outputs": [],
   "source": []
  },
  {
   "cell_type": "code",
   "execution_count": null,
   "id": "0a9c040d",
   "metadata": {},
   "outputs": [],
   "source": [
    "names=df_norm['target']"
   ]
  },
  {
   "cell_type": "code",
   "execution_count": null,
   "id": "c8fbc682",
   "metadata": {},
   "outputs": [],
   "source": [
    "from sklearn import preprocessing \n",
    "min_max_scaler = preprocessing.MinMaxScaler()\n",
    "features_norm = min_max_scaler.fit_transform(df_norm.drop('target', 1))\n",
    "\n",
    "\n",
    "\n",
    "#1.2. Principal Component Analysis\n",
    "from sklearn.decomposition import PCA\n",
    "estimator = PCA (n_components = 8)\n",
    "X_pca = estimator.fit_transform(features_norm)\n",
    "print(\"Variance Ratio: \", estimator.explained_variance_ratio_) \n",
    "\n",
    "\n",
    "import matplotlib.pyplot as plt\n",
    "fig, ax = plt.subplots(figsize=(15,8))\n",
    "for i in range(len(X_pca)):\n",
    "    plt.text(X_pca[i][0], X_pca[i][2], names[i]) \n",
    "\n",
    "\n",
    "plt.xlim(-0.5, 1.5)\n",
    "plt.ylim(-0.75, 1)\n",
    "ax.grid(True)\n",
    "fig.tight_layout()\n",
    "plt.show()"
   ]
  },
  {
   "cell_type": "code",
   "execution_count": null,
   "id": "1cffe6e2",
   "metadata": {},
   "outputs": [],
   "source": []
  },
  {
   "cell_type": "code",
   "execution_count": null,
   "id": "0d17bceb",
   "metadata": {},
   "outputs": [],
   "source": []
  },
  {
   "cell_type": "code",
   "execution_count": null,
   "id": "91f97c3b",
   "metadata": {},
   "outputs": [],
   "source": []
  },
  {
   "cell_type": "code",
   "execution_count": null,
   "id": "60bec920",
   "metadata": {},
   "outputs": [],
   "source": []
  },
  {
   "cell_type": "code",
   "execution_count": null,
   "id": "610086a2",
   "metadata": {},
   "outputs": [],
   "source": [
    "from scipy import cluster\n",
    "import sklearn.neighbors\n",
    "dist = sklearn.neighbors.DistanceMetric.get_metric('euclidean')\n",
    "matdist= dist.pairwise(features_norm)\n",
    "minPts=10"
   ]
  },
  {
   "cell_type": "markdown",
   "id": "57df1a7b",
   "metadata": {
    "scrolled": true
   },
   "source": [
    "# DBSCAN"
   ]
  },
  {
   "cell_type": "code",
   "execution_count": null,
   "id": "9a6b9c8f",
   "metadata": {},
   "outputs": [],
   "source": [
    "\n",
    "\n",
    "from sklearn.neighbors import kneighbors_graph\n",
    "A = kneighbors_graph(features_norm, minPts, include_self=False)\n",
    "Ar = A.toarray()\n",
    "\n",
    "seq = []\n",
    "for i,s in enumerate(features_norm):\n",
    "    for j in range(len(features_norm)):\n",
    "        if Ar[i][j] != 0:\n",
    "            seq.append(matdist[i][j])\n",
    "            \n",
    "seq.sort()\n",
    "# establecer intervalo ejes\n",
    "fig = plt.figure()\n",
    "ax = fig.gca()\n",
    "ax.set_xticks(np.arange(0, 50000, 10000))\n",
    "ax.set_yticks(np.arange(0, 1.5, 0.1))\n",
    "\n",
    "plt.plot(seq)\n",
    "plt.xticks(rotation=45)\n",
    "\n",
    "plt.show()"
   ]
  },
  {
   "cell_type": "code",
   "execution_count": null,
   "id": "80637476",
   "metadata": {
    "scrolled": true
   },
   "outputs": [],
   "source": [
    "from sklearn.cluster import DBSCAN\n",
    "\n",
    "for eps in np.arange(0.4, 0.8, 0.01):\n",
    "  db = DBSCAN(eps, min_samples=minPts).fit(features_norm)\n",
    "  core_samples_mask = np.zeros_like(db.labels_, dtype=bool)\n",
    "  core_samples_mask[db.core_sample_indices_] = True\n",
    "  labels = db.labels_\n",
    "  n_clusters_ = len(set(labels)) - (1 if -1 in labels else 0)\n",
    "  n_outliers = list(labels).count(-1)\n",
    "  print (\"%6.2f, %d, %d\" % (eps, n_clusters_, n_outliers))\n",
    "  \n",
    "#labels"
   ]
  },
  {
   "cell_type": "code",
   "execution_count": null,
   "id": "61ef5ac8",
   "metadata": {},
   "outputs": [],
   "source": [
    "db = DBSCAN(eps=0.62, min_samples=minPts).fit(features_norm)\n",
    "labels = db.labels_\n",
    "labels"
   ]
  },
  {
   "cell_type": "code",
   "execution_count": null,
   "id": "c01fcac5",
   "metadata": {},
   "outputs": [],
   "source": [
    "labels[labels==2] = 4\n",
    "labels[labels==1] = 3\n",
    "labels[labels==0] = 2\n",
    "labels[labels==-1] = 1\n",
    "\n"
   ]
  },
  {
   "cell_type": "code",
   "execution_count": null,
   "id": "ded75391",
   "metadata": {},
   "outputs": [],
   "source": [
    "#plotting orginal points with color related to label\n",
    "plt.figure(figsize=(15,8))\n",
    "plt.scatter(X_pca[:,0], X_pca[:,1], c=labels,s=50, cmap='rainbow')\n",
    "for i in range(len(X_pca)):\n",
    "    plt.text(X_pca[i][0], X_pca[i][1], labels[i]) \n",
    "plt.grid()\n",
    "plt.show()"
   ]
  },
  {
   "cell_type": "code",
   "execution_count": null,
   "id": "a2dc1552",
   "metadata": {},
   "outputs": [],
   "source": []
  },
  {
   "cell_type": "code",
   "execution_count": null,
   "id": "52bf0797",
   "metadata": {},
   "outputs": [],
   "source": [
    "df_norm['DBSCAN_cluster']= labels"
   ]
  },
  {
   "cell_type": "markdown",
   "id": "9d8a9fcd",
   "metadata": {},
   "source": [
    "# KMEANS"
   ]
  },
  {
   "cell_type": "code",
   "execution_count": null,
   "id": "db8c52ea",
   "metadata": {},
   "outputs": [],
   "source": []
  },
  {
   "cell_type": "code",
   "execution_count": null,
   "id": "bd96e0aa",
   "metadata": {},
   "outputs": [],
   "source": [
    "from sklearn.cluster import KMeans\n",
    "\n",
    "\n",
    "wcss=[]\n",
    "for i in range(1,15):\n",
    "    kmeans=KMeans(n_clusters=i, init='k-means++',random_state=123)\n",
    "    kmeans.fit(features_norm)\n",
    "    wcss.append(kmeans.inertia_)\n",
    "\n",
    "plt.plot(range(1,15),wcss)\n",
    "plt.title('The Elbow Method')\n",
    "plt.xlabel('Number of Clusters')\n",
    "plt.ylabel('Within-Cluster Sum of Squares')\n",
    "plt.show()"
   ]
  },
  {
   "cell_type": "code",
   "execution_count": null,
   "id": "d7753a00",
   "metadata": {},
   "outputs": [],
   "source": [
    "clusterer = KMeans(n_clusters=4, random_state=123)\n",
    "cluster_labels = clusterer.fit_predict(features_norm)\n",
    "print(cluster_labels)"
   ]
  },
  {
   "cell_type": "code",
   "execution_count": null,
   "id": "93c7477e",
   "metadata": {
    "scrolled": false
   },
   "outputs": [],
   "source": [
    "from sklearn.metrics import silhouette_samples, silhouette_score\n",
    "import matplotlib.cm as cm\n",
    "\n",
    "range_n_clusters = [2, 3, 4, 5, 6]\n",
    "for n_clusters in range_n_clusters:\n",
    "    # Create a subplot with 1 row and 2 columns\n",
    "    fig, (ax1, ax2) = plt.subplots(1, 2)\n",
    "    fig.set_size_inches(18, 7)\n",
    "\n",
    "    # The 1st subplot is the silhouette plot\n",
    "    # The silhouette coefficient can range from -1, 1 but in this example all\n",
    "    # lie within [-0.1, 1]\n",
    "    ax1.set_xlim([-0.1, 1])\n",
    "    # The (n_clusters+1)*10 is for inserting blank space between silhouette\n",
    "    # plots of individual clusters, to demarcate them clearly.\n",
    "    ax1.set_ylim([0, len(features_norm) + (n_clusters + 1) * 10])\n",
    "\n",
    "    # Initialize the clusterer with n_clusters value and a random generator\n",
    "    # seed of 10 for reproducibility.\n",
    "    clusterer = KMeans(n_clusters=n_clusters, random_state=10)\n",
    "    cluster_labels = clusterer.fit_predict(features_norm)\n",
    "\n",
    "    # The silhouette_score gives the average value for all the samples.\n",
    "    # This gives a perspective into the density and separation of the formed\n",
    "    # clusters\n",
    "    silhouette_avg = silhouette_score(features_norm, cluster_labels)\n",
    "    print(\"For n_clusters =\", n_clusters,\n",
    "          \"The average silhouette_score is :\", silhouette_avg)\n",
    "\n",
    "    # Compute the silhouette scores for each sample\n",
    "    sample_silhouette_values = silhouette_samples(features_norm, cluster_labels)\n",
    "\n",
    "    y_lower = 10\n",
    "    for i in range(n_clusters):\n",
    "        # Aggregate the silhouette scores for samples belonging to\n",
    "        # cluster i, and sort them\n",
    "        ith_cluster_silhouette_values = \\\n",
    "            sample_silhouette_values[cluster_labels == i]\n",
    "\n",
    "        ith_cluster_silhouette_values.sort()\n",
    "\n",
    "        size_cluster_i = ith_cluster_silhouette_values.shape[0]\n",
    "        y_upper = y_lower + size_cluster_i\n",
    "\n",
    "        color = cm.nipy_spectral(float(i) / n_clusters)\n",
    "        ax1.fill_betweenx(np.arange(y_lower, y_upper),\n",
    "                          0, ith_cluster_silhouette_values,\n",
    "                          facecolor=color, edgecolor=color, alpha=0.7)\n",
    "\n",
    "        # Label the silhouette plots with their cluster numbers at the middle\n",
    "        ax1.text(-0.05, y_lower + 0.5 * size_cluster_i, str(i))\n",
    "\n",
    "        # Compute the new y_lower for next plot\n",
    "        y_lower = y_upper + 10  # 10 for the 0 samples\n",
    "\n",
    "    ax1.set_title(\"The silhouette plot for the various clusters.\")\n",
    "    ax1.set_xlabel(\"The silhouette coefficient values\")\n",
    "    ax1.set_ylabel(\"Cluster label\")\n",
    "\n",
    "    # The vertical line for average silhouette score of all the values\n",
    "    ax1.axvline(x=silhouette_avg, color=\"red\", linestyle=\"--\")\n",
    "\n",
    "    ax1.set_yticks([])  # Clear the yaxis labels / ticks\n",
    "    ax1.set_xticks([-0.1, 0, 0.2, 0.4, 0.6, 0.8, 1])\n",
    "\n",
    "    # 2nd Plot showing the actual clusters formed\n",
    "    colors = cm.nipy_spectral(cluster_labels.astype(float) / n_clusters)\n",
    "    ax2.scatter(X_pca[:, 0], X_pca[:, 1], marker='.', s=30, lw=0, alpha=0.7,\n",
    "                c=colors, edgecolor='k')\n",
    "\n",
    "    # Labeling the clusters\n",
    "    centers = clusterer.cluster_centers_\n",
    "    # Draw white circles at cluster centers\n",
    "    ax2.scatter(centers[:, 0], centers[:, 1], marker='o',\n",
    "                c=\"white\", alpha=1, s=200, edgecolor='k')\n",
    "\n",
    "    for i, c in enumerate(centers):\n",
    "        ax2.scatter(c[0], c[1], marker='$%d$' % i, alpha=1,\n",
    "                    s=50, edgecolor='k')\n",
    "\n",
    "    ax2.set_title(\"The visualization of the clustered data.\")\n",
    "    ax2.set_xlabel(\"Feature space for the 1st feature\")\n",
    "    ax2.set_ylabel(\"Feature space for the 2nd feature\")\n",
    "\n",
    "    plt.suptitle((\"Silhouette analysis for KMeans clustering on sample data \"\n",
    "                  \"with n_clusters = %d\" % n_clusters),\n",
    "                 fontsize=14, fontweight='bold')\n",
    "\n",
    "plt.show()"
   ]
  },
  {
   "cell_type": "code",
   "execution_count": null,
   "id": "0057fc34",
   "metadata": {},
   "outputs": [],
   "source": [
    "\n",
    "from sklearn.cluster import KMeans\n",
    "kmeans = KMeans(n_clusters=2, random_state=123)\n",
    "labels = kmeans.fit_predict(features_norm)\n",
    "centers = kmeans.cluster_centers_\n",
    "labels = kmeans.predict(features_norm)\n",
    "\n",
    "# plot the cluster assignments and cluster centers\n",
    "#plt.scatter(scaled_features_copy_temp.iloc[:,0], scaled_features_copy_temp.iloc[:,1], c=y_pred, cmap=\"jet\")\n",
    "plt.figure(figsize=(15,8))\n",
    "plt.scatter(X_pca[:,0], X_pca[:,1], c=labels, s=30, cmap='viridis')\n",
    "plt.scatter(kmeans.cluster_centers_[:, 0],   \n",
    "            kmeans.cluster_centers_[:, 1],\n",
    "            marker='^', \n",
    "            c=[0,1],\n",
    "            s=100, \n",
    "            linewidth=2,\n",
    "            edgecolor='black',\n",
    "            cmap=\"jet\")\n",
    "\n"
   ]
  },
  {
   "cell_type": "code",
   "execution_count": null,
   "id": "1296ad80",
   "metadata": {},
   "outputs": [],
   "source": [
    "df_norm['Kmeans_cluster']= labels"
   ]
  },
  {
   "cell_type": "code",
   "execution_count": null,
   "id": "2f41dd95",
   "metadata": {},
   "outputs": [],
   "source": []
  },
  {
   "cell_type": "code",
   "execution_count": null,
   "id": "eccb582f",
   "metadata": {},
   "outputs": [],
   "source": []
  },
  {
   "cell_type": "code",
   "execution_count": null,
   "id": "51c1577e",
   "metadata": {},
   "outputs": [],
   "source": [
    "f,ax=plt.subplots(figsize=(15,10))\n",
    "plt.yticks(rotation=90)\n",
    "sns.heatmap(df_norm.corr(),annot=True,linewidths=.10,fmt='.2f',cmap='icefire', ax=ax)#cmap='YlGnBu', ax=ax)"
   ]
  },
  {
   "cell_type": "code",
   "execution_count": null,
   "id": "f37f2f37",
   "metadata": {},
   "outputs": [],
   "source": [
    "df_feat = np.transpose(df_norm)\n",
    "df_feat=df_feat.drop('target', 0)"
   ]
  },
  {
   "cell_type": "code",
   "execution_count": null,
   "id": "b0688ee9",
   "metadata": {},
   "outputs": [],
   "source": [
    "names =  df_feat.index\n",
    "names"
   ]
  },
  {
   "cell_type": "code",
   "execution_count": null,
   "id": "f3fafce8",
   "metadata": {},
   "outputs": [],
   "source": [
    "from sklearn.decomposition import PCA\n",
    "pca = PCA().fit(df_feat)\n",
    "\n",
    "\n",
    "plt.rcParams[\"figure.figsize\"] = (12,6)\n",
    "\n",
    "fig, ax = plt.subplots(figsize=(10,5))\n",
    "xi = np.arange(1, 14, step=1)\n",
    "y = np.cumsum(pca.explained_variance_ratio_)\n",
    "\n",
    "#plt.figure(figsize=(20,10))\n",
    "plt.ylim(0.0,1.1)\n",
    "plt.plot(xi, y, marker='o', linestyle='--', color='b')\n",
    "\n",
    "plt.xlabel('Number of Components')\n",
    "plt.xticks(np.arange(0, 11, step=1)) #change from 0-based array index to 1-based human-readable label\n",
    "plt.ylabel('Cumulative variance (%)')\n",
    "plt.title('The number of components needed to explain variance')\n",
    "\n",
    "plt.axhline(y=0.99, color='r', linestyle='-')\n",
    "plt.text(0.5, 0.85, '99% cut-off threshold', color = 'red', fontsize=16)\n",
    "\n",
    "ax.grid(axis='x')\n",
    "\n",
    "plt.show()"
   ]
  },
  {
   "cell_type": "code",
   "execution_count": null,
   "id": "8089100c",
   "metadata": {
    "scrolled": true
   },
   "outputs": [],
   "source": [
    "from sklearn import preprocessing \n",
    "min_max_scaler = preprocessing.MinMaxScaler()\n",
    "features_norm = min_max_scaler.fit_transform(df_feat)\n",
    "\n",
    "\n",
    "\n",
    "#1.2. Principal Component Analysis\n",
    "from sklearn.decomposition import PCA\n",
    "estimator = PCA (n_components = 2)\n",
    "X_pca = estimator.fit_transform(features_norm)\n",
    "print(\"Variance Ratio: \", estimator.explained_variance_ratio_) \n",
    "\n",
    "\n",
    "import matplotlib.pyplot as plt\n",
    "fig, ax = plt.subplots(figsize=(15,8))\n",
    "for i in range(len(X_pca)):\n",
    "    plt.text(X_pca[i][0], X_pca[i][1], names[i]) \n",
    "\n",
    "\n",
    "plt.xlim(-20, 60)\n",
    "plt.ylim(-10, 30)\n",
    "ax.grid(True)\n",
    "fig.tight_layout()\n",
    "plt.show()"
   ]
  },
  {
   "cell_type": "code",
   "execution_count": null,
   "id": "a71c2bf6",
   "metadata": {},
   "outputs": [],
   "source": []
  },
  {
   "cell_type": "code",
   "execution_count": null,
   "id": "bcb6a86a",
   "metadata": {},
   "outputs": [],
   "source": [
    "df_norm"
   ]
  },
  {
   "cell_type": "code",
   "execution_count": null,
   "id": "c257917a",
   "metadata": {
    "scrolled": true
   },
   "outputs": [],
   "source": [
    "df_norm.columns"
   ]
  },
  {
   "cell_type": "markdown",
   "id": "1440ca58",
   "metadata": {},
   "source": [
    "test=df_n.to_numpy()\n",
    "test"
   ]
  },
  {
   "cell_type": "code",
   "execution_count": null,
   "id": "b0bcabc2",
   "metadata": {},
   "outputs": [],
   "source": [
    "#features=['target', 'modelo', 'v_codigbus', 'v_edad']\n",
    "#features=['target', 'modelo', 'v_codigbus', 'v_edad', 'capacidad','marca','DBSCAN_cluster']\n",
    "features=['marca', 'modelo', 'v_codigbus', 'tipo', 'v_edad', 'subtipo','capacidad', 'ndias_ant', 'potencia','aliasemp','taller','target','Kmeans_cluster','DBSCAN_cluster']\n",
    "            \n",
    "new_df=df_norm[features]\n"
   ]
  },
  {
   "cell_type": "code",
   "execution_count": null,
   "id": "be408f1d",
   "metadata": {},
   "outputs": [],
   "source": [
    " new_df[features] =  new_df[features].astype('int')"
   ]
  },
  {
   "cell_type": "code",
   "execution_count": null,
   "id": "21648cf7",
   "metadata": {},
   "outputs": [],
   "source": [
    "new_df"
   ]
  },
  {
   "cell_type": "code",
   "execution_count": null,
   "id": "073928fd",
   "metadata": {},
   "outputs": [],
   "source": [
    "df_km0 =  new_df[ new_df['Kmeans_cluster'] == 0]\n",
    "df_km1 =  new_df[ new_df['Kmeans_cluster'] == 1]\n",
    "df_km0=df_km0.reset_index()\n",
    "df_km1=df_km1.reset_index()"
   ]
  },
  {
   "cell_type": "code",
   "execution_count": null,
   "id": "9a0a53e5",
   "metadata": {},
   "outputs": [],
   "source": [
    "features0=['marca', 'modelo', 'v_codigbus', 'tipo', 'subtipo','target','DBSCAN_cluster']\n",
    "df_km0=df_km0[features0]\n",
    "features1=['marca', 'modelo', 'v_codigbus', 'tipo', 'target']\n",
    "df_km1=df_km1[features1]"
   ]
  },
  {
   "cell_type": "code",
   "execution_count": null,
   "id": "c6c65671",
   "metadata": {},
   "outputs": [],
   "source": [
    "print(df_km0.shape)\n",
    "print(df_km1.shape)"
   ]
  },
  {
   "cell_type": "markdown",
   "id": "986616e0",
   "metadata": {},
   "source": [
    " Calculo para ponderar importancia de las bariables en función al tamaño del dataset"
   ]
  },
  {
   "cell_type": "code",
   "execution_count": null,
   "id": "c6af9775",
   "metadata": {},
   "outputs": [],
   "source": [
    "\n",
    "\n",
    "km0=df_km0.shape[0]\n",
    "km1=df_km1.shape[0]\n",
    "t=km0+km1\n",
    "p0= round((km0/t),2)\n",
    "p1=round((1-p0),2)\n",
    "\n",
    "\n"
   ]
  },
  {
   "cell_type": "markdown",
   "id": "14334e2a",
   "metadata": {},
   "source": [
    "# SPLIT TRAIN MODEL"
   ]
  },
  {
   "cell_type": "markdown",
   "id": "1dff017e",
   "metadata": {},
   "source": [
    "### Validación cruzada"
   ]
  },
  {
   "cell_type": "markdown",
   "id": "194dfed6",
   "metadata": {},
   "source": [
    "from sklearn.model_selection import KFold"
   ]
  },
  {
   "cell_type": "markdown",
   "id": "f7b062f3",
   "metadata": {},
   "source": [
    "cv = KFold(n_splits = 10, shuffle = False) # "
   ]
  },
  {
   "cell_type": "markdown",
   "id": "fca39ad1",
   "metadata": {},
   "source": [
    "### Split dataset"
   ]
  },
  {
   "cell_type": "code",
   "execution_count": null,
   "id": "8fcbd81a",
   "metadata": {},
   "outputs": [],
   "source": []
  },
  {
   "cell_type": "code",
   "execution_count": null,
   "id": "842a58f7",
   "metadata": {},
   "outputs": [],
   "source": [
    "X_train0, X_test0, y_train0, y_test0 = train_test_split(\n",
    "                                        df_km0.drop(columns = \"target\"),\n",
    "                                        #new_df,\n",
    "                                        df_km0['target'],\n",
    "                                        test_size=0.25,\n",
    "                                        random_state = 123\n",
    "                                    )"
   ]
  },
  {
   "cell_type": "code",
   "execution_count": null,
   "id": "09ca2e19",
   "metadata": {},
   "outputs": [],
   "source": [
    "X_train1,X_test1, y_train1, y_test1 = train_test_split(\n",
    "                                        df_km1.drop(columns = \"target\"),\n",
    "                                        #new_df,\n",
    "                                        df_km1['target'],\n",
    "                                        test_size=0.25,\n",
    "                                        random_state = 123\n",
    "                                    )"
   ]
  },
  {
   "cell_type": "code",
   "execution_count": null,
   "id": "9092cb55",
   "metadata": {},
   "outputs": [],
   "source": []
  },
  {
   "cell_type": "markdown",
   "id": "49d71aaf",
   "metadata": {},
   "source": [
    "train=X_train_c\n",
    "train.reset_index(drop = True, inplace = True)\n",
    "round((train.isnull().sum()/len(train))*100,2)"
   ]
  },
  {
   "cell_type": "markdown",
   "id": "b9892ce5",
   "metadata": {},
   "source": [
    "\n",
    "# ************************   MODELADO    ********************\n"
   ]
  },
  {
   "cell_type": "markdown",
   "id": "f1d284c3",
   "metadata": {},
   "source": [
    "# RANDOM FOREST CLASSIFIER\n",
    "## RandomizedSearch"
   ]
  },
  {
   "cell_type": "code",
   "execution_count": 901,
   "id": "75bff1b4",
   "metadata": {},
   "outputs": [],
   "source": [
    "from sklearn.model_selection import GridSearchCV, RandomizedSearchCV \n",
    "from sklearn.ensemble import GradientBoostingClassifier\n",
    "from sklearn.ensemble import RandomForestClassifier\n",
    "from sklearn.metrics import f1_score, make_scorer,accuracy_score"
   ]
  },
  {
   "cell_type": "code",
   "execution_count": 902,
   "id": "ce036742",
   "metadata": {},
   "outputs": [],
   "source": [
    "iteraciones=1000"
   ]
  },
  {
   "cell_type": "code",
   "execution_count": 903,
   "id": "20984317",
   "metadata": {},
   "outputs": [
    {
     "data": {
      "text/plain": [
       "\"\\nparameters_ran={'bootstrap': [True, False],\\n               'criterion':['gini', 'entropy'],\\n               'max_depth': np.arange(10,200,1),\\n               'max_features': ['auto', 'sqrt'],\\n               'min_samples_leaf': np.arange(2,5,1),\\n               'min_samples_split':  np.arange(3,11,1),\\n               'max_features':['auto', 'sqrt', 'log2'],\\n               'class_weight':['balanced', 'balanced_subsample'],\\n               'n_estimators':np.arange(10,200,5)\\n            }\\n \""
      ]
     },
     "execution_count": 903,
     "metadata": {},
     "output_type": "execute_result"
    }
   ],
   "source": [
    "'''\n",
    "parameters_ran={'bootstrap': [True, False],\n",
    "               'criterion':['gini', 'entropy'],\n",
    "               'max_depth': [10, 20, 30, 40, 50, 60, 70, 80, 90, 100, 110, None],\n",
    "               'max_features': ['auto', 'sqrt'],\n",
    "               'min_samples_leaf': [1, 2, 4],\n",
    "               'min_samples_split': [2, 5, 10],\n",
    "               'max_features':['auto', 'sqrt', 'log2'],\n",
    "               'class_weight':['balanced', 'balanced_subsample'],\n",
    "               'n_estimators': [2, 4, 8, 16, 32, 64, 128, 256, 512, 1024]\n",
    "            }\n",
    "\n",
    "parameters_ran={'bootstrap': [True],\n",
    "               'criterion':['gini'],\n",
    "               'max_depth': np.arange(90,150,10),\n",
    "               'max_features': ['auto'],\n",
    "               'min_samples_leaf': np.arange(2,5,1),\n",
    "               'min_samples_split': np.arange(3,11,2),\n",
    "               'max_features':['auto'],\n",
    "               'class_weight':['balanced_subsample'],\n",
    "               'n_estimators': np.arange(35,100,5)\n",
    "   '''         \n",
    "\n",
    "parameters_ran={'bootstrap': [True, False],\n",
    "               'criterion':['entropy'],\n",
    "               'max_depth': np.arange(100,200,1),\n",
    "               'max_features': ['auto', 'sqrt'],\n",
    "               'min_samples_leaf': np.arange(2,5,1),\n",
    "               'min_samples_split':  np.arange(3,11,1),\n",
    "               'max_features':['auto', 'sqrt', 'log2'],\n",
    "               'class_weight':['balanced_subsample'],\n",
    "               'n_estimators':np.arange(50,100,1)\n",
    "            }\n",
    "'''\n",
    "parameters_ran={'bootstrap': [True, False],\n",
    "               'criterion':['gini', 'entropy'],\n",
    "               'max_depth': np.arange(10,200,1),\n",
    "               'max_features': ['auto', 'sqrt'],\n",
    "               'min_samples_leaf': np.arange(2,5,1),\n",
    "               'min_samples_split':  np.arange(3,11,1),\n",
    "               'max_features':['auto', 'sqrt', 'log2'],\n",
    "               'class_weight':['balanced', 'balanced_subsample'],\n",
    "               'n_estimators':np.arange(10,200,5)\n",
    "            }\n",
    " '''"
   ]
  },
  {
   "cell_type": "code",
   "execution_count": 904,
   "id": "83e643d6",
   "metadata": {},
   "outputs": [
    {
     "name": "stdout",
     "output_type": "stream",
     "text": [
      "Fitting 5 folds for each of 1000 candidates, totalling 5000 fits\n"
     ]
    },
    {
     "data": {
      "text/plain": [
       "RandomizedSearchCV(cv=5, estimator=RandomForestClassifier(random_state=0),\n",
       "                   n_iter=1000, n_jobs=-1,\n",
       "                   param_distributions={'bootstrap': [True, False],\n",
       "                                        'class_weight': ['balanced_subsample'],\n",
       "                                        'criterion': ['entropy'],\n",
       "                                        'max_depth': array([100, 101, 102, 103, 104, 105, 106, 107, 108, 109, 110, 111, 112,\n",
       "       113, 114, 115, 116, 117, 118, 119, 120, 121, 122, 123, 124, 125,\n",
       "       126, 127, 128, 129, 130, 131,...\n",
       "       191, 192, 193, 194, 195, 196, 197, 198, 199]),\n",
       "                                        'max_features': ['auto', 'sqrt',\n",
       "                                                         'log2'],\n",
       "                                        'min_samples_leaf': array([2, 3, 4]),\n",
       "                                        'min_samples_split': array([ 3,  4,  5,  6,  7,  8,  9, 10]),\n",
       "                                        'n_estimators': array([50, 51, 52, 53, 54, 55, 56, 57, 58, 59, 60, 61, 62, 63, 64, 65, 66,\n",
       "       67, 68, 69, 70, 71, 72, 73, 74, 75, 76, 77, 78, 79, 80, 81, 82, 83,\n",
       "       84, 85, 86, 87, 88, 89, 90, 91, 92, 93, 94, 95, 96, 97, 98, 99])},\n",
       "                   random_state=0, scoring='accuracy', verbose=1)"
      ]
     },
     "execution_count": 904,
     "metadata": {},
     "output_type": "execute_result"
    }
   ],
   "source": [
    "RF=RandomForestClassifier(random_state=0)\n",
    "ran_rf0=RandomizedSearchCV(RF,parameters_ran,cv=5,scoring='accuracy',verbose=1,n_jobs=-1,random_state=0,n_iter=iteraciones) \n",
    "ran_rf0.fit(X_train0,y_train0)"
   ]
  },
  {
   "cell_type": "code",
   "execution_count": 905,
   "id": "8c50a8b8",
   "metadata": {},
   "outputs": [
    {
     "name": "stdout",
     "output_type": "stream",
     "text": [
      "Best parameters from Randomsearch: {'n_estimators': 54, 'min_samples_split': 5, 'min_samples_leaf': 3, 'max_features': 'auto', 'max_depth': 124, 'criterion': 'entropy', 'class_weight': 'balanced_subsample', 'bootstrap': True}\n",
      "CV score=0.593\n"
     ]
    }
   ],
   "source": [
    "print(\"Best parameters from Randomsearch: {}\".format(ran_rf0.best_params_))\n",
    "print(\"CV score=%0.3f\" % ran_rf0.best_score_)\n",
    "cv_results = ran_rf0.cv_results_"
   ]
  },
  {
   "cell_type": "code",
   "execution_count": 906,
   "id": "2892f51b",
   "metadata": {},
   "outputs": [
    {
     "name": "stdout",
     "output_type": "stream",
     "text": [
      "Fitting 5 folds for each of 1000 candidates, totalling 5000 fits\n"
     ]
    },
    {
     "data": {
      "text/plain": [
       "RandomizedSearchCV(cv=5, estimator=RandomForestClassifier(random_state=0),\n",
       "                   n_iter=1000, n_jobs=-1,\n",
       "                   param_distributions={'bootstrap': [True, False],\n",
       "                                        'class_weight': ['balanced_subsample'],\n",
       "                                        'criterion': ['entropy'],\n",
       "                                        'max_depth': array([100, 101, 102, 103, 104, 105, 106, 107, 108, 109, 110, 111, 112,\n",
       "       113, 114, 115, 116, 117, 118, 119, 120, 121, 122, 123, 124, 125,\n",
       "       126, 127, 128, 129, 130, 131,...\n",
       "       191, 192, 193, 194, 195, 196, 197, 198, 199]),\n",
       "                                        'max_features': ['auto', 'sqrt',\n",
       "                                                         'log2'],\n",
       "                                        'min_samples_leaf': array([2, 3, 4]),\n",
       "                                        'min_samples_split': array([ 3,  4,  5,  6,  7,  8,  9, 10]),\n",
       "                                        'n_estimators': array([50, 51, 52, 53, 54, 55, 56, 57, 58, 59, 60, 61, 62, 63, 64, 65, 66,\n",
       "       67, 68, 69, 70, 71, 72, 73, 74, 75, 76, 77, 78, 79, 80, 81, 82, 83,\n",
       "       84, 85, 86, 87, 88, 89, 90, 91, 92, 93, 94, 95, 96, 97, 98, 99])},\n",
       "                   random_state=0, scoring='accuracy', verbose=1)"
      ]
     },
     "execution_count": 906,
     "metadata": {},
     "output_type": "execute_result"
    }
   ],
   "source": [
    "RF=RandomForestClassifier(random_state=0)\n",
    "ran_rf1=RandomizedSearchCV(RF,parameters_ran,cv=5,scoring='accuracy',verbose=1,n_jobs=-1,random_state=0,n_iter=iteraciones) \n",
    "ran_rf1.fit(X_train1,y_train1)"
   ]
  },
  {
   "cell_type": "code",
   "execution_count": null,
   "id": "7120b83f",
   "metadata": {
    "scrolled": true
   },
   "outputs": [],
   "source": []
  },
  {
   "cell_type": "code",
   "execution_count": 907,
   "id": "06248014",
   "metadata": {},
   "outputs": [
    {
     "name": "stdout",
     "output_type": "stream",
     "text": [
      "Best parameters from Randomsearch: {'n_estimators': 63, 'min_samples_split': 9, 'min_samples_leaf': 4, 'max_features': 'sqrt', 'max_depth': 194, 'criterion': 'entropy', 'class_weight': 'balanced_subsample', 'bootstrap': False}\n",
      "CV score=0.576\n"
     ]
    }
   ],
   "source": [
    "print(\"Best parameters from Randomsearch: {}\".format(ran_rf1.best_params_))\n",
    "print(\"CV score=%0.3f\" % ran_rf1.best_score_)\n",
    "cv_results = ran_rf1.cv_results_"
   ]
  },
  {
   "cell_type": "code",
   "execution_count": 908,
   "id": "c28cba32",
   "metadata": {},
   "outputs": [
    {
     "name": "stdout",
     "output_type": "stream",
     "text": [
      "SISTEMA REFRIGERACIÓN\n",
      "RandomSearch\n",
      "\n",
      "Best parameters from Randomsearch: {'n_estimators': 54, 'min_samples_split': 5, 'min_samples_leaf': 3, 'max_features': 'auto', 'max_depth': 124, 'criterion': 'entropy', 'class_weight': 'balanced_subsample', 'bootstrap': True}\n",
      "\n",
      "TRAIN Cluster 0 \n",
      "CV score=0.5933\n",
      "\n",
      "\n",
      "PREDICCIÓN Cluster0 \n",
      "\n",
      "\n",
      "Accuracy prediction:  0.6239316239316239\n",
      "f1-core :0.6239\n",
      "\n",
      "Random Forest Classifier \n",
      "\n",
      "              precision    recall  f1-score   support\n",
      "\n",
      "           0       0.68      0.50      0.58        60\n",
      "           1       0.59      0.75      0.66        57\n",
      "\n",
      "    accuracy                           0.62       117\n",
      "   macro avg       0.64      0.63      0.62       117\n",
      "weighted avg       0.64      0.62      0.62       117\n",
      "\n",
      "\n",
      "\n",
      "Importancia Cluster 0:\n",
      "            feature  importancia\n",
      "0           marca     0.154290\n",
      "1          modelo     0.286029\n",
      "2      v_codigbus     0.386642\n",
      "3            tipo     0.081557\n",
      "4         subtipo     0.073455\n",
      "5  DBSCAN_cluster     0.018027\n",
      "\n",
      "\n"
     ]
    },
    {
     "data": {
      "image/png": "[encoded data removed]",
      "text/plain": [
       "<Figure size 432x288 with 1 Axes>"
      ]
     },
     "metadata": {},
     "output_type": "display_data"
    }
   ],
   "source": [
    "# constructor RandomSearch\n",
    "print(target.upper()+'\\n'+'RandomSearch'+'\\n')\n",
    "print(\"Best parameters from Randomsearch: {}\".format(ran_rf0.best_params_))\n",
    "\n",
    "print('\\nTRAIN Cluster 0 ')\n",
    "print(\"CV score=%0.4f\" % ran_rf0.best_score_)\n",
    "print('\\n')\n",
    "from sklearn.inspection import permutation_importance\n",
    "\n",
    "\n",
    "rbp0=ran_rf0.best_params_\n",
    "RF_ran0 = RandomForestClassifier(random_state=0,bootstrap= rbp0['bootstrap'],\n",
    "                               class_weight=rbp0['class_weight'],\n",
    "                               criterion=rbp0['criterion'],\n",
    "                               max_depth=rbp0['max_depth'],\n",
    "                               max_features=rbp0['max_features'],\n",
    "                               min_samples_leaf=rbp0['min_samples_leaf'],\n",
    "                               min_samples_split=rbp0['min_samples_split'],\n",
    "                               n_estimators=rbp0['n_estimators'])\n",
    "\n",
    "#Predicción\n",
    "RF_ran0.fit(X_train0,y_train0)\n",
    "y_pred0 = RF_ran0.predict(X_test0)\n",
    "acc = accuracy_score(y_test0, y_pred0)\n",
    "print ('PREDICCIÓN Cluster0 \\n\\n')\n",
    "print ('Accuracy prediction: ', acc)\n",
    "cr0=classification_report(y_test0, y_pred0, output_dict=True)\n",
    "print('f1-core :%0.4f' %cr0['accuracy']+'\\n')\n",
    "\n",
    "\n",
    "print('Random Forest Classifier \\n')\n",
    "print(classification_report(y_test0, y_pred0))\n",
    "print('\\n')\n",
    "importancia0=pd.DataFrame({ 'feature': X_test0.columns,'importancia': RF_ran0.feature_importances_})\n",
    "\n",
    "print('Importancia Cluster 0:\\n ',importancia0)\n",
    "print('\\n')\n",
    "plt.suptitle('Importancia Cluster 0')\n",
    "x=X_test0.columns\n",
    "y=RF_ran0.feature_importances_\n",
    "my_color = np.where(y>=0.1, 'orange', 'skyblue')\n",
    "plt.barh(x, y,color=my_color)\n",
    "\n",
    "\n",
    "#plt.vlines(x=x, ymin=0, ymax=y, color=my_color, alpha=0.4)\n",
    "#plt.scatter(x, y, color=my_color, s=1, alpha=1)\n",
    "\n",
    "\n",
    "#Salida\n",
    "plt.savefig(r'C:\\Users\\Dani\\OneDrive - SOFTOUR SISTEMAS S.L\\Data_Science\\Prediccion talleres\\plots\\Cluster0.png')\n",
    "output0 = pd.DataFrame({ 'date': X_test0.index,'Real': y_test0, 'Predicho': y_pred0})"
   ]
  },
  {
   "cell_type": "code",
   "execution_count": 909,
   "id": "47904fb3",
   "metadata": {},
   "outputs": [
    {
     "name": "stdout",
     "output_type": "stream",
     "text": [
      "SISTEMA REFRIGERACIÓN\n",
      "RandomSearch\n",
      "\n",
      "Best parameters from Randomsearch: {'n_estimators': 63, 'min_samples_split': 9, 'min_samples_leaf': 4, 'max_features': 'sqrt', 'max_depth': 194, 'criterion': 'entropy', 'class_weight': 'balanced_subsample', 'bootstrap': False}\n",
      "\n",
      "TRAIN Cluster 1 \n",
      "CV score=0.5762\n",
      "\n",
      "\n",
      "PREDICCIÓN Cluster 1 \n",
      "\n",
      "\n",
      "Accuracy prediction:  0.5995203836930456\n",
      "f1-core :0.5995\n",
      "\n",
      "Random Forest Classifier \n",
      "\n",
      "              precision    recall  f1-score   support\n",
      "\n",
      "           0       0.65      0.59      0.62       230\n",
      "           1       0.55      0.61      0.58       187\n",
      "\n",
      "    accuracy                           0.60       417\n",
      "   macro avg       0.60      0.60      0.60       417\n",
      "weighted avg       0.60      0.60      0.60       417\n",
      "\n",
      "\n",
      "\n",
      "Importancia Cluster 1:\n",
      "       features  importancia\n",
      "0       marca     0.129470\n",
      "1      modelo     0.302113\n",
      "2  v_codigbus     0.538427\n",
      "3        tipo     0.029991\n",
      "\n",
      "\n"
     ]
    },
    {
     "data": {
      "image/png": "[encoded data removed]",
      "text/plain": [
       "<Figure size 432x288 with 1 Axes>"
      ]
     },
     "metadata": {},
     "output_type": "display_data"
    }
   ],
   "source": [
    "# constructor RandomSearch\n",
    "print(target.upper()+'\\n'+'RandomSearch'+'\\n')\n",
    "print(\"Best parameters from Randomsearch: {}\".format(ran_rf1.best_params_))\n",
    "\n",
    "print('\\nTRAIN Cluster 1 ')\n",
    "print(\"CV score=%0.4f\" % ran_rf1.best_score_)\n",
    "print('\\n')\n",
    "from sklearn.inspection import permutation_importance\n",
    "\n",
    "\n",
    "rbp1=ran_rf1.best_params_\n",
    "RF_ran1 = RandomForestClassifier(random_state=0,bootstrap= rbp1['bootstrap'],\n",
    "                               class_weight=rbp1['class_weight'],\n",
    "                               criterion=rbp1['criterion'],\n",
    "                               max_depth=rbp1['max_depth'],\n",
    "                               max_features=rbp1['max_features'],\n",
    "                               min_samples_leaf=rbp1['min_samples_leaf'],\n",
    "                               min_samples_split=rbp1['min_samples_split'],\n",
    "                               n_estimators=rbp1['n_estimators'])\n",
    "\n",
    "#Predicción\n",
    "RF_ran1.fit(X_train1,y_train1)\n",
    "y_pred1 = RF_ran1.predict(X_test1)\n",
    "acc = accuracy_score(y_test1, y_pred1)\n",
    "print ('PREDICCIÓN Cluster 1 \\n\\n')\n",
    "print ('Accuracy prediction: ', acc)\n",
    "cr1=classification_report(y_test1, y_pred1, output_dict=True)\n",
    "print('f1-core :%0.4f' %cr1['accuracy']+'\\n')\n",
    "\n",
    "\n",
    "print('Random Forest Classifier \\n')\n",
    "print(classification_report(y_test1, y_pred1))\n",
    "print('\\n')\n",
    "importancia1=pd.DataFrame({ 'features': X_test1.columns,'importancia': RF_ran1.feature_importances_})\n",
    "\n",
    "print('Importancia Cluster 1:\\n ',importancia1)\n",
    "print('\\n')\n",
    "plt.suptitle('Importancia Cluster 1')\n",
    "\n",
    "x=X_test1.columns\n",
    "y=RF_ran1.feature_importances_\n",
    "my_color = np.where(y>=0.1, 'orange', 'skyblue')\n",
    "plt.barh(x, y,color=my_color)\n",
    "\n",
    "\n",
    "#plt.vlines(x=x, ymin=0, ymax=y, color=my_color, alpha=0.4)\n",
    "#plt.scatter(x, y, color=my_color, s=1, alpha=1)\n",
    "\n",
    "\n",
    "#Salida\n",
    "plt.savefig(r'C:\\Users\\Dani\\OneDrive - SOFTOUR SISTEMAS S.L\\Data_Science\\Prediccion talleres\\plots\\Cluster1.png')\n",
    "output1 = pd.DataFrame({ 'date': X_test1.index,'Real': y_test1, 'Predicho': y_pred1})"
   ]
  },
  {
   "cell_type": "code",
   "execution_count": null,
   "id": "719796fa",
   "metadata": {},
   "outputs": [],
   "source": []
  },
  {
   "cell_type": "code",
   "execution_count": 914,
   "id": "c830461c",
   "metadata": {},
   "outputs": [],
   "source": [
    "importance0=RF_ran0.feature_importances_\n",
    "importance1=RF_ran1.feature_importances_\n",
    "#importance=((importance0+importance1)/2)\n"
   ]
  },
  {
   "cell_type": "code",
   "execution_count": 915,
   "id": "00807027",
   "metadata": {},
   "outputs": [],
   "source": [
    "output= pd.concat([output0, output1], ignore_index=True)\n"
   ]
  },
  {
   "cell_type": "code",
   "execution_count": 916,
   "id": "0d9cf540",
   "metadata": {},
   "outputs": [],
   "source": [
    "important0= pd.DataFrame({ 'feature': X_test0.columns,'importancia': importance0,'vp':p0, 'imp_pond':importance0*p0,'cluster':0})\n",
    "important1= pd.DataFrame({ 'feature': X_test1.columns,'importancia': importance1,'vp':p1,'imp_pond':importance1*p1,'cluster':1})"
   ]
  },
  {
   "cell_type": "code",
   "execution_count": 917,
   "id": "eea2104e",
   "metadata": {},
   "outputs": [
    {
     "data": {
      "text/html": [
       "<div>\n",
       "<style scoped>\n",
       "    .dataframe tbody tr th:only-of-type {\n",
       "        vertical-align: middle;\n",
       "    }\n",
       "\n",
       "    .dataframe tbody tr th {\n",
       "        vertical-align: top;\n",
       "    }\n",
       "\n",
       "    .dataframe thead th {\n",
       "        text-align: right;\n",
       "    }\n",
       "</style>\n",
       "<table border=\"1\" class=\"dataframe\">\n",
       "  <thead>\n",
       "    <tr style=\"text-align: right;\">\n",
       "      <th></th>\n",
       "      <th>feature</th>\n",
       "      <th>importancia</th>\n",
       "      <th>vp</th>\n",
       "      <th>imp_pond</th>\n",
       "      <th>cluster</th>\n",
       "    </tr>\n",
       "  </thead>\n",
       "  <tbody>\n",
       "    <tr>\n",
       "      <th>0</th>\n",
       "      <td>marca</td>\n",
       "      <td>0.154290</td>\n",
       "      <td>0.22</td>\n",
       "      <td>0.033944</td>\n",
       "      <td>0</td>\n",
       "    </tr>\n",
       "    <tr>\n",
       "      <th>1</th>\n",
       "      <td>modelo</td>\n",
       "      <td>0.286029</td>\n",
       "      <td>0.22</td>\n",
       "      <td>0.062926</td>\n",
       "      <td>0</td>\n",
       "    </tr>\n",
       "    <tr>\n",
       "      <th>2</th>\n",
       "      <td>v_codigbus</td>\n",
       "      <td>0.386642</td>\n",
       "      <td>0.22</td>\n",
       "      <td>0.085061</td>\n",
       "      <td>0</td>\n",
       "    </tr>\n",
       "    <tr>\n",
       "      <th>3</th>\n",
       "      <td>tipo</td>\n",
       "      <td>0.081557</td>\n",
       "      <td>0.22</td>\n",
       "      <td>0.017943</td>\n",
       "      <td>0</td>\n",
       "    </tr>\n",
       "    <tr>\n",
       "      <th>4</th>\n",
       "      <td>subtipo</td>\n",
       "      <td>0.073455</td>\n",
       "      <td>0.22</td>\n",
       "      <td>0.016160</td>\n",
       "      <td>0</td>\n",
       "    </tr>\n",
       "    <tr>\n",
       "      <th>5</th>\n",
       "      <td>DBSCAN_cluster</td>\n",
       "      <td>0.018027</td>\n",
       "      <td>0.22</td>\n",
       "      <td>0.003966</td>\n",
       "      <td>0</td>\n",
       "    </tr>\n",
       "  </tbody>\n",
       "</table>\n",
       "</div>"
      ],
      "text/plain": [
       "          feature  importancia    vp  imp_pond  cluster\n",
       "0           marca     0.154290  0.22  0.033944        0\n",
       "1          modelo     0.286029  0.22  0.062926        0\n",
       "2      v_codigbus     0.386642  0.22  0.085061        0\n",
       "3            tipo     0.081557  0.22  0.017943        0\n",
       "4         subtipo     0.073455  0.22  0.016160        0\n",
       "5  DBSCAN_cluster     0.018027  0.22  0.003966        0"
      ]
     },
     "execution_count": 917,
     "metadata": {},
     "output_type": "execute_result"
    }
   ],
   "source": [
    "important0"
   ]
  },
  {
   "cell_type": "code",
   "execution_count": 918,
   "id": "f886298f",
   "metadata": {
    "scrolled": true
   },
   "outputs": [
    {
     "data": {
      "text/html": [
       "<div>\n",
       "<style scoped>\n",
       "    .dataframe tbody tr th:only-of-type {\n",
       "        vertical-align: middle;\n",
       "    }\n",
       "\n",
       "    .dataframe tbody tr th {\n",
       "        vertical-align: top;\n",
       "    }\n",
       "\n",
       "    .dataframe thead th {\n",
       "        text-align: right;\n",
       "    }\n",
       "</style>\n",
       "<table border=\"1\" class=\"dataframe\">\n",
       "  <thead>\n",
       "    <tr style=\"text-align: right;\">\n",
       "      <th></th>\n",
       "      <th>feature</th>\n",
       "      <th>importancia</th>\n",
       "      <th>vp</th>\n",
       "      <th>imp_pond</th>\n",
       "      <th>cluster</th>\n",
       "    </tr>\n",
       "  </thead>\n",
       "  <tbody>\n",
       "    <tr>\n",
       "      <th>0</th>\n",
       "      <td>marca</td>\n",
       "      <td>0.129470</td>\n",
       "      <td>0.78</td>\n",
       "      <td>0.100986</td>\n",
       "      <td>1</td>\n",
       "    </tr>\n",
       "    <tr>\n",
       "      <th>1</th>\n",
       "      <td>modelo</td>\n",
       "      <td>0.302113</td>\n",
       "      <td>0.78</td>\n",
       "      <td>0.235648</td>\n",
       "      <td>1</td>\n",
       "    </tr>\n",
       "    <tr>\n",
       "      <th>2</th>\n",
       "      <td>v_codigbus</td>\n",
       "      <td>0.538427</td>\n",
       "      <td>0.78</td>\n",
       "      <td>0.419973</td>\n",
       "      <td>1</td>\n",
       "    </tr>\n",
       "    <tr>\n",
       "      <th>3</th>\n",
       "      <td>tipo</td>\n",
       "      <td>0.029991</td>\n",
       "      <td>0.78</td>\n",
       "      <td>0.023393</td>\n",
       "      <td>1</td>\n",
       "    </tr>\n",
       "  </tbody>\n",
       "</table>\n",
       "</div>"
      ],
      "text/plain": [
       "      feature  importancia    vp  imp_pond  cluster\n",
       "0       marca     0.129470  0.78  0.100986        1\n",
       "1      modelo     0.302113  0.78  0.235648        1\n",
       "2  v_codigbus     0.538427  0.78  0.419973        1\n",
       "3        tipo     0.029991  0.78  0.023393        1"
      ]
     },
     "execution_count": 918,
     "metadata": {},
     "output_type": "execute_result"
    }
   ],
   "source": [
    "important1"
   ]
  },
  {
   "cell_type": "code",
   "execution_count": 919,
   "id": "a5e81461",
   "metadata": {},
   "outputs": [
    {
     "data": {
      "text/html": [
       "<div>\n",
       "<style scoped>\n",
       "    .dataframe tbody tr th:only-of-type {\n",
       "        vertical-align: middle;\n",
       "    }\n",
       "\n",
       "    .dataframe tbody tr th {\n",
       "        vertical-align: top;\n",
       "    }\n",
       "\n",
       "    .dataframe thead th {\n",
       "        text-align: right;\n",
       "    }\n",
       "</style>\n",
       "<table border=\"1\" class=\"dataframe\">\n",
       "  <thead>\n",
       "    <tr style=\"text-align: right;\">\n",
       "      <th></th>\n",
       "      <th>feature</th>\n",
       "      <th>importancia</th>\n",
       "      <th>vp</th>\n",
       "      <th>imp_pond</th>\n",
       "      <th>cluster</th>\n",
       "    </tr>\n",
       "  </thead>\n",
       "  <tbody>\n",
       "    <tr>\n",
       "      <th>0</th>\n",
       "      <td>marca</td>\n",
       "      <td>0.154290</td>\n",
       "      <td>0.22</td>\n",
       "      <td>0.033944</td>\n",
       "      <td>0</td>\n",
       "    </tr>\n",
       "    <tr>\n",
       "      <th>1</th>\n",
       "      <td>modelo</td>\n",
       "      <td>0.286029</td>\n",
       "      <td>0.22</td>\n",
       "      <td>0.062926</td>\n",
       "      <td>0</td>\n",
       "    </tr>\n",
       "    <tr>\n",
       "      <th>2</th>\n",
       "      <td>v_codigbus</td>\n",
       "      <td>0.386642</td>\n",
       "      <td>0.22</td>\n",
       "      <td>0.085061</td>\n",
       "      <td>0</td>\n",
       "    </tr>\n",
       "    <tr>\n",
       "      <th>3</th>\n",
       "      <td>tipo</td>\n",
       "      <td>0.081557</td>\n",
       "      <td>0.22</td>\n",
       "      <td>0.017943</td>\n",
       "      <td>0</td>\n",
       "    </tr>\n",
       "    <tr>\n",
       "      <th>4</th>\n",
       "      <td>subtipo</td>\n",
       "      <td>0.073455</td>\n",
       "      <td>0.22</td>\n",
       "      <td>0.016160</td>\n",
       "      <td>0</td>\n",
       "    </tr>\n",
       "    <tr>\n",
       "      <th>5</th>\n",
       "      <td>DBSCAN_cluster</td>\n",
       "      <td>0.018027</td>\n",
       "      <td>0.22</td>\n",
       "      <td>0.003966</td>\n",
       "      <td>0</td>\n",
       "    </tr>\n",
       "    <tr>\n",
       "      <th>0</th>\n",
       "      <td>marca</td>\n",
       "      <td>0.129470</td>\n",
       "      <td>0.78</td>\n",
       "      <td>0.100986</td>\n",
       "      <td>1</td>\n",
       "    </tr>\n",
       "    <tr>\n",
       "      <th>1</th>\n",
       "      <td>modelo</td>\n",
       "      <td>0.302113</td>\n",
       "      <td>0.78</td>\n",
       "      <td>0.235648</td>\n",
       "      <td>1</td>\n",
       "    </tr>\n",
       "    <tr>\n",
       "      <th>2</th>\n",
       "      <td>v_codigbus</td>\n",
       "      <td>0.538427</td>\n",
       "      <td>0.78</td>\n",
       "      <td>0.419973</td>\n",
       "      <td>1</td>\n",
       "    </tr>\n",
       "    <tr>\n",
       "      <th>3</th>\n",
       "      <td>tipo</td>\n",
       "      <td>0.029991</td>\n",
       "      <td>0.78</td>\n",
       "      <td>0.023393</td>\n",
       "      <td>1</td>\n",
       "    </tr>\n",
       "  </tbody>\n",
       "</table>\n",
       "</div>"
      ],
      "text/plain": [
       "          feature  importancia    vp  imp_pond  cluster\n",
       "0           marca     0.154290  0.22  0.033944        0\n",
       "1          modelo     0.286029  0.22  0.062926        0\n",
       "2      v_codigbus     0.386642  0.22  0.085061        0\n",
       "3            tipo     0.081557  0.22  0.017943        0\n",
       "4         subtipo     0.073455  0.22  0.016160        0\n",
       "5  DBSCAN_cluster     0.018027  0.22  0.003966        0\n",
       "0           marca     0.129470  0.78  0.100986        1\n",
       "1          modelo     0.302113  0.78  0.235648        1\n",
       "2      v_codigbus     0.538427  0.78  0.419973        1\n",
       "3            tipo     0.029991  0.78  0.023393        1"
      ]
     },
     "execution_count": 919,
     "metadata": {},
     "output_type": "execute_result"
    }
   ],
   "source": [
    "important = pd.concat([important0,important1], axis=0)\n",
    "important"
   ]
  },
  {
   "cell_type": "code",
   "execution_count": 920,
   "id": "02c1e99a",
   "metadata": {},
   "outputs": [
    {
     "data": {
      "text/plain": [
       "feature\n",
       "DBSCAN_cluster    0.003966\n",
       "marca             0.134930\n",
       "modelo            0.298574\n",
       "subtipo           0.016160\n",
       "tipo              0.041336\n",
       "v_codigbus        0.505034\n",
       "Name: imp_pond, dtype: float64"
      ]
     },
     "execution_count": 920,
     "metadata": {},
     "output_type": "execute_result"
    }
   ],
   "source": [
    "imp=important.groupby('feature')['imp_pond'].sum()\n",
    "imp"
   ]
  },
  {
   "cell_type": "code",
   "execution_count": 921,
   "id": "fe722ef4",
   "metadata": {},
   "outputs": [
    {
     "name": "stdout",
     "output_type": "stream",
     "text": [
      "PREDICCIÓN Combinada\n",
      "\n",
      "\n",
      "Accuracy prediction:  0.6048689138576779\n",
      "f1-core :0.6049\n",
      "\n",
      "Random Forest Classifier \n",
      "\n",
      "              precision    recall  f1-score   support\n",
      "\n",
      "           0       0.66      0.57      0.61       290\n",
      "           1       0.56      0.64      0.60       244\n",
      "\n",
      "    accuracy                           0.60       534\n",
      "   macro avg       0.61      0.61      0.60       534\n",
      "weighted avg       0.61      0.60      0.61       534\n",
      "\n",
      "\n",
      "\n",
      "Importancia:\n",
      "                        features  importancia\n",
      "feature                                    \n",
      "DBSCAN_cluster  DBSCAN_cluster     0.003966\n",
      "marca                    marca     0.134930\n",
      "modelo                  modelo     0.298574\n",
      "subtipo                subtipo     0.016160\n",
      "tipo                      tipo     0.041336\n",
      "v_codigbus          v_codigbus     0.505034\n",
      "\n",
      "\n"
     ]
    },
    {
     "data": {
      "image/png": "[encoded data removed]",
      "text/plain": [
       "<Figure size 432x288 with 1 Axes>"
      ]
     },
     "metadata": {},
     "output_type": "display_data"
    }
   ],
   "source": [
    "#Predicción combinada\n",
    "\n",
    "acc = accuracy_score(output['Real'], output['Predicho'])\n",
    "print ('PREDICCIÓN Combinada\\n\\n')\n",
    "print ('Accuracy prediction: ', acc)\n",
    "crc=classification_report(output['Real'],output['Predicho'], output_dict=True)\n",
    "print('f1-core :%0.4f' %crc['accuracy']+'\\n')\n",
    "\n",
    "\n",
    "print('Random Forest Classifier \\n')\n",
    "print(classification_report(output['Real'],  output['Predicho']))\n",
    "print('\\n')\n",
    "\n",
    "\n",
    "importancia=pd.DataFrame({ 'features': imp.index,'importancia': imp})\n",
    "\n",
    "print('Importancia:\\n ',importancia)\n",
    "print('\\n')\n",
    "plt.suptitle('Importancia')\n",
    "x=imp.index\n",
    "y=imp\n",
    "my_color = np.where(y>=0.1, 'orange', 'skyblue')\n",
    "plt.barh(x, y,color=my_color)\n",
    "plt.savefig(r'C:\\Users\\Dani\\OneDrive - SOFTOUR SISTEMAS S.L\\Data_Science\\Prediccion talleres\\plots\\importancia.png')"
   ]
  },
  {
   "cell_type": "code",
   "execution_count": 922,
   "id": "fad6cc76",
   "metadata": {},
   "outputs": [
    {
     "name": "stderr",
     "output_type": "stream",
     "text": [
      "C:\\Users\\Dani\\AppData\\Local\\Temp/ipykernel_12976/534318981.py:16: ResourceWarning: unclosed file <_io.BufferedReader name='C:\\\\Users\\\\Dani\\\\OneDrive - SOFTOUR SISTEMAS S.L\\\\Data_Science\\\\Prediccion talleres\\\\plots\\\\Cluster0.png'>\n",
      "  requests.post('https://api.telegram.org/bot' + idBot + '/sendDocument',\n",
      "ResourceWarning: Enable tracemalloc to get the object allocation traceback\n",
      "C:\\Users\\Dani\\AppData\\Local\\Temp/ipykernel_12976/534318981.py:16: ResourceWarning: unclosed file <_io.BufferedReader name='C:\\\\Users\\\\Dani\\\\OneDrive - SOFTOUR SISTEMAS S.L\\\\Data_Science\\\\Prediccion talleres\\\\plots\\\\Cluster1.png'>\n",
      "  requests.post('https://api.telegram.org/bot' + idBot + '/sendDocument',\n",
      "ResourceWarning: Enable tracemalloc to get the object allocation traceback\n"
     ]
    },
    {
     "name": "stdout",
     "output_type": "stream",
     "text": [
      "done\n"
     ]
    },
    {
     "name": "stderr",
     "output_type": "stream",
     "text": [
      "C:\\Users\\Dani\\AppData\\Local\\Temp/ipykernel_12976/534318981.py:16: ResourceWarning: unclosed file <_io.BufferedReader name='C:\\\\Users\\\\Dani\\\\OneDrive - SOFTOUR SISTEMAS S.L\\\\Data_Science\\\\Prediccion talleres\\\\plots\\\\importancia.png'>\n",
      "  requests.post('https://api.telegram.org/bot' + idBot + '/sendDocument',\n",
      "ResourceWarning: Enable tracemalloc to get the object allocation traceback\n"
     ]
    }
   ],
   "source": [
    "# NOTIFICACIÓN DE PROCESO TERMINADO RandomSearch\n",
    "import requests\n",
    "import vlc\n",
    "from datetime import datetime\n",
    "now = datetime.now()\n",
    "fecha=('Fecha: '+str(now.day)+'-'+str(now.month)+'-'+str(now.year)+' Hora: '+str(now.hour)+':'+str(now.minute))\n",
    "\n",
    "idBot = '5018694182:AAFfuyvlA9S8JJgrJ0WbUJlwSHz_tFluCI8'\n",
    "idGrupo = '-743732742'\n",
    "\n",
    "def enviarMensaje(mensaje):\n",
    "    requests.post('https://api.telegram.org/bot' + idBot + '/sendMessage',\n",
    "              data={'chat_id': idGrupo, 'text': mensaje, 'parse_mode': 'HTML'})\n",
    "\n",
    "def enviarDocumento(ruta):\n",
    "    requests.post('https://api.telegram.org/bot' + idBot + '/sendDocument',\n",
    "              files={'document': (ruta, open(ruta, 'rb'))},\n",
    "              data={'chat_id': idGrupo, 'caption': 'imagen caption'})\n",
    "    \n",
    "enviarMensaje(target.upper()+'\\n'+fecha+'\\n'+\n",
    "              'Features Cluster 0 :\\n'+str(list(X_test0.columns))+'\\n\\n'+\n",
    "              'Features Cluster 1 :\\n'+str(list(X_test1.columns))+'\\n\\n'+\n",
    "              'RandomSearch Random Forest: '+'\\n\\n'+\n",
    "              'Cluster 0 \\n'+str(ran_rf0.best_params_)+'\\n'+'Best Score Cluster 0 :%0.4f' % ran_rf0.best_score_+'\\n\\n'+\n",
    "              'Cluster 1 \\n'+str(ran_rf1.best_params_)+'\\n'+'Best Score Cluster 1 :%0.4f' % ran_rf1.best_score_+'\\n\\n'+\n",
    "              'f1-score Cluster 0: %0.4f' % cr0['accuracy']+'\\n'+\n",
    "              'f1-score Cluster 1: %0.4f' % cr1['accuracy']+'\\n'+\n",
    "              'f1-score Combinado: %0.4f' % crc['accuracy']+'\\n\\n'+\n",
    "              '0 No es '+target+' :\\n %0.4f ' % crc['0']['f1-score']+'\\n'+\n",
    "              '1 Es '+target+' :\\n %0.4f ' % crc['1']['f1-score'])\n",
    "\n",
    "enviarDocumento(r'C:\\Users\\Dani\\OneDrive - SOFTOUR SISTEMAS S.L\\Data_Science\\Prediccion talleres\\plots\\Cluster0.png')\n",
    "enviarDocumento(r'C:\\Users\\Dani\\OneDrive - SOFTOUR SISTEMAS S.L\\Data_Science\\Prediccion talleres\\plots\\Cluster1.png')\n",
    "enviarDocumento(r'C:\\Users\\Dani\\OneDrive - SOFTOUR SISTEMAS S.L\\Data_Science\\Prediccion talleres\\plots\\importancia.png') \n",
    "\n",
    "sound=vlc.MediaPlayer(r'C:\\Users\\Dani\\OneDrive - SOFTOUR SISTEMAS S.L\\Data_Science\\Prediccion talleres\\sounds\\wavs_conga_groove.wav')\n",
    "#sound.play()\n",
    "print('done')"
   ]
  },
  {
   "cell_type": "code",
   "execution_count": null,
   "id": "b2e6dd9c",
   "metadata": {},
   "outputs": [],
   "source": []
  },
  {
   "cell_type": "markdown",
   "id": "803b74de",
   "metadata": {},
   "source": [
    "## GridSearch"
   ]
  },
  {
   "cell_type": "code",
   "execution_count": 196,
   "id": "47406ff8",
   "metadata": {},
   "outputs": [
    {
     "data": {
      "text/plain": [
       "\"\\nparameters_grid={'bootstrap': [True],\\n               'criterion':['entropy'],\\n               'max_depth': np.arange(2,20,1),\\n               'max_features': ['sqrt'],\\n               'min_samples_leaf': np.arange(2,4,1),\\n               'min_samples_split': np.arange(4,8,1),\\n               'class_weight':['balanced_subsample'],\\n               'n_estimators': np.arange(100,150,1)\\n            }\\n\""
      ]
     },
     "execution_count": 196,
     "metadata": {},
     "output_type": "execute_result"
    }
   ],
   "source": [
    "\n",
    "parameters_grid={'bootstrap': [True],\n",
    "               'criterion':['entropy'],\n",
    "               'max_depth': np.arange(100,200,1),\n",
    "               'max_features':['log2'],\n",
    "               'min_samples_leaf': np.arange(2,3,1),\n",
    "               'min_samples_split':  np.arange(5,11,1),\n",
    "               'class_weight':['balanced_subsample'],\n",
    "               'n_estimators':np.arange(50,100,1)\n",
    "            }\n",
    "'''\n",
    "parameters_grid={'bootstrap': [True],\n",
    "               'criterion':['entropy'],\n",
    "               'max_depth': np.arange(2,20,1),\n",
    "               'max_features': ['sqrt'],\n",
    "               'min_samples_leaf': np.arange(2,4,1),\n",
    "               'min_samples_split': np.arange(4,8,1),\n",
    "               'class_weight':['balanced_subsample'],\n",
    "               'n_estimators': np.arange(100,150,1)\n",
    "            }\n",
    "'''"
   ]
  },
  {
   "cell_type": "markdown",
   "id": "8bd5f745",
   "metadata": {},
   "source": [
    "Best parameters from Randomsearch: {'n_estimators': 135, 'min_samples_split': 6, 'min_samples_leaf': 2, 'max_features': 'sqrt', 'max_depth': 10, 'criterion': 'entropy', 'class_weight': 'balanced', 'bootstrap': True}\n",
    "CV score=0.595"
   ]
  },
  {
   "cell_type": "code",
   "execution_count": 197,
   "id": "ba9e2158",
   "metadata": {},
   "outputs": [
    {
     "name": "stdout",
     "output_type": "stream",
     "text": [
      "Fitting 5 folds for each of 30000 candidates, totalling 150000 fits\n"
     ]
    },
    {
     "data": {
      "text/plain": [
       "GridSearchCV(cv=5, estimator=RandomForestClassifier(random_state=0), n_jobs=-1,\n",
       "             param_grid={'bootstrap': [True],\n",
       "                         'class_weight': ['balanced_subsample'],\n",
       "                         'criterion': ['entropy'],\n",
       "                         'max_depth': array([100, 101, 102, 103, 104, 105, 106, 107, 108, 109, 110, 111, 112,\n",
       "       113, 114, 115, 116, 117, 118, 119, 120, 121, 122, 123, 124, 125,\n",
       "       126, 127, 128, 129, 130, 131, 132, 133, 134, 135, 136, 137, 138,\n",
       "       139, 1...\n",
       "       178, 179, 180, 181, 182, 183, 184, 185, 186, 187, 188, 189, 190,\n",
       "       191, 192, 193, 194, 195, 196, 197, 198, 199]),\n",
       "                         'max_features': ['log2'],\n",
       "                         'min_samples_leaf': array([2]),\n",
       "                         'min_samples_split': array([ 5,  6,  7,  8,  9, 10]),\n",
       "                         'n_estimators': array([50, 51, 52, 53, 54, 55, 56, 57, 58, 59, 60, 61, 62, 63, 64, 65, 66,\n",
       "       67, 68, 69, 70, 71, 72, 73, 74, 75, 76, 77, 78, 79, 80, 81, 82, 83,\n",
       "       84, 85, 86, 87, 88, 89, 90, 91, 92, 93, 94, 95, 96, 97, 98, 99])},\n",
       "             scoring='accuracy', verbose=1)"
      ]
     },
     "execution_count": 197,
     "metadata": {},
     "output_type": "execute_result"
    }
   ],
   "source": [
    "grid_rf = GridSearchCV(RF,parameters_grid,cv=5,scoring='accuracy',verbose=1,n_jobs=-1) \n",
    "grid_rf.fit(X_train,y_train)"
   ]
  },
  {
   "cell_type": "code",
   "execution_count": null,
   "id": "e84b3e9c",
   "metadata": {},
   "outputs": [],
   "source": [
    "print(\"Best parameters from gridsearch: {}\".format(grid_rf.best_params_))\n",
    "print(\"CV score=%0.3f\" % grid_rf.best_score_)\n",
    "cv_results = grid_rf.cv_results_"
   ]
  },
  {
   "cell_type": "markdown",
   "id": "605a5171",
   "metadata": {},
   "source": [
    "Best parameters from Randomsearch: {'n_estimators': 135, 'min_samples_split': 6, 'min_samples_leaf': 2, 'max_features': 'sqrt', 'max_depth': 10, 'criterion': 'entropy', 'class_weight': 'balanced', 'bootstrap': True}\n",
    "CV score=0.595"
   ]
  },
  {
   "cell_type": "markdown",
   "id": "03e293bc",
   "metadata": {},
   "source": [
    "Best parameters from Randomsearch: {'n_estimators': 45, 'min_samples_split': 6, 'min_samples_leaf': 3, 'max_features': 'sqrt', 'max_depth': 10, 'criterion': 'gini', 'class_weight': 'balanced', 'bootstrap': True}\n",
    "CV score=0.593"
   ]
  },
  {
   "cell_type": "code",
   "execution_count": null,
   "id": "0b6916eb",
   "metadata": {},
   "outputs": [],
   "source": []
  },
  {
   "cell_type": "code",
   "execution_count": 198,
   "id": "d1ffd5a3",
   "metadata": {},
   "outputs": [
    {
     "name": "stdout",
     "output_type": "stream",
     "text": [
      "SISTEMA REFRIGERACIÓN\n",
      "GridSearch\n",
      "\n",
      "Best parameters from gridsearch: {'bootstrap': True, 'class_weight': 'balanced_subsample', 'criterion': 'entropy', 'max_depth': 100, 'max_features': 'log2', 'min_samples_leaf': 2, 'min_samples_split': 7, 'n_estimators': 84}\n",
      "\n",
      "\n",
      "\n",
      "TRAIN \n",
      "CV score=0.589\n",
      "\n",
      "\n",
      "PREDICCIÓN \n",
      "\n",
      "\n",
      "Accuracy prediction:  0.5972420351878269\n",
      "f1-core :0.5972\n",
      "\n",
      "Random Forest Classifier \n",
      "\n",
      "              precision    recall  f1-score   support\n",
      "\n",
      "           0       0.61      0.56      0.58      1062\n",
      "           1       0.59      0.64      0.61      1041\n",
      "\n",
      "    accuracy                           0.60      2103\n",
      "   macro avg       0.60      0.60      0.60      2103\n",
      "weighted avg       0.60      0.60      0.60      2103\n",
      "\n",
      "\n",
      "\n",
      "Importancia:\n",
      "        feature  importancia\n",
      "0      modelo     0.269105\n",
      "1  v_codigbus     0.403180\n",
      "2      v_edad     0.327715\n"
     ]
    },
    {
     "data": {
      "image/png": "[encoded data removed]",
      "text/plain": [
       "<Figure size 432x288 with 1 Axes>"
      ]
     },
     "metadata": {},
     "output_type": "display_data"
    }
   ],
   "source": [
    "# constructor  GridSearch\n",
    "\n",
    "print(target.upper()+'\\n'+'GridSearch'+'\\n')\n",
    "print(\"Best parameters from gridsearch: {}\".format(grid_rf.best_params_))\n",
    "print ('\\n')\n",
    "print('\\nTRAIN ')\n",
    "print(\"CV score=%0.3f\" % grid_rf.best_score_)\n",
    "print ('\\n')\n",
    "\n",
    "from sklearn.inspection import permutation_importance\n",
    "\n",
    "\n",
    "gbp=grid_rf.best_params_\n",
    "RF_grid = RandomForestClassifier(random_state=0,bootstrap= gbp['bootstrap'],\n",
    "                               class_weight=gbp['class_weight'],\n",
    "                               criterion=gbp['criterion'],\n",
    "                               max_depth=gbp['max_depth'],\n",
    "                               max_features=gbp['max_features'],\n",
    "                               min_samples_leaf=gbp['min_samples_leaf'],\n",
    "                               min_samples_split=gbp['min_samples_split'],\n",
    "                               n_estimators=gbp['n_estimators'])\n",
    "\n",
    "\n",
    "#Predicción\n",
    "RF_grid.fit(X_train,y_train)\n",
    "y_pred = RF_grid.predict(X_test)\n",
    "acc = accuracy_score(y_test, y_pred)\n",
    "print ('PREDICCIÓN \\n\\n')\n",
    "print ('Accuracy prediction: ', acc)\n",
    "cr=classification_report(y_test, y_pred, output_dict=True)\n",
    "print('f1-core :%0.4f' %cr['accuracy']+'\\n')\n",
    "\n",
    "\n",
    "print('Random Forest Classifier \\n')\n",
    "print(classification_report(y_test, y_pred))\n",
    "print('\\n')\n",
    "importancia=pd.DataFrame({ 'feature': X_test.columns,'importancia': RF_ran.feature_importances_})\n",
    "\n",
    "print('Importancia:\\n ',importancia)\n",
    "x=X_test.columns\n",
    "y=RF_ran.feature_importances_\n",
    "my_color = np.where(y>=0.1, 'orange', 'skyblue')\n",
    "plt.barh(x, y,color=my_color)\n",
    "\n",
    "\n",
    "\n",
    "\n",
    "#Salida\n",
    "output = pd.DataFrame({ 'date': X_test.index,'Real': y_test, 'Predicho': y_pred})\n"
   ]
  },
  {
   "cell_type": "code",
   "execution_count": 219,
   "id": "4cd78222",
   "metadata": {},
   "outputs": [
    {
     "name": "stderr",
     "output_type": "stream",
     "text": [
      "C:\\Users\\Dani\\anaconda3\\lib\\site-packages\\IPython\\core\\interactiveshell.py:3364: FutureWarning: arrays to stack must be passed as a \"sequence\" type such as list or tuple. Support for non-sequence iterables such as generators is deprecated as of NumPy 1.16 and will raise an error in the future.\n",
      "  if (await self.run_code(code, result,  async_=asy)):\n"
     ]
    },
    {
     "data": {
      "image/png": "[encoded data removed]",
      "text/plain": [
       "<Figure size 1440x576 with 1 Axes>"
      ]
     },
     "metadata": {},
     "output_type": "display_data"
    }
   ],
   "source": [
    "import numpy as np\n",
    "plt.figure(figsize=(20,8))\n",
    "xx = np.stack(i for i in range(y_test.shape[0]))\n",
    "plt.scatter(xx, y_test, c='r', label='data',marker='o')\n",
    "plt.scatter(xx, y_pred, c='g', label='prediction',marker='o')\n",
    "plt.axis('tight')\n",
    "plt.legend()\n",
    "\n",
    "\n",
    "plt.show()"
   ]
  },
  {
   "cell_type": "code",
   "execution_count": 201,
   "id": "564e6072",
   "metadata": {},
   "outputs": [
    {
     "name": "stdout",
     "output_type": "stream",
     "text": [
      "done\n"
     ]
    }
   ],
   "source": [
    "# NOTIFICACIÓN DE PROCESO TERMINADO GridSearch\n",
    "import requests\n",
    "import vlc\n",
    "from datetime import datetime\n",
    "now = datetime.now()\n",
    "fecha=('Fecha: '+str(now.day)+'-'+str(now.month)+'-'+str(now.year)+' Hora: '+str(now.hour)+':'+str(now.minute))\n",
    "\n",
    "idBot = '5018694182:AAFfuyvlA9S8JJgrJ0WbUJlwSHz_tFluCI8'\n",
    "idGrupo = '-743732742'\n",
    "\n",
    "def enviarMensaje(mensaje):\n",
    "    requests.post('https://api.telegram.org/bot' + idBot + '/sendMessage',\n",
    "              data={'chat_id': idGrupo, 'text': mensaje, 'parse_mode': 'HTML'})\n",
    "\n",
    "def enviarDocumento(ruta):\n",
    "    requests.post('https://api.telegram.org/bot' + idBot + '/sendDocument',\n",
    "              files={'document': (ruta, open(ruta, 'rb'))},\n",
    "              data={'chat_id': idGrupo, 'caption': 'imagen caption'})\n",
    "    \n",
    "enviarMensaje(target.upper()+'\\n'+fecha+'\\n'+'GridSearch Random Forest: '+'\\n'+\n",
    "              'Features :\\n'+str(list(X_test.columns))+'\\n\\n'+\n",
    "              str(grid_rf.best_params_)+'\\n'+'Best Score :%0.4f' % grid_rf.best_score_+'\\n'\n",
    "              +'f1-score: %0.4f' % cr['accuracy']+'\\n'+\n",
    "              '0 : %0.4f' % cr['0']['f1-score']+'\\n'+\n",
    "              '1 : %0.4f' % cr['1']['f1-score'])\n",
    "\n",
    "#enviarDocumento(r'C:\\Users\\Practicas\\Documents\\Prediccion talleres\\sounds\\wavs_conga_groove.wav')\n",
    "\n",
    "sound=vlc.MediaPlayer(r'C:\\Users\\Dani\\OneDrive - SOFTOUR SISTEMAS S.L\\Data_Science\\Prediccion talleres\\sounds\\wavs_conga_groove.wav')\n",
    "#sound.play()\n",
    "print('done')"
   ]
  },
  {
   "cell_type": "code",
   "execution_count": 206,
   "id": "71a7387b",
   "metadata": {},
   "outputs": [
    {
     "name": "stdout",
     "output_type": "stream",
     "text": [
      "SISTEMA REFRIGERACIÓN\n",
      "GridSearch\n",
      "\n",
      "Best parameters from gridsearch: {'bootstrap': True, 'class_weight': 'balanced_subsample', 'criterion': 'entropy', 'max_depth': 100, 'max_features': 'log2', 'min_samples_leaf': 2, 'min_samples_split': 7, 'n_estimators': 84}\n",
      "\n",
      "\n",
      "\n",
      "TRAIN \n",
      "CV score=0.5885\n",
      "\n",
      "\n",
      "PREDICCIÓN \n",
      "\n",
      "\n",
      "Accuracy prediction:  0.6005706134094151\n",
      "f1-core :0.6006\n",
      "\n",
      "Random Forest Classifier \n",
      "\n",
      "              precision    recall  f1-score   support\n",
      "\n",
      "           0       0.61      0.56      0.59      1062\n",
      "           1       0.59      0.64      0.61      1041\n",
      "\n",
      "    accuracy                           0.60      2103\n",
      "   macro avg       0.60      0.60      0.60      2103\n",
      "weighted avg       0.60      0.60      0.60      2103\n",
      "\n",
      "\n",
      "\n",
      "Importancia:\n",
      "        feature  importancia\n",
      "0      modelo     0.269105\n",
      "1  v_codigbus     0.403180\n",
      "2      v_edad     0.327715\n"
     ]
    },
    {
     "data": {
      "image/png": "[encoded data removed]",
      "text/plain": [
       "<Figure size 432x288 with 1 Axes>"
      ]
     },
     "metadata": {},
     "output_type": "display_data"
    }
   ],
   "source": [
    "# Constructor\n",
    "# constructor  GridSearch\n",
    "\n",
    "print(target.upper()+'\\n'+'GridSearch'+'\\n')\n",
    "print(\"Best parameters from gridsearch: {}\".format(grid_rf.best_params_))\n",
    "print ('\\n')\n",
    "print('\\nTRAIN ')\n",
    "print(\"CV score=%0.4f\" % grid_rf.best_score_)\n",
    "print ('\\n')\n",
    "\n",
    "from sklearn.inspection import permutation_importance\n",
    "\n",
    "\n",
    "gbp=grid_rf.best_params_\n",
    "RF_grid = RandomForestClassifier(random_state=0,bootstrap= True,\n",
    "                               class_weight='balanced_subsample',\n",
    "                               criterion='entropy',\n",
    "                               max_depth=66,\n",
    "                               max_features='log2',\n",
    "                               min_samples_leaf=4,\n",
    "                               min_samples_split=9,\n",
    "                               n_estimators=34)\n",
    "\n",
    "\n",
    "#Predicción\n",
    "RF_grid.fit(X_train,y_train)\n",
    "y_pred = RF_grid.predict(X_test)\n",
    "acc = accuracy_score(y_test, y_pred)\n",
    "print ('PREDICCIÓN \\n\\n')\n",
    "print ('Accuracy prediction: ', acc)\n",
    "cr=classification_report(y_test, y_pred, output_dict=True)\n",
    "print('f1-core :%0.4f' %cr['accuracy']+'\\n')\n",
    "\n",
    "\n",
    "print('Random Forest Classifier \\n')\n",
    "print(classification_report(y_test, y_pred))\n",
    "print('\\n')\n",
    "importancia=pd.DataFrame({ 'feature': X_test.columns,'importancia': RF_ran.feature_importances_})\n",
    "\n",
    "print('Importancia:\\n ',importancia)\n",
    "x=X_test.columns\n",
    "y=RF_ran.feature_importances_\n",
    "my_color = np.where(y>=0.1, 'orange', 'skyblue')\n",
    "plt.barh(x, y,color=my_color)\n",
    "\n",
    "\n",
    "\n",
    "\n",
    "#Salida\n",
    "output = pd.DataFrame({ 'date': X_test.index,'Real': y_test, 'Predicho': y_pred})\n",
    "\n"
   ]
  },
  {
   "cell_type": "code",
   "execution_count": null,
   "id": "ce50c07f",
   "metadata": {},
   "outputs": [],
   "source": []
  },
  {
   "cell_type": "code",
   "execution_count": null,
   "id": "7bb837c4",
   "metadata": {},
   "outputs": [],
   "source": []
  },
  {
   "cell_type": "markdown",
   "id": "c3479432",
   "metadata": {
    "scrolled": false
   },
   "source": [
    "# SVC"
   ]
  },
  {
   "cell_type": "markdown",
   "id": "c8c04f9e",
   "metadata": {},
   "source": [
    "from sklearn.model_selection import GridSearchCV, RandomizedSearchCV \n",
    "from sklearn.svm import SVC # \"Support vector classifier\"\n",
    "from scipy import stats"
   ]
  },
  {
   "cell_type": "markdown",
   "id": "c2c09702",
   "metadata": {},
   "source": [
    "\n",
    "svc = SVC(probability = True, random_state = 0)\n",
    "svc"
   ]
  },
  {
   "cell_type": "code",
   "execution_count": null,
   "id": "92910a56",
   "metadata": {},
   "outputs": [],
   "source": []
  },
  {
   "cell_type": "markdown",
   "id": "9009ce85",
   "metadata": {},
   "source": [
    "'''\n",
    "parameters_ran_svc={'C': np.arange(0.1, 2, 0.2),\n",
    "                    #'kernel': ['rbf','linear', 'poly', 'sigmoid', 'precomputed'],\n",
    "                    \"gamma\": np.arange(0.1, 1, 0.2),\n",
    "                    'decision_function_shape':['ovo','ovr'],\n",
    "                    'class_weight': ['dict','balanced', 'None']\n",
    "                   }\n",
    "\n",
    "parameters_ran_svc={'C': np.arange(0.6, 1, 0.02),\n",
    "                    #'kernel': ['rbf','linear', 'poly', 'sigmoid', 'precomputed'],\n",
    "                    \"gamma\": np.arange(0.6, 1, 0.02),\n",
    "                    'decision_function_shape':['ovo','ovr'],\n",
    "                    'class_weight': ['dict','balanced', 'None']\n",
    "                   }\n",
    "'''                   \n",
    "parameters_ran_svc={'C': np.arange(0.68, 0.8, 0.01),\n",
    "                    #'kernel': ['rbf','linear', 'poly', 'sigmoid', 'precomputed'],\n",
    "                    \"gamma\": np.arange(0.6, 0.7, 0.01),\n",
    "                    'decision_function_shape':['ovo','ovr'],\n",
    "                    'class_weight': ['balanced']\n",
    "                   }"
   ]
  },
  {
   "cell_type": "code",
   "execution_count": 123,
   "id": "9bd4ab00",
   "metadata": {},
   "outputs": [
    {
     "name": "stdout",
     "output_type": "stream",
     "text": [
      "Fitting 5 folds for each of 10 candidates, totalling 50 fits\n"
     ]
    },
    {
     "data": {
      "text/plain": [
       "RandomizedSearchCV(cv=5, estimator=SVC(probability=True, random_state=0),\n",
       "                   n_jobs=-1,\n",
       "                   param_distributions={'C': array([0.68, 0.69, 0.7 , 0.71, 0.72, 0.73, 0.74, 0.75, 0.76, 0.77, 0.78,\n",
       "       0.79]),\n",
       "                                        'class_weight': ['balanced'],\n",
       "                                        'decision_function_shape': ['ovo',\n",
       "                                                                    'ovr'],\n",
       "                                        'gamma': array([0.6 , 0.61, 0.62, 0.63, 0.64, 0.65, 0.66, 0.67, 0.68, 0.69])},\n",
       "                   random_state=0, scoring='accuracy', verbose=1)"
      ]
     },
     "execution_count": 123,
     "metadata": {},
     "output_type": "execute_result"
    }
   ],
   "source": [
    "ran_svc=RandomizedSearchCV(svc,parameters_ran_svc,cv=5,scoring='accuracy',verbose=1,n_jobs=-1,random_state=0) \n",
    "ran_svc.fit(X_train,y_train)"
   ]
  },
  {
   "cell_type": "code",
   "execution_count": null,
   "id": "dd5c1e91",
   "metadata": {
    "scrolled": false
   },
   "outputs": [],
   "source": []
  },
  {
   "cell_type": "markdown",
   "id": "93c1bca9",
   "metadata": {},
   "source": [
    "print(\"Best parameters from Randomsearch: {}\".format(ran_svc.best_params_))\n",
    "print(\"CV score=%0.3f\" % ran_svc.best_score_)\n",
    "cv_results = ran_svc.cv_results_"
   ]
  },
  {
   "cell_type": "markdown",
   "id": "59cf01f7",
   "metadata": {},
   "source": [
    "parameters_grid_svc={'C': np.arange(0.75, 0.9, 0.01),\n",
    "                    #'kernel': ['rbf','linear', 'poly', 'sigmoid', 'precomputed'],\n",
    "                    \"gamma\": np.arange(0.6, 0.7, 0.01),\n",
    "                    'decision_function_shape':['ovo'],\n",
    "                    'class_weight': ['balanced']\n",
    "                   }\n"
   ]
  },
  {
   "cell_type": "markdown",
   "id": "0e4ebd97",
   "metadata": {},
   "source": [
    "grid_svc = GridSearchCV(svc,parameters_grid_svc,cv=5,scoring='accuracy',verbose=1,n_jobs=-1) \n",
    "grid_svc.fit(X_train,y_train)"
   ]
  },
  {
   "cell_type": "markdown",
   "id": "f0daa9e8",
   "metadata": {},
   "source": [
    "Best parameters from Randomsearch: {'gamma': 0.67, 'decision_function_shape': 'ovo', 'class_weight': 'balanced', 'C': 0.7900000000000001}\n",
    "CV score=0.595"
   ]
  },
  {
   "cell_type": "markdown",
   "id": "6fac1b82",
   "metadata": {},
   "source": [
    "print(\"Best parameters from gridsearch: {}\".format(grid_svc.best_params_))\n",
    "print(\"CV score=%0.3f\" % grid_svc.best_score_)\n",
    "cv_results = grid_svc.cv_results_"
   ]
  },
  {
   "cell_type": "markdown",
   "id": "605cb86f",
   "metadata": {},
   "source": [
    "# constructor\n",
    "test=X_test\n",
    "svc = SVC(probability = True, random_state = 0,\n",
    "          C=0.85 ,\n",
    "          gamma= 0.69,\n",
    "          decision_function_shape='ovo',\n",
    "          class_weight='balanced')\n",
    "\n",
    "#Predicción\n",
    "svc.fit(X_train,y_train)\n",
    "y_pred = svc.predict(X_test)\n",
    "acc = accuracy_score(y_test, y_pred)\n",
    "print ('Accuracy: ', acc)\n",
    "\n",
    "#Salida\n",
    "output_svr = pd.DataFrame({ 'date': X_test.index,'Real': y_test, 'Predicho': y_pred})"
   ]
  },
  {
   "cell_type": "markdown",
   "id": "606955a0",
   "metadata": {
    "scrolled": true
   },
   "source": [
    "print('DECISION TREE CLASSIFIER \\n')\n",
    "print(classification_report(y_test, y_pred))"
   ]
  },
  {
   "cell_type": "markdown",
   "id": "3766a7ca",
   "metadata": {},
   "source": [
    "sound=vlc.MediaPlayer(r'C:\\Users\\Practicas\\Documents\\Prediccion talleres\\sounds\\wavs_conga_groove.wav')\n",
    "sound.play()"
   ]
  }
 ],
 "metadata": {
  "kernelspec": {
   "display_name": "Python 3 (ipykernel)",
   "language": "python",
   "name": "python3"
  },
  "language_info": {
   "codemirror_mode": {
    "name": "ipython",
    "version": 3
   },
   "file_extension": ".py",
   "mimetype": "text/x-python",
   "name": "python",
   "nbconvert_exporter": "python",
   "pygments_lexer": "ipython3",
   "version": "3.9.7"
  }
 },
 "nbformat": 4,
 "nbformat_minor": 5
}
