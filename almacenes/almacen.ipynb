{
 "cells": [
  {
   "cell_type": "markdown",
   "id": "0a307cee-6eb0-4861-a6da-6c78a177a7d8",
   "metadata": {},
   "source": [
    "# Daniel Gómez Rámirez\n",
    "\n",
    "Para esta actividad se va a evaluar un dataset para un caso real obtenido de una empresa relacionada con autobuses, por lo que se descartaran algunas columnas por criterio experto, ya que no aplican para el objetivo real que se pretende, y no afecta  al objetivo de la actividad."
   ]
  },
  {
   "cell_type": "code",
   "execution_count": 1,
   "id": "abac7016-e841-4266-bf13-2e807677cefd",
   "metadata": {},
   "outputs": [],
   "source": [
    "import numpy as np\n",
    "import pandas as pd\n",
    "\n",
    "import os\n",
    "\n",
    "import matplotlib.pyplot as plt\n",
    "import seaborn as sns\n",
    "\n",
    "# para poder ver todas las columnas y filas \n",
    "pd.options.display.max_rows = 50\n",
    "pd.options.display.max_columns = 60"
   ]
  },
  {
   "cell_type": "markdown",
   "id": "c093f0a2-9cec-4cc7-abff-679c30ac7e33",
   "metadata": {},
   "source": [
    "# Carga de los datos\n",
    "\n",
    "En el dataset taller:    \n",
    "Obtenemos el error  ***\"Expected 30 fields in line 76683, saw 32\"***. que nos indica que hay filas con más columnas, que las columnas de la primera fila, la solución sería exportar los datos con un separación diferente a la \",\" o al \";\". ya que hay apartados que contienen este caracter. como se han moduficado varias columnas manualmente pero sigue existiendo el error en diferentes filas, para este caso academico descartamos las lineas con este error."
   ]
  },
  {
   "cell_type": "code",
   "execution_count": 2,
   "id": "bf79dfd8-79c1-45e7-8219-5978e4679ad7",
   "metadata": {},
   "outputs": [],
   "source": [
    "\n",
    "ruta_taller=os.path.join(\"data\",'taller_materiales.csv')\n",
    "taller = pd.read_csv(ruta_taller, sep='|', index_col = False)#, on_bad_lines='skip')\n"
   ]
  },
  {
   "cell_type": "code",
   "execution_count": null,
   "id": "dcb84df7-7ed9-4fa7-a577-1519eb2dc639",
   "metadata": {},
   "outputs": [],
   "source": []
  },
  {
   "cell_type": "code",
   "execution_count": 3,
   "id": "2c6556a7-98f8-4341-a048-8a0d6235f335",
   "metadata": {},
   "outputs": [],
   "source": [
    "ruta_vehiculo=os.path.join(\"data\",'veh_flota.csv')\n",
    "vehiculo = pd.read_csv(ruta_vehiculo, sep=';', index_col = False)#, on_bad_lines='skip')\n",
    "#display(vehiculo)"
   ]
  },
  {
   "cell_type": "markdown",
   "id": "fed4957a-a784-4bc4-8606-3ce4cf7710e5",
   "metadata": {
    "tags": []
   },
   "source": [
    "# Analisis Dataset TALLER"
   ]
  },
  {
   "cell_type": "markdown",
   "id": "dbbb0891-8434-40c0-a209-765431ccb5a4",
   "metadata": {},
   "source": [
    "sabemos que estas columnas  tienes tipos diferentes de datos las trataremos mas adelante si es necesario, por lo que podemos deducir que hay filas que no están correctamente declaradas"
   ]
  },
  {
   "cell_type": "code",
   "execution_count": null,
   "id": "7c9ada40-58a1-4790-9d24-bea627e75c9b",
   "metadata": {},
   "outputs": [],
   "source": []
  },
  {
   "cell_type": "code",
   "execution_count": 4,
   "id": "05f8850a-17d9-4996-8399-99272683fefa",
   "metadata": {},
   "outputs": [
    {
     "name": "stdout",
     "output_type": "stream",
     "text": [
      "(189154, 30)\n"
     ]
    },
    {
     "data": {
      "text/html": [
       "<div>\n",
       "<style scoped>\n",
       "    .dataframe tbody tr th:only-of-type {\n",
       "        vertical-align: middle;\n",
       "    }\n",
       "\n",
       "    .dataframe tbody tr th {\n",
       "        vertical-align: top;\n",
       "    }\n",
       "\n",
       "    .dataframe thead th {\n",
       "        text-align: right;\n",
       "    }\n",
       "</style>\n",
       "<table border=\"1\" class=\"dataframe\">\n",
       "  <thead>\n",
       "    <tr style=\"text-align: right;\">\n",
       "      <th></th>\n",
       "      <th>anyparte</th>\n",
       "      <th>numparte</th>\n",
       "      <th>numlinea</th>\n",
       "      <th>descrip</th>\n",
       "      <th>cantidad</th>\n",
       "      <th>precio</th>\n",
       "      <th>importe</th>\n",
       "      <th>prove mat</th>\n",
       "      <th>nomartic</th>\n",
       "      <th>fec_alta</th>\n",
       "      <th>fecultcom</th>\n",
       "      <th>preciouc</th>\n",
       "      <th>ctr_stock</th>\n",
       "      <th>ctr_serie</th>\n",
       "      <th>ctr_rueda</th>\n",
       "      <th>nomalmac</th>\n",
       "      <th>prove art</th>\n",
       "      <th>nomfamia</th>\n",
       "      <th>nommarca</th>\n",
       "      <th>nomresid</th>\n",
       "      <th>nomunida</th>\n",
       "      <th>codigbus</th>\n",
       "      <th>fechaent</th>\n",
       "      <th>numkms</th>\n",
       "      <th>fechasal</th>\n",
       "      <th>siniestro</th>\n",
       "      <th>descripcion</th>\n",
       "      <th>mecanico</th>\n",
       "      <th>mecanico ape</th>\n",
       "      <th>cliente</th>\n",
       "    </tr>\n",
       "  </thead>\n",
       "  <tbody>\n",
       "    <tr>\n",
       "      <th>10819</th>\n",
       "      <td>2009</td>\n",
       "      <td>90617</td>\n",
       "      <td>1</td>\n",
       "      <td>FUELLE PF 1885N1</td>\n",
       "      <td>1.0</td>\n",
       "      <td>75.000</td>\n",
       "      <td>75.00</td>\n",
       "      <td>EUROPART</td>\n",
       "      <td>FUELLE PF 1885N1</td>\n",
       "      <td>2012-02-29</td>\n",
       "      <td>2013-07-05</td>\n",
       "      <td>65.00</td>\n",
       "      <td>1</td>\n",
       "      <td>0</td>\n",
       "      <td>0</td>\n",
       "      <td>ALMACEN QUART</td>\n",
       "      <td>EUROPART</td>\n",
       "      <td>VARIOS</td>\n",
       "      <td>SIN ASIGNAR</td>\n",
       "      <td>NaN</td>\n",
       "      <td>UNIDADES</td>\n",
       "      <td>B120</td>\n",
       "      <td>2009-02-09</td>\n",
       "      <td>898995</td>\n",
       "      <td>2009-02-10</td>\n",
       "      <td>0</td>\n",
       "      <td>NaN</td>\n",
       "      <td>NaN</td>\n",
       "      <td>NaN</td>\n",
       "      <td>BUÑOL S.L.-AUTOBUSES</td>\n",
       "    </tr>\n",
       "    <tr>\n",
       "      <th>73604</th>\n",
       "      <td>2016</td>\n",
       "      <td>1602747</td>\n",
       "      <td>1</td>\n",
       "      <td>ALTERNADOR VOLVO</td>\n",
       "      <td>3.0</td>\n",
       "      <td>196.666</td>\n",
       "      <td>590.00</td>\n",
       "      <td>RS TURIA, S.L.</td>\n",
       "      <td>ALTERNADOR VOLVO</td>\n",
       "      <td>2016-04-14</td>\n",
       "      <td>2022-02-08</td>\n",
       "      <td>225.00</td>\n",
       "      <td>1</td>\n",
       "      <td>0</td>\n",
       "      <td>0</td>\n",
       "      <td>ALMACEN QUART</td>\n",
       "      <td>EUROPART</td>\n",
       "      <td>MATERIAL ELECTRICO</td>\n",
       "      <td>NaN</td>\n",
       "      <td>NaN</td>\n",
       "      <td>UNIDADES</td>\n",
       "      <td>B161</td>\n",
       "      <td>2016-04-14</td>\n",
       "      <td>339350</td>\n",
       "      <td>2016-04-14</td>\n",
       "      <td>0</td>\n",
       "      <td>MATERIAL -ALTERNADOR-</td>\n",
       "      <td>NaN</td>\n",
       "      <td>NaN</td>\n",
       "      <td>BUÑOL S.L.-AUTOBUSES</td>\n",
       "    </tr>\n",
       "    <tr>\n",
       "      <th>29599</th>\n",
       "      <td>2011</td>\n",
       "      <td>115168</td>\n",
       "      <td>2</td>\n",
       "      <td>CUOTA RUEDAS-SIGNFU-</td>\n",
       "      <td>2.0</td>\n",
       "      <td>10.620</td>\n",
       "      <td>21.24</td>\n",
       "      <td>REPSOL YPF LUBRICANTES Y ESPECIALIDADES</td>\n",
       "      <td>SIGNUS(RD 1619/2005)</td>\n",
       "      <td>2013-02-21</td>\n",
       "      <td>2022-06-02</td>\n",
       "      <td>9.70</td>\n",
       "      <td>1</td>\n",
       "      <td>0</td>\n",
       "      <td>0</td>\n",
       "      <td>ALMACEN QUART</td>\n",
       "      <td>GOODYEAR DUNLOP TIRES OPERATIONS, S.A.</td>\n",
       "      <td>CUBIERTAS</td>\n",
       "      <td>SIN ASIGNAR</td>\n",
       "      <td>GENERACION NEUMATICOS</td>\n",
       "      <td>UNIDADES</td>\n",
       "      <td>X113</td>\n",
       "      <td>2011-10-06</td>\n",
       "      <td>787258</td>\n",
       "      <td>2011-10-13</td>\n",
       "      <td>0</td>\n",
       "      <td>NaN</td>\n",
       "      <td>NaN</td>\n",
       "      <td>NaN</td>\n",
       "      <td>STARBUS S.L.</td>\n",
       "    </tr>\n",
       "    <tr>\n",
       "      <th>5630</th>\n",
       "      <td>2008</td>\n",
       "      <td>82916</td>\n",
       "      <td>3</td>\n",
       "      <td>MOTOR ELECTRIC.D/I REF.26220</td>\n",
       "      <td>1.0</td>\n",
       "      <td>68.750</td>\n",
       "      <td>55.00</td>\n",
       "      <td>NOGE, S.L.</td>\n",
       "      <td>MOTOR ELECTRIC.D/I REF.26220</td>\n",
       "      <td>2008-11-04</td>\n",
       "      <td>2008-11-04</td>\n",
       "      <td>55.00</td>\n",
       "      <td>1</td>\n",
       "      <td>0</td>\n",
       "      <td>0</td>\n",
       "      <td>ALMACEN QUART</td>\n",
       "      <td>NOGE, S.L.</td>\n",
       "      <td>VARIOS</td>\n",
       "      <td>SIN ASIGNAR</td>\n",
       "      <td>NaN</td>\n",
       "      <td>UNIDADES</td>\n",
       "      <td>B107</td>\n",
       "      <td>2008-05-30</td>\n",
       "      <td>830085</td>\n",
       "      <td>2008-06-03</td>\n",
       "      <td>0</td>\n",
       "      <td>NaN</td>\n",
       "      <td>NaN</td>\n",
       "      <td>NaN</td>\n",
       "      <td>BUÑOL S.L.-AUTOBUSES</td>\n",
       "    </tr>\n",
       "    <tr>\n",
       "      <th>106766</th>\n",
       "      <td>2018</td>\n",
       "      <td>1802648</td>\n",
       "      <td>4</td>\n",
       "      <td>APORTACIÓNSIGAUS RD679/06</td>\n",
       "      <td>5.0</td>\n",
       "      <td>0.060</td>\n",
       "      <td>0.30</td>\n",
       "      <td>MERCEDES-BENZ VALENCIA</td>\n",
       "      <td>APORTACIÓNSIGAUS RD679/06</td>\n",
       "      <td>2014-08-04</td>\n",
       "      <td>2021-09-20</td>\n",
       "      <td>0.27</td>\n",
       "      <td>1</td>\n",
       "      <td>0</td>\n",
       "      <td>0</td>\n",
       "      <td>ALMACEN QUART</td>\n",
       "      <td>MERCEDES-BENZ VALENCIA</td>\n",
       "      <td>ACEITES Y LUBRICANTES</td>\n",
       "      <td>NaN</td>\n",
       "      <td>NaN</td>\n",
       "      <td>UNIDADES</td>\n",
       "      <td>F013</td>\n",
       "      <td>2018-03-21</td>\n",
       "      <td>0</td>\n",
       "      <td>2018-03-21</td>\n",
       "      <td>0</td>\n",
       "      <td>MATERIAL -FILTRO ACEITE CAMBIO + JUNTA + ACEITE-</td>\n",
       "      <td>NaN</td>\n",
       "      <td>NaN</td>\n",
       "      <td>FERNANBUS S.A.</td>\n",
       "    </tr>\n",
       "  </tbody>\n",
       "</table>\n",
       "</div>"
      ],
      "text/plain": [
       "        anyparte  numparte  numlinea                       descrip  cantidad  \\\n",
       "10819       2009     90617         1              FUELLE PF 1885N1       1.0   \n",
       "73604       2016   1602747         1              ALTERNADOR VOLVO       3.0   \n",
       "29599       2011    115168         2          CUOTA RUEDAS-SIGNFU-       2.0   \n",
       "5630        2008     82916         3  MOTOR ELECTRIC.D/I REF.26220       1.0   \n",
       "106766      2018   1802648         4     APORTACIÓNSIGAUS RD679/06       5.0   \n",
       "\n",
       "         precio  importe                                prove mat  \\\n",
       "10819    75.000    75.00                                 EUROPART   \n",
       "73604   196.666   590.00                           RS TURIA, S.L.   \n",
       "29599    10.620    21.24  REPSOL YPF LUBRICANTES Y ESPECIALIDADES   \n",
       "5630     68.750    55.00                               NOGE, S.L.   \n",
       "106766    0.060     0.30                   MERCEDES-BENZ VALENCIA   \n",
       "\n",
       "                            nomartic    fec_alta   fecultcom  preciouc  \\\n",
       "10819               FUELLE PF 1885N1  2012-02-29  2013-07-05     65.00   \n",
       "73604               ALTERNADOR VOLVO  2016-04-14  2022-02-08    225.00   \n",
       "29599           SIGNUS(RD 1619/2005)  2013-02-21  2022-06-02      9.70   \n",
       "5630    MOTOR ELECTRIC.D/I REF.26220  2008-11-04  2008-11-04     55.00   \n",
       "106766     APORTACIÓNSIGAUS RD679/06  2014-08-04  2021-09-20      0.27   \n",
       "\n",
       "        ctr_stock  ctr_serie  ctr_rueda       nomalmac  \\\n",
       "10819           1          0          0  ALMACEN QUART   \n",
       "73604           1          0          0  ALMACEN QUART   \n",
       "29599           1          0          0  ALMACEN QUART   \n",
       "5630            1          0          0  ALMACEN QUART   \n",
       "106766          1          0          0  ALMACEN QUART   \n",
       "\n",
       "                                     prove art               nomfamia  \\\n",
       "10819                                 EUROPART                 VARIOS   \n",
       "73604                                 EUROPART     MATERIAL ELECTRICO   \n",
       "29599   GOODYEAR DUNLOP TIRES OPERATIONS, S.A.              CUBIERTAS   \n",
       "5630                                NOGE, S.L.                 VARIOS   \n",
       "106766                  MERCEDES-BENZ VALENCIA  ACEITES Y LUBRICANTES   \n",
       "\n",
       "           nommarca               nomresid  nomunida codigbus    fechaent  \\\n",
       "10819   SIN ASIGNAR                    NaN  UNIDADES     B120  2009-02-09   \n",
       "73604           NaN                    NaN  UNIDADES     B161  2016-04-14   \n",
       "29599   SIN ASIGNAR  GENERACION NEUMATICOS  UNIDADES     X113  2011-10-06   \n",
       "5630    SIN ASIGNAR                    NaN  UNIDADES     B107  2008-05-30   \n",
       "106766          NaN                    NaN  UNIDADES     F013  2018-03-21   \n",
       "\n",
       "        numkms    fechasal  siniestro  \\\n",
       "10819   898995  2009-02-10          0   \n",
       "73604   339350  2016-04-14          0   \n",
       "29599   787258  2011-10-13          0   \n",
       "5630    830085  2008-06-03          0   \n",
       "106766       0  2018-03-21          0   \n",
       "\n",
       "                                             descripcion mecanico  \\\n",
       "10819                                                NaN      NaN   \n",
       "73604                              MATERIAL -ALTERNADOR-      NaN   \n",
       "29599                                                NaN      NaN   \n",
       "5630                                                 NaN      NaN   \n",
       "106766  MATERIAL -FILTRO ACEITE CAMBIO + JUNTA + ACEITE-      NaN   \n",
       "\n",
       "       mecanico ape               cliente  \n",
       "10819           NaN  BUÑOL S.L.-AUTOBUSES  \n",
       "73604           NaN  BUÑOL S.L.-AUTOBUSES  \n",
       "29599           NaN          STARBUS S.L.  \n",
       "5630            NaN  BUÑOL S.L.-AUTOBUSES  \n",
       "106766          NaN        FERNANBUS S.A.  "
      ]
     },
     "execution_count": 4,
     "metadata": {},
     "output_type": "execute_result"
    }
   ],
   "source": [
    "print(taller.shape)\n",
    "taller.sample(5)"
   ]
  },
  {
   "cell_type": "markdown",
   "id": "3ef0a296-367f-4cf8-8352-f6c6a051ee3c",
   "metadata": {},
   "source": [
    "con este codigo verificabamos el numero de columnas de las filas para buscar donde habia un error en la fila, en este caso concreto, se verificó que la fila 8 y 9 debian estar en la misma fila."
   ]
  },
  {
   "cell_type": "code",
   "execution_count": 5,
   "id": "e7541de6-d0c0-409e-93cc-2ceefe76e929",
   "metadata": {},
   "outputs": [
    {
     "name": "stdout",
     "output_type": "stream",
     "text": [
      "30\n"
     ]
    }
   ],
   "source": [
    "a='2008|85505|1|VAVULA AGUA CALEFACCION 3/4\" 24V.|1.00|143.2200|143.22|VELASCO-DE DIEGO, S.L.|VAVULA AGUA CALEFACCION 3/4\" 24V.|2008-10-15|2008-10-15|143.220000|1|0|0|ALMACEN QUART|VELASCO-DE DIEGO, S.L.|BOMBAS AGUA Y VALVULAS|SIN ASIGNAR||UNIDADES|F172|2008-10-15|0|2008-10-20|0||||FERNANBUS S.A.'\n",
    "a= pd.Series(a.split(\"|\"))\n",
    "print(len(a))"
   ]
  },
  {
   "cell_type": "code",
   "execution_count": 6,
   "id": "7563f0c6-545a-4877-a5b7-9aa0d456e55f",
   "metadata": {},
   "outputs": [
    {
     "name": "stdout",
     "output_type": "stream",
     "text": [
      "31\n"
     ]
    },
    {
     "data": {
      "text/plain": [
       "0                                                  2016\n",
       "1                                               1603791\n",
       "2                                                     1\n",
       "3              IRFB3607PBF N-MOSFET UNIPOLAR HEXFET 75V\n",
       "4                                                  5.00\n",
       "5                                                3.5000\n",
       "6                                                 17.50\n",
       "7                               ELECTRONICA GIMENO S.L.\n",
       "8              IRFB3607PBF N-MOSFET UNIPOLAR HEXFET 75V\n",
       "9                                                   80A\n",
       "10                                           2016-05-13\n",
       "11                                           2016-05-13\n",
       "12                                             3.500000\n",
       "13                                                    1\n",
       "14                                                    0\n",
       "15                                                    0\n",
       "16                                        ALMACEN QUART\n",
       "17                              ELECTRONICA GIMENO S.L.\n",
       "18                                      IMAGEN Y SONIDO\n",
       "19                                                     \n",
       "20                                                     \n",
       "21                                             UNIDADES\n",
       "22                                                 U316\n",
       "23                                           2016-05-13\n",
       "24                                               273287\n",
       "25                                           2016-05-13\n",
       "26                                                    0\n",
       "27    MATERIAL -CONECTORES, MANDO A DISTANCIA Y VENT...\n",
       "28                                                     \n",
       "29                                                     \n",
       "30                          VIAJES TRANSVIA TOURS, S.L.\n",
       "dtype: object"
      ]
     },
     "execution_count": 6,
     "metadata": {},
     "output_type": "execute_result"
    }
   ],
   "source": [
    "a='2016;1603791;1;IRFB3607PBF N-MOSFET UNIPOLAR HEXFET 75V;5.00;3.5000;17.50;ELECTRONICA GIMENO S.L.;IRFB3607PBF N-MOSFET UNIPOLAR HEXFET 75V;80A;2016-05-13;2016-05-13;3.500000;1;0;0;ALMACEN QUART;ELECTRONICA GIMENO S.L.;IMAGEN Y SONIDO;;;UNIDADES;U316;2016-05-13;273287;2016-05-13;0;MATERIAL -CONECTORES, MANDO A DISTANCIA Y VENTILADOR-;;;VIAJES TRANSVIA TOURS, S.L.'\n",
    "a= pd.Series(a.split(\";\"))\n",
    "print(len(a))\n",
    "a"
   ]
  },
  {
   "cell_type": "markdown",
   "id": "1384ee20-8fa2-4828-8e11-b69a5bae8e0d",
   "metadata": {},
   "source": [
    "buscamos registros duplicados y vemos que para el dataset taller hay 0"
   ]
  },
  {
   "cell_type": "code",
   "execution_count": 7,
   "id": "a8d97f07-850f-44f2-b4af-d18a2310c33e",
   "metadata": {},
   "outputs": [
    {
     "name": "stdout",
     "output_type": "stream",
     "text": [
      "0\n"
     ]
    }
   ],
   "source": [
    "print(taller.duplicated().sum())"
   ]
  },
  {
   "cell_type": "markdown",
   "id": "eb271c9d-41c8-4594-a4e9-92463d162c89",
   "metadata": {},
   "source": [
    "## Missings\n",
    "buscamos  los missings para el dataset taller"
   ]
  },
  {
   "cell_type": "code",
   "execution_count": 8,
   "id": "54892aea-6085-4618-a589-cd0c57757ea9",
   "metadata": {},
   "outputs": [
    {
     "data": {
      "text/html": [
       "<div>\n",
       "<style scoped>\n",
       "    .dataframe tbody tr th:only-of-type {\n",
       "        vertical-align: middle;\n",
       "    }\n",
       "\n",
       "    .dataframe tbody tr th {\n",
       "        vertical-align: top;\n",
       "    }\n",
       "\n",
       "    .dataframe thead th {\n",
       "        text-align: right;\n",
       "    }\n",
       "</style>\n",
       "<table border=\"1\" class=\"dataframe\">\n",
       "  <thead>\n",
       "    <tr style=\"text-align: right;\">\n",
       "      <th></th>\n",
       "      <th>0</th>\n",
       "    </tr>\n",
       "  </thead>\n",
       "  <tbody>\n",
       "    <tr>\n",
       "      <th>anyparte</th>\n",
       "      <td>0.000000</td>\n",
       "    </tr>\n",
       "    <tr>\n",
       "      <th>numparte</th>\n",
       "      <td>0.000000</td>\n",
       "    </tr>\n",
       "    <tr>\n",
       "      <th>numlinea</th>\n",
       "      <td>0.000000</td>\n",
       "    </tr>\n",
       "    <tr>\n",
       "      <th>descrip</th>\n",
       "      <td>0.000000</td>\n",
       "    </tr>\n",
       "    <tr>\n",
       "      <th>cantidad</th>\n",
       "      <td>0.000000</td>\n",
       "    </tr>\n",
       "    <tr>\n",
       "      <th>precio</th>\n",
       "      <td>0.000000</td>\n",
       "    </tr>\n",
       "    <tr>\n",
       "      <th>importe</th>\n",
       "      <td>0.000000</td>\n",
       "    </tr>\n",
       "    <tr>\n",
       "      <th>prove mat</th>\n",
       "      <td>0.312444</td>\n",
       "    </tr>\n",
       "    <tr>\n",
       "      <th>nomartic</th>\n",
       "      <td>0.000000</td>\n",
       "    </tr>\n",
       "    <tr>\n",
       "      <th>fec_alta</th>\n",
       "      <td>0.000000</td>\n",
       "    </tr>\n",
       "    <tr>\n",
       "      <th>fecultcom</th>\n",
       "      <td>0.111549</td>\n",
       "    </tr>\n",
       "    <tr>\n",
       "      <th>preciouc</th>\n",
       "      <td>0.087231</td>\n",
       "    </tr>\n",
       "    <tr>\n",
       "      <th>ctr_stock</th>\n",
       "      <td>0.000000</td>\n",
       "    </tr>\n",
       "    <tr>\n",
       "      <th>ctr_serie</th>\n",
       "      <td>0.000000</td>\n",
       "    </tr>\n",
       "    <tr>\n",
       "      <th>ctr_rueda</th>\n",
       "      <td>0.000000</td>\n",
       "    </tr>\n",
       "    <tr>\n",
       "      <th>nomalmac</th>\n",
       "      <td>0.000000</td>\n",
       "    </tr>\n",
       "    <tr>\n",
       "      <th>prove art</th>\n",
       "      <td>0.246889</td>\n",
       "    </tr>\n",
       "    <tr>\n",
       "      <th>nomfamia</th>\n",
       "      <td>0.000000</td>\n",
       "    </tr>\n",
       "    <tr>\n",
       "      <th>nommarca</th>\n",
       "      <td>53.266650</td>\n",
       "    </tr>\n",
       "    <tr>\n",
       "      <th>nomresid</th>\n",
       "      <td>99.613014</td>\n",
       "    </tr>\n",
       "    <tr>\n",
       "      <th>nomunida</th>\n",
       "      <td>0.000000</td>\n",
       "    </tr>\n",
       "    <tr>\n",
       "      <th>codigbus</th>\n",
       "      <td>0.000000</td>\n",
       "    </tr>\n",
       "    <tr>\n",
       "      <th>fechaent</th>\n",
       "      <td>0.000000</td>\n",
       "    </tr>\n",
       "    <tr>\n",
       "      <th>numkms</th>\n",
       "      <td>0.000000</td>\n",
       "    </tr>\n",
       "    <tr>\n",
       "      <th>fechasal</th>\n",
       "      <td>0.065555</td>\n",
       "    </tr>\n",
       "    <tr>\n",
       "      <th>siniestro</th>\n",
       "      <td>0.000000</td>\n",
       "    </tr>\n",
       "    <tr>\n",
       "      <th>descripcion</th>\n",
       "      <td>16.746672</td>\n",
       "    </tr>\n",
       "    <tr>\n",
       "      <th>mecanico</th>\n",
       "      <td>84.109773</td>\n",
       "    </tr>\n",
       "    <tr>\n",
       "      <th>mecanico ape</th>\n",
       "      <td>82.519534</td>\n",
       "    </tr>\n",
       "    <tr>\n",
       "      <th>cliente</th>\n",
       "      <td>0.044937</td>\n",
       "    </tr>\n",
       "  </tbody>\n",
       "</table>\n",
       "</div>"
      ],
      "text/plain": [
       "                      0\n",
       "anyparte       0.000000\n",
       "numparte       0.000000\n",
       "numlinea       0.000000\n",
       "descrip        0.000000\n",
       "cantidad       0.000000\n",
       "precio         0.000000\n",
       "importe        0.000000\n",
       "prove mat      0.312444\n",
       "nomartic       0.000000\n",
       "fec_alta       0.000000\n",
       "fecultcom      0.111549\n",
       "preciouc       0.087231\n",
       "ctr_stock      0.000000\n",
       "ctr_serie      0.000000\n",
       "ctr_rueda      0.000000\n",
       "nomalmac       0.000000\n",
       "prove art      0.246889\n",
       "nomfamia       0.000000\n",
       "nommarca      53.266650\n",
       "nomresid      99.613014\n",
       "nomunida       0.000000\n",
       "codigbus       0.000000\n",
       "fechaent       0.000000\n",
       "numkms         0.000000\n",
       "fechasal       0.065555\n",
       "siniestro      0.000000\n",
       "descripcion   16.746672\n",
       "mecanico      84.109773\n",
       "mecanico ape  82.519534\n",
       "cliente        0.044937"
      ]
     },
     "execution_count": 8,
     "metadata": {},
     "output_type": "execute_result"
    }
   ],
   "source": [
    "missing_taller=taller.isna().sum()/len(taller)*100\n",
    "missing_taller=pd.DataFrame(missing_taller)\n",
    "missing_taller"
   ]
  },
  {
   "cell_type": "code",
   "execution_count": 9,
   "id": "25441eb4-da0a-4d84-be16-bc7691e5e0e9",
   "metadata": {},
   "outputs": [],
   "source": [
    "\n",
    "\n",
    "#missing_taller['indice']=range(len(missing_taller))\n",
    "#missing_taller.set_index('indice')\n",
    "#missing_taller.reset_index(inplace=True)\n",
    "#missing_taller = missing_taller.rename(columns = {'index':'columnas'})\n",
    "#missing_taller = missing_taller.rename(columns = {0:'missings'})\n"
   ]
  },
  {
   "cell_type": "markdown",
   "id": "f898d66a-c7f8-437e-982b-a96014a0b3f5",
   "metadata": {},
   "source": [
    "creamos una función apra hacer el plot de el % missings por columna ya que lo vamos a aplicar a varios datasets."
   ]
  },
  {
   "cell_type": "code",
   "execution_count": 10,
   "id": "262268c6-1ea4-4353-b490-1a20932c4a06",
   "metadata": {},
   "outputs": [],
   "source": [
    "def plot_miss(data):\n",
    "    sice_x=10 if len (data) >30 else 6\n",
    "    # print(len(data))\n",
    "    #print(sice_x)\n",
    "    sns.set_theme(style=\"whitegrid\")\n",
    "    plt.figure(figsize = (12,sice_x))\n",
    "    sns.set_color_codes(\"muted\")\n",
    "    \n",
    "    ax = sns.barplot( x=0, y=data.index, data=data).set(title='% de Missings por columna')\n",
    "    #ax.set_xticklabels(ax.get_xticklabels(),rotation = 30)\n",
    "   \n",
    "    plt.xlabel('% Missings')\n",
    "    plt.ylabel('Columnas')\n",
    "    plt.show()\n",
    "     "
   ]
  },
  {
   "cell_type": "markdown",
   "id": "e1d15142-feed-449c-bb23-fa5e6c2c758b",
   "metadata": {},
   "source": [
    "Mostramos de forma grafia el porcentaje de missings"
   ]
  },
  {
   "cell_type": "code",
   "execution_count": 11,
   "id": "63a982b9-34ac-43b9-a7ec-c64be5e3e932",
   "metadata": {},
   "outputs": [
    {
     "data": {
      "image/png": "[encoded data removed]",
      "text/plain": [
       "<Figure size 864x432 with 1 Axes>"
      ]
     },
     "metadata": {},
     "output_type": "display_data"
    }
   ],
   "source": [
    "plot_miss(missing_taller)"
   ]
  },
  {
   "cell_type": "markdown",
   "id": "e05f2d75-dfbf-4ecc-bc2c-cbd5cd10a5ab",
   "metadata": {},
   "source": [
    "consultamos lso tipos asignados por Pandas al dataframe"
   ]
  },
  {
   "cell_type": "code",
   "execution_count": 12,
   "id": "caeb627e-a396-46cb-a294-e4d7320a8216",
   "metadata": {},
   "outputs": [
    {
     "data": {
      "text/plain": [
       "anyparte          int64\n",
       "numparte          int64\n",
       "numlinea          int64\n",
       "descrip          object\n",
       "cantidad        float64\n",
       "precio          float64\n",
       "importe         float64\n",
       "prove mat        object\n",
       "nomartic         object\n",
       "fec_alta         object\n",
       "fecultcom        object\n",
       "preciouc        float64\n",
       "ctr_stock         int64\n",
       "ctr_serie         int64\n",
       "ctr_rueda         int64\n",
       "nomalmac         object\n",
       "prove art        object\n",
       "nomfamia         object\n",
       "nommarca         object\n",
       "nomresid         object\n",
       "nomunida         object\n",
       "codigbus         object\n",
       "fechaent         object\n",
       "numkms            int64\n",
       "fechasal         object\n",
       "siniestro         int64\n",
       "descripcion      object\n",
       "mecanico         object\n",
       "mecanico ape     object\n",
       "cliente          object\n",
       "dtype: object"
      ]
     },
     "execution_count": 12,
     "metadata": {},
     "output_type": "execute_result"
    }
   ],
   "source": [
    "taller.dtypes"
   ]
  },
  {
   "cell_type": "markdown",
   "id": "825fd8fc-a39c-41fa-9152-34fbeb47d181",
   "metadata": {},
   "source": [
    "### Seleccionamos columnas\n",
    "seleccioanmos las columnas\n"
   ]
  },
  {
   "cell_type": "code",
   "execution_count": 13,
   "id": "d6293b3e-3dde-4576-b038-b7efaade6723",
   "metadata": {},
   "outputs": [],
   "source": [
    "features_taller=['anyparte', 'numparte', 'numlinea', 'descrip', 'cantidad', 'precio',\n",
    "       'importe', 'prove mat', 'nomartic', 'fec_alta', 'fecultcom', 'preciouc',\n",
    "       'ctr_stock', 'nomalmac', 'prove art',\n",
    "       'nomfamia', 'nomunida', 'codigbus', 'fechaent',\n",
    "       'numkms', 'fechasal', 'siniestro', 'descripcion','cliente']\n",
    "taller= taller[features_taller]"
   ]
  },
  {
   "cell_type": "markdown",
   "id": "de34ffbd-26e9-48fa-b062-bf84cd416106",
   "metadata": {},
   "source": [
    "imputar 'Sin asignar' a los missings de las columnas prove mat','prove art','cliente','descripcion'\n",
    " y 0 a la columna preciouc"
   ]
  },
  {
   "cell_type": "code",
   "execution_count": 14,
   "id": "6d827057-862e-4428-b6cf-4d62dcc877d4",
   "metadata": {},
   "outputs": [],
   "source": [
    " \n",
    "\n",
    "taller['preciouc']=np.where((taller['preciouc'].isna()) ,0, taller['preciouc'])\n",
    "\n",
    "columnas=['prove mat','prove art','cliente','descripcion']\n",
    "for columna in columnas:\n",
    "    taller[columna]=np.where((taller['prove mat'].isna()) ,'SIN ASIGNAR', taller['prove mat'])\n",
    "\n"
   ]
  },
  {
   "cell_type": "code",
   "execution_count": null,
   "id": "2265f68d-2c7f-45b2-9217-563ab498969c",
   "metadata": {},
   "outputs": [],
   "source": []
  },
  {
   "cell_type": "markdown",
   "id": "d595ee9a-809e-49cb-a442-b24f39cffd5e",
   "metadata": {},
   "source": [
    "creamos una función para poder corregir los errores, que se han visto en las columnas de fechas en  ambos datasets.    \n",
    "Esta función se ha ido actualizando para los errores que se han ido encontrando    \n",
    "Como vamos a trabajar con fechas importamos datetime para poder asiganar el tipo fecha."
   ]
  },
  {
   "cell_type": "code",
   "execution_count": 15,
   "id": "770d3120-e0d4-4c15-a337-19170113a6c2",
   "metadata": {},
   "outputs": [],
   "source": [
    "from datetime import datetime, timedelta"
   ]
  },
  {
   "cell_type": "code",
   "execution_count": 16,
   "id": "c457085d-3c3c-48d8-905a-a49269c5ab6a",
   "metadata": {},
   "outputs": [],
   "source": [
    "\n",
    "def norm_fecha (columna):\n",
    "\n",
    "    fecha = columna.str.split(pat = '-', expand = True)\n",
    "    \n",
    "    # verificar si 0201 es 2001 o 2021\n",
    "    fechas=[\n",
    "            # añadidas para el data set taller para als 3 columnas\n",
    "            ['0011','2011'],['0012','2012'],['2200','2020'],\n",
    "            ['1948','2018'],['3200','2020'],['2200','2020'],\n",
    "            ['2201','2021'],['3011','2011'],['2301','2021'],\n",
    "            ['8201','2021'],['0201','2001'],['0212','2012'],\n",
    "            ['1912','2012'],['9201','2021'],['2048','2018'],\n",
    "            ['2047','2017'],['2107','2017'],['2044','2011'],\n",
    "            ['2029','2020'],\n",
    "            #añadidas para el data set vehiculo columna 'fechamat'\n",
    "            #['0',np.nan],['65','1965'],['0000',np.nan],\n",
    "            #['63','1963'],['59','1959'],['23','2022'],\n",
    "            #['54','1954'],['0001','2001'],\n",
    "        \n",
    "            ['0',np.nan],['65',np.nan],['0000',np.nan],\n",
    "            ['63',np.nan],['59',np.nan],['23',np.nan],\n",
    "            ['54',np.nan],['0001','2001'],\n",
    "            #añadidas para el data set vehiculo columna 'matriculacion_planner'\n",
    "            ['34',np.nan],['19',np.nan],['43',np.nan],\n",
    "            ['24',np.nan],['39',np.nan],['40',np.nan],\n",
    "            ['55',np.nan],['25',np.nan],['50',np.nan],\n",
    "            ['35',np.nan],['22',np.nan],['71',np.nan],\n",
    "            ['53',np.nan],['61',np.nan],['47',np.nan],\n",
    "            ['15',np.nan],['31',np.nan],['8',np.nan],\n",
    "            ['12',np.nan],['9',np.nan],['18',np.nan],\n",
    "            ['13',np.nan],['28',np.nan],['56',np.nan],\n",
    "            ['26',np.nan],['4',np.nan],['5',np.nan]\n",
    "\n",
    "           ]\n",
    "    \n",
    "    for f,f1 in fechas:\n",
    "        fecha[0]=np.where((fecha[0]==f) ,f1, fecha[0])\n",
    "\n",
    "    \n",
    "    colum_fecha=fecha[0]+'-'+fecha[1]+'-'+fecha[2]     \n",
    "    fecha_year=pd.unique(fecha[0])\n",
    "    return  colum_fecha, fecha_year, fecha[0]\n",
    "\n",
    "\n",
    "def cuentaNAN(fecha_a):\n",
    "    fecha_b=pd.DataFrame(fecha_a[:1])\n",
    "    fecha_b = fecha_b.transpose()\n",
    "    print('Fechas')\n",
    "    print(f'cantidad de registros: {fecha_b.count()}')\n",
    "    print(f'cantidad de MISSINGS: {fecha_b.isna().sum()}')\n",
    "    print(f'Porcentaje de MISSINGS: {fecha_b.isna().sum()/len(fecha_b)*100}')"
   ]
  },
  {
   "cell_type": "markdown",
   "id": "28c0a718-9002-479c-afd2-6a6ecca676a8",
   "metadata": {},
   "source": [
    "verificamos los valores unicos de las columnas, fechas, pudiendo añadir los valores atipicos a la lista fechas de la función anterior"
   ]
  },
  {
   "cell_type": "code",
   "execution_count": 17,
   "id": "159ebd00-5355-4064-93b1-bf7f4c2902bc",
   "metadata": {},
   "outputs": [
    {
     "data": {
      "text/plain": [
       "array(['2012', '2010', '2009', '2011', '2007', '2008', '2013', '2019',\n",
       "       '2006', '2020', '2021', '2001', '2018', '2014', '2017', '2015',\n",
       "       '2016', '2005', '2004', '2003', '2022'], dtype=object)"
      ]
     },
     "execution_count": 17,
     "metadata": {},
     "output_type": "execute_result"
    }
   ],
   "source": [
    "fecha_a= norm_fecha(taller['fec_alta'])\n",
    "fecha_a[1]"
   ]
  },
  {
   "cell_type": "code",
   "execution_count": 18,
   "id": "bd7d913b-9ffd-4590-b1c1-0e55949fa594",
   "metadata": {},
   "outputs": [
    {
     "name": "stdout",
     "output_type": "stream",
     "text": [
      "Fechas\n",
      "cantidad de registros: 0    189154\n",
      "dtype: int64\n",
      "cantidad de MISSINGS: 0    0\n",
      "dtype: int64\n",
      "Porcentaje de MISSINGS: 0    0.0\n",
      "dtype: float64\n"
     ]
    }
   ],
   "source": [
    "cuentaNAN(fecha_a)"
   ]
  },
  {
   "cell_type": "code",
   "execution_count": 19,
   "id": "aade9db2-3d8b-4ff5-b5cb-758bb798caa5",
   "metadata": {},
   "outputs": [],
   "source": [
    "taller['fec_alta']=fecha_a[0]\n",
    "taller['fec_alta'] = pd.to_datetime(taller['fec_alta'], format='%Y-%m-%d')"
   ]
  },
  {
   "cell_type": "code",
   "execution_count": 20,
   "id": "43b26a97-ecee-4173-bf2f-f1c45c346fee",
   "metadata": {},
   "outputs": [
    {
     "data": {
      "text/plain": [
       "array(['2020', '2010', '2022', '2017', '2019', '2011', '2007', '2021',\n",
       "       '2009', '2015', '2018', '2008', '2013', '2016', '2012', '2014',\n",
       "       '2006', nan, '2001', '2005', '2004'], dtype=object)"
      ]
     },
     "execution_count": 20,
     "metadata": {},
     "output_type": "execute_result"
    }
   ],
   "source": [
    "fecha_a= norm_fecha(taller['fecultcom'])\n",
    "fecha_a[1]"
   ]
  },
  {
   "cell_type": "code",
   "execution_count": 21,
   "id": "0778e39a-0b85-49ca-a3b3-f1749a98acb9",
   "metadata": {},
   "outputs": [
    {
     "name": "stdout",
     "output_type": "stream",
     "text": [
      "Fechas\n",
      "cantidad de registros: 0    188943\n",
      "dtype: int64\n",
      "cantidad de MISSINGS: 0    211\n",
      "dtype: int64\n",
      "Porcentaje de MISSINGS: 0    0.111549\n",
      "dtype: float64\n"
     ]
    }
   ],
   "source": [
    "cuentaNAN(fecha_a)"
   ]
  },
  {
   "cell_type": "code",
   "execution_count": 22,
   "id": "15335a71-284f-44ae-8c47-6c636db1b86b",
   "metadata": {},
   "outputs": [],
   "source": [
    "taller['fecultcom']=fecha_a[0]\n",
    "taller['fecultcom'] = pd.to_datetime(taller['fecultcom'], format='%Y-%m-%d')"
   ]
  },
  {
   "cell_type": "code",
   "execution_count": 23,
   "id": "f138dabe-5000-47c0-b1cf-913e945fe4a3",
   "metadata": {},
   "outputs": [
    {
     "data": {
      "text/plain": [
       "array(['2007', '2008', '2013', '2009', '2010', '2011', '2012', nan,\n",
       "       '2014', '2021', '2015', '2016', '2017', '2018', '2019', '2020',\n",
       "       '2022'], dtype=object)"
      ]
     },
     "execution_count": 23,
     "metadata": {},
     "output_type": "execute_result"
    }
   ],
   "source": [
    "fecha_a= norm_fecha(taller['fechasal'])\n",
    "fecha_a[1]"
   ]
  },
  {
   "cell_type": "code",
   "execution_count": 24,
   "id": "9163f0e5-f935-4363-9fc1-31e4b3eac7b0",
   "metadata": {},
   "outputs": [
    {
     "name": "stdout",
     "output_type": "stream",
     "text": [
      "Fechas\n",
      "cantidad de registros: 0    189030\n",
      "dtype: int64\n",
      "cantidad de MISSINGS: 0    124\n",
      "dtype: int64\n",
      "Porcentaje de MISSINGS: 0    0.065555\n",
      "dtype: float64\n"
     ]
    }
   ],
   "source": [
    "cuentaNAN(fecha_a)"
   ]
  },
  {
   "cell_type": "code",
   "execution_count": 25,
   "id": "c6397fd9-cf17-409a-b2fb-36662cee37cc",
   "metadata": {},
   "outputs": [],
   "source": [
    "taller['fechasal']=fecha_a[0]\n",
    "taller['fechasal'] = pd.to_datetime(taller['fechasal'], format='%Y-%m-%d')"
   ]
  },
  {
   "cell_type": "code",
   "execution_count": 26,
   "id": "18fa4f2c-3db6-46a6-ada5-2505d8464216",
   "metadata": {},
   "outputs": [
    {
     "data": {
      "text/plain": [
       "array(['2007', '2008', '2009', '2010', '2011', '2012', '2013', '2014',\n",
       "       '2015', '2016', '2017', '2018', '2019', '2020', '2021', '2022'],\n",
       "      dtype=object)"
      ]
     },
     "execution_count": 26,
     "metadata": {},
     "output_type": "execute_result"
    }
   ],
   "source": [
    "fecha_a= norm_fecha(taller['fechaent'])\n",
    "fecha_a[1]"
   ]
  },
  {
   "cell_type": "code",
   "execution_count": 27,
   "id": "449aa926-21fe-41be-ad88-86030a6f8959",
   "metadata": {},
   "outputs": [
    {
     "name": "stdout",
     "output_type": "stream",
     "text": [
      "Fechas\n",
      "cantidad de registros: 0    189154\n",
      "dtype: int64\n",
      "cantidad de MISSINGS: 0    0\n",
      "dtype: int64\n",
      "Porcentaje de MISSINGS: 0    0.0\n",
      "dtype: float64\n"
     ]
    }
   ],
   "source": [
    "cuentaNAN(fecha_a)"
   ]
  },
  {
   "cell_type": "code",
   "execution_count": 28,
   "id": "447c8083-3a1f-42fb-933d-9dcaa7e82a09",
   "metadata": {},
   "outputs": [],
   "source": [
    "taller['fechaent']=fecha_a[0]\n",
    "taller['fechaent'] = pd.to_datetime(taller['fechaent'], format='%Y-%m-%d')"
   ]
  },
  {
   "cell_type": "code",
   "execution_count": 29,
   "id": "d6cb2a15-14aa-418d-805d-930e26292398",
   "metadata": {},
   "outputs": [],
   "source": [
    "#taller['anyparte'] = pd.to_datetime(taller['anyparte'], format='%Y')"
   ]
  },
  {
   "cell_type": "code",
   "execution_count": null,
   "id": "3b9a5123-a684-4694-8e63-99da473c925c",
   "metadata": {},
   "outputs": [],
   "source": []
  },
  {
   "cell_type": "code",
   "execution_count": 30,
   "id": "410e9665-fe7b-431b-946b-875f2ebb0937",
   "metadata": {},
   "outputs": [
    {
     "data": {
      "text/plain": [
       "anyparte                int64\n",
       "numparte                int64\n",
       "numlinea                int64\n",
       "descrip                object\n",
       "cantidad              float64\n",
       "precio                float64\n",
       "importe               float64\n",
       "prove mat              object\n",
       "nomartic               object\n",
       "fec_alta       datetime64[ns]\n",
       "fecultcom      datetime64[ns]\n",
       "preciouc              float64\n",
       "ctr_stock               int64\n",
       "nomalmac               object\n",
       "prove art              object\n",
       "nomfamia               object\n",
       "nomunida               object\n",
       "codigbus               object\n",
       "fechaent       datetime64[ns]\n",
       "numkms                  int64\n",
       "fechasal       datetime64[ns]\n",
       "siniestro               int64\n",
       "descripcion            object\n",
       "cliente                object\n",
       "dtype: object"
      ]
     },
     "execution_count": 30,
     "metadata": {},
     "output_type": "execute_result"
    }
   ],
   "source": [
    "taller.dtypes\n"
   ]
  },
  {
   "cell_type": "code",
   "execution_count": 31,
   "id": "57f05771-fc94-4303-968d-94d8f049d916",
   "metadata": {},
   "outputs": [
    {
     "data": {
      "text/plain": [
       "['fec_alta', 'fecultcom', 'fechaent', 'fechasal']"
      ]
     },
     "execution_count": 31,
     "metadata": {},
     "output_type": "execute_result"
    }
   ],
   "source": [
    "fechas=taller.select_dtypes(include=np.datetime64)\n",
    "\n",
    "col_date_taller=taller.select_dtypes(include=np.datetime64).columns.tolist()\n",
    "col_date_taller\n"
   ]
  },
  {
   "cell_type": "code",
   "execution_count": null,
   "id": "a012748a-f2af-46ce-af74-ea9ddebb3283",
   "metadata": {},
   "outputs": [],
   "source": []
  },
  {
   "cell_type": "code",
   "execution_count": 32,
   "id": "23334cbc-34f9-44d2-9952-68d02ccf44af",
   "metadata": {},
   "outputs": [
    {
     "data": {
      "text/plain": [
       "anyparte       0.000000\n",
       "numparte       0.000000\n",
       "numlinea       0.000000\n",
       "descrip        0.000000\n",
       "cantidad       0.000000\n",
       "precio         0.000000\n",
       "importe        0.000000\n",
       "prove mat      0.000000\n",
       "nomartic       0.000000\n",
       "fec_alta       0.000000\n",
       "fecultcom      0.111549\n",
       "preciouc       0.000000\n",
       "ctr_stock      0.000000\n",
       "nomalmac       0.000000\n",
       "prove art      0.000000\n",
       "nomfamia       0.000000\n",
       "nomunida       0.000000\n",
       "codigbus       0.000000\n",
       "fechaent       0.000000\n",
       "numkms         0.000000\n",
       "fechasal       0.065555\n",
       "siniestro      0.000000\n",
       "descripcion    0.000000\n",
       "cliente        0.000000\n",
       "dtype: float64"
      ]
     },
     "execution_count": 32,
     "metadata": {},
     "output_type": "execute_result"
    }
   ],
   "source": [
    "taller.isna().sum()/len(taller)*100"
   ]
  },
  {
   "cell_type": "code",
   "execution_count": 33,
   "id": "70997450-2b4e-4ea9-9675-259da5bccc76",
   "metadata": {
    "tags": []
   },
   "outputs": [
    {
     "data": {
      "text/plain": [
       "Index(['anyparte', 'numparte', 'numlinea', 'descrip', 'cantidad', 'precio',\n",
       "       'importe', 'prove mat', 'nomartic', 'fec_alta', 'fecultcom', 'preciouc',\n",
       "       'ctr_stock', 'nomalmac', 'prove art', 'nomfamia', 'nomunida',\n",
       "       'codigbus', 'fechaent', 'numkms', 'fechasal', 'siniestro',\n",
       "       'descripcion', 'cliente'],\n",
       "      dtype='object')"
      ]
     },
     "execution_count": 33,
     "metadata": {},
     "output_type": "execute_result"
    }
   ],
   "source": [
    "taller.columns"
   ]
  },
  {
   "cell_type": "markdown",
   "id": "cfd90161-4f4c-41a4-be2b-cfcc7bd0b09e",
   "metadata": {},
   "source": [
    "## Correlaciones\n",
    "Creamos una función que  muestre las correlaciones ya que mas adelante la usaremos otra vez."
   ]
  },
  {
   "cell_type": "code",
   "execution_count": 34,
   "id": "70c5ce8a-7772-4625-a4c9-b768dde1eb26",
   "metadata": {},
   "outputs": [],
   "source": [
    "def correlaciones(df):\n",
    "    sice_x=15 if len (df.columns) >30 else 10\n",
    "    sice_y=10 if len (df.columns) >30 else 6\n",
    "    plt.figure(figsize=(sice_x,  sice_y))\n",
    "    # define the mask to set the values in the upper triangle to True\n",
    "    mask = np.triu(np.ones_like(df.corr(), dtype=bool))\n",
    "    heatmap = sns.heatmap(round(df.corr(),2), mask=mask, vmin=-1, vmax=1, annot=True, cmap='YlGnBu')\n",
    "    heatmap.set_title('Triangulo de Correlaciones Heatmap', fontdict={'fontsize':18}, pad=16)"
   ]
  },
  {
   "cell_type": "markdown",
   "id": "0932f0ac-6b1a-4d62-b35a-34b59476e70d",
   "metadata": {},
   "source": [
    "mostramos las correlaciones que hay en el dataset taller"
   ]
  },
  {
   "cell_type": "code",
   "execution_count": 35,
   "id": "cd4bdce4-3fd5-4a2a-992c-04b5c7e6db37",
   "metadata": {},
   "outputs": [
    {
     "data": {
      "image/png": "[encoded data removed]",
      "text/plain": [
       "<Figure size 720x432 with 2 Axes>"
      ]
     },
     "metadata": {},
     "output_type": "display_data"
    }
   ],
   "source": [
    "correlaciones(taller)"
   ]
  },
  {
   "cell_type": "markdown",
   "id": "a12676a1-33d0-4f51-a0f2-fdcec4b7a8d0",
   "metadata": {},
   "source": [
    "se peud eevr que las correlaciones mas destacables apra etse data set son  numparte con anyparte y precio con preciouc"
   ]
  },
  {
   "cell_type": "markdown",
   "id": "a47597c7-e94a-465c-b39e-01aa2aeac28d",
   "metadata": {},
   "source": [
    "Verificamos valores unicos para algunas de las columnas"
   ]
  },
  {
   "cell_type": "code",
   "execution_count": 36,
   "id": "12779fcf-1c95-4b76-89be-d1cbc21e857c",
   "metadata": {},
   "outputs": [
    {
     "data": {
      "text/plain": [
       "array([0, 1], dtype=int64)"
      ]
     },
     "execution_count": 36,
     "metadata": {},
     "output_type": "execute_result"
    }
   ],
   "source": [
    "pd.unique(taller['ctr_stock'])"
   ]
  },
  {
   "cell_type": "code",
   "execution_count": 37,
   "id": "43862dbd-1c5c-48b9-8f14-6887a20c0ec7",
   "metadata": {},
   "outputs": [
    {
     "data": {
      "text/plain": [
       "array([2007, 2008, 2009, 2010, 2011, 2012, 2013, 2014, 2015, 2016, 2017,\n",
       "       2018, 2019, 2020, 2021, 2022], dtype=int64)"
      ]
     },
     "execution_count": 37,
     "metadata": {},
     "output_type": "execute_result"
    }
   ],
   "source": [
    "pd.unique(taller['anyparte'])"
   ]
  },
  {
   "cell_type": "code",
   "execution_count": 38,
   "id": "fbd4cab3-f6f0-4917-ae20-9489b944ffd0",
   "metadata": {},
   "outputs": [
    {
     "data": {
      "text/plain": [
       "array([0, 1], dtype=int64)"
      ]
     },
     "execution_count": 38,
     "metadata": {},
     "output_type": "execute_result"
    }
   ],
   "source": [
    "pd.unique(taller['siniestro'])"
   ]
  },
  {
   "cell_type": "markdown",
   "id": "fbe97a40-77c7-4192-9aaf-039b9ecd91c4",
   "metadata": {
    "tags": []
   },
   "source": [
    "## Relaciones entre pares de variables"
   ]
  },
  {
   "cell_type": "code",
   "execution_count": 39,
   "id": "4b45837c-7dec-4ea1-99e9-41445b26bd25",
   "metadata": {},
   "outputs": [],
   "source": [
    "#sns.pairplot(taller, hue='nomfamia')\n",
    "#plt.show()"
   ]
  },
  {
   "cell_type": "markdown",
   "id": "ef8fb9f5-7e17-42bb-8413-4e8ede219fd7",
   "metadata": {},
   "source": [
    "# Analisis Dataset VEHICULOS"
   ]
  },
  {
   "cell_type": "code",
   "execution_count": 40,
   "id": "89ae0276-aa02-42c9-8977-dacf843463b3",
   "metadata": {},
   "outputs": [
    {
     "name": "stdout",
     "output_type": "stream",
     "text": [
      "(1532, 38)\n"
     ]
    },
    {
     "data": {
      "text/html": [
       "<div>\n",
       "<style scoped>\n",
       "    .dataframe tbody tr th:only-of-type {\n",
       "        vertical-align: middle;\n",
       "    }\n",
       "\n",
       "    .dataframe tbody tr th {\n",
       "        vertical-align: top;\n",
       "    }\n",
       "\n",
       "    .dataframe thead th {\n",
       "        text-align: right;\n",
       "    }\n",
       "</style>\n",
       "<table border=\"1\" class=\"dataframe\">\n",
       "  <thead>\n",
       "    <tr style=\"text-align: right;\">\n",
       "      <th></th>\n",
       "      <th>id_vehiculo</th>\n",
       "      <th>codigbus</th>\n",
       "      <th>matricul</th>\n",
       "      <th>fechamat</th>\n",
       "      <th>matriculacion_planner</th>\n",
       "      <th>edad</th>\n",
       "      <th>numempre</th>\n",
       "      <th>nomempre</th>\n",
       "      <th>bastidor</th>\n",
       "      <th>capacidad</th>\n",
       "      <th>paxdepie</th>\n",
       "      <th>paxsentados</th>\n",
       "      <th>paxpmr</th>\n",
       "      <th>plat_pmr</th>\n",
       "      <th>WC</th>\n",
       "      <th>autoport</th>\n",
       "      <th>marca</th>\n",
       "      <th>modelo</th>\n",
       "      <th>carrocero</th>\n",
       "      <th>categoria</th>\n",
       "      <th>clase</th>\n",
       "      <th>longitud</th>\n",
       "      <th>numcv</th>\n",
       "      <th>tara</th>\n",
       "      <th>cilindrada</th>\n",
       "      <th>potencia</th>\n",
       "      <th>nvl_emisiones</th>\n",
       "      <th>escolar</th>\n",
       "      <th>tipo</th>\n",
       "      <th>subtipo</th>\n",
       "      <th>uso</th>\n",
       "      <th>tall_kilom</th>\n",
       "      <th>tal_feckm</th>\n",
       "      <th>totkilom</th>\n",
       "      <th>activo</th>\n",
       "      <th>dns_vehiculo</th>\n",
       "      <th>dispositivo</th>\n",
       "      <th>combustible</th>\n",
       "    </tr>\n",
       "  </thead>\n",
       "  <tbody>\n",
       "    <tr>\n",
       "      <th>425</th>\n",
       "      <td>356.0</td>\n",
       "      <td>H114</td>\n",
       "      <td>1411HXF</td>\n",
       "      <td>2014-05-13</td>\n",
       "      <td>2014-05-13</td>\n",
       "      <td>8.0</td>\n",
       "      <td>44</td>\n",
       "      <td>Herca</td>\n",
       "      <td>WMARR4ZZ2EC019437</td>\n",
       "      <td>71</td>\n",
       "      <td>0</td>\n",
       "      <td>71</td>\n",
       "      <td>0</td>\n",
       "      <td>No</td>\n",
       "      <td>No</td>\n",
       "      <td>No</td>\n",
       "      <td>MAN</td>\n",
       "      <td>i6 15.37</td>\n",
       "      <td>IRIZAR</td>\n",
       "      <td>M3</td>\n",
       "      <td>III</td>\n",
       "      <td>14.98</td>\n",
       "      <td>NaN</td>\n",
       "      <td>17121</td>\n",
       "      <td>12419</td>\n",
       "      <td>353</td>\n",
       "      <td>EURO VI B</td>\n",
       "      <td>Si</td>\n",
       "      <td>Discrecional</td>\n",
       "      <td>Normal</td>\n",
       "      <td>NaN</td>\n",
       "      <td>369409.0</td>\n",
       "      <td>2017-12-21 00:00:00</td>\n",
       "      <td>2454157.0</td>\n",
       "      <td>1.0</td>\n",
       "      <td>bunyol</td>\n",
       "      <td>560</td>\n",
       "      <td>Diésel</td>\n",
       "    </tr>\n",
       "    <tr>\n",
       "      <th>1343</th>\n",
       "      <td>1221.0</td>\n",
       "      <td>T367</td>\n",
       "      <td>1384JFK</td>\n",
       "      <td>2015-05-12</td>\n",
       "      <td>2015-05-12</td>\n",
       "      <td>7.0</td>\n",
       "      <td>2</td>\n",
       "      <td>Transvia</td>\n",
       "      <td>WMARR2ZZ4FC020207</td>\n",
       "      <td>NaN</td>\n",
       "      <td>NaN</td>\n",
       "      <td>NaN</td>\n",
       "      <td>NaN</td>\n",
       "      <td>NaN</td>\n",
       "      <td>NaN</td>\n",
       "      <td>NaN</td>\n",
       "      <td>NaN</td>\n",
       "      <td>NaN</td>\n",
       "      <td>IRIZAR</td>\n",
       "      <td>NaN</td>\n",
       "      <td>NaN</td>\n",
       "      <td>NaN</td>\n",
       "      <td>NaN</td>\n",
       "      <td>NaN</td>\n",
       "      <td>NaN</td>\n",
       "      <td>NaN</td>\n",
       "      <td>NaN</td>\n",
       "      <td>NaN</td>\n",
       "      <td>NORMAL</td>\n",
       "      <td>NaN</td>\n",
       "      <td>DISCRECIONAL</td>\n",
       "      <td>NaN</td>\n",
       "      <td>NaN</td>\n",
       "      <td>407500.0</td>\n",
       "      <td>1.0</td>\n",
       "      <td>transvia</td>\n",
       "      <td>NaN</td>\n",
       "      <td>NaN</td>\n",
       "    </tr>\n",
       "    <tr>\n",
       "      <th>68</th>\n",
       "      <td>69.0</td>\n",
       "      <td>574X</td>\n",
       "      <td>9159KNX</td>\n",
       "      <td>2018-08-28</td>\n",
       "      <td>2018-08-28</td>\n",
       "      <td>4.0</td>\n",
       "      <td>19</td>\n",
       "      <td>Empleadas de Hogar</td>\n",
       "      <td>KMHC751CGJU095368</td>\n",
       "      <td>5</td>\n",
       "      <td>NaN</td>\n",
       "      <td>5</td>\n",
       "      <td>NaN</td>\n",
       "      <td>NaN</td>\n",
       "      <td>NaN</td>\n",
       "      <td>NaN</td>\n",
       "      <td>NaN</td>\n",
       "      <td>NaN</td>\n",
       "      <td>NaN</td>\n",
       "      <td>NaN</td>\n",
       "      <td>NaN</td>\n",
       "      <td>NaN</td>\n",
       "      <td>NaN</td>\n",
       "      <td>NaN</td>\n",
       "      <td>NaN</td>\n",
       "      <td>NaN</td>\n",
       "      <td>NaN</td>\n",
       "      <td>NaN</td>\n",
       "      <td>TURISMO</td>\n",
       "      <td>NaN</td>\n",
       "      <td>USO GENERAL</td>\n",
       "      <td>NaN</td>\n",
       "      <td>NaN</td>\n",
       "      <td>0.0</td>\n",
       "      <td>1.0</td>\n",
       "      <td>transvia</td>\n",
       "      <td>NaN</td>\n",
       "      <td>NaN</td>\n",
       "    </tr>\n",
       "    <tr>\n",
       "      <th>1529</th>\n",
       "      <td>1388.0</td>\n",
       "      <td>T380</td>\n",
       "      <td>8156JWS</td>\n",
       "      <td>2017-02-09</td>\n",
       "      <td>2017-02-09</td>\n",
       "      <td>5.0</td>\n",
       "      <td>2</td>\n",
       "      <td>Transvia</td>\n",
       "      <td>WMARR2ZZ7HC022858</td>\n",
       "      <td>NaN</td>\n",
       "      <td>NaN</td>\n",
       "      <td>NaN</td>\n",
       "      <td>NaN</td>\n",
       "      <td>NaN</td>\n",
       "      <td>NaN</td>\n",
       "      <td>NaN</td>\n",
       "      <td>NaN</td>\n",
       "      <td>NaN</td>\n",
       "      <td>IRIZAR</td>\n",
       "      <td>NaN</td>\n",
       "      <td>NaN</td>\n",
       "      <td>NaN</td>\n",
       "      <td>NaN</td>\n",
       "      <td>NaN</td>\n",
       "      <td>NaN</td>\n",
       "      <td>NaN</td>\n",
       "      <td>NaN</td>\n",
       "      <td>NaN</td>\n",
       "      <td>NORMAL</td>\n",
       "      <td>NaN</td>\n",
       "      <td>DISCRECIONAL</td>\n",
       "      <td>NaN</td>\n",
       "      <td>NaN</td>\n",
       "      <td>633800.0</td>\n",
       "      <td>1.0</td>\n",
       "      <td>transvia</td>\n",
       "      <td>NaN</td>\n",
       "      <td>NaN</td>\n",
       "    </tr>\n",
       "    <tr>\n",
       "      <th>367</th>\n",
       "      <td>319.0</td>\n",
       "      <td>C003</td>\n",
       "      <td>9719CCD</td>\n",
       "      <td>0001-01-01</td>\n",
       "      <td>NaN</td>\n",
       "      <td>NaN</td>\n",
       "      <td>45</td>\n",
       "      <td>La Concepcion</td>\n",
       "      <td>NaN</td>\n",
       "      <td>NaN</td>\n",
       "      <td>NaN</td>\n",
       "      <td>NaN</td>\n",
       "      <td>NaN</td>\n",
       "      <td>NaN</td>\n",
       "      <td>NaN</td>\n",
       "      <td>NaN</td>\n",
       "      <td>NaN</td>\n",
       "      <td>NaN</td>\n",
       "      <td>NaN</td>\n",
       "      <td>NaN</td>\n",
       "      <td>NaN</td>\n",
       "      <td>NaN</td>\n",
       "      <td>NaN</td>\n",
       "      <td>NaN</td>\n",
       "      <td>NaN</td>\n",
       "      <td>NaN</td>\n",
       "      <td>NaN</td>\n",
       "      <td>NaN</td>\n",
       "      <td>NaN</td>\n",
       "      <td>NaN</td>\n",
       "      <td>NaN</td>\n",
       "      <td>NaN</td>\n",
       "      <td>NaN</td>\n",
       "      <td>NaN</td>\n",
       "      <td>NaN</td>\n",
       "      <td>NaN</td>\n",
       "      <td>NaN</td>\n",
       "      <td>NaN</td>\n",
       "    </tr>\n",
       "  </tbody>\n",
       "</table>\n",
       "</div>"
      ],
      "text/plain": [
       "      id_vehiculo codigbus matricul    fechamat matriculacion_planner  edad  \\\n",
       "425         356.0     H114  1411HXF  2014-05-13            2014-05-13   8.0   \n",
       "1343       1221.0     T367  1384JFK  2015-05-12            2015-05-12   7.0   \n",
       "68           69.0     574X  9159KNX  2018-08-28            2018-08-28   4.0   \n",
       "1529       1388.0     T380  8156JWS  2017-02-09            2017-02-09   5.0   \n",
       "367         319.0     C003  9719CCD  0001-01-01                   NaN   NaN   \n",
       "\n",
       "     numempre            nomempre           bastidor capacidad paxdepie  \\\n",
       "425        44               Herca  WMARR4ZZ2EC019437        71        0   \n",
       "1343        2            Transvia  WMARR2ZZ4FC020207       NaN      NaN   \n",
       "68         19  Empleadas de Hogar  KMHC751CGJU095368         5      NaN   \n",
       "1529        2            Transvia  WMARR2ZZ7HC022858       NaN      NaN   \n",
       "367        45       La Concepcion                NaN       NaN      NaN   \n",
       "\n",
       "     paxsentados paxpmr plat_pmr   WC autoport marca    modelo carrocero  \\\n",
       "425           71      0       No   No       No   MAN  i6 15.37    IRIZAR   \n",
       "1343         NaN    NaN      NaN  NaN      NaN   NaN       NaN    IRIZAR   \n",
       "68             5    NaN      NaN  NaN      NaN   NaN       NaN       NaN   \n",
       "1529         NaN    NaN      NaN  NaN      NaN   NaN       NaN    IRIZAR   \n",
       "367          NaN    NaN      NaN  NaN      NaN   NaN       NaN       NaN   \n",
       "\n",
       "     categoria clase longitud numcv   tara cilindrada potencia nvl_emisiones  \\\n",
       "425         M3   III    14.98   NaN  17121      12419      353     EURO VI B   \n",
       "1343       NaN   NaN      NaN   NaN    NaN        NaN      NaN           NaN   \n",
       "68         NaN   NaN      NaN   NaN    NaN        NaN      NaN           NaN   \n",
       "1529       NaN   NaN      NaN   NaN    NaN        NaN      NaN           NaN   \n",
       "367        NaN   NaN      NaN   NaN    NaN        NaN      NaN           NaN   \n",
       "\n",
       "     escolar          tipo subtipo           uso  tall_kilom  \\\n",
       "425       Si  Discrecional  Normal           NaN    369409.0   \n",
       "1343     NaN        NORMAL     NaN  DISCRECIONAL         NaN   \n",
       "68       NaN       TURISMO     NaN   USO GENERAL         NaN   \n",
       "1529     NaN        NORMAL     NaN  DISCRECIONAL         NaN   \n",
       "367      NaN           NaN     NaN           NaN         NaN   \n",
       "\n",
       "                tal_feckm   totkilom  activo dns_vehiculo dispositivo  \\\n",
       "425   2017-12-21 00:00:00  2454157.0     1.0       bunyol         560   \n",
       "1343                  NaN   407500.0     1.0     transvia         NaN   \n",
       "68                    NaN        0.0     1.0     transvia         NaN   \n",
       "1529                  NaN   633800.0     1.0     transvia         NaN   \n",
       "367                   NaN        NaN     NaN          NaN         NaN   \n",
       "\n",
       "     combustible  \n",
       "425       Diésel  \n",
       "1343         NaN  \n",
       "68           NaN  \n",
       "1529         NaN  \n",
       "367          NaN  "
      ]
     },
     "execution_count": 40,
     "metadata": {},
     "output_type": "execute_result"
    }
   ],
   "source": [
    "print(vehiculo.shape)\n",
    "vehiculo.sample(5)\n"
   ]
  },
  {
   "cell_type": "markdown",
   "id": "72236bfb-b019-4423-bc3b-0289506820c8",
   "metadata": {},
   "source": [
    "Buscamos duplicados y los eliminamos"
   ]
  },
  {
   "cell_type": "code",
   "execution_count": 41,
   "id": "15cb02cd-9a50-435d-8906-77dc3996e2dd",
   "metadata": {},
   "outputs": [
    {
     "name": "stdout",
     "output_type": "stream",
     "text": [
      "34\n"
     ]
    }
   ],
   "source": [
    "print(vehiculo.duplicated().sum())"
   ]
  },
  {
   "cell_type": "code",
   "execution_count": 42,
   "id": "e70cdedb-72f5-4d20-8eb3-a41b8ab0c498",
   "metadata": {},
   "outputs": [],
   "source": [
    "vehiculo=vehiculo.drop_duplicates()"
   ]
  },
  {
   "cell_type": "code",
   "execution_count": 43,
   "id": "e1da722d-0995-4e26-b41d-a75d82eed3c4",
   "metadata": {},
   "outputs": [
    {
     "name": "stdout",
     "output_type": "stream",
     "text": [
      "0\n"
     ]
    }
   ],
   "source": [
    "print(vehiculo.duplicated().sum())"
   ]
  },
  {
   "cell_type": "markdown",
   "id": "b1f500b1-bb70-44f1-a5cb-d3149ad9d79c",
   "metadata": {},
   "source": [
    "## Missing\n",
    "observamos los missings y los graficamos"
   ]
  },
  {
   "cell_type": "code",
   "execution_count": 44,
   "id": "2e791068-d4b2-43d4-9c34-7405a73d5706",
   "metadata": {},
   "outputs": [
    {
     "data": {
      "text/html": [
       "<div>\n",
       "<style scoped>\n",
       "    .dataframe tbody tr th:only-of-type {\n",
       "        vertical-align: middle;\n",
       "    }\n",
       "\n",
       "    .dataframe tbody tr th {\n",
       "        vertical-align: top;\n",
       "    }\n",
       "\n",
       "    .dataframe thead th {\n",
       "        text-align: right;\n",
       "    }\n",
       "</style>\n",
       "<table border=\"1\" class=\"dataframe\">\n",
       "  <thead>\n",
       "    <tr style=\"text-align: right;\">\n",
       "      <th></th>\n",
       "      <th>0</th>\n",
       "    </tr>\n",
       "  </thead>\n",
       "  <tbody>\n",
       "    <tr>\n",
       "      <th>id_vehiculo</th>\n",
       "      <td>0.057096</td>\n",
       "    </tr>\n",
       "    <tr>\n",
       "      <th>codigbus</th>\n",
       "      <td>0.006873</td>\n",
       "    </tr>\n",
       "    <tr>\n",
       "      <th>matricul</th>\n",
       "      <td>0.013745</td>\n",
       "    </tr>\n",
       "    <tr>\n",
       "      <th>fechamat</th>\n",
       "      <td>0.069256</td>\n",
       "    </tr>\n",
       "    <tr>\n",
       "      <th>matriculacion_planner</th>\n",
       "      <td>0.075600</td>\n",
       "    </tr>\n",
       "    <tr>\n",
       "      <th>edad</th>\n",
       "      <td>0.080358</td>\n",
       "    </tr>\n",
       "    <tr>\n",
       "      <th>numempre</th>\n",
       "      <td>0.048638</td>\n",
       "    </tr>\n",
       "    <tr>\n",
       "      <th>nomempre</th>\n",
       "      <td>0.052867</td>\n",
       "    </tr>\n",
       "    <tr>\n",
       "      <th>bastidor</th>\n",
       "      <td>0.192436</td>\n",
       "    </tr>\n",
       "    <tr>\n",
       "      <th>capacidad</th>\n",
       "      <td>0.213054</td>\n",
       "    </tr>\n",
       "    <tr>\n",
       "      <th>paxdepie</th>\n",
       "      <td>0.398088</td>\n",
       "    </tr>\n",
       "    <tr>\n",
       "      <th>paxsentados</th>\n",
       "      <td>0.195079</td>\n",
       "    </tr>\n",
       "    <tr>\n",
       "      <th>paxpmr</th>\n",
       "      <td>0.351565</td>\n",
       "    </tr>\n",
       "    <tr>\n",
       "      <th>plat_pmr</th>\n",
       "      <td>0.629646</td>\n",
       "    </tr>\n",
       "    <tr>\n",
       "      <th>WC</th>\n",
       "      <td>0.645506</td>\n",
       "    </tr>\n",
       "    <tr>\n",
       "      <th>autoport</th>\n",
       "      <td>0.568849</td>\n",
       "    </tr>\n",
       "    <tr>\n",
       "      <th>marca</th>\n",
       "      <td>0.208296</td>\n",
       "    </tr>\n",
       "    <tr>\n",
       "      <th>modelo</th>\n",
       "      <td>0.208296</td>\n",
       "    </tr>\n",
       "    <tr>\n",
       "      <th>carrocero</th>\n",
       "      <td>0.335705</td>\n",
       "    </tr>\n",
       "    <tr>\n",
       "      <th>categoria</th>\n",
       "      <td>0.686213</td>\n",
       "    </tr>\n",
       "    <tr>\n",
       "      <th>clase</th>\n",
       "      <td>0.548759</td>\n",
       "    </tr>\n",
       "    <tr>\n",
       "      <th>longitud</th>\n",
       "      <td>0.514924</td>\n",
       "    </tr>\n",
       "    <tr>\n",
       "      <th>numcv</th>\n",
       "      <td>0.749125</td>\n",
       "    </tr>\n",
       "    <tr>\n",
       "      <th>tara</th>\n",
       "      <td>0.547702</td>\n",
       "    </tr>\n",
       "    <tr>\n",
       "      <th>cilindrada</th>\n",
       "      <td>0.537128</td>\n",
       "    </tr>\n",
       "    <tr>\n",
       "      <th>potencia</th>\n",
       "      <td>0.518625</td>\n",
       "    </tr>\n",
       "    <tr>\n",
       "      <th>nvl_emisiones</th>\n",
       "      <td>0.650792</td>\n",
       "    </tr>\n",
       "    <tr>\n",
       "      <th>escolar</th>\n",
       "      <td>0.526555</td>\n",
       "    </tr>\n",
       "    <tr>\n",
       "      <th>tipo</th>\n",
       "      <td>0.119479</td>\n",
       "    </tr>\n",
       "    <tr>\n",
       "      <th>subtipo</th>\n",
       "      <td>0.352623</td>\n",
       "    </tr>\n",
       "    <tr>\n",
       "      <th>uso</th>\n",
       "      <td>0.422936</td>\n",
       "    </tr>\n",
       "    <tr>\n",
       "      <th>tall_kilom</th>\n",
       "      <td>0.607442</td>\n",
       "    </tr>\n",
       "    <tr>\n",
       "      <th>tal_feckm</th>\n",
       "      <td>0.401260</td>\n",
       "    </tr>\n",
       "    <tr>\n",
       "      <th>totkilom</th>\n",
       "      <td>0.132167</td>\n",
       "    </tr>\n",
       "    <tr>\n",
       "      <th>activo</th>\n",
       "      <td>0.132167</td>\n",
       "    </tr>\n",
       "    <tr>\n",
       "      <th>dns_vehiculo</th>\n",
       "      <td>0.132167</td>\n",
       "    </tr>\n",
       "    <tr>\n",
       "      <th>dispositivo</th>\n",
       "      <td>0.643920</td>\n",
       "    </tr>\n",
       "    <tr>\n",
       "      <th>combustible</th>\n",
       "      <td>0.568320</td>\n",
       "    </tr>\n",
       "  </tbody>\n",
       "</table>\n",
       "</div>"
      ],
      "text/plain": [
       "                              0\n",
       "id_vehiculo            0.057096\n",
       "codigbus               0.006873\n",
       "matricul               0.013745\n",
       "fechamat               0.069256\n",
       "matriculacion_planner  0.075600\n",
       "edad                   0.080358\n",
       "numempre               0.048638\n",
       "nomempre               0.052867\n",
       "bastidor               0.192436\n",
       "capacidad              0.213054\n",
       "paxdepie               0.398088\n",
       "paxsentados            0.195079\n",
       "paxpmr                 0.351565\n",
       "plat_pmr               0.629646\n",
       "WC                     0.645506\n",
       "autoport               0.568849\n",
       "marca                  0.208296\n",
       "modelo                 0.208296\n",
       "carrocero              0.335705\n",
       "categoria              0.686213\n",
       "clase                  0.548759\n",
       "longitud               0.514924\n",
       "numcv                  0.749125\n",
       "tara                   0.547702\n",
       "cilindrada             0.537128\n",
       "potencia               0.518625\n",
       "nvl_emisiones          0.650792\n",
       "escolar                0.526555\n",
       "tipo                   0.119479\n",
       "subtipo                0.352623\n",
       "uso                    0.422936\n",
       "tall_kilom             0.607442\n",
       "tal_feckm              0.401260\n",
       "totkilom               0.132167\n",
       "activo                 0.132167\n",
       "dns_vehiculo           0.132167\n",
       "dispositivo            0.643920\n",
       "combustible            0.568320"
      ]
     },
     "execution_count": 44,
     "metadata": {},
     "output_type": "execute_result"
    }
   ],
   "source": [
    "missing_vehiculo=vehiculo.isna().sum()/len(taller)*100\n",
    "missing_vehiculo=pd.DataFrame(missing_vehiculo)\n",
    "missing_vehiculo"
   ]
  },
  {
   "cell_type": "code",
   "execution_count": 45,
   "id": "8b0f5b8e-771b-417a-825d-ccfcdc7700e6",
   "metadata": {},
   "outputs": [
    {
     "data": {
      "image/png": "[encoded data removed]",
      "text/plain": [
       "<Figure size 864x720 with 1 Axes>"
      ]
     },
     "metadata": {},
     "output_type": "display_data"
    }
   ],
   "source": [
    "plot_miss(missing_vehiculo)"
   ]
  },
  {
   "cell_type": "markdown",
   "id": "23c17336-ac9f-4d99-a7fd-d6c3045b6aba",
   "metadata": {},
   "source": [
    "vemos los tipos  que asignado pandas a cada columna"
   ]
  },
  {
   "cell_type": "code",
   "execution_count": 46,
   "id": "a1ec5428-56b6-42db-8a17-14b5765061c3",
   "metadata": {},
   "outputs": [
    {
     "data": {
      "text/plain": [
       "id_vehiculo              float64\n",
       "codigbus                  object\n",
       "matricul                  object\n",
       "fechamat                  object\n",
       "matriculacion_planner     object\n",
       "edad                     float64\n",
       "numempre                  object\n",
       "nomempre                  object\n",
       "bastidor                  object\n",
       "capacidad                 object\n",
       "paxdepie                  object\n",
       "paxsentados               object\n",
       "paxpmr                    object\n",
       "plat_pmr                  object\n",
       "WC                        object\n",
       "autoport                  object\n",
       "marca                     object\n",
       "modelo                    object\n",
       "carrocero                 object\n",
       "categoria                 object\n",
       "clase                     object\n",
       "longitud                  object\n",
       "numcv                     object\n",
       "tara                      object\n",
       "cilindrada                object\n",
       "potencia                  object\n",
       "nvl_emisiones             object\n",
       "escolar                   object\n",
       "tipo                      object\n",
       "subtipo                   object\n",
       "uso                       object\n",
       "tall_kilom               float64\n",
       "tal_feckm                 object\n",
       "totkilom                 float64\n",
       "activo                   float64\n",
       "dns_vehiculo              object\n",
       "dispositivo               object\n",
       "combustible               object\n",
       "dtype: object"
      ]
     },
     "execution_count": 46,
     "metadata": {},
     "output_type": "execute_result"
    }
   ],
   "source": [
    "vehiculo.dtypes"
   ]
  },
  {
   "cell_type": "markdown",
   "id": "d0801d1f-cc3c-4a91-abf5-a709b6fb44eb",
   "metadata": {},
   "source": [
    "### Seleccion de columnas\n",
    "\n",
    "elegimos las caracteristicas que nos interesan"
   ]
  },
  {
   "cell_type": "code",
   "execution_count": 47,
   "id": "9037b84f-6683-4a79-9b6a-486bc0cfbfcd",
   "metadata": {},
   "outputs": [
    {
     "data": {
      "text/plain": [
       "Index(['id_vehiculo', 'codigbus', 'matricul', 'fechamat',\n",
       "       'matriculacion_planner', 'edad', 'numempre', 'nomempre', 'bastidor',\n",
       "       'capacidad', 'paxdepie', 'paxsentados', 'paxpmr', 'plat_pmr', 'WC',\n",
       "       'autoport', 'marca', 'modelo', 'carrocero', 'categoria', 'clase',\n",
       "       'longitud', 'numcv', 'tara', 'cilindrada', 'potencia', 'nvl_emisiones',\n",
       "       'escolar', 'tipo', 'subtipo', 'uso', 'tall_kilom', 'tal_feckm',\n",
       "       'totkilom', 'activo', 'dns_vehiculo', 'dispositivo', 'combustible'],\n",
       "      dtype='object')"
      ]
     },
     "execution_count": 47,
     "metadata": {},
     "output_type": "execute_result"
    }
   ],
   "source": [
    "vehiculo.columns"
   ]
  },
  {
   "cell_type": "code",
   "execution_count": 48,
   "id": "da1bd3c2-4471-4fd4-b413-bacdbce70135",
   "metadata": {},
   "outputs": [],
   "source": [
    "features_vehiculos=['id_vehiculo', 'codigbus', 'matricul', 'fechamat',\n",
    "       'matriculacion_planner', 'edad', 'numempre', 'nomempre', \n",
    "       'marca', 'modelo', 'carrocero','tipo',\n",
    "       'totkilom', 'dns_vehiculo']"
   ]
  },
  {
   "cell_type": "code",
   "execution_count": 49,
   "id": "547d7aa9-9a24-4b43-96a1-c9eb8efb2fc0",
   "metadata": {
    "tags": []
   },
   "outputs": [],
   "source": [
    "vehiculo= vehiculo[features_vehiculos]"
   ]
  },
  {
   "cell_type": "markdown",
   "id": "604dafa2-19c4-45f6-affc-bfb8834fef87",
   "metadata": {},
   "source": [
    "eliminar  missings de id vehiculo, y codigbus , e imputar 'sin asignar' al resto"
   ]
  },
  {
   "cell_type": "code",
   "execution_count": 50,
   "id": "501b246f-99a1-4eb1-aeb5-c1ca4e3e0eb9",
   "metadata": {},
   "outputs": [],
   "source": [
    "#vehiculo = vehiculo.dropna(subset=['codigbus'])\n",
    "vehiculo = vehiculo[vehiculo['codigbus'].notna()]\n",
    "vehiculo = vehiculo[vehiculo['id_vehiculo'].notna()]\n",
    "#vehiculo = vehiculo[vehiculo[['id_vehiculo','codigbus']].notna()]"
   ]
  },
  {
   "cell_type": "code",
   "execution_count": 51,
   "id": "00d9bae1-cb44-49b5-a42a-5654b95a3ad5",
   "metadata": {},
   "outputs": [
    {
     "data": {
      "text/plain": [
       "array(['3', '19', '2', '31', '4', '6', '10', '17', '15', '8', '16', '43',\n",
       "       '45', '44', '46', '47', '67', '69', '70', '68', '57', '72', '79',\n",
       "       '80', '83', '84', '93', '92', '94', '96', '95', '97', '120', '121',\n",
       "       '117', '138', '135', '139', '140'], dtype=object)"
      ]
     },
     "execution_count": 51,
     "metadata": {},
     "output_type": "execute_result"
    }
   ],
   "source": [
    "pd.unique(vehiculo['numempre'])"
   ]
  },
  {
   "cell_type": "code",
   "execution_count": 52,
   "id": "b82d9b51-545d-438b-b4fe-b38200c16588",
   "metadata": {},
   "outputs": [
    {
     "data": {
      "text/plain": [
       "(1390, 14)"
      ]
     },
     "execution_count": 52,
     "metadata": {},
     "output_type": "execute_result"
    }
   ],
   "source": [
    "vehiculo.shape"
   ]
  },
  {
   "cell_type": "code",
   "execution_count": 53,
   "id": "4f118082-0d72-493d-bc5e-44381cd3fb84",
   "metadata": {},
   "outputs": [
    {
     "data": {
      "text/plain": [
       "id_vehiculo              float64\n",
       "codigbus                  object\n",
       "matricul                  object\n",
       "fechamat                  object\n",
       "matriculacion_planner     object\n",
       "edad                     float64\n",
       "numempre                  object\n",
       "nomempre                  object\n",
       "marca                     object\n",
       "modelo                    object\n",
       "carrocero                 object\n",
       "tipo                      object\n",
       "totkilom                 float64\n",
       "dns_vehiculo              object\n",
       "dtype: object"
      ]
     },
     "execution_count": 53,
     "metadata": {},
     "output_type": "execute_result"
    }
   ],
   "source": [
    "vehiculo.dtypes"
   ]
  },
  {
   "cell_type": "markdown",
   "id": "c38de48d-b875-44cd-ad02-f188ace4135b",
   "metadata": {},
   "source": [
    "asiganamos el valor -1 para los missings de 'edad', 'numempre', 'totkilom'\n",
    "\n",
    "asiganamos el 'sin registro' para los missings de 'matricul','nomempre', 'marca','modelo', 'carrocero', 'tipo', 'dns_vehiculo'"
   ]
  },
  {
   "cell_type": "code",
   "execution_count": 54,
   "id": "0f03ee03-1aec-4e40-bc87-e05e26e8307a",
   "metadata": {},
   "outputs": [],
   "source": [
    "#vehiculo['id_vehiculo']=np.where((vehiculo['id_vehiculo'].isna()) ,0, vehiculo['id_vehiculo'])\n",
    "\n",
    "columnas=[ 'edad', 'numempre', 'totkilom']\n",
    "for columna in columnas : \n",
    "    vehiculo[columna]=np.where((vehiculo[columna].isna()) ,-1, vehiculo[columna])\n",
    "\n",
    "#palabras=['ZARAG','Si','No']\n",
    "#for palabra in palabras:\n",
    "#    vehiculo['numempre']=np.where((vehiculo['numempre'].str.contains(palabra)) ,-1, vehiculo['numempre'])\n",
    "#vehiculo['numempre'] = vehiculo['numempre'].astype(float)\n",
    "\n",
    "columnas=[ 'matricul','nomempre', 'marca','modelo', 'carrocero', 'tipo', 'dns_vehiculo']\n",
    "for columna in columnas :   \n",
    "    vehiculo[columna]=np.where((vehiculo[columna].isna()) ,'SIN ASIGNAR', vehiculo[columna])\n"
   ]
  },
  {
   "cell_type": "code",
   "execution_count": 55,
   "id": "d5f79a0c-992b-4b87-9632-59ce5fd43b59",
   "metadata": {},
   "outputs": [
    {
     "data": {
      "text/plain": [
       "Index(['id_vehiculo', 'codigbus', 'matricul', 'fechamat',\n",
       "       'matriculacion_planner', 'edad', 'numempre', 'nomempre', 'marca',\n",
       "       'modelo', 'carrocero', 'tipo', 'totkilom', 'dns_vehiculo'],\n",
       "      dtype='object')"
      ]
     },
     "execution_count": 55,
     "metadata": {},
     "output_type": "execute_result"
    }
   ],
   "source": [
    "vehiculo.columns"
   ]
  },
  {
   "cell_type": "markdown",
   "id": "3cdf9312-54ec-4577-ac0d-da256637b8f8",
   "metadata": {},
   "source": [
    "comprobamos valores unicos, que tengan sentido"
   ]
  },
  {
   "cell_type": "code",
   "execution_count": 56,
   "id": "055de2c5-59f8-42e2-92ce-f9b210f38668",
   "metadata": {},
   "outputs": [
    {
     "data": {
      "text/plain": [
       "array([ 3.,  6.,  5.,  7., 14.,  8., 18., 12., 19., -1., 16., 13.,  9.,\n",
       "        4., 11., 10., 29., 20., 32., 30., 73., 64., 44., 43., 22., 17.,\n",
       "       15., 31., 25., 38., 27., 42., 39., 63., 21., 34., 28., 24.,  2.,\n",
       "        1., 26., 23.,  0., 37., 40.])"
      ]
     },
     "execution_count": 56,
     "metadata": {},
     "output_type": "execute_result"
    }
   ],
   "source": [
    "pd.unique(vehiculo['edad'])"
   ]
  },
  {
   "cell_type": "code",
   "execution_count": 57,
   "id": "2a348411-967f-4a99-9d9b-983d01c8a9cf",
   "metadata": {},
   "outputs": [
    {
     "data": {
      "text/plain": [
       "id_vehiculo              0.000000\n",
       "codigbus                 0.000000\n",
       "matricul                 0.000000\n",
       "fechamat                 0.054453\n",
       "matriculacion_planner    0.063969\n",
       "edad                     0.000000\n",
       "numempre                 0.000000\n",
       "nomempre                 0.000000\n",
       "marca                    0.000000\n",
       "modelo                   0.000000\n",
       "carrocero                0.000000\n",
       "tipo                     0.000000\n",
       "totkilom                 0.000000\n",
       "dns_vehiculo             0.000000\n",
       "dtype: float64"
      ]
     },
     "execution_count": 57,
     "metadata": {},
     "output_type": "execute_result"
    }
   ],
   "source": [
    "vehiculo.isna().sum()/len(taller)*100"
   ]
  },
  {
   "cell_type": "markdown",
   "id": "c7d4fb93-dd42-494f-b92b-9f5efb2c2420",
   "metadata": {},
   "source": [
    "vemos que hay matriculas que no correspondenal formato de una matricula y que hay matriculas de diferentes formatos"
   ]
  },
  {
   "cell_type": "code",
   "execution_count": 58,
   "id": "5bbd747b-fe45-4212-91c4-b6c749725aee",
   "metadata": {},
   "outputs": [
    {
     "data": {
      "text/plain": [
       "1502    6269KLH\n",
       "1503    5791KLS\n",
       "1504    3252KRB\n",
       "1505        FVL\n",
       "1506    7371LXF\n",
       "1507    7122LXD\n",
       "1508    8440CBC\n",
       "1509    7238GYM\n",
       "1510    8456HKM\n",
       "1511    3459HRG\n",
       "1512    2533HMG\n",
       "1513    7794DXW\n",
       "1514    2535HMG\n",
       "1515    3277HMG\n",
       "1516      RIZAO\n",
       "1517    5290BKY\n",
       "1518    6583FDL\n",
       "1519    6792GTW\n",
       "1520    7156FYC\n",
       "1521    1663GZJ\n",
       "1522    6652JVL\n",
       "1523    5791KLS\n",
       "1524    7156FYC\n",
       "1525    4794JJH\n",
       "1526    7140LYB\n",
       "1527    6312FZT\n",
       "1528    1694HNR\n",
       "1529    8156JWS\n",
       "1530    1983HST\n",
       "1531    7140LYB\n",
       "Name: matricul, dtype: object"
      ]
     },
     "execution_count": 58,
     "metadata": {},
     "output_type": "execute_result"
    }
   ],
   "source": [
    "vehiculo['matricul'].tail(30)"
   ]
  },
  {
   "cell_type": "markdown",
   "id": "98779152-660f-4cde-be01-04988d4bca80",
   "metadata": {},
   "source": [
    "creamos un filtro que deja las matricuals  que son alfanumericas en las posiciones designadas que coinciden con los dos tipos de formatos de matricula que se ha visto en el datase\n",
    "\n",
    "tipo 1 : X0000XX    \n",
    "tipo 2 : 0000XXX"
   ]
  },
  {
   "cell_type": "code",
   "execution_count": 59,
   "id": "7824de03-3fae-4b0b-9b32-5bd2f71b368a",
   "metadata": {},
   "outputs": [],
   "source": [
    "vehiculo['matricul']=np.where((vehiculo['matricul'].str[1:-3].str.isnumeric() & \n",
    "                               vehiculo['matricul'].str[-2:].str.isalpha())\n",
    "                              ,vehiculo['matricul'],'SIN ASIGNAR')"
   ]
  },
  {
   "cell_type": "code",
   "execution_count": 60,
   "id": "04b0bded-ec81-4fe2-9e05-f84475225d23",
   "metadata": {},
   "outputs": [
    {
     "data": {
      "text/plain": [
       "1502        6269KLH\n",
       "1503        5791KLS\n",
       "1504        3252KRB\n",
       "1505    SIN ASIGNAR\n",
       "1506        7371LXF\n",
       "1507        7122LXD\n",
       "1508        8440CBC\n",
       "1509        7238GYM\n",
       "1510        8456HKM\n",
       "1511        3459HRG\n",
       "1512        2533HMG\n",
       "1513        7794DXW\n",
       "1514        2535HMG\n",
       "1515        3277HMG\n",
       "1516    SIN ASIGNAR\n",
       "1517        5290BKY\n",
       "1518        6583FDL\n",
       "1519        6792GTW\n",
       "1520        7156FYC\n",
       "1521        1663GZJ\n",
       "1522        6652JVL\n",
       "1523        5791KLS\n",
       "1524        7156FYC\n",
       "1525        4794JJH\n",
       "1526        7140LYB\n",
       "1527        6312FZT\n",
       "1528        1694HNR\n",
       "1529        8156JWS\n",
       "1530        1983HST\n",
       "1531        7140LYB\n",
       "Name: matricul, dtype: object"
      ]
     },
     "execution_count": 60,
     "metadata": {},
     "output_type": "execute_result"
    }
   ],
   "source": [
    "vehiculo['matricul'].tail(30)"
   ]
  },
  {
   "cell_type": "markdown",
   "id": "30201733-43f9-4382-9b6b-22637d9104e7",
   "metadata": {},
   "source": [
    "pasamos la función anteriormente creada para las columnas de fechas, añadiendo a la lista las fechas que corresponda "
   ]
  },
  {
   "cell_type": "code",
   "execution_count": 61,
   "id": "5afda8a5-3a6e-475d-94fc-cf2400e3481c",
   "metadata": {},
   "outputs": [
    {
     "data": {
      "text/plain": [
       "array(['2019', '2016', '2017', '2015', '2008', '2014', '2004', '2010',\n",
       "       '2003', nan, '2006', '2009', '2013', '2018', '2011', '2012',\n",
       "       '1993', '2002', '1990', '1992', '1949', '1958', '1978', '1979',\n",
       "       '2000', '2001', '2005', '2007', '1991', '1997', '1984', '1995',\n",
       "       '1980', '1983', '1959', '1988', '1994', '1998', '2020', '1996',\n",
       "       '1999', '2021', '1985', '1982', '2022'], dtype=object)"
      ]
     },
     "execution_count": 61,
     "metadata": {},
     "output_type": "execute_result"
    }
   ],
   "source": [
    "fecha_a= norm_fecha(vehiculo['fechamat'])\n",
    "fecha_a[1]"
   ]
  },
  {
   "cell_type": "code",
   "execution_count": 62,
   "id": "d3dcf2ef-e98e-4c35-ab96-7d915fce4a36",
   "metadata": {},
   "outputs": [
    {
     "name": "stdout",
     "output_type": "stream",
     "text": [
      "Fechas\n",
      "cantidad de registros: 0    1286\n",
      "dtype: int64\n",
      "cantidad de MISSINGS: 0    104\n",
      "dtype: int64\n",
      "Porcentaje de MISSINGS: 0    7.482014\n",
      "dtype: float64\n"
     ]
    }
   ],
   "source": [
    "cuentaNAN(fecha_a)    "
   ]
  },
  {
   "cell_type": "markdown",
   "id": "6d2aea61-4312-4baa-854e-0fb816ee85e0",
   "metadata": {},
   "source": [
    "asignamos los valores modificados a la columna de fecha y le asignamos el typo fecha"
   ]
  },
  {
   "cell_type": "code",
   "execution_count": 63,
   "id": "943ce26e-18bd-42b5-930f-d9173abfdfe2",
   "metadata": {},
   "outputs": [],
   "source": [
    "vehiculo['fechamat']=fecha_a[0]\n",
    "vehiculo['fechamat'] = pd.to_datetime(vehiculo['fechamat'], format='%Y-%m-%d')"
   ]
  },
  {
   "cell_type": "code",
   "execution_count": 64,
   "id": "0e3b39a4-4f9f-44e2-a347-a9fc5e739df0",
   "metadata": {},
   "outputs": [
    {
     "data": {
      "text/plain": [
       "array(['3', '19', '2', '31', '4', '6', '10', '17', '15', '8', '16', '43',\n",
       "       '45', '44', '46', '47', '67', '69', '70', '68', '57', '72', '79',\n",
       "       '80', '83', '84', '93', '92', '94', '96', '95', '97', '120', '121',\n",
       "       '117', '138', '135', '139', '140'], dtype=object)"
      ]
     },
     "execution_count": 64,
     "metadata": {},
     "output_type": "execute_result"
    }
   ],
   "source": [
    "pd.unique(vehiculo['numempre'])"
   ]
  },
  {
   "cell_type": "code",
   "execution_count": null,
   "id": "fe2fd524-7c46-4626-a2f5-9485662aad75",
   "metadata": {},
   "outputs": [],
   "source": []
  },
  {
   "cell_type": "code",
   "execution_count": 65,
   "id": "52e368a7-49ce-432a-958c-0e65b9c5cea8",
   "metadata": {},
   "outputs": [
    {
     "data": {
      "text/plain": [
       "array(['2019', '2016', '2017', '2015', '2008', '2014', '2004', '2010',\n",
       "       '2003', nan, '2006', '2009', '2013', '2018', '2011', '2012',\n",
       "       '1993', '2002', '1990', '1992', '1949', '1958', '1978', '1979',\n",
       "       '2000', '2005', '2007', '1991', '1997', '1984', '1995', '1980',\n",
       "       '1983', '1959', '2001', '1988', '1994', '1998', '2020', '1996',\n",
       "       '1999', '2021', '1985', '1982', '2022'], dtype=object)"
      ]
     },
     "execution_count": 65,
     "metadata": {},
     "output_type": "execute_result"
    }
   ],
   "source": [
    "fecha_a= norm_fecha(vehiculo['matriculacion_planner'])\n",
    "fecha_a[1]"
   ]
  },
  {
   "cell_type": "code",
   "execution_count": 66,
   "id": "bf6a9481-c526-4295-8d58-de590451803f",
   "metadata": {},
   "outputs": [
    {
     "name": "stdout",
     "output_type": "stream",
     "text": [
      "Fechas\n",
      "cantidad de registros: 0    1269\n",
      "dtype: int64\n",
      "cantidad de MISSINGS: 0    121\n",
      "dtype: int64\n",
      "Porcentaje de MISSINGS: 0    8.705036\n",
      "dtype: float64\n"
     ]
    }
   ],
   "source": [
    "cuentaNAN(fecha_a) "
   ]
  },
  {
   "cell_type": "markdown",
   "id": "3e5a9feb-fde7-4075-9284-86feb2b9b0f4",
   "metadata": {},
   "source": [
    "asignamos los valores modificados a la columna de fecha y le asignamos el typo fecha"
   ]
  },
  {
   "cell_type": "code",
   "execution_count": 67,
   "id": "5cd2d7ad-c51d-44a7-8668-002b9cd495c4",
   "metadata": {},
   "outputs": [],
   "source": [
    "vehiculo['matriculacion_planner']=fecha_a[0]\n",
    "vehiculo['matriculacion_planner'] = pd.to_datetime(vehiculo['matriculacion_planner'], format='%Y-%m-%d')"
   ]
  },
  {
   "cell_type": "code",
   "execution_count": 68,
   "id": "2dbd5dd9-39c2-45f6-acbd-74e24c9c043d",
   "metadata": {},
   "outputs": [
    {
     "data": {
      "text/plain": [
       "['fechamat', 'matriculacion_planner']"
      ]
     },
     "execution_count": 68,
     "metadata": {},
     "output_type": "execute_result"
    }
   ],
   "source": [
    "fechas=vehiculo.select_dtypes(include=np.datetime64)\n",
    "\n",
    "col_date=vehiculo.select_dtypes(include=np.datetime64).columns.tolist()\n",
    "col_date"
   ]
  },
  {
   "cell_type": "markdown",
   "id": "ee49a453-40c5-4b83-af6b-aba6308c05fd",
   "metadata": {},
   "source": [
    "comprobamos que los tipos son lso correctos"
   ]
  },
  {
   "cell_type": "code",
   "execution_count": 69,
   "id": "ec2c9e60-7f9b-41e2-be96-7befadfe0a47",
   "metadata": {},
   "outputs": [
    {
     "data": {
      "text/plain": [
       "id_vehiculo                     float64\n",
       "codigbus                         object\n",
       "matricul                         object\n",
       "fechamat                 datetime64[ns]\n",
       "matriculacion_planner    datetime64[ns]\n",
       "edad                            float64\n",
       "numempre                         object\n",
       "nomempre                         object\n",
       "marca                            object\n",
       "modelo                           object\n",
       "carrocero                        object\n",
       "tipo                             object\n",
       "totkilom                        float64\n",
       "dns_vehiculo                     object\n",
       "dtype: object"
      ]
     },
     "execution_count": 69,
     "metadata": {},
     "output_type": "execute_result"
    }
   ],
   "source": [
    "vehiculo.dtypes"
   ]
  },
  {
   "cell_type": "code",
   "execution_count": 70,
   "id": "c06c29ef-494e-4257-9d90-85a1f5d25f47",
   "metadata": {},
   "outputs": [
    {
     "data": {
      "text/plain": [
       "id_vehiculo              0.000000\n",
       "codigbus                 0.000000\n",
       "matricul                 0.000000\n",
       "fechamat                 0.054982\n",
       "matriculacion_planner    0.063969\n",
       "edad                     0.000000\n",
       "numempre                 0.000000\n",
       "nomempre                 0.000000\n",
       "marca                    0.000000\n",
       "modelo                   0.000000\n",
       "carrocero                0.000000\n",
       "tipo                     0.000000\n",
       "totkilom                 0.000000\n",
       "dns_vehiculo             0.000000\n",
       "dtype: float64"
      ]
     },
     "execution_count": 70,
     "metadata": {},
     "output_type": "execute_result"
    }
   ],
   "source": [
    "vehiculo.isna().sum()/len(taller)*100"
   ]
  },
  {
   "cell_type": "code",
   "execution_count": 71,
   "id": "35bed57e-a25f-48d4-a76c-1ffae45cf586",
   "metadata": {},
   "outputs": [
    {
     "data": {
      "text/html": [
       "<div>\n",
       "<style scoped>\n",
       "    .dataframe tbody tr th:only-of-type {\n",
       "        vertical-align: middle;\n",
       "    }\n",
       "\n",
       "    .dataframe tbody tr th {\n",
       "        vertical-align: top;\n",
       "    }\n",
       "\n",
       "    .dataframe thead th {\n",
       "        text-align: right;\n",
       "    }\n",
       "</style>\n",
       "<table border=\"1\" class=\"dataframe\">\n",
       "  <thead>\n",
       "    <tr style=\"text-align: right;\">\n",
       "      <th></th>\n",
       "      <th>id_vehiculo</th>\n",
       "      <th>codigbus</th>\n",
       "      <th>matricul</th>\n",
       "      <th>fechamat</th>\n",
       "      <th>matriculacion_planner</th>\n",
       "      <th>edad</th>\n",
       "      <th>numempre</th>\n",
       "      <th>nomempre</th>\n",
       "      <th>marca</th>\n",
       "      <th>modelo</th>\n",
       "      <th>carrocero</th>\n",
       "      <th>tipo</th>\n",
       "      <th>totkilom</th>\n",
       "      <th>dns_vehiculo</th>\n",
       "    </tr>\n",
       "  </thead>\n",
       "  <tbody>\n",
       "    <tr>\n",
       "      <th>904</th>\n",
       "      <td>803.0</td>\n",
       "      <td>30239</td>\n",
       "      <td>4966KKV</td>\n",
       "      <td>2018-05-10</td>\n",
       "      <td>2018-05-10</td>\n",
       "      <td>4.0</td>\n",
       "      <td>92</td>\n",
       "      <td>Ambulancias Autónomas</td>\n",
       "      <td>FORD</td>\n",
       "      <td>TRANSIT</td>\n",
       "      <td>INDUSAUTO</td>\n",
       "      <td>AMBULANCIA TIPO A</td>\n",
       "      <td>224999.0</td>\n",
       "      <td>ambulancias</td>\n",
       "    </tr>\n",
       "    <tr>\n",
       "      <th>1425</th>\n",
       "      <td>1286.0</td>\n",
       "      <td>20150</td>\n",
       "      <td>0188LVW</td>\n",
       "      <td>2022-01-07</td>\n",
       "      <td>2022-01-07</td>\n",
       "      <td>0.0</td>\n",
       "      <td>93</td>\n",
       "      <td>Ambulancias Edetanas</td>\n",
       "      <td>FORD</td>\n",
       "      <td>TRANSIT</td>\n",
       "      <td>INDUSAUTO</td>\n",
       "      <td>AMBULANCIA TIPO A</td>\n",
       "      <td>6495.0</td>\n",
       "      <td>ambulancias</td>\n",
       "    </tr>\n",
       "    <tr>\n",
       "      <th>22</th>\n",
       "      <td>23.0</td>\n",
       "      <td>258D</td>\n",
       "      <td>3934GPT</td>\n",
       "      <td>2009-09-28</td>\n",
       "      <td>2009-09-28</td>\n",
       "      <td>13.0</td>\n",
       "      <td>19</td>\n",
       "      <td>Empleadas de Hogar</td>\n",
       "      <td>SIN ASIGNAR</td>\n",
       "      <td>SIN ASIGNAR</td>\n",
       "      <td>SIN ASIGNAR</td>\n",
       "      <td>NORMAL</td>\n",
       "      <td>0.0</td>\n",
       "      <td>transvia</td>\n",
       "    </tr>\n",
       "    <tr>\n",
       "      <th>728</th>\n",
       "      <td>638.0</td>\n",
       "      <td>S085</td>\n",
       "      <td>7262HCW</td>\n",
       "      <td>2011-04-14</td>\n",
       "      <td>2011-04-14</td>\n",
       "      <td>11.0</td>\n",
       "      <td>84</td>\n",
       "      <td>La Serranica</td>\n",
       "      <td>DAF</td>\n",
       "      <td>i6</td>\n",
       "      <td>IRIZAR</td>\n",
       "      <td>Discrecional</td>\n",
       "      <td>2697495.0</td>\n",
       "      <td>laserranica</td>\n",
       "    </tr>\n",
       "    <tr>\n",
       "      <th>395</th>\n",
       "      <td>333.0</td>\n",
       "      <td>C102</td>\n",
       "      <td>5997JNW</td>\n",
       "      <td>2016-05-12</td>\n",
       "      <td>2016-05-12</td>\n",
       "      <td>6.0</td>\n",
       "      <td>45</td>\n",
       "      <td>La Concepcion</td>\n",
       "      <td>SIN ASIGNAR</td>\n",
       "      <td>SIN ASIGNAR</td>\n",
       "      <td>SIN ASIGNAR</td>\n",
       "      <td>SIN ASIGNAR</td>\n",
       "      <td>-1.0</td>\n",
       "      <td>SIN ASIGNAR</td>\n",
       "    </tr>\n",
       "  </tbody>\n",
       "</table>\n",
       "</div>"
      ],
      "text/plain": [
       "      id_vehiculo codigbus matricul   fechamat matriculacion_planner  edad  \\\n",
       "904         803.0    30239  4966KKV 2018-05-10            2018-05-10   4.0   \n",
       "1425       1286.0    20150  0188LVW 2022-01-07            2022-01-07   0.0   \n",
       "22           23.0     258D  3934GPT 2009-09-28            2009-09-28  13.0   \n",
       "728         638.0     S085  7262HCW 2011-04-14            2011-04-14  11.0   \n",
       "395         333.0     C102  5997JNW 2016-05-12            2016-05-12   6.0   \n",
       "\n",
       "     numempre               nomempre        marca       modelo    carrocero  \\\n",
       "904        92  Ambulancias Autónomas         FORD      TRANSIT    INDUSAUTO   \n",
       "1425       93   Ambulancias Edetanas         FORD      TRANSIT    INDUSAUTO   \n",
       "22         19     Empleadas de Hogar  SIN ASIGNAR  SIN ASIGNAR  SIN ASIGNAR   \n",
       "728        84           La Serranica          DAF           i6       IRIZAR   \n",
       "395        45          La Concepcion  SIN ASIGNAR  SIN ASIGNAR  SIN ASIGNAR   \n",
       "\n",
       "                   tipo   totkilom dns_vehiculo  \n",
       "904   AMBULANCIA TIPO A   224999.0  ambulancias  \n",
       "1425  AMBULANCIA TIPO A     6495.0  ambulancias  \n",
       "22               NORMAL        0.0     transvia  \n",
       "728        Discrecional  2697495.0  laserranica  \n",
       "395         SIN ASIGNAR       -1.0  SIN ASIGNAR  "
      ]
     },
     "execution_count": 71,
     "metadata": {},
     "output_type": "execute_result"
    }
   ],
   "source": [
    "vehiculo.sample(5)"
   ]
  },
  {
   "cell_type": "markdown",
   "id": "4804a178-16f6-4610-aac7-796d34ca4d2a",
   "metadata": {
    "tags": []
   },
   "source": [
    "comprobamos las correlaciones que hay en el data set vehiculo, vemos que no son muy altes"
   ]
  },
  {
   "cell_type": "code",
   "execution_count": 72,
   "id": "a6590635-ba21-4fca-a15d-3e25c11f3d39",
   "metadata": {},
   "outputs": [
    {
     "data": {
      "image/png": "[encoded data removed]",
      "text/plain": [
       "<Figure size 720x432 with 2 Axes>"
      ]
     },
     "metadata": {},
     "output_type": "display_data"
    }
   ],
   "source": [
    "correlaciones(vehiculo)"
   ]
  },
  {
   "cell_type": "code",
   "execution_count": null,
   "id": "a59a9cfc-7683-48b3-87e8-0623a9ee896e",
   "metadata": {},
   "outputs": [],
   "source": []
  },
  {
   "cell_type": "markdown",
   "id": "4bf75d6a-9372-4c63-8c9e-82fe7ce03176",
   "metadata": {},
   "source": [
    "# COMBINAR Datasets"
   ]
  },
  {
   "cell_type": "markdown",
   "id": "04ae28f3-0142-4fad-9ae2-dc27f9360489",
   "metadata": {},
   "source": [
    "comprobamos que las columnas por las que vamos a juntar los data sets  tienen valores iguales"
   ]
  },
  {
   "cell_type": "code",
   "execution_count": 73,
   "id": "d392ef4c-b618-4065-9482-36e6f86aea89",
   "metadata": {},
   "outputs": [
    {
     "name": "stdout",
     "output_type": "stream",
     "text": [
      "1327\n",
      "<class 'numpy.ndarray'>\n"
     ]
    }
   ],
   "source": [
    "codigbus_taller = pd.unique(taller['codigbus'])\n",
    "print(len(codigbus_taller))\n",
    "print(type(codigbus_taller))"
   ]
  },
  {
   "cell_type": "code",
   "execution_count": 74,
   "id": "261ad3bf-51b2-42f8-8ccf-c839d872b1e1",
   "metadata": {},
   "outputs": [
    {
     "name": "stdout",
     "output_type": "stream",
     "text": [
      "1373\n"
     ]
    }
   ],
   "source": [
    "codigbus_vehiculo = pd.unique(vehiculo['codigbus'])\n",
    "print(len(codigbus_vehiculo))"
   ]
  },
  {
   "cell_type": "code",
   "execution_count": 75,
   "id": "6b76201e-366e-4fcd-adfa-9343d7a44c47",
   "metadata": {},
   "outputs": [
    {
     "name": "stdout",
     "output_type": "stream",
     "text": [
      "['B078' 'B128' 'B131' ... 'T376' 'T379' 'RMA108']\n",
      "['1000' '1001' '1002' ... 'T380' 'B191' 'R104']\n"
     ]
    }
   ],
   "source": [
    "print(codigbus_taller)\n",
    "print(codigbus_vehiculo)"
   ]
  },
  {
   "cell_type": "code",
   "execution_count": null,
   "id": "c13db28c-ed58-4958-baff-dec3e052cf4c",
   "metadata": {},
   "outputs": [],
   "source": []
  },
  {
   "cell_type": "code",
   "execution_count": 76,
   "id": "6a9a7b8c-af6a-482e-9f8c-aa35008a4f4c",
   "metadata": {},
   "outputs": [
    {
     "data": {
      "text/plain": [
       "0"
      ]
     },
     "execution_count": 76,
     "metadata": {},
     "output_type": "execute_result"
    }
   ],
   "source": [
    "codigbus_taller=pd.Series(codigbus_taller)\n",
    "codigbus_taller.isna().sum()"
   ]
  },
  {
   "cell_type": "code",
   "execution_count": 77,
   "id": "623ce867-b5ee-4ae4-8a54-adf3407d8855",
   "metadata": {},
   "outputs": [
    {
     "data": {
      "text/plain": [
       "0"
      ]
     },
     "execution_count": 77,
     "metadata": {},
     "output_type": "execute_result"
    }
   ],
   "source": [
    "codigbus_vehiculo=pd.Series(codigbus_vehiculo)\n",
    "codigbus_vehiculo.isna().sum()"
   ]
  },
  {
   "cell_type": "code",
   "execution_count": 78,
   "id": "e12dd708-183a-4575-a074-6fcd7a4d8bbb",
   "metadata": {},
   "outputs": [],
   "source": [
    "#codigbus_vehiculo=codigbus_vehiculo.dropna()\n",
    "#codigbus_vehiculo.isna().sum()"
   ]
  },
  {
   "cell_type": "code",
   "execution_count": 79,
   "id": "11cdbc59-7fd5-41f7-96f3-cab0ee1c0835",
   "metadata": {
    "scrolled": true,
    "tags": []
   },
   "outputs": [
    {
     "data": {
      "text/plain": [
       "array(['20052', '20063', '222', '236', '23LT', '30178', '30185', '30252',\n",
       "       '30295', '54HC', '58HC', '61HC', '63HC', '63LT', '66LT', '67HC',\n",
       "       '69HC', '70HC', '71HC', '72HC', '73HC', '75HC', '76HC', '77HC',\n",
       "       '78HC', '79HC', '80HC', '81HC', '82HC', '83HC', '84HC', 'A102',\n",
       "       'A107', 'A109', 'A110', 'A114', 'A115', 'A124', 'A125', 'A358',\n",
       "       'B009', 'B011', 'B114', 'B116', 'B117', 'B119', 'B127', 'B129',\n",
       "       'B130', 'B132', 'B133', 'B135', 'B137', 'B145', 'B146', 'B148',\n",
       "       'B150', 'B152', 'B153', 'B155', 'B156', 'B158', 'B160', 'B161',\n",
       "       'B162', 'B164', 'B165', 'B166', 'B168', 'B169', 'B170', 'B171',\n",
       "       'B172', 'B173', 'B174', 'B175', 'B176', 'B177', 'B178', 'B179',\n",
       "       'B180', 'B181', 'B182', 'B183', 'B184', 'B185', 'B186', 'B187',\n",
       "       'B188', 'B189', 'B191', 'C084', 'C086', 'C087', 'C088', 'C091',\n",
       "       'C092', 'C094', 'C095', 'C098', 'C099', 'C101', 'C102', 'C103',\n",
       "       'C104', 'C105', 'C106', 'C107', 'C108', 'C109', 'D101', 'D112',\n",
       "       'D113', 'D299', 'D313', 'D314', 'D325', 'D337', 'D357', 'D361',\n",
       "       'E001', 'E002', 'E003', 'E004', 'E005', 'E007', 'E613', 'E641',\n",
       "       'E642', 'E651', 'E652', 'E653', 'E659', 'E660', 'E661', 'E662',\n",
       "       'E663', 'E669', 'E670', 'E671', 'E672', 'E673', 'E683', 'ER088',\n",
       "       'ER636', 'ER643', 'ER644', 'ER645', 'ER654', 'ER655', 'ER664',\n",
       "       'ER667', 'ER674', 'ER682', 'ESC0334', 'ESC0336', 'F002', 'F003',\n",
       "       'F009', 'F013', 'F014', 'F124', 'F125', 'F152', 'F153', 'F154',\n",
       "       'F155', 'F159', 'F160', 'F161', 'F162', 'F163', 'F164', 'F176',\n",
       "       'F177', 'F178', 'F179', 'F180', 'F181', 'F185', 'F186', 'F193',\n",
       "       'F195', 'F202', 'F203', 'F204', 'F205', 'F206', 'F207', 'F208',\n",
       "       'F209', 'F212', 'F213', 'F214', 'F215', 'F216', 'F217', 'F218',\n",
       "       'F219', 'F220', 'F221', 'F222', 'F223', 'F224', 'F225', 'F226',\n",
       "       'F227', 'F228', 'F229', 'F230', 'F231', 'G054', 'G061', 'G069',\n",
       "       'G072', 'G073', 'G078', 'G079', 'G080', 'G081', 'G084', 'G085',\n",
       "       'G086', 'G087', 'G088', 'G090', 'G091', 'G092', 'G093', 'G094',\n",
       "       'G308', 'G309', 'G310', 'H007', 'H076', 'H081', 'H082', 'H085',\n",
       "       'H086', 'H087', 'H088', 'H092', 'H094', 'H099', 'H100', 'H101',\n",
       "       'H102', 'H103', 'H107', 'H109', 'H110', 'H111', 'H114', 'H117',\n",
       "       'H118', 'H119', 'H120', 'H121', 'H122', 'H124', 'H126', 'H127',\n",
       "       'H128', 'H129', 'H130', 'H131', 'H132', 'H133', 'H134', 'H135',\n",
       "       'H136', 'H137', 'I707', 'I708', 'I710', 'I711', 'I712', 'J264',\n",
       "       'J266', 'J268', 'J269', 'J288', 'J289', 'J307', 'J326', 'J342',\n",
       "       'J351', 'J356', 'J364', 'JAGV109', 'JMC2', 'K000', 'LSR0093',\n",
       "       'M001', 'MOC001', 'MOC004', 'Q001', 'Q002', 'R033', 'R047', 'R061',\n",
       "       'R062', 'R065', 'R069', 'R070', 'R072', 'R073', 'R074', 'R075',\n",
       "       'R076', 'R077', 'R080', 'R081', 'R082', 'R083', 'R084', 'R087',\n",
       "       'R089', 'R090', 'R091', 'R093', 'R099', 'R512', 'R627', 'R638',\n",
       "       'R676', 'R678', 'R682', 'RA00', 'RCOVID', 'REN001', 'REN002',\n",
       "       'REN003', 'REN006', 'RMA108', 'S012', 'S015', 'S072', 'S073',\n",
       "       'S074', 'S076', 'S080', 'S081', 'S083', 'S085', 'S086', 'S087',\n",
       "       'S089', 'S090', 'S091', 'SD337', 'SEL374', 'ST334', 'T101', 'T173',\n",
       "       'T206', 'T221', 'T222', 'T227', 'T229', 'T235', 'T237', 'T240',\n",
       "       'T241', 'T242', 'T243', 'T245', 'T246', 'T251', 'T252', 'T259',\n",
       "       'T272', 'T276', 'T286', 'T297', 'T298', 'T300', 'T301', 'T304',\n",
       "       'T305', 'T308', 'T309', 'T319', 'T322', 'T323', 'T328', 'T329',\n",
       "       'T333', 'T334', 'T335', 'T336', 'T339', 'T340', 'T341', 'T343',\n",
       "       'T346', 'T349', 'T352', 'T353', 'T354', 'T355', 'T359', 'T360',\n",
       "       'T363', 'T367', 'T368', 'T369', 'T371', 'T375', 'T376', 'T377',\n",
       "       'T379', 'T380', 'T517', 'T526', 'T530', 'T542', 'T543', 'T545',\n",
       "       'T546', 'T547', 'T548', 'T549', 'T551', 'T552', 'T553', 'T554',\n",
       "       'T556', 'T557', 'TT00', 'U109', 'U110', 'U111', 'U112', 'U113',\n",
       "       'U114', 'U119', 'U198', 'U205', 'U208', 'U216', 'U238', 'U249',\n",
       "       'U255', 'U274', 'U284', 'U290', 'U292', 'U303', 'U304', 'U312',\n",
       "       'U316', 'U317', 'U330', 'U338', 'U344', 'U347', 'U348', 'U365',\n",
       "       'U370', 'UCGT', 'UT00', 'UT10', 'UT11', 'UT12', 'UT13', 'UT14',\n",
       "       'UT15', 'UT16', 'UT17', 'UT18', 'X110', 'X111', 'X114', 'X115',\n",
       "       'X116', 'X117', 'X118', 'X119'], dtype=object)"
      ]
     },
     "execution_count": 79,
     "metadata": {},
     "output_type": "execute_result"
    }
   ],
   "source": [
    "codigbus_comun=np.intersect1d(codigbus_taller,codigbus_vehiculo)\n",
    "codigbus_comun"
   ]
  },
  {
   "cell_type": "markdown",
   "id": "19a8847a-34ee-4f8f-862a-4b7aab0e24a3",
   "metadata": {},
   "source": [
    "comprobamos que las columnas por las que vamos a juntar los data sets  tienes valores iguales"
   ]
  },
  {
   "cell_type": "markdown",
   "id": "6e8d7097-0312-4542-b7d3-42503f4dca89",
   "metadata": {},
   "source": [
    "vemos que el número de observaciones comunes:"
   ]
  },
  {
   "cell_type": "code",
   "execution_count": 80,
   "id": "d8d2b6fb-09e2-4ba6-9596-cce31fc8fe0a",
   "metadata": {},
   "outputs": [
    {
     "data": {
      "text/plain": [
       "479"
      ]
     },
     "execution_count": 80,
     "metadata": {},
     "output_type": "execute_result"
    }
   ],
   "source": [
    "#len(np.intersect1d(codigbus_taller,codigbus_vehiculo))\n",
    "len(codigbus_comun)"
   ]
  },
  {
   "cell_type": "code",
   "execution_count": 81,
   "id": "43cbe4c3-4769-4148-9b8a-49ff740905ba",
   "metadata": {},
   "outputs": [
    {
     "data": {
      "text/plain": [
       "Index(['anyparte', 'numparte', 'numlinea', 'descrip', 'cantidad', 'precio',\n",
       "       'importe', 'prove mat', 'nomartic', 'fec_alta', 'fecultcom', 'preciouc',\n",
       "       'ctr_stock', 'nomalmac', 'prove art', 'nomfamia', 'nomunida',\n",
       "       'codigbus', 'fechaent', 'numkms', 'fechasal', 'siniestro',\n",
       "       'descripcion', 'cliente'],\n",
       "      dtype='object')"
      ]
     },
     "execution_count": 81,
     "metadata": {},
     "output_type": "execute_result"
    }
   ],
   "source": [
    "taller.columns"
   ]
  },
  {
   "cell_type": "code",
   "execution_count": 82,
   "id": "511c2290-4d75-4604-a3e2-a82051cb7c97",
   "metadata": {},
   "outputs": [
    {
     "data": {
      "text/plain": [
       "Index(['id_vehiculo', 'codigbus', 'matricul', 'fechamat',\n",
       "       'matriculacion_planner', 'edad', 'numempre', 'nomempre', 'marca',\n",
       "       'modelo', 'carrocero', 'tipo', 'totkilom', 'dns_vehiculo'],\n",
       "      dtype='object')"
      ]
     },
     "execution_count": 82,
     "metadata": {},
     "output_type": "execute_result"
    }
   ],
   "source": [
    "vehiculo.columns"
   ]
  },
  {
   "cell_type": "markdown",
   "id": "59069207-272b-4b20-a43b-79dd972ad590",
   "metadata": {},
   "source": [
    "hacemos un inner join  para tener las filas con toda la información"
   ]
  },
  {
   "cell_type": "code",
   "execution_count": 83,
   "id": "7994d924-1ac9-4c29-956d-64f9f14a169f",
   "metadata": {},
   "outputs": [
    {
     "name": "stdout",
     "output_type": "stream",
     "text": [
      "(99282, 37)\n"
     ]
    }
   ],
   "source": [
    "#df= taller.merge(vehiculo, how='left', on='codigbus')\n",
    "df= taller.merge(vehiculo, how='inner', on='codigbus')\n",
    "print(df.shape)\n",
    "\n"
   ]
  },
  {
   "cell_type": "code",
   "execution_count": null,
   "id": "65eb34ef-7cf5-410c-9cf1-3bdec3bd7ec2",
   "metadata": {},
   "outputs": [],
   "source": []
  },
  {
   "cell_type": "code",
   "execution_count": 84,
   "id": "d874ee6c-d838-4437-af0c-299d8fafa351",
   "metadata": {},
   "outputs": [
    {
     "data": {
      "text/plain": [
       "Index(['anyparte', 'numparte', 'numlinea', 'descrip', 'cantidad', 'precio',\n",
       "       'importe', 'prove mat', 'nomartic', 'fec_alta', 'fecultcom', 'preciouc',\n",
       "       'ctr_stock', 'nomalmac', 'prove art', 'nomfamia', 'nomunida',\n",
       "       'codigbus', 'fechaent', 'numkms', 'fechasal', 'siniestro',\n",
       "       'descripcion', 'cliente', 'id_vehiculo', 'matricul', 'fechamat',\n",
       "       'matriculacion_planner', 'edad', 'numempre', 'nomempre', 'marca',\n",
       "       'modelo', 'carrocero', 'tipo', 'totkilom', 'dns_vehiculo'],\n",
       "      dtype='object')"
      ]
     },
     "execution_count": 84,
     "metadata": {},
     "output_type": "execute_result"
    }
   ],
   "source": [
    "df.columns"
   ]
  },
  {
   "cell_type": "code",
   "execution_count": 85,
   "id": "b04d34a3-812e-4635-9970-9a4d6e7bb924",
   "metadata": {},
   "outputs": [
    {
     "data": {
      "text/plain": [
       "(97848, 37)"
      ]
     },
     "execution_count": 85,
     "metadata": {},
     "output_type": "execute_result"
    }
   ],
   "source": [
    "#df4=df4.sort_values()\n",
    "df=df[(df['importe'] > 0)]\n",
    "df.shape"
   ]
  },
  {
   "cell_type": "code",
   "execution_count": 143,
   "id": "f2dec65f-0490-4e36-b59b-9146bec5443d",
   "metadata": {},
   "outputs": [],
   "source": [
    "df['importe_teorico']=round(df.cantidad*df.precio,2)\n",
    "df['descuento']=df.importe_teorico-df.importe"
   ]
  },
  {
   "cell_type": "code",
   "execution_count": 141,
   "id": "a7311491-508c-4394-97a6-b14c2eac82fa",
   "metadata": {},
   "outputs": [
    {
     "data": {
      "text/html": [
       "<div>\n",
       "<style scoped>\n",
       "    .dataframe tbody tr th:only-of-type {\n",
       "        vertical-align: middle;\n",
       "    }\n",
       "\n",
       "    .dataframe tbody tr th {\n",
       "        vertical-align: top;\n",
       "    }\n",
       "\n",
       "    .dataframe thead th {\n",
       "        text-align: right;\n",
       "    }\n",
       "</style>\n",
       "<table border=\"1\" class=\"dataframe\">\n",
       "  <thead>\n",
       "    <tr style=\"text-align: right;\">\n",
       "      <th></th>\n",
       "      <th>nomartic</th>\n",
       "      <th>cantidad</th>\n",
       "      <th>precio</th>\n",
       "      <th>importe</th>\n",
       "      <th>importe_teorico</th>\n",
       "      <th>descuento</th>\n",
       "    </tr>\n",
       "  </thead>\n",
       "  <tbody>\n",
       "    <tr>\n",
       "      <th>126</th>\n",
       "      <td>RECOSER BELCROS EN CABEZALES</td>\n",
       "      <td>57.0</td>\n",
       "      <td>0.70</td>\n",
       "      <td>40.00</td>\n",
       "      <td>39.90</td>\n",
       "      <td>-0.1</td>\n",
       "    </tr>\n",
       "    <tr>\n",
       "      <th>2953</th>\n",
       "      <td>FORRADO COLOR BURDEOS</td>\n",
       "      <td>1.0</td>\n",
       "      <td>10.20</td>\n",
       "      <td>22.20</td>\n",
       "      <td>10.20</td>\n",
       "      <td>-12.0</td>\n",
       "    </tr>\n",
       "    <tr>\n",
       "      <th>3465</th>\n",
       "      <td>TORNILLO HEXAGONAL PLANO 10 X 30</td>\n",
       "      <td>75.0</td>\n",
       "      <td>0.11</td>\n",
       "      <td>8.49</td>\n",
       "      <td>8.25</td>\n",
       "      <td>-0.2</td>\n",
       "    </tr>\n",
       "    <tr>\n",
       "      <th>3467</th>\n",
       "      <td>TUERCA M-12</td>\n",
       "      <td>75.0</td>\n",
       "      <td>0.09</td>\n",
       "      <td>7.09</td>\n",
       "      <td>6.75</td>\n",
       "      <td>-0.3</td>\n",
       "    </tr>\n",
       "    <tr>\n",
       "      <th>5163</th>\n",
       "      <td>TORNILLO M-10 X 12 DIN-933</td>\n",
       "      <td>100.0</td>\n",
       "      <td>0.09</td>\n",
       "      <td>9.34</td>\n",
       "      <td>9.00</td>\n",
       "      <td>-0.3</td>\n",
       "    </tr>\n",
       "    <tr>\n",
       "      <th>5596</th>\n",
       "      <td>ARANDELA M-12</td>\n",
       "      <td>300.0</td>\n",
       "      <td>0.02</td>\n",
       "      <td>6.30</td>\n",
       "      <td>6.00</td>\n",
       "      <td>-0.3</td>\n",
       "    </tr>\n",
       "    <tr>\n",
       "      <th>6483</th>\n",
       "      <td>PINTUA IMRON HDC ROJO TURISTICO</td>\n",
       "      <td>2.0</td>\n",
       "      <td>36.28</td>\n",
       "      <td>72.74</td>\n",
       "      <td>72.56</td>\n",
       "      <td>-0.2</td>\n",
       "    </tr>\n",
       "    <tr>\n",
       "      <th>7637</th>\n",
       "      <td>TORNILLO HEXAGONAL PLANO 10 X 30</td>\n",
       "      <td>75.0</td>\n",
       "      <td>0.11</td>\n",
       "      <td>8.49</td>\n",
       "      <td>8.25</td>\n",
       "      <td>-0.2</td>\n",
       "    </tr>\n",
       "    <tr>\n",
       "      <th>7639</th>\n",
       "      <td>TUERCA M-12</td>\n",
       "      <td>75.0</td>\n",
       "      <td>0.09</td>\n",
       "      <td>7.09</td>\n",
       "      <td>6.75</td>\n",
       "      <td>-0.3</td>\n",
       "    </tr>\n",
       "    <tr>\n",
       "      <th>8374</th>\n",
       "      <td>REMACHE ACERO CAB.ALOMADA 6 X 20MM</td>\n",
       "      <td>250.0</td>\n",
       "      <td>0.14</td>\n",
       "      <td>35.88</td>\n",
       "      <td>35.00</td>\n",
       "      <td>-0.9</td>\n",
       "    </tr>\n",
       "    <tr>\n",
       "      <th>10327</th>\n",
       "      <td>PIEZAS DE DESGASTE REPIDO</td>\n",
       "      <td>4.0</td>\n",
       "      <td>0.12</td>\n",
       "      <td>25.76</td>\n",
       "      <td>0.48</td>\n",
       "      <td>-25.3</td>\n",
       "    </tr>\n",
       "    <tr>\n",
       "      <th>11694</th>\n",
       "      <td>TORNILLO CHAPA CELO 4.2 X 38</td>\n",
       "      <td>250.0</td>\n",
       "      <td>0.02</td>\n",
       "      <td>5.43</td>\n",
       "      <td>5.00</td>\n",
       "      <td>-0.4</td>\n",
       "    </tr>\n",
       "    <tr>\n",
       "      <th>11695</th>\n",
       "      <td>TORNILLO P/CHAPA 75HA CELO 4.2X32</td>\n",
       "      <td>250.0</td>\n",
       "      <td>0.03</td>\n",
       "      <td>7.75</td>\n",
       "      <td>7.50</td>\n",
       "      <td>-0.2</td>\n",
       "    </tr>\n",
       "    <tr>\n",
       "      <th>15407</th>\n",
       "      <td>CONSTRUIR PLANTILLAS AGR S/M</td>\n",
       "      <td>2.0</td>\n",
       "      <td>12.33</td>\n",
       "      <td>25.00</td>\n",
       "      <td>24.66</td>\n",
       "      <td>-0.3</td>\n",
       "    </tr>\n",
       "    <tr>\n",
       "      <th>15418</th>\n",
       "      <td>REPARAR INYECTORES</td>\n",
       "      <td>1.0</td>\n",
       "      <td>972.00</td>\n",
       "      <td>1004.40</td>\n",
       "      <td>972.00</td>\n",
       "      <td>-32.4</td>\n",
       "    </tr>\n",
       "    <tr>\n",
       "      <th>16877</th>\n",
       "      <td>CHAPA GALVANIZADA 2000 X 1000 X 1.2</td>\n",
       "      <td>120.0</td>\n",
       "      <td>1.32</td>\n",
       "      <td>158.52</td>\n",
       "      <td>158.40</td>\n",
       "      <td>-0.1</td>\n",
       "    </tr>\n",
       "    <tr>\n",
       "      <th>18229</th>\n",
       "      <td>CORREA BOMBA AGUA IVECO 4K1026</td>\n",
       "      <td>1.0</td>\n",
       "      <td>32.04</td>\n",
       "      <td>32.94</td>\n",
       "      <td>32.04</td>\n",
       "      <td>-0.9</td>\n",
       "    </tr>\n",
       "    <tr>\n",
       "      <th>25866</th>\n",
       "      <td>TUERCA HEXAGONAL M-8</td>\n",
       "      <td>60.0</td>\n",
       "      <td>0.02</td>\n",
       "      <td>1.27</td>\n",
       "      <td>1.20</td>\n",
       "      <td>-0.1</td>\n",
       "    </tr>\n",
       "    <tr>\n",
       "      <th>25867</th>\n",
       "      <td>TUERCA HEXAGONAL M-8</td>\n",
       "      <td>60.0</td>\n",
       "      <td>0.02</td>\n",
       "      <td>1.27</td>\n",
       "      <td>1.20</td>\n",
       "      <td>-0.1</td>\n",
       "    </tr>\n",
       "    <tr>\n",
       "      <th>25868</th>\n",
       "      <td>TUERCA M-12</td>\n",
       "      <td>60.0</td>\n",
       "      <td>0.09</td>\n",
       "      <td>5.67</td>\n",
       "      <td>5.40</td>\n",
       "      <td>-0.3</td>\n",
       "    </tr>\n",
       "    <tr>\n",
       "      <th>25869</th>\n",
       "      <td>TUERCA M-12</td>\n",
       "      <td>60.0</td>\n",
       "      <td>0.09</td>\n",
       "      <td>5.67</td>\n",
       "      <td>5.40</td>\n",
       "      <td>-0.3</td>\n",
       "    </tr>\n",
       "    <tr>\n",
       "      <th>25870</th>\n",
       "      <td>TORNILLO HEX.8 X 25</td>\n",
       "      <td>60.0</td>\n",
       "      <td>0.03</td>\n",
       "      <td>1.90</td>\n",
       "      <td>1.80</td>\n",
       "      <td>-0.1</td>\n",
       "    </tr>\n",
       "    <tr>\n",
       "      <th>25871</th>\n",
       "      <td>TORNILLO HEX.8 X 25</td>\n",
       "      <td>60.0</td>\n",
       "      <td>0.03</td>\n",
       "      <td>1.90</td>\n",
       "      <td>1.80</td>\n",
       "      <td>-0.1</td>\n",
       "    </tr>\n",
       "    <tr>\n",
       "      <th>28102</th>\n",
       "      <td>RECOSER CORTINAS Y ENGANCHES PLASTI</td>\n",
       "      <td>23.0</td>\n",
       "      <td>2.17</td>\n",
       "      <td>50.00</td>\n",
       "      <td>49.91</td>\n",
       "      <td>-0.1</td>\n",
       "    </tr>\n",
       "    <tr>\n",
       "      <th>28742</th>\n",
       "      <td>LAMPARAS</td>\n",
       "      <td>50.0</td>\n",
       "      <td>0.36</td>\n",
       "      <td>18.20</td>\n",
       "      <td>18.00</td>\n",
       "      <td>-0.2</td>\n",
       "    </tr>\n",
       "    <tr>\n",
       "      <th>28743</th>\n",
       "      <td>LAMPARA 24V 1.2W</td>\n",
       "      <td>30.0</td>\n",
       "      <td>0.36</td>\n",
       "      <td>10.92</td>\n",
       "      <td>10.80</td>\n",
       "      <td>-0.1</td>\n",
       "    </tr>\n",
       "    <tr>\n",
       "      <th>37390</th>\n",
       "      <td>CANON REAL DECRETO 679/2006 ACEITE</td>\n",
       "      <td>20.0</td>\n",
       "      <td>0.05</td>\n",
       "      <td>1.08</td>\n",
       "      <td>1.00</td>\n",
       "      <td>-0.1</td>\n",
       "    </tr>\n",
       "    <tr>\n",
       "      <th>38105</th>\n",
       "      <td>CANON REAL DECRETO 679/2006 ACEITE</td>\n",
       "      <td>20.0</td>\n",
       "      <td>0.05</td>\n",
       "      <td>1.08</td>\n",
       "      <td>1.00</td>\n",
       "      <td>-0.1</td>\n",
       "    </tr>\n",
       "    <tr>\n",
       "      <th>38816</th>\n",
       "      <td>KIT PEGADO 255</td>\n",
       "      <td>20.0</td>\n",
       "      <td>6.71</td>\n",
       "      <td>134.26</td>\n",
       "      <td>134.20</td>\n",
       "      <td>-0.1</td>\n",
       "    </tr>\n",
       "  </tbody>\n",
       "</table>\n",
       "</div>"
      ],
      "text/plain": [
       "                                  nomartic  cantidad  precio  importe  \\\n",
       "126           RECOSER BELCROS EN CABEZALES      57.0    0.70    40.00   \n",
       "2953                 FORRADO COLOR BURDEOS       1.0   10.20    22.20   \n",
       "3465      TORNILLO HEXAGONAL PLANO 10 X 30      75.0    0.11     8.49   \n",
       "3467                           TUERCA M-12      75.0    0.09     7.09   \n",
       "5163            TORNILLO M-10 X 12 DIN-933     100.0    0.09     9.34   \n",
       "5596                         ARANDELA M-12     300.0    0.02     6.30   \n",
       "6483       PINTUA IMRON HDC ROJO TURISTICO       2.0   36.28    72.74   \n",
       "7637      TORNILLO HEXAGONAL PLANO 10 X 30      75.0    0.11     8.49   \n",
       "7639                           TUERCA M-12      75.0    0.09     7.09   \n",
       "8374    REMACHE ACERO CAB.ALOMADA 6 X 20MM     250.0    0.14    35.88   \n",
       "10327            PIEZAS DE DESGASTE REPIDO       4.0    0.12    25.76   \n",
       "11694         TORNILLO CHAPA CELO 4.2 X 38     250.0    0.02     5.43   \n",
       "11695    TORNILLO P/CHAPA 75HA CELO 4.2X32     250.0    0.03     7.75   \n",
       "15407         CONSTRUIR PLANTILLAS AGR S/M       2.0   12.33    25.00   \n",
       "15418                   REPARAR INYECTORES       1.0  972.00  1004.40   \n",
       "16877  CHAPA GALVANIZADA 2000 X 1000 X 1.2     120.0    1.32   158.52   \n",
       "18229       CORREA BOMBA AGUA IVECO 4K1026       1.0   32.04    32.94   \n",
       "25866                 TUERCA HEXAGONAL M-8      60.0    0.02     1.27   \n",
       "25867                 TUERCA HEXAGONAL M-8      60.0    0.02     1.27   \n",
       "25868                          TUERCA M-12      60.0    0.09     5.67   \n",
       "25869                          TUERCA M-12      60.0    0.09     5.67   \n",
       "25870                  TORNILLO HEX.8 X 25      60.0    0.03     1.90   \n",
       "25871                  TORNILLO HEX.8 X 25      60.0    0.03     1.90   \n",
       "28102  RECOSER CORTINAS Y ENGANCHES PLASTI      23.0    2.17    50.00   \n",
       "28742                             LAMPARAS      50.0    0.36    18.20   \n",
       "28743                     LAMPARA 24V 1.2W      30.0    0.36    10.92   \n",
       "37390   CANON REAL DECRETO 679/2006 ACEITE      20.0    0.05     1.08   \n",
       "38105   CANON REAL DECRETO 679/2006 ACEITE      20.0    0.05     1.08   \n",
       "38816                       KIT PEGADO 255      20.0    6.71   134.26   \n",
       "\n",
       "       importe_teorico  descuento  \n",
       "126              39.90       -0.1  \n",
       "2953             10.20      -12.0  \n",
       "3465              8.25       -0.2  \n",
       "3467              6.75       -0.3  \n",
       "5163              9.00       -0.3  \n",
       "5596              6.00       -0.3  \n",
       "6483             72.56       -0.2  \n",
       "7637              8.25       -0.2  \n",
       "7639              6.75       -0.3  \n",
       "8374             35.00       -0.9  \n",
       "10327             0.48      -25.3  \n",
       "11694             5.00       -0.4  \n",
       "11695             7.50       -0.2  \n",
       "15407            24.66       -0.3  \n",
       "15418           972.00      -32.4  \n",
       "16877           158.40       -0.1  \n",
       "18229            32.04       -0.9  \n",
       "25866             1.20       -0.1  \n",
       "25867             1.20       -0.1  \n",
       "25868             5.40       -0.3  \n",
       "25869             5.40       -0.3  \n",
       "25870             1.80       -0.1  \n",
       "25871             1.80       -0.1  \n",
       "28102            49.91       -0.1  \n",
       "28742            18.00       -0.2  \n",
       "28743            10.80       -0.1  \n",
       "37390             1.00       -0.1  \n",
       "38105             1.00       -0.1  \n",
       "38816           134.20       -0.1  "
      ]
     },
     "execution_count": 141,
     "metadata": {},
     "output_type": "execute_result"
    }
   ],
   "source": [
    "df[['nomartic','cantidad','precio','importe', 'importe_teorico','descuento']][df['descuento']<0]"
   ]
  },
  {
   "cell_type": "code",
   "execution_count": 139,
   "id": "d85a326e-a5b9-4ed3-bdd4-b193cbd064a9",
   "metadata": {},
   "outputs": [
    {
     "data": {
      "text/html": [
       "<div>\n",
       "<style scoped>\n",
       "    .dataframe tbody tr th:only-of-type {\n",
       "        vertical-align: middle;\n",
       "    }\n",
       "\n",
       "    .dataframe tbody tr th {\n",
       "        vertical-align: top;\n",
       "    }\n",
       "\n",
       "    .dataframe thead th {\n",
       "        text-align: right;\n",
       "    }\n",
       "</style>\n",
       "<table border=\"1\" class=\"dataframe\">\n",
       "  <thead>\n",
       "    <tr style=\"text-align: right;\">\n",
       "      <th></th>\n",
       "      <th>nomartic</th>\n",
       "      <th>cantidad</th>\n",
       "      <th>precio</th>\n",
       "      <th>importe</th>\n",
       "      <th>importe_teorico</th>\n",
       "      <th>descuento</th>\n",
       "    </tr>\n",
       "  </thead>\n",
       "  <tbody>\n",
       "    <tr>\n",
       "      <th>853</th>\n",
       "      <td>AVERIA TCO.</td>\n",
       "      <td>0.50</td>\n",
       "      <td>36.00</td>\n",
       "      <td>18.00</td>\n",
       "      <td>18.00</td>\n",
       "      <td>0.0</td>\n",
       "    </tr>\n",
       "    <tr>\n",
       "      <th>894</th>\n",
       "      <td>REPARAR FALLO TACOGRAFO</td>\n",
       "      <td>0.50</td>\n",
       "      <td>38.00</td>\n",
       "      <td>19.00</td>\n",
       "      <td>19.00</td>\n",
       "      <td>0.0</td>\n",
       "    </tr>\n",
       "    <tr>\n",
       "      <th>3420</th>\n",
       "      <td>PINTURA IMRON HDC ROJO VERONICA</td>\n",
       "      <td>0.50</td>\n",
       "      <td>100.80</td>\n",
       "      <td>50.40</td>\n",
       "      <td>50.40</td>\n",
       "      <td>0.0</td>\n",
       "    </tr>\n",
       "    <tr>\n",
       "      <th>3930</th>\n",
       "      <td>COMPROBAR TACOGRAFO</td>\n",
       "      <td>0.50</td>\n",
       "      <td>36.00</td>\n",
       "      <td>18.00</td>\n",
       "      <td>18.00</td>\n",
       "      <td>0.0</td>\n",
       "    </tr>\n",
       "    <tr>\n",
       "      <th>3933</th>\n",
       "      <td>CAMBIAR TACOGRAFO DE INTERCAMBIO</td>\n",
       "      <td>0.50</td>\n",
       "      <td>36.00</td>\n",
       "      <td>18.00</td>\n",
       "      <td>18.00</td>\n",
       "      <td>0.0</td>\n",
       "    </tr>\n",
       "    <tr>\n",
       "      <th>...</th>\n",
       "      <td>...</td>\n",
       "      <td>...</td>\n",
       "      <td>...</td>\n",
       "      <td>...</td>\n",
       "      <td>...</td>\n",
       "      <td>...</td>\n",
       "    </tr>\n",
       "    <tr>\n",
       "      <th>99070</th>\n",
       "      <td>PINTURA IMRON CALIDAD HDC AMARILLO AMBULANCIA</td>\n",
       "      <td>0.50</td>\n",
       "      <td>101.20</td>\n",
       "      <td>50.60</td>\n",
       "      <td>50.60</td>\n",
       "      <td>0.0</td>\n",
       "    </tr>\n",
       "    <tr>\n",
       "      <th>99071</th>\n",
       "      <td>PINTURA CALIDAD HDC ROJO AMBULANCIA</td>\n",
       "      <td>0.20</td>\n",
       "      <td>101.20</td>\n",
       "      <td>20.24</td>\n",
       "      <td>20.24</td>\n",
       "      <td>0.0</td>\n",
       "    </tr>\n",
       "    <tr>\n",
       "      <th>99171</th>\n",
       "      <td>REINICIAR VALORES EGR NUEVA</td>\n",
       "      <td>0.10</td>\n",
       "      <td>59.90</td>\n",
       "      <td>5.69</td>\n",
       "      <td>5.99</td>\n",
       "      <td>0.3</td>\n",
       "    </tr>\n",
       "    <tr>\n",
       "      <th>99172</th>\n",
       "      <td>LIQUIDO DE FRENOS MOTROCRAFT</td>\n",
       "      <td>0.20</td>\n",
       "      <td>59.90</td>\n",
       "      <td>11.38</td>\n",
       "      <td>11.98</td>\n",
       "      <td>0.6</td>\n",
       "    </tr>\n",
       "    <tr>\n",
       "      <th>99174</th>\n",
       "      <td>HIGIENIZACION</td>\n",
       "      <td>0.12</td>\n",
       "      <td>68.17</td>\n",
       "      <td>8.18</td>\n",
       "      <td>8.18</td>\n",
       "      <td>0.0</td>\n",
       "    </tr>\n",
       "  </tbody>\n",
       "</table>\n",
       "<p>2377 rows × 6 columns</p>\n",
       "</div>"
      ],
      "text/plain": [
       "                                            nomartic  cantidad  precio  \\\n",
       "853                                      AVERIA TCO.      0.50   36.00   \n",
       "894                          REPARAR FALLO TACOGRAFO      0.50   38.00   \n",
       "3420                 PINTURA IMRON HDC ROJO VERONICA      0.50  100.80   \n",
       "3930                             COMPROBAR TACOGRAFO      0.50   36.00   \n",
       "3933                CAMBIAR TACOGRAFO DE INTERCAMBIO      0.50   36.00   \n",
       "...                                              ...       ...     ...   \n",
       "99070  PINTURA IMRON CALIDAD HDC AMARILLO AMBULANCIA      0.50  101.20   \n",
       "99071            PINTURA CALIDAD HDC ROJO AMBULANCIA      0.20  101.20   \n",
       "99171                    REINICIAR VALORES EGR NUEVA      0.10   59.90   \n",
       "99172                   LIQUIDO DE FRENOS MOTROCRAFT      0.20   59.90   \n",
       "99174                                  HIGIENIZACION      0.12   68.17   \n",
       "\n",
       "       importe  importe_teorico  descuento  \n",
       "853      18.00            18.00        0.0  \n",
       "894      19.00            19.00        0.0  \n",
       "3420     50.40            50.40        0.0  \n",
       "3930     18.00            18.00        0.0  \n",
       "3933     18.00            18.00        0.0  \n",
       "...        ...              ...        ...  \n",
       "99070    50.60            50.60        0.0  \n",
       "99071    20.24            20.24        0.0  \n",
       "99171     5.69             5.99        0.3  \n",
       "99172    11.38            11.98        0.6  \n",
       "99174     8.18             8.18        0.0  \n",
       "\n",
       "[2377 rows x 6 columns]"
      ]
     },
     "execution_count": 139,
     "metadata": {},
     "output_type": "execute_result"
    }
   ],
   "source": [
    "df[['nomartic','cantidad','precio','importe', 'importe_teorico','descuento']][df['cantidad']<1]"
   ]
  },
  {
   "cell_type": "code",
   "execution_count": 86,
   "id": "2e279618-23d8-42db-9bd3-a40a6284ae83",
   "metadata": {},
   "outputs": [],
   "source": [
    "ruta_new_df=os.path.join(\"data\",'taller_vehiculo.csv')\n",
    "df.to_csv(ruta_new_df, sep = '|' ,index = False)"
   ]
  },
  {
   "cell_type": "code",
   "execution_count": 127,
   "id": "a6c6e07b-77c1-4bdd-a55d-e360cccb4811",
   "metadata": {},
   "outputs": [
    {
     "data": {
      "text/plain": [
       "anyparte                          int64\n",
       "numparte                          int64\n",
       "numlinea                          int64\n",
       "descrip                          object\n",
       "cantidad                        float64\n",
       "precio                          float64\n",
       "importe                         float64\n",
       "prove mat                        object\n",
       "nomartic                         object\n",
       "fec_alta                 datetime64[ns]\n",
       "fecultcom                datetime64[ns]\n",
       "preciouc                        float64\n",
       "ctr_stock                         int64\n",
       "nomalmac                         object\n",
       "prove art                        object\n",
       "nomfamia                         object\n",
       "nomunida                         object\n",
       "codigbus                         object\n",
       "fechaent                 datetime64[ns]\n",
       "numkms                            int64\n",
       "fechasal                 datetime64[ns]\n",
       "siniestro                         int64\n",
       "descripcion                      object\n",
       "cliente                          object\n",
       "id_vehiculo                     float64\n",
       "matricul                         object\n",
       "fechamat                 datetime64[ns]\n",
       "matriculacion_planner    datetime64[ns]\n",
       "edad                            float64\n",
       "numempre                         object\n",
       "nomempre                         object\n",
       "marca                            object\n",
       "modelo                           object\n",
       "carrocero                        object\n",
       "tipo                             object\n",
       "totkilom                        float64\n",
       "dns_vehiculo                     object\n",
       "importe_teorico                 float64\n",
       "descuento                       float64\n",
       "dtype: object"
      ]
     },
     "execution_count": 127,
     "metadata": {},
     "output_type": "execute_result"
    }
   ],
   "source": [
    "df.dtypes"
   ]
  },
  {
   "cell_type": "code",
   "execution_count": 88,
   "id": "09c90e1f-ef6a-4781-b387-ad95f729db3f",
   "metadata": {},
   "outputs": [
    {
     "data": {
      "text/plain": [
       "count    9.784800e+04\n",
       "mean     1.342824e+02\n",
       "std      3.595113e+03\n",
       "min      1.000000e-02\n",
       "25%      1.450000e+01\n",
       "50%      3.967000e+01\n",
       "75%      1.138100e+02\n",
       "max      1.119894e+06\n",
       "Name: importe, dtype: float64"
      ]
     },
     "execution_count": 88,
     "metadata": {},
     "output_type": "execute_result"
    }
   ],
   "source": [
    "df.importe.describe()"
   ]
  },
  {
   "cell_type": "code",
   "execution_count": 89,
   "id": "fe5d8cd6-2648-4d9c-8fa0-f254fd0481bb",
   "metadata": {},
   "outputs": [
    {
     "data": {
      "text/html": [
       "<div>\n",
       "<style scoped>\n",
       "    .dataframe tbody tr th:only-of-type {\n",
       "        vertical-align: middle;\n",
       "    }\n",
       "\n",
       "    .dataframe tbody tr th {\n",
       "        vertical-align: top;\n",
       "    }\n",
       "\n",
       "    .dataframe thead th {\n",
       "        text-align: right;\n",
       "    }\n",
       "</style>\n",
       "<table border=\"1\" class=\"dataframe\">\n",
       "  <thead>\n",
       "    <tr style=\"text-align: right;\">\n",
       "      <th></th>\n",
       "      <th>anyparte</th>\n",
       "      <th>numparte</th>\n",
       "      <th>numlinea</th>\n",
       "      <th>descrip</th>\n",
       "      <th>cantidad</th>\n",
       "      <th>precio</th>\n",
       "      <th>importe</th>\n",
       "      <th>prove mat</th>\n",
       "      <th>nomartic</th>\n",
       "      <th>fec_alta</th>\n",
       "      <th>fecultcom</th>\n",
       "      <th>preciouc</th>\n",
       "      <th>ctr_stock</th>\n",
       "      <th>nomalmac</th>\n",
       "      <th>prove art</th>\n",
       "      <th>nomfamia</th>\n",
       "      <th>nomunida</th>\n",
       "      <th>codigbus</th>\n",
       "      <th>fechaent</th>\n",
       "      <th>numkms</th>\n",
       "      <th>fechasal</th>\n",
       "      <th>siniestro</th>\n",
       "      <th>descripcion</th>\n",
       "      <th>cliente</th>\n",
       "      <th>id_vehiculo</th>\n",
       "      <th>matricul</th>\n",
       "      <th>fechamat</th>\n",
       "      <th>matriculacion_planner</th>\n",
       "      <th>edad</th>\n",
       "      <th>numempre</th>\n",
       "      <th>nomempre</th>\n",
       "      <th>marca</th>\n",
       "      <th>modelo</th>\n",
       "      <th>carrocero</th>\n",
       "      <th>tipo</th>\n",
       "      <th>totkilom</th>\n",
       "      <th>dns_vehiculo</th>\n",
       "    </tr>\n",
       "  </thead>\n",
       "  <tbody>\n",
       "    <tr>\n",
       "      <th>27536</th>\n",
       "      <td>2019</td>\n",
       "      <td>1901561</td>\n",
       "      <td>2</td>\n",
       "      <td>VÁLVULA PROPORCIONAL RETEARDER R133/2</td>\n",
       "      <td>1183.0</td>\n",
       "      <td>946.656</td>\n",
       "      <td>1119894.05</td>\n",
       "      <td>AUTOSUR DE LEVANTE, S.A.</td>\n",
       "      <td>VÁLVULA PROPORCIONAL RETEARDER R133/2</td>\n",
       "      <td>2014-11-03</td>\n",
       "      <td>2019-02-18</td>\n",
       "      <td>946.6560</td>\n",
       "      <td>1</td>\n",
       "      <td>ALMACEN QUART</td>\n",
       "      <td>AUTOSUR DE LEVANTE, S.A.</td>\n",
       "      <td>MATERIAL CAJAS CAMBIO</td>\n",
       "      <td>UNIDADES</td>\n",
       "      <td>J264</td>\n",
       "      <td>2019-02-25</td>\n",
       "      <td>867925</td>\n",
       "      <td>2019-02-25</td>\n",
       "      <td>0</td>\n",
       "      <td>AUTOSUR DE LEVANTE, S.A.</td>\n",
       "      <td>AUTOSUR DE LEVANTE, S.A.</td>\n",
       "      <td>147.0</td>\n",
       "      <td>4242CFV</td>\n",
       "      <td>2003-03-13</td>\n",
       "      <td>2003-03-13</td>\n",
       "      <td>19.0</td>\n",
       "      <td>8</td>\n",
       "      <td>HOSOJU</td>\n",
       "      <td>SIN ASIGNAR</td>\n",
       "      <td>SIN ASIGNAR</td>\n",
       "      <td>SIN ASIGNAR</td>\n",
       "      <td>SIN ASIGNAR</td>\n",
       "      <td>-1.0</td>\n",
       "      <td>SIN ASIGNAR</td>\n",
       "    </tr>\n",
       "    <tr>\n",
       "      <th>62973</th>\n",
       "      <td>2021</td>\n",
       "      <td>2102554</td>\n",
       "      <td>1</td>\n",
       "      <td>REPARAR MOTOR CONSUMO DE ACEITE</td>\n",
       "      <td>1.0</td>\n",
       "      <td>10203.000</td>\n",
       "      <td>10203.00</td>\n",
       "      <td>MAN TRUCK &amp; BUS IBERIA, S.A. UNIPERSONAL</td>\n",
       "      <td>REPARAR MOTOR CONSUMO DE ACEITE</td>\n",
       "      <td>2021-01-07</td>\n",
       "      <td>2021-02-25</td>\n",
       "      <td>5997.2700</td>\n",
       "      <td>0</td>\n",
       "      <td>ALMACEN QUART</td>\n",
       "      <td>MAN TRUCK &amp; BUS IBERIA, S.A. UNIPERSONAL</td>\n",
       "      <td>MANO DE OBRA</td>\n",
       "      <td>UNIDADES</td>\n",
       "      <td>H114</td>\n",
       "      <td>2021-03-31</td>\n",
       "      <td>558649</td>\n",
       "      <td>2021-03-31</td>\n",
       "      <td>0</td>\n",
       "      <td>MAN TRUCK &amp; BUS IBERIA, S.A. UNIPERSONAL</td>\n",
       "      <td>MAN TRUCK &amp; BUS IBERIA, S.A. UNIPERSONAL</td>\n",
       "      <td>356.0</td>\n",
       "      <td>1411HXF</td>\n",
       "      <td>2014-05-13</td>\n",
       "      <td>2014-05-13</td>\n",
       "      <td>8.0</td>\n",
       "      <td>44</td>\n",
       "      <td>Herca</td>\n",
       "      <td>MAN</td>\n",
       "      <td>i6 15.37</td>\n",
       "      <td>IRIZAR</td>\n",
       "      <td>Discrecional</td>\n",
       "      <td>2454157.0</td>\n",
       "      <td>bunyol</td>\n",
       "    </tr>\n",
       "    <tr>\n",
       "      <th>67422</th>\n",
       "      <td>2020</td>\n",
       "      <td>2002900</td>\n",
       "      <td>1</td>\n",
       "      <td>CAMBIAR DOS TURBOS EN ALEMANIA</td>\n",
       "      <td>1.0</td>\n",
       "      <td>12200.770</td>\n",
       "      <td>12200.77</td>\n",
       "      <td>MAN TRUCK BUS DEUTSCHLAND GMBH</td>\n",
       "      <td>CAMBIAR DOS TURBOS EN ALEMANIA</td>\n",
       "      <td>2020-03-29</td>\n",
       "      <td>2019-07-31</td>\n",
       "      <td>12200.7700</td>\n",
       "      <td>0</td>\n",
       "      <td>ALMACEN QUART</td>\n",
       "      <td>MAN TRUCK BUS DEUTSCHLAND GMBH</td>\n",
       "      <td>MANO DE OBRA</td>\n",
       "      <td>UNIDADES</td>\n",
       "      <td>T309</td>\n",
       "      <td>2020-03-29</td>\n",
       "      <td>463029</td>\n",
       "      <td>2020-03-29</td>\n",
       "      <td>0</td>\n",
       "      <td>MAN TRUCK BUS DEUTSCHLAND GMBH</td>\n",
       "      <td>MAN TRUCK BUS DEUTSCHLAND GMBH</td>\n",
       "      <td>214.0</td>\n",
       "      <td>2351JCV</td>\n",
       "      <td>2015-02-25</td>\n",
       "      <td>2015-02-25</td>\n",
       "      <td>7.0</td>\n",
       "      <td>2</td>\n",
       "      <td>Transvia</td>\n",
       "      <td>MAN</td>\n",
       "      <td>i6 15.37</td>\n",
       "      <td>IRIZAR</td>\n",
       "      <td>Discrecional</td>\n",
       "      <td>2368291.0</td>\n",
       "      <td>transvia</td>\n",
       "    </tr>\n",
       "    <tr>\n",
       "      <th>71349</th>\n",
       "      <td>2019</td>\n",
       "      <td>1908962</td>\n",
       "      <td>1</td>\n",
       "      <td>REPARACIÓN MOTOR</td>\n",
       "      <td>1.0</td>\n",
       "      <td>47629.250</td>\n",
       "      <td>47629.25</td>\n",
       "      <td>MAN TRUCK &amp; BUS IBERIA, S.A. UNIPERSONAL</td>\n",
       "      <td>REPARACIÓN MOTOR</td>\n",
       "      <td>2019-09-24</td>\n",
       "      <td>2019-08-07</td>\n",
       "      <td>7845.0100</td>\n",
       "      <td>0</td>\n",
       "      <td>ALMACEN QUART</td>\n",
       "      <td>MAN TRUCK &amp; BUS IBERIA, S.A. UNIPERSONAL</td>\n",
       "      <td>MANO DE OBRA</td>\n",
       "      <td>UNIDADES</td>\n",
       "      <td>F202</td>\n",
       "      <td>2019-09-24</td>\n",
       "      <td>294200</td>\n",
       "      <td>2019-09-25</td>\n",
       "      <td>0</td>\n",
       "      <td>MAN TRUCK &amp; BUS IBERIA, S.A. UNIPERSONAL</td>\n",
       "      <td>MAN TRUCK &amp; BUS IBERIA, S.A. UNIPERSONAL</td>\n",
       "      <td>903.0</td>\n",
       "      <td>5370JLB</td>\n",
       "      <td>2016-01-05</td>\n",
       "      <td>2016-01-05</td>\n",
       "      <td>6.0</td>\n",
       "      <td>95</td>\n",
       "      <td>Fernanbus</td>\n",
       "      <td>MAN</td>\n",
       "      <td>MAGNUS</td>\n",
       "      <td>CASTROSUA</td>\n",
       "      <td>Urbano</td>\n",
       "      <td>294200.0</td>\n",
       "      <td>fernanbus</td>\n",
       "    </tr>\n",
       "    <tr>\n",
       "      <th>72674</th>\n",
       "      <td>2019</td>\n",
       "      <td>1911048</td>\n",
       "      <td>18</td>\n",
       "      <td>MOTOR DIESEL MERCEDES</td>\n",
       "      <td>1.0</td>\n",
       "      <td>11981.950</td>\n",
       "      <td>11143.21</td>\n",
       "      <td>MERCEDES-BENZ VALENCIA</td>\n",
       "      <td>MOTOR DIESEL MERCEDES</td>\n",
       "      <td>2019-12-17</td>\n",
       "      <td>2019-12-17</td>\n",
       "      <td>11143.2135</td>\n",
       "      <td>1</td>\n",
       "      <td>ALMACEN QUART</td>\n",
       "      <td>MERCEDES-BENZ VALENCIA</td>\n",
       "      <td>ELEMENTOS MOTOR</td>\n",
       "      <td>UNIDADES</td>\n",
       "      <td>E641</td>\n",
       "      <td>2019-11-13</td>\n",
       "      <td>419718</td>\n",
       "      <td>2019-12-20</td>\n",
       "      <td>0</td>\n",
       "      <td>MERCEDES-BENZ VALENCIA</td>\n",
       "      <td>MERCEDES-BENZ VALENCIA</td>\n",
       "      <td>109.0</td>\n",
       "      <td>7078JLG</td>\n",
       "      <td>2016-01-20</td>\n",
       "      <td>2016-01-20</td>\n",
       "      <td>6.0</td>\n",
       "      <td>10</td>\n",
       "      <td>Autos Diamond</td>\n",
       "      <td>MERCEDES BENZ</td>\n",
       "      <td>E 220 BLUETEC</td>\n",
       "      <td>SIN ASIGNAR</td>\n",
       "      <td>TURISMO</td>\n",
       "      <td>2295196.0</td>\n",
       "      <td>transvia</td>\n",
       "    </tr>\n",
       "    <tr>\n",
       "      <th>84919</th>\n",
       "      <td>2021</td>\n",
       "      <td>2109518</td>\n",
       "      <td>1</td>\n",
       "      <td>REVISAR FALLO MOTOR</td>\n",
       "      <td>1.0</td>\n",
       "      <td>20642.870</td>\n",
       "      <td>20642.87</td>\n",
       "      <td>MAN TRUCK &amp; BUS IBERIA, S.A. UNIPERSONAL</td>\n",
       "      <td>REVISAR FALLO MOTOR</td>\n",
       "      <td>2015-06-24</td>\n",
       "      <td>2022-02-08</td>\n",
       "      <td>6192.8600</td>\n",
       "      <td>0</td>\n",
       "      <td>ALMACEN QUART</td>\n",
       "      <td>MAN TRUCK &amp; BUS IBERIA, S.A. UNIPERSONAL</td>\n",
       "      <td>MANO DE OBRA</td>\n",
       "      <td>UNIDADES</td>\n",
       "      <td>G084</td>\n",
       "      <td>2021-12-16</td>\n",
       "      <td>246871</td>\n",
       "      <td>2021-12-16</td>\n",
       "      <td>0</td>\n",
       "      <td>MAN TRUCK &amp; BUS IBERIA, S.A. UNIPERSONAL</td>\n",
       "      <td>MAN TRUCK &amp; BUS IBERIA, S.A. UNIPERSONAL</td>\n",
       "      <td>497.0</td>\n",
       "      <td>1745KDL</td>\n",
       "      <td>2017-10-03</td>\n",
       "      <td>2017-10-03</td>\n",
       "      <td>5.0</td>\n",
       "      <td>72</td>\n",
       "      <td>La Marina Gandiense</td>\n",
       "      <td>MAN</td>\n",
       "      <td>MAGNUS</td>\n",
       "      <td>CASTROSUA</td>\n",
       "      <td>Urbano</td>\n",
       "      <td>2065100.0</td>\n",
       "      <td>lamarina</td>\n",
       "    </tr>\n",
       "  </tbody>\n",
       "</table>\n",
       "</div>"
      ],
      "text/plain": [
       "       anyparte  numparte  numlinea                                descrip  \\\n",
       "27536      2019   1901561         2  VÁLVULA PROPORCIONAL RETEARDER R133/2   \n",
       "62973      2021   2102554         1        REPARAR MOTOR CONSUMO DE ACEITE   \n",
       "67422      2020   2002900         1         CAMBIAR DOS TURBOS EN ALEMANIA   \n",
       "71349      2019   1908962         1                       REPARACIÓN MOTOR   \n",
       "72674      2019   1911048        18                  MOTOR DIESEL MERCEDES   \n",
       "84919      2021   2109518         1                    REVISAR FALLO MOTOR   \n",
       "\n",
       "       cantidad     precio     importe  \\\n",
       "27536    1183.0    946.656  1119894.05   \n",
       "62973       1.0  10203.000    10203.00   \n",
       "67422       1.0  12200.770    12200.77   \n",
       "71349       1.0  47629.250    47629.25   \n",
       "72674       1.0  11981.950    11143.21   \n",
       "84919       1.0  20642.870    20642.87   \n",
       "\n",
       "                                      prove mat  \\\n",
       "27536                  AUTOSUR DE LEVANTE, S.A.   \n",
       "62973  MAN TRUCK & BUS IBERIA, S.A. UNIPERSONAL   \n",
       "67422            MAN TRUCK BUS DEUTSCHLAND GMBH   \n",
       "71349  MAN TRUCK & BUS IBERIA, S.A. UNIPERSONAL   \n",
       "72674                    MERCEDES-BENZ VALENCIA   \n",
       "84919  MAN TRUCK & BUS IBERIA, S.A. UNIPERSONAL   \n",
       "\n",
       "                                    nomartic   fec_alta  fecultcom  \\\n",
       "27536  VÁLVULA PROPORCIONAL RETEARDER R133/2 2014-11-03 2019-02-18   \n",
       "62973        REPARAR MOTOR CONSUMO DE ACEITE 2021-01-07 2021-02-25   \n",
       "67422         CAMBIAR DOS TURBOS EN ALEMANIA 2020-03-29 2019-07-31   \n",
       "71349                       REPARACIÓN MOTOR 2019-09-24 2019-08-07   \n",
       "72674                  MOTOR DIESEL MERCEDES 2019-12-17 2019-12-17   \n",
       "84919                    REVISAR FALLO MOTOR 2015-06-24 2022-02-08   \n",
       "\n",
       "         preciouc  ctr_stock       nomalmac  \\\n",
       "27536    946.6560          1  ALMACEN QUART   \n",
       "62973   5997.2700          0  ALMACEN QUART   \n",
       "67422  12200.7700          0  ALMACEN QUART   \n",
       "71349   7845.0100          0  ALMACEN QUART   \n",
       "72674  11143.2135          1  ALMACEN QUART   \n",
       "84919   6192.8600          0  ALMACEN QUART   \n",
       "\n",
       "                                      prove art               nomfamia  \\\n",
       "27536                  AUTOSUR DE LEVANTE, S.A.  MATERIAL CAJAS CAMBIO   \n",
       "62973  MAN TRUCK & BUS IBERIA, S.A. UNIPERSONAL           MANO DE OBRA   \n",
       "67422            MAN TRUCK BUS DEUTSCHLAND GMBH           MANO DE OBRA   \n",
       "71349  MAN TRUCK & BUS IBERIA, S.A. UNIPERSONAL           MANO DE OBRA   \n",
       "72674                    MERCEDES-BENZ VALENCIA        ELEMENTOS MOTOR   \n",
       "84919  MAN TRUCK & BUS IBERIA, S.A. UNIPERSONAL           MANO DE OBRA   \n",
       "\n",
       "       nomunida codigbus   fechaent  numkms   fechasal  siniestro  \\\n",
       "27536  UNIDADES     J264 2019-02-25  867925 2019-02-25          0   \n",
       "62973  UNIDADES     H114 2021-03-31  558649 2021-03-31          0   \n",
       "67422  UNIDADES     T309 2020-03-29  463029 2020-03-29          0   \n",
       "71349  UNIDADES     F202 2019-09-24  294200 2019-09-25          0   \n",
       "72674  UNIDADES     E641 2019-11-13  419718 2019-12-20          0   \n",
       "84919  UNIDADES     G084 2021-12-16  246871 2021-12-16          0   \n",
       "\n",
       "                                    descripcion  \\\n",
       "27536                  AUTOSUR DE LEVANTE, S.A.   \n",
       "62973  MAN TRUCK & BUS IBERIA, S.A. UNIPERSONAL   \n",
       "67422            MAN TRUCK BUS DEUTSCHLAND GMBH   \n",
       "71349  MAN TRUCK & BUS IBERIA, S.A. UNIPERSONAL   \n",
       "72674                    MERCEDES-BENZ VALENCIA   \n",
       "84919  MAN TRUCK & BUS IBERIA, S.A. UNIPERSONAL   \n",
       "\n",
       "                                        cliente  id_vehiculo matricul  \\\n",
       "27536                  AUTOSUR DE LEVANTE, S.A.        147.0  4242CFV   \n",
       "62973  MAN TRUCK & BUS IBERIA, S.A. UNIPERSONAL        356.0  1411HXF   \n",
       "67422            MAN TRUCK BUS DEUTSCHLAND GMBH        214.0  2351JCV   \n",
       "71349  MAN TRUCK & BUS IBERIA, S.A. UNIPERSONAL        903.0  5370JLB   \n",
       "72674                    MERCEDES-BENZ VALENCIA        109.0  7078JLG   \n",
       "84919  MAN TRUCK & BUS IBERIA, S.A. UNIPERSONAL        497.0  1745KDL   \n",
       "\n",
       "        fechamat matriculacion_planner  edad numempre             nomempre  \\\n",
       "27536 2003-03-13            2003-03-13  19.0        8               HOSOJU   \n",
       "62973 2014-05-13            2014-05-13   8.0       44                Herca   \n",
       "67422 2015-02-25            2015-02-25   7.0        2             Transvia   \n",
       "71349 2016-01-05            2016-01-05   6.0       95            Fernanbus   \n",
       "72674 2016-01-20            2016-01-20   6.0       10        Autos Diamond   \n",
       "84919 2017-10-03            2017-10-03   5.0       72  La Marina Gandiense   \n",
       "\n",
       "               marca         modelo    carrocero          tipo   totkilom  \\\n",
       "27536    SIN ASIGNAR    SIN ASIGNAR  SIN ASIGNAR   SIN ASIGNAR       -1.0   \n",
       "62973            MAN       i6 15.37       IRIZAR  Discrecional  2454157.0   \n",
       "67422            MAN       i6 15.37       IRIZAR  Discrecional  2368291.0   \n",
       "71349            MAN         MAGNUS    CASTROSUA        Urbano   294200.0   \n",
       "72674  MERCEDES BENZ  E 220 BLUETEC  SIN ASIGNAR       TURISMO  2295196.0   \n",
       "84919            MAN         MAGNUS    CASTROSUA        Urbano  2065100.0   \n",
       "\n",
       "      dns_vehiculo  \n",
       "27536  SIN ASIGNAR  \n",
       "62973       bunyol  \n",
       "67422     transvia  \n",
       "71349    fernanbus  \n",
       "72674     transvia  \n",
       "84919     lamarina  "
      ]
     },
     "execution_count": 89,
     "metadata": {},
     "output_type": "execute_result"
    }
   ],
   "source": [
    "#df4=df4.sort_values()\n",
    "df[df['importe']>10000]"
   ]
  },
  {
   "cell_type": "code",
   "execution_count": 90,
   "id": "71f2db13-2f64-4373-9bda-4be4ad5646a7",
   "metadata": {},
   "outputs": [
    {
     "data": {
      "text/html": [
       "<div>\n",
       "<style scoped>\n",
       "    .dataframe tbody tr th:only-of-type {\n",
       "        vertical-align: middle;\n",
       "    }\n",
       "\n",
       "    .dataframe tbody tr th {\n",
       "        vertical-align: top;\n",
       "    }\n",
       "\n",
       "    .dataframe thead th {\n",
       "        text-align: right;\n",
       "    }\n",
       "</style>\n",
       "<table border=\"1\" class=\"dataframe\">\n",
       "  <thead>\n",
       "    <tr style=\"text-align: right;\">\n",
       "      <th></th>\n",
       "      <th>cantidad</th>\n",
       "      <th>precio</th>\n",
       "      <th>importe</th>\n",
       "    </tr>\n",
       "  </thead>\n",
       "  <tbody>\n",
       "    <tr>\n",
       "      <th>0</th>\n",
       "      <td>1.0</td>\n",
       "      <td>60.72</td>\n",
       "      <td>51.61</td>\n",
       "    </tr>\n",
       "    <tr>\n",
       "      <th>1</th>\n",
       "      <td>1.0</td>\n",
       "      <td>16.81</td>\n",
       "      <td>16.81</td>\n",
       "    </tr>\n",
       "    <tr>\n",
       "      <th>2</th>\n",
       "      <td>1.0</td>\n",
       "      <td>28.85</td>\n",
       "      <td>24.52</td>\n",
       "    </tr>\n",
       "    <tr>\n",
       "      <th>3</th>\n",
       "      <td>1.0</td>\n",
       "      <td>168.24</td>\n",
       "      <td>109.36</td>\n",
       "    </tr>\n",
       "    <tr>\n",
       "      <th>4</th>\n",
       "      <td>1.0</td>\n",
       "      <td>22.01</td>\n",
       "      <td>14.31</td>\n",
       "    </tr>\n",
       "    <tr>\n",
       "      <th>...</th>\n",
       "      <td>...</td>\n",
       "      <td>...</td>\n",
       "      <td>...</td>\n",
       "    </tr>\n",
       "    <tr>\n",
       "      <th>99277</th>\n",
       "      <td>1.0</td>\n",
       "      <td>82.00</td>\n",
       "      <td>82.00</td>\n",
       "    </tr>\n",
       "    <tr>\n",
       "      <th>99278</th>\n",
       "      <td>1.0</td>\n",
       "      <td>45.42</td>\n",
       "      <td>45.42</td>\n",
       "    </tr>\n",
       "    <tr>\n",
       "      <th>99279</th>\n",
       "      <td>7.0</td>\n",
       "      <td>21.45</td>\n",
       "      <td>150.15</td>\n",
       "    </tr>\n",
       "    <tr>\n",
       "      <th>99280</th>\n",
       "      <td>2.0</td>\n",
       "      <td>133.80</td>\n",
       "      <td>267.60</td>\n",
       "    </tr>\n",
       "    <tr>\n",
       "      <th>99281</th>\n",
       "      <td>1.0</td>\n",
       "      <td>185.00</td>\n",
       "      <td>185.00</td>\n",
       "    </tr>\n",
       "  </tbody>\n",
       "</table>\n",
       "<p>97848 rows × 3 columns</p>\n",
       "</div>"
      ],
      "text/plain": [
       "       cantidad  precio  importe\n",
       "0           1.0   60.72    51.61\n",
       "1           1.0   16.81    16.81\n",
       "2           1.0   28.85    24.52\n",
       "3           1.0  168.24   109.36\n",
       "4           1.0   22.01    14.31\n",
       "...         ...     ...      ...\n",
       "99277       1.0   82.00    82.00\n",
       "99278       1.0   45.42    45.42\n",
       "99279       7.0   21.45   150.15\n",
       "99280       2.0  133.80   267.60\n",
       "99281       1.0  185.00   185.00\n",
       "\n",
       "[97848 rows x 3 columns]"
      ]
     },
     "execution_count": 90,
     "metadata": {},
     "output_type": "execute_result"
    }
   ],
   "source": [
    "#df4=df.groupby('codigbus')['codigbus'].count()\n",
    "#df4=df4.sort_values()\n",
    "df[['cantidad','precio','importe']][(df['importe'] > 0)]\n"
   ]
  },
  {
   "cell_type": "code",
   "execution_count": 91,
   "id": "88ac24eb-ad5a-4089-a66d-5d73bc06a609",
   "metadata": {},
   "outputs": [
    {
     "data": {
      "text/html": [
       "<div>\n",
       "<style scoped>\n",
       "    .dataframe tbody tr th:only-of-type {\n",
       "        vertical-align: middle;\n",
       "    }\n",
       "\n",
       "    .dataframe tbody tr th {\n",
       "        vertical-align: top;\n",
       "    }\n",
       "\n",
       "    .dataframe thead th {\n",
       "        text-align: right;\n",
       "    }\n",
       "</style>\n",
       "<table border=\"1\" class=\"dataframe\">\n",
       "  <thead>\n",
       "    <tr style=\"text-align: right;\">\n",
       "      <th></th>\n",
       "      <th>anyparte</th>\n",
       "      <th>numparte</th>\n",
       "      <th>numlinea</th>\n",
       "      <th>descrip</th>\n",
       "      <th>cantidad</th>\n",
       "      <th>precio</th>\n",
       "      <th>importe</th>\n",
       "      <th>prove mat</th>\n",
       "      <th>nomartic</th>\n",
       "      <th>fec_alta</th>\n",
       "      <th>fecultcom</th>\n",
       "      <th>preciouc</th>\n",
       "      <th>ctr_stock</th>\n",
       "      <th>nomalmac</th>\n",
       "      <th>prove art</th>\n",
       "      <th>nomfamia</th>\n",
       "      <th>nomunida</th>\n",
       "      <th>codigbus</th>\n",
       "      <th>fechaent</th>\n",
       "      <th>numkms</th>\n",
       "      <th>fechasal</th>\n",
       "      <th>siniestro</th>\n",
       "      <th>descripcion</th>\n",
       "      <th>cliente</th>\n",
       "      <th>id_vehiculo</th>\n",
       "      <th>matricul</th>\n",
       "      <th>fechamat</th>\n",
       "      <th>matriculacion_planner</th>\n",
       "      <th>edad</th>\n",
       "      <th>numempre</th>\n",
       "      <th>nomempre</th>\n",
       "      <th>marca</th>\n",
       "      <th>modelo</th>\n",
       "      <th>carrocero</th>\n",
       "      <th>tipo</th>\n",
       "      <th>totkilom</th>\n",
       "      <th>dns_vehiculo</th>\n",
       "    </tr>\n",
       "  </thead>\n",
       "  <tbody>\n",
       "  </tbody>\n",
       "</table>\n",
       "</div>"
      ],
      "text/plain": [
       "Empty DataFrame\n",
       "Columns: [anyparte, numparte, numlinea, descrip, cantidad, precio, importe, prove mat, nomartic, fec_alta, fecultcom, preciouc, ctr_stock, nomalmac, prove art, nomfamia, nomunida, codigbus, fechaent, numkms, fechasal, siniestro, descripcion, cliente, id_vehiculo, matricul, fechamat, matriculacion_planner, edad, numempre, nomempre, marca, modelo, carrocero, tipo, totkilom, dns_vehiculo]\n",
       "Index: []"
      ]
     },
     "execution_count": 91,
     "metadata": {},
     "output_type": "execute_result"
    }
   ],
   "source": [
    "df[(df['precio'] <= 0)]"
   ]
  },
  {
   "cell_type": "code",
   "execution_count": 92,
   "id": "8c22ec13-ced6-415b-8aca-10beb2417412",
   "metadata": {},
   "outputs": [
    {
     "data": {
      "text/html": [
       "<div>\n",
       "<style scoped>\n",
       "    .dataframe tbody tr th:only-of-type {\n",
       "        vertical-align: middle;\n",
       "    }\n",
       "\n",
       "    .dataframe tbody tr th {\n",
       "        vertical-align: top;\n",
       "    }\n",
       "\n",
       "    .dataframe thead th {\n",
       "        text-align: right;\n",
       "    }\n",
       "</style>\n",
       "<table border=\"1\" class=\"dataframe\">\n",
       "  <thead>\n",
       "    <tr style=\"text-align: right;\">\n",
       "      <th></th>\n",
       "      <th>anyparte</th>\n",
       "      <th>numparte</th>\n",
       "      <th>numlinea</th>\n",
       "      <th>descrip</th>\n",
       "      <th>cantidad</th>\n",
       "      <th>precio</th>\n",
       "      <th>importe</th>\n",
       "      <th>prove mat</th>\n",
       "      <th>nomartic</th>\n",
       "      <th>fec_alta</th>\n",
       "      <th>fecultcom</th>\n",
       "      <th>preciouc</th>\n",
       "      <th>ctr_stock</th>\n",
       "      <th>nomalmac</th>\n",
       "      <th>prove art</th>\n",
       "      <th>nomfamia</th>\n",
       "      <th>nomunida</th>\n",
       "      <th>codigbus</th>\n",
       "      <th>fechaent</th>\n",
       "      <th>numkms</th>\n",
       "      <th>fechasal</th>\n",
       "      <th>siniestro</th>\n",
       "      <th>descripcion</th>\n",
       "      <th>cliente</th>\n",
       "      <th>id_vehiculo</th>\n",
       "      <th>matricul</th>\n",
       "      <th>fechamat</th>\n",
       "      <th>matriculacion_planner</th>\n",
       "      <th>edad</th>\n",
       "      <th>numempre</th>\n",
       "      <th>nomempre</th>\n",
       "      <th>marca</th>\n",
       "      <th>modelo</th>\n",
       "      <th>carrocero</th>\n",
       "      <th>tipo</th>\n",
       "      <th>totkilom</th>\n",
       "      <th>dns_vehiculo</th>\n",
       "    </tr>\n",
       "  </thead>\n",
       "  <tbody>\n",
       "    <tr>\n",
       "      <th>62513</th>\n",
       "      <td>2015</td>\n",
       "      <td>1503890</td>\n",
       "      <td>1</td>\n",
       "      <td>EXTINTORES</td>\n",
       "      <td>2.0</td>\n",
       "      <td>4.807</td>\n",
       "      <td>9.61</td>\n",
       "      <td>LEVANTINA DE SERVICIOS GENERALES, S.L.</td>\n",
       "      <td>EXTINTORES</td>\n",
       "      <td>2013-02-06</td>\n",
       "      <td>2022-04-27</td>\n",
       "      <td>6.5500</td>\n",
       "      <td>1</td>\n",
       "      <td>ALMACEN QUART</td>\n",
       "      <td>LEVANTINA DE SERVICIOS GENERALES, S.L.</td>\n",
       "      <td>VARIOS</td>\n",
       "      <td>UNIDADES</td>\n",
       "      <td>C099</td>\n",
       "      <td>2015-05-29</td>\n",
       "      <td>98450</td>\n",
       "      <td>2015-06-29</td>\n",
       "      <td>0</td>\n",
       "      <td>LEVANTINA DE SERVICIOS GENERALES, S.L.</td>\n",
       "      <td>LEVANTINA DE SERVICIOS GENERALES, S.L.</td>\n",
       "      <td>331.0</td>\n",
       "      <td>9523HXF</td>\n",
       "      <td>2014-05-15</td>\n",
       "      <td>2014-05-15</td>\n",
       "      <td>8.0</td>\n",
       "      <td>45</td>\n",
       "      <td>La Concepcion</td>\n",
       "      <td>SIN ASIGNAR</td>\n",
       "      <td>SIN ASIGNAR</td>\n",
       "      <td>SIN ASIGNAR</td>\n",
       "      <td>SIN ASIGNAR</td>\n",
       "      <td>-1.0</td>\n",
       "      <td>SIN ASIGNAR</td>\n",
       "    </tr>\n",
       "    <tr>\n",
       "      <th>95145</th>\n",
       "      <td>2022</td>\n",
       "      <td>2204932</td>\n",
       "      <td>2</td>\n",
       "      <td>EMBALAJES</td>\n",
       "      <td>1.0</td>\n",
       "      <td>1.800</td>\n",
       "      <td>1.80</td>\n",
       "      <td>CABLES Y CONTROLES, S.L.</td>\n",
       "      <td>EMBALAJES</td>\n",
       "      <td>2013-03-06</td>\n",
       "      <td>2022-05-10</td>\n",
       "      <td>1.8000</td>\n",
       "      <td>1</td>\n",
       "      <td>ALMACEN QUART</td>\n",
       "      <td>CABLES Y CONTROLES, S.L.</td>\n",
       "      <td>VARIOS</td>\n",
       "      <td>UNIDADES</td>\n",
       "      <td>T355</td>\n",
       "      <td>2022-06-07</td>\n",
       "      <td>312955</td>\n",
       "      <td>2022-06-07</td>\n",
       "      <td>0</td>\n",
       "      <td>CABLES Y CONTROLES, S.L.</td>\n",
       "      <td>CABLES Y CONTROLES, S.L.</td>\n",
       "      <td>1259.0</td>\n",
       "      <td>4118CVX</td>\n",
       "      <td>2004-05-11</td>\n",
       "      <td>2004-05-11</td>\n",
       "      <td>18.0</td>\n",
       "      <td>72</td>\n",
       "      <td>La Marina Gandiense</td>\n",
       "      <td>SIN ASIGNAR</td>\n",
       "      <td>SIN ASIGNAR</td>\n",
       "      <td>MERCEDES</td>\n",
       "      <td>NORMAL</td>\n",
       "      <td>318952.0</td>\n",
       "      <td>lamarina</td>\n",
       "    </tr>\n",
       "    <tr>\n",
       "      <th>72067</th>\n",
       "      <td>2019</td>\n",
       "      <td>1904398</td>\n",
       "      <td>1</td>\n",
       "      <td>TUBERIA</td>\n",
       "      <td>1.0</td>\n",
       "      <td>130.000</td>\n",
       "      <td>91.00</td>\n",
       "      <td>MAN TRUCK &amp; BUS IBERIA, S.A. UNIPERSONAL</td>\n",
       "      <td>TUBERIA</td>\n",
       "      <td>2013-01-21</td>\n",
       "      <td>2021-08-06</td>\n",
       "      <td>108.5000</td>\n",
       "      <td>1</td>\n",
       "      <td>ALMACEN QUART</td>\n",
       "      <td>MAN TRUCK &amp; BUS IBERIA, S.A. UNIPERSONAL</td>\n",
       "      <td>VARIOS</td>\n",
       "      <td>UNIDADES</td>\n",
       "      <td>F205</td>\n",
       "      <td>2019-05-17</td>\n",
       "      <td>263144</td>\n",
       "      <td>2019-05-17</td>\n",
       "      <td>0</td>\n",
       "      <td>MAN TRUCK &amp; BUS IBERIA, S.A. UNIPERSONAL</td>\n",
       "      <td>MAN TRUCK &amp; BUS IBERIA, S.A. UNIPERSONAL</td>\n",
       "      <td>906.0</td>\n",
       "      <td>5855JLB</td>\n",
       "      <td>2016-01-05</td>\n",
       "      <td>2016-01-05</td>\n",
       "      <td>6.0</td>\n",
       "      <td>95</td>\n",
       "      <td>Fernanbus</td>\n",
       "      <td>MAN</td>\n",
       "      <td>MAGNUS</td>\n",
       "      <td>CASTROSUA</td>\n",
       "      <td>Urbano</td>\n",
       "      <td>263144.0</td>\n",
       "      <td>fernanbus</td>\n",
       "    </tr>\n",
       "    <tr>\n",
       "      <th>1197</th>\n",
       "      <td>2016</td>\n",
       "      <td>1608292</td>\n",
       "      <td>1</td>\n",
       "      <td>CORREA 9PK1825</td>\n",
       "      <td>1.0</td>\n",
       "      <td>18.530</td>\n",
       "      <td>18.53</td>\n",
       "      <td>OPTIVAL, S.L.</td>\n",
       "      <td>CORREA 9PK1825</td>\n",
       "      <td>2010-09-28</td>\n",
       "      <td>2020-02-17</td>\n",
       "      <td>18.5600</td>\n",
       "      <td>1</td>\n",
       "      <td>ALMACEN QUART</td>\n",
       "      <td>OPTIVAL, S.L.</td>\n",
       "      <td>CORREAS</td>\n",
       "      <td>UNIDADES</td>\n",
       "      <td>T237</td>\n",
       "      <td>2016-10-11</td>\n",
       "      <td>164390</td>\n",
       "      <td>2016-10-11</td>\n",
       "      <td>0</td>\n",
       "      <td>OPTIVAL, S.L.</td>\n",
       "      <td>OPTIVAL, S.L.</td>\n",
       "      <td>956.0</td>\n",
       "      <td>3568JPP</td>\n",
       "      <td>2007-08-03</td>\n",
       "      <td>2007-08-03</td>\n",
       "      <td>15.0</td>\n",
       "      <td>117</td>\n",
       "      <td>Transvia Toledo</td>\n",
       "      <td>SIN ASIGNAR</td>\n",
       "      <td>SIN ASIGNAR</td>\n",
       "      <td>SIN ASIGNAR</td>\n",
       "      <td>AUTOBUS</td>\n",
       "      <td>2915353.0</td>\n",
       "      <td>tviacentro</td>\n",
       "    </tr>\n",
       "    <tr>\n",
       "      <th>97743</th>\n",
       "      <td>2020</td>\n",
       "      <td>2006687</td>\n",
       "      <td>2</td>\n",
       "      <td>PASTILLAS FRENO TRASERAS FORD</td>\n",
       "      <td>1.0</td>\n",
       "      <td>29.460</td>\n",
       "      <td>29.46</td>\n",
       "      <td>COLON RECAMBIOS</td>\n",
       "      <td>PASTILLAS FRENO TRASERAS FORD</td>\n",
       "      <td>2020-04-09</td>\n",
       "      <td>2022-05-27</td>\n",
       "      <td>26.8239</td>\n",
       "      <td>1</td>\n",
       "      <td>ALMACEN QUART</td>\n",
       "      <td>COLON RECAMBIOS</td>\n",
       "      <td>FRENOS</td>\n",
       "      <td>UNIDADES</td>\n",
       "      <td>ER645</td>\n",
       "      <td>2020-10-13</td>\n",
       "      <td>375471</td>\n",
       "      <td>2020-10-14</td>\n",
       "      <td>0</td>\n",
       "      <td>COLON RECAMBIOS</td>\n",
       "      <td>COLON RECAMBIOS</td>\n",
       "      <td>188.0</td>\n",
       "      <td>4280JPL</td>\n",
       "      <td>2016-06-02</td>\n",
       "      <td>2016-06-02</td>\n",
       "      <td>6.0</td>\n",
       "      <td>10</td>\n",
       "      <td>Autos Diamond</td>\n",
       "      <td>FORD</td>\n",
       "      <td>MONDEO BA7</td>\n",
       "      <td>SIN ASIGNAR</td>\n",
       "      <td>TURISMO</td>\n",
       "      <td>172203.0</td>\n",
       "      <td>transvia</td>\n",
       "    </tr>\n",
       "  </tbody>\n",
       "</table>\n",
       "</div>"
      ],
      "text/plain": [
       "       anyparte  numparte  numlinea                        descrip  cantidad  \\\n",
       "62513      2015   1503890         1                     EXTINTORES       2.0   \n",
       "95145      2022   2204932         2                      EMBALAJES       1.0   \n",
       "72067      2019   1904398         1                        TUBERIA       1.0   \n",
       "1197       2016   1608292         1                 CORREA 9PK1825       1.0   \n",
       "97743      2020   2006687         2  PASTILLAS FRENO TRASERAS FORD       1.0   \n",
       "\n",
       "        precio  importe                                 prove mat  \\\n",
       "62513    4.807     9.61    LEVANTINA DE SERVICIOS GENERALES, S.L.   \n",
       "95145    1.800     1.80                  CABLES Y CONTROLES, S.L.   \n",
       "72067  130.000    91.00  MAN TRUCK & BUS IBERIA, S.A. UNIPERSONAL   \n",
       "1197    18.530    18.53                             OPTIVAL, S.L.   \n",
       "97743   29.460    29.46                           COLON RECAMBIOS   \n",
       "\n",
       "                            nomartic   fec_alta  fecultcom  preciouc  \\\n",
       "62513                     EXTINTORES 2013-02-06 2022-04-27    6.5500   \n",
       "95145                      EMBALAJES 2013-03-06 2022-05-10    1.8000   \n",
       "72067                        TUBERIA 2013-01-21 2021-08-06  108.5000   \n",
       "1197                  CORREA 9PK1825 2010-09-28 2020-02-17   18.5600   \n",
       "97743  PASTILLAS FRENO TRASERAS FORD 2020-04-09 2022-05-27   26.8239   \n",
       "\n",
       "       ctr_stock       nomalmac                                 prove art  \\\n",
       "62513          1  ALMACEN QUART    LEVANTINA DE SERVICIOS GENERALES, S.L.   \n",
       "95145          1  ALMACEN QUART                  CABLES Y CONTROLES, S.L.   \n",
       "72067          1  ALMACEN QUART  MAN TRUCK & BUS IBERIA, S.A. UNIPERSONAL   \n",
       "1197           1  ALMACEN QUART                             OPTIVAL, S.L.   \n",
       "97743          1  ALMACEN QUART                           COLON RECAMBIOS   \n",
       "\n",
       "      nomfamia  nomunida codigbus   fechaent  numkms   fechasal  siniestro  \\\n",
       "62513   VARIOS  UNIDADES     C099 2015-05-29   98450 2015-06-29          0   \n",
       "95145   VARIOS  UNIDADES     T355 2022-06-07  312955 2022-06-07          0   \n",
       "72067   VARIOS  UNIDADES     F205 2019-05-17  263144 2019-05-17          0   \n",
       "1197   CORREAS  UNIDADES     T237 2016-10-11  164390 2016-10-11          0   \n",
       "97743   FRENOS  UNIDADES    ER645 2020-10-13  375471 2020-10-14          0   \n",
       "\n",
       "                                    descripcion  \\\n",
       "62513    LEVANTINA DE SERVICIOS GENERALES, S.L.   \n",
       "95145                  CABLES Y CONTROLES, S.L.   \n",
       "72067  MAN TRUCK & BUS IBERIA, S.A. UNIPERSONAL   \n",
       "1197                              OPTIVAL, S.L.   \n",
       "97743                           COLON RECAMBIOS   \n",
       "\n",
       "                                        cliente  id_vehiculo matricul  \\\n",
       "62513    LEVANTINA DE SERVICIOS GENERALES, S.L.        331.0  9523HXF   \n",
       "95145                  CABLES Y CONTROLES, S.L.       1259.0  4118CVX   \n",
       "72067  MAN TRUCK & BUS IBERIA, S.A. UNIPERSONAL        906.0  5855JLB   \n",
       "1197                              OPTIVAL, S.L.        956.0  3568JPP   \n",
       "97743                           COLON RECAMBIOS        188.0  4280JPL   \n",
       "\n",
       "        fechamat matriculacion_planner  edad numempre             nomempre  \\\n",
       "62513 2014-05-15            2014-05-15   8.0       45        La Concepcion   \n",
       "95145 2004-05-11            2004-05-11  18.0       72  La Marina Gandiense   \n",
       "72067 2016-01-05            2016-01-05   6.0       95            Fernanbus   \n",
       "1197  2007-08-03            2007-08-03  15.0      117      Transvia Toledo   \n",
       "97743 2016-06-02            2016-06-02   6.0       10        Autos Diamond   \n",
       "\n",
       "             marca       modelo    carrocero         tipo   totkilom  \\\n",
       "62513  SIN ASIGNAR  SIN ASIGNAR  SIN ASIGNAR  SIN ASIGNAR       -1.0   \n",
       "95145  SIN ASIGNAR  SIN ASIGNAR     MERCEDES       NORMAL   318952.0   \n",
       "72067          MAN       MAGNUS    CASTROSUA       Urbano   263144.0   \n",
       "1197   SIN ASIGNAR  SIN ASIGNAR  SIN ASIGNAR      AUTOBUS  2915353.0   \n",
       "97743         FORD   MONDEO BA7  SIN ASIGNAR      TURISMO   172203.0   \n",
       "\n",
       "      dns_vehiculo  \n",
       "62513  SIN ASIGNAR  \n",
       "95145     lamarina  \n",
       "72067    fernanbus  \n",
       "1197    tviacentro  \n",
       "97743     transvia  "
      ]
     },
     "execution_count": 92,
     "metadata": {},
     "output_type": "execute_result"
    }
   ],
   "source": [
    "df.sample(5)"
   ]
  },
  {
   "cell_type": "markdown",
   "id": "7f910246-0f31-4d6c-b200-7ea09c08f40e",
   "metadata": {},
   "source": [
    "comprobamos duplicados, aunque no debería haber ya que se ha comprobado en los dataset que hemos juntado"
   ]
  },
  {
   "cell_type": "code",
   "execution_count": 93,
   "id": "eb8266fa-81bf-4116-8a34-e495c7015920",
   "metadata": {},
   "outputs": [
    {
     "name": "stdout",
     "output_type": "stream",
     "text": [
      "0\n"
     ]
    }
   ],
   "source": [
    "print(df.duplicated().sum())"
   ]
  },
  {
   "cell_type": "code",
   "execution_count": null,
   "id": "7d7abc85-d0f5-45a1-a268-e289bc86c07a",
   "metadata": {},
   "outputs": [],
   "source": [
    "\n"
   ]
  },
  {
   "cell_type": "code",
   "execution_count": 94,
   "id": "d8b36edc-91bb-4f61-9718-539f4cbff7ae",
   "metadata": {},
   "outputs": [
    {
     "data": {
      "text/html": [
       "<div>\n",
       "<style scoped>\n",
       "    .dataframe tbody tr th:only-of-type {\n",
       "        vertical-align: middle;\n",
       "    }\n",
       "\n",
       "    .dataframe tbody tr th {\n",
       "        vertical-align: top;\n",
       "    }\n",
       "\n",
       "    .dataframe thead th {\n",
       "        text-align: right;\n",
       "    }\n",
       "</style>\n",
       "<table border=\"1\" class=\"dataframe\">\n",
       "  <thead>\n",
       "    <tr style=\"text-align: right;\">\n",
       "      <th></th>\n",
       "      <th>0</th>\n",
       "    </tr>\n",
       "  </thead>\n",
       "  <tbody>\n",
       "    <tr>\n",
       "      <th>anyparte</th>\n",
       "      <td>0.000000</td>\n",
       "    </tr>\n",
       "    <tr>\n",
       "      <th>numparte</th>\n",
       "      <td>0.000000</td>\n",
       "    </tr>\n",
       "    <tr>\n",
       "      <th>numlinea</th>\n",
       "      <td>0.000000</td>\n",
       "    </tr>\n",
       "    <tr>\n",
       "      <th>descrip</th>\n",
       "      <td>0.000000</td>\n",
       "    </tr>\n",
       "    <tr>\n",
       "      <th>cantidad</th>\n",
       "      <td>0.000000</td>\n",
       "    </tr>\n",
       "    <tr>\n",
       "      <th>precio</th>\n",
       "      <td>0.000000</td>\n",
       "    </tr>\n",
       "    <tr>\n",
       "      <th>importe</th>\n",
       "      <td>0.000000</td>\n",
       "    </tr>\n",
       "    <tr>\n",
       "      <th>prove mat</th>\n",
       "      <td>0.000000</td>\n",
       "    </tr>\n",
       "    <tr>\n",
       "      <th>nomartic</th>\n",
       "      <td>0.000000</td>\n",
       "    </tr>\n",
       "    <tr>\n",
       "      <th>fec_alta</th>\n",
       "      <td>0.000000</td>\n",
       "    </tr>\n",
       "    <tr>\n",
       "      <th>fecultcom</th>\n",
       "      <td>0.142057</td>\n",
       "    </tr>\n",
       "    <tr>\n",
       "      <th>preciouc</th>\n",
       "      <td>0.000000</td>\n",
       "    </tr>\n",
       "    <tr>\n",
       "      <th>ctr_stock</th>\n",
       "      <td>0.000000</td>\n",
       "    </tr>\n",
       "    <tr>\n",
       "      <th>nomalmac</th>\n",
       "      <td>0.000000</td>\n",
       "    </tr>\n",
       "    <tr>\n",
       "      <th>prove art</th>\n",
       "      <td>0.000000</td>\n",
       "    </tr>\n",
       "    <tr>\n",
       "      <th>nomfamia</th>\n",
       "      <td>0.000000</td>\n",
       "    </tr>\n",
       "    <tr>\n",
       "      <th>nomunida</th>\n",
       "      <td>0.000000</td>\n",
       "    </tr>\n",
       "    <tr>\n",
       "      <th>codigbus</th>\n",
       "      <td>0.000000</td>\n",
       "    </tr>\n",
       "    <tr>\n",
       "      <th>fechaent</th>\n",
       "      <td>0.000000</td>\n",
       "    </tr>\n",
       "    <tr>\n",
       "      <th>numkms</th>\n",
       "      <td>0.000000</td>\n",
       "    </tr>\n",
       "    <tr>\n",
       "      <th>fechasal</th>\n",
       "      <td>0.083803</td>\n",
       "    </tr>\n",
       "    <tr>\n",
       "      <th>siniestro</th>\n",
       "      <td>0.000000</td>\n",
       "    </tr>\n",
       "    <tr>\n",
       "      <th>descripcion</th>\n",
       "      <td>0.000000</td>\n",
       "    </tr>\n",
       "    <tr>\n",
       "      <th>cliente</th>\n",
       "      <td>0.000000</td>\n",
       "    </tr>\n",
       "    <tr>\n",
       "      <th>id_vehiculo</th>\n",
       "      <td>0.000000</td>\n",
       "    </tr>\n",
       "    <tr>\n",
       "      <th>matricul</th>\n",
       "      <td>0.000000</td>\n",
       "    </tr>\n",
       "    <tr>\n",
       "      <th>fechamat</th>\n",
       "      <td>4.335296</td>\n",
       "    </tr>\n",
       "    <tr>\n",
       "      <th>matriculacion_planner</th>\n",
       "      <td>3.977598</td>\n",
       "    </tr>\n",
       "    <tr>\n",
       "      <th>edad</th>\n",
       "      <td>0.000000</td>\n",
       "    </tr>\n",
       "    <tr>\n",
       "      <th>numempre</th>\n",
       "      <td>0.000000</td>\n",
       "    </tr>\n",
       "    <tr>\n",
       "      <th>nomempre</th>\n",
       "      <td>0.000000</td>\n",
       "    </tr>\n",
       "    <tr>\n",
       "      <th>marca</th>\n",
       "      <td>0.000000</td>\n",
       "    </tr>\n",
       "    <tr>\n",
       "      <th>modelo</th>\n",
       "      <td>0.000000</td>\n",
       "    </tr>\n",
       "    <tr>\n",
       "      <th>carrocero</th>\n",
       "      <td>0.000000</td>\n",
       "    </tr>\n",
       "    <tr>\n",
       "      <th>tipo</th>\n",
       "      <td>0.000000</td>\n",
       "    </tr>\n",
       "    <tr>\n",
       "      <th>totkilom</th>\n",
       "      <td>0.000000</td>\n",
       "    </tr>\n",
       "    <tr>\n",
       "      <th>dns_vehiculo</th>\n",
       "      <td>0.000000</td>\n",
       "    </tr>\n",
       "  </tbody>\n",
       "</table>\n",
       "</div>"
      ],
      "text/plain": [
       "                              0\n",
       "anyparte               0.000000\n",
       "numparte               0.000000\n",
       "numlinea               0.000000\n",
       "descrip                0.000000\n",
       "cantidad               0.000000\n",
       "precio                 0.000000\n",
       "importe                0.000000\n",
       "prove mat              0.000000\n",
       "nomartic               0.000000\n",
       "fec_alta               0.000000\n",
       "fecultcom              0.142057\n",
       "preciouc               0.000000\n",
       "ctr_stock              0.000000\n",
       "nomalmac               0.000000\n",
       "prove art              0.000000\n",
       "nomfamia               0.000000\n",
       "nomunida               0.000000\n",
       "codigbus               0.000000\n",
       "fechaent               0.000000\n",
       "numkms                 0.000000\n",
       "fechasal               0.083803\n",
       "siniestro              0.000000\n",
       "descripcion            0.000000\n",
       "cliente                0.000000\n",
       "id_vehiculo            0.000000\n",
       "matricul               0.000000\n",
       "fechamat               4.335296\n",
       "matriculacion_planner  3.977598\n",
       "edad                   0.000000\n",
       "numempre               0.000000\n",
       "nomempre               0.000000\n",
       "marca                  0.000000\n",
       "modelo                 0.000000\n",
       "carrocero              0.000000\n",
       "tipo                   0.000000\n",
       "totkilom               0.000000\n",
       "dns_vehiculo           0.000000"
      ]
     },
     "execution_count": 94,
     "metadata": {},
     "output_type": "execute_result"
    }
   ],
   "source": [
    "#df.isna().sum()/len(df)*100\n",
    "missings_df=pd.DataFrame(df.isna().sum()/len(df)*100)\n",
    "missings_df"
   ]
  },
  {
   "cell_type": "code",
   "execution_count": 95,
   "id": "89b71c44-4561-4c7c-b2b2-39f7389b9f19",
   "metadata": {},
   "outputs": [
    {
     "data": {
      "text/plain": [
       "8355"
      ]
     },
     "execution_count": 95,
     "metadata": {},
     "output_type": "execute_result"
    }
   ],
   "source": [
    "df.isna().sum().sum()"
   ]
  },
  {
   "cell_type": "code",
   "execution_count": 96,
   "id": "31a2e777-4597-4de5-8a09-af999790f4e6",
   "metadata": {},
   "outputs": [
    {
     "data": {
      "image/png": "[encoded data removed]",
      "text/plain": [
       "<Figure size 864x720 with 1 Axes>"
      ]
     },
     "metadata": {},
     "output_type": "display_data"
    }
   ],
   "source": [
    "plot_miss(missings_df)"
   ]
  },
  {
   "cell_type": "code",
   "execution_count": 97,
   "id": "04e66838-7810-40b5-849a-f2711802ff16",
   "metadata": {},
   "outputs": [
    {
     "data": {
      "text/plain": [
       "['fec_alta',\n",
       " 'fecultcom',\n",
       " 'fechaent',\n",
       " 'fechasal',\n",
       " 'fechamat',\n",
       " 'matriculacion_planner']"
      ]
     },
     "execution_count": 97,
     "metadata": {},
     "output_type": "execute_result"
    }
   ],
   "source": [
    "col_date=df.select_dtypes(include=np.datetime64).columns.tolist()\n",
    "col_date"
   ]
  },
  {
   "cell_type": "markdown",
   "id": "44885da8-8c50-49dc-9c1e-194098bb022f",
   "metadata": {},
   "source": [
    "eliminamos las filas con Missings en la fecha"
   ]
  },
  {
   "cell_type": "code",
   "execution_count": 98,
   "id": "bd9a99d5-c38a-498f-8996-2597d7eb842b",
   "metadata": {},
   "outputs": [
    {
     "name": "stdout",
     "output_type": "stream",
     "text": [
      "0\n"
     ]
    }
   ],
   "source": [
    "df= df.dropna(axis=0)#subset=['codigbus'])\n",
    "print(df.isna().sum().sum())"
   ]
  },
  {
   "cell_type": "code",
   "execution_count": 99,
   "id": "d1e8ad20-e1f9-4137-a318-ed83bf9f1a74",
   "metadata": {},
   "outputs": [
    {
     "data": {
      "text/plain": [
       "(93395, 37)"
      ]
     },
     "execution_count": 99,
     "metadata": {},
     "output_type": "execute_result"
    }
   ],
   "source": [
    "df.shape"
   ]
  },
  {
   "cell_type": "code",
   "execution_count": 100,
   "id": "89bc8428-6147-465b-b7b5-34ba1d7da620",
   "metadata": {},
   "outputs": [
    {
     "data": {
      "text/plain": [
       "Index(['anyparte', 'numparte', 'numlinea', 'descrip', 'cantidad', 'precio',\n",
       "       'importe', 'prove mat', 'nomartic', 'fec_alta', 'fecultcom', 'preciouc',\n",
       "       'ctr_stock', 'nomalmac', 'prove art', 'nomfamia', 'nomunida',\n",
       "       'codigbus', 'fechaent', 'numkms', 'fechasal', 'siniestro',\n",
       "       'descripcion', 'cliente', 'id_vehiculo', 'matricul', 'fechamat',\n",
       "       'matriculacion_planner', 'edad', 'numempre', 'nomempre', 'marca',\n",
       "       'modelo', 'carrocero', 'tipo', 'totkilom', 'dns_vehiculo'],\n",
       "      dtype='object')"
      ]
     },
     "execution_count": 100,
     "metadata": {},
     "output_type": "execute_result"
    }
   ],
   "source": [
    "df.columns"
   ]
  },
  {
   "cell_type": "code",
   "execution_count": 101,
   "id": "d133edad-9b4f-446a-9014-38e2b2ed2ea9",
   "metadata": {},
   "outputs": [
    {
     "data": {
      "text/plain": [
       "array(['bunyol', 'tviacentro', 'transvia', 'laserranica', 'lamarina',\n",
       "       'SIN ASIGNAR', 'fernanbus', 'maganeto', 'therpasa', 'ambulancias'],\n",
       "      dtype=object)"
      ]
     },
     "execution_count": 101,
     "metadata": {},
     "output_type": "execute_result"
    }
   ],
   "source": [
    "pd.unique(df['dns_vehiculo'])"
   ]
  },
  {
   "cell_type": "code",
   "execution_count": 102,
   "id": "e59dbd0d-eb77-4d80-9b08-30f981fa881a",
   "metadata": {},
   "outputs": [],
   "source": [
    "dns = df.groupby('dns_vehiculo')['dns_vehiculo'].count().sort_values(ascending=False)"
   ]
  },
  {
   "cell_type": "code",
   "execution_count": 103,
   "id": "db700b6a-8d65-470a-8fa8-292ee16a3c9c",
   "metadata": {},
   "outputs": [
    {
     "name": "stdout",
     "output_type": "stream",
     "text": [
      "Total dns :  93395 \n",
      " dns_vehiculo\n",
      "transvia       26950\n",
      "bunyol         25838\n",
      "fernanbus      15725\n",
      "SIN ASIGNAR    13864\n",
      "lamarina        4625\n",
      "tviacentro      3918\n",
      "laserranica     2447\n",
      "maganeto          14\n",
      "ambulancias       13\n",
      "therpasa           1\n",
      "Name: dns_vehiculo, dtype: int64\n"
     ]
    },
    {
     "data": {
      "image/png": "[encoded data removed]",
      "text/plain": [
       "<Figure size 720x720 with 1 Axes>"
      ]
     },
     "metadata": {},
     "output_type": "display_data"
    }
   ],
   "source": [
    "colors = sns.color_palette('pastel')[0:23]\n",
    "plt.figure(figsize=(10,10))\n",
    "\n",
    "#create pie chart\n",
    "plt.pie(dns ,labels=dns .index, colors = colors, autopct='%1.00f%%', pctdistance=0.8) #'%.0f%%')\n",
    "print('Total dns : ', dns.sum(),'\\n', dns)\n",
    "\n",
    "plt.show()"
   ]
  },
  {
   "cell_type": "code",
   "execution_count": 104,
   "id": "29895d79-8916-4eb6-a65b-2629d5161bb7",
   "metadata": {},
   "outputs": [
    {
     "data": {
      "text/plain": [
       "(26950, 37)"
      ]
     },
     "execution_count": 104,
     "metadata": {},
     "output_type": "execute_result"
    }
   ],
   "source": [
    "df[(df['dns_vehiculo']=='transvia')].shape"
   ]
  },
  {
   "cell_type": "code",
   "execution_count": 105,
   "id": "bc29da3e-3a0f-4239-8b43-fa7b07bd1f6b",
   "metadata": {},
   "outputs": [
    {
     "data": {
      "text/html": [
       "<div>\n",
       "<style scoped>\n",
       "    .dataframe tbody tr th:only-of-type {\n",
       "        vertical-align: middle;\n",
       "    }\n",
       "\n",
       "    .dataframe tbody tr th {\n",
       "        vertical-align: top;\n",
       "    }\n",
       "\n",
       "    .dataframe thead th {\n",
       "        text-align: right;\n",
       "    }\n",
       "</style>\n",
       "<table border=\"1\" class=\"dataframe\">\n",
       "  <thead>\n",
       "    <tr style=\"text-align: right;\">\n",
       "      <th></th>\n",
       "      <th>anyparte</th>\n",
       "      <th>numparte</th>\n",
       "      <th>numlinea</th>\n",
       "      <th>descrip</th>\n",
       "      <th>cantidad</th>\n",
       "      <th>precio</th>\n",
       "      <th>importe</th>\n",
       "      <th>prove mat</th>\n",
       "      <th>nomartic</th>\n",
       "      <th>fec_alta</th>\n",
       "      <th>fecultcom</th>\n",
       "      <th>preciouc</th>\n",
       "      <th>ctr_stock</th>\n",
       "      <th>nomalmac</th>\n",
       "      <th>prove art</th>\n",
       "      <th>nomfamia</th>\n",
       "      <th>nomunida</th>\n",
       "      <th>codigbus</th>\n",
       "      <th>fechaent</th>\n",
       "      <th>numkms</th>\n",
       "      <th>fechasal</th>\n",
       "      <th>siniestro</th>\n",
       "      <th>descripcion</th>\n",
       "      <th>cliente</th>\n",
       "      <th>id_vehiculo</th>\n",
       "      <th>matricul</th>\n",
       "      <th>fechamat</th>\n",
       "      <th>matriculacion_planner</th>\n",
       "      <th>edad</th>\n",
       "      <th>numempre</th>\n",
       "      <th>nomempre</th>\n",
       "      <th>marca</th>\n",
       "      <th>modelo</th>\n",
       "      <th>carrocero</th>\n",
       "      <th>tipo</th>\n",
       "      <th>totkilom</th>\n",
       "      <th>dns_vehiculo</th>\n",
       "    </tr>\n",
       "  </thead>\n",
       "  <tbody>\n",
       "    <tr>\n",
       "      <th>35805</th>\n",
       "      <td>2021</td>\n",
       "      <td>2106903</td>\n",
       "      <td>2</td>\n",
       "      <td>EQUILIBRAR TRANSMISION GAMA MEDIA</td>\n",
       "      <td>1.0</td>\n",
       "      <td>70.00</td>\n",
       "      <td>70.00</td>\n",
       "      <td>CARDYFREN, S.L.</td>\n",
       "      <td>EQUILIBRAR TRANSMISION GAMA MEDIA</td>\n",
       "      <td>2012-11-28</td>\n",
       "      <td>2022-06-06</td>\n",
       "      <td>70.0000</td>\n",
       "      <td>0</td>\n",
       "      <td>ALMACEN QUART</td>\n",
       "      <td>CARDYFREN, S.L.</td>\n",
       "      <td>MANO DE OBRA</td>\n",
       "      <td>UNIDADES</td>\n",
       "      <td>F179</td>\n",
       "      <td>2021-09-23</td>\n",
       "      <td>103346</td>\n",
       "      <td>2021-09-23</td>\n",
       "      <td>0</td>\n",
       "      <td>CARDYFREN, S.L.</td>\n",
       "      <td>CARDYFREN, S.L.</td>\n",
       "      <td>896.0</td>\n",
       "      <td>8376GCM</td>\n",
       "      <td>2008-04-04</td>\n",
       "      <td>2008-04-04</td>\n",
       "      <td>14.0</td>\n",
       "      <td>95</td>\n",
       "      <td>Fernanbus</td>\n",
       "      <td>SCANIA</td>\n",
       "      <td>CITY MAGNUS II</td>\n",
       "      <td>CASTROSUA</td>\n",
       "      <td>Urbano</td>\n",
       "      <td>849776.0</td>\n",
       "      <td>fernanbus</td>\n",
       "    </tr>\n",
       "    <tr>\n",
       "      <th>18887</th>\n",
       "      <td>2014</td>\n",
       "      <td>140740</td>\n",
       "      <td>1</td>\n",
       "      <td>KIT SINCRONIZADOS ZF</td>\n",
       "      <td>1.0</td>\n",
       "      <td>290.00</td>\n",
       "      <td>290.00</td>\n",
       "      <td>REPUESTOS NICOLAS, S.L.</td>\n",
       "      <td>KIT SINCRONIZADOS ZF</td>\n",
       "      <td>2013-02-19</td>\n",
       "      <td>2021-03-22</td>\n",
       "      <td>285.0000</td>\n",
       "      <td>1</td>\n",
       "      <td>ALMACEN QUART</td>\n",
       "      <td>REPUESTOS NICOLAS, S.L.</td>\n",
       "      <td>MATERIAL CAJAS CAMBIO</td>\n",
       "      <td>UNIDADES</td>\n",
       "      <td>B116</td>\n",
       "      <td>2014-02-03</td>\n",
       "      <td>821080</td>\n",
       "      <td>2014-02-03</td>\n",
       "      <td>0</td>\n",
       "      <td>REPUESTOS NICOLAS, S.L.</td>\n",
       "      <td>REPUESTOS NICOLAS, S.L.</td>\n",
       "      <td>278.0</td>\n",
       "      <td>6441CGM</td>\n",
       "      <td>2003-04-04</td>\n",
       "      <td>2003-04-04</td>\n",
       "      <td>19.0</td>\n",
       "      <td>43</td>\n",
       "      <td>Buñol</td>\n",
       "      <td>MAN</td>\n",
       "      <td>TOURING</td>\n",
       "      <td>NOGE</td>\n",
       "      <td>Discrecional</td>\n",
       "      <td>2223838.0</td>\n",
       "      <td>bunyol</td>\n",
       "    </tr>\n",
       "    <tr>\n",
       "      <th>98847</th>\n",
       "      <td>2021</td>\n",
       "      <td>2109301</td>\n",
       "      <td>1</td>\n",
       "      <td>RELE BASCULANTE 24V</td>\n",
       "      <td>1.0</td>\n",
       "      <td>54.12</td>\n",
       "      <td>47.63</td>\n",
       "      <td>IRIZAR SOCIEDAD COOPERATIVA</td>\n",
       "      <td>RELE BASCULANTE 24V</td>\n",
       "      <td>2021-12-10</td>\n",
       "      <td>2021-11-18</td>\n",
       "      <td>47.6256</td>\n",
       "      <td>1</td>\n",
       "      <td>ALMACEN QUART</td>\n",
       "      <td>IRIZAR SOCIEDAD COOPERATIVA</td>\n",
       "      <td>MATERIAL ELECTRICO</td>\n",
       "      <td>UNIDADES</td>\n",
       "      <td>H134</td>\n",
       "      <td>2021-12-10</td>\n",
       "      <td>421000</td>\n",
       "      <td>2021-12-10</td>\n",
       "      <td>0</td>\n",
       "      <td>IRIZAR SOCIEDAD COOPERATIVA</td>\n",
       "      <td>IRIZAR SOCIEDAD COOPERATIVA</td>\n",
       "      <td>1255.0</td>\n",
       "      <td>3284JFK</td>\n",
       "      <td>2015-05-12</td>\n",
       "      <td>2015-05-12</td>\n",
       "      <td>7.0</td>\n",
       "      <td>44</td>\n",
       "      <td>Herca</td>\n",
       "      <td>MAN</td>\n",
       "      <td>N CENTURY 12.35</td>\n",
       "      <td>IRIZAR</td>\n",
       "      <td>NORMAL 45-62 PAX</td>\n",
       "      <td>454717.0</td>\n",
       "      <td>bunyol</td>\n",
       "    </tr>\n",
       "    <tr>\n",
       "      <th>14767</th>\n",
       "      <td>2021</td>\n",
       "      <td>2103799</td>\n",
       "      <td>5</td>\n",
       "      <td>KIT MOTOR TRAMPILLA BOSCH</td>\n",
       "      <td>1.0</td>\n",
       "      <td>36.30</td>\n",
       "      <td>36.30</td>\n",
       "      <td>IRIZAR SOCIEDAD COOPERATIVA</td>\n",
       "      <td>KIT MOTOR TRAMPILLA BOSCH</td>\n",
       "      <td>2010-10-04</td>\n",
       "      <td>2022-03-17</td>\n",
       "      <td>41.7380</td>\n",
       "      <td>1</td>\n",
       "      <td>ALMACEN QUART</td>\n",
       "      <td>IRIZAR SOCIEDAD COOPERATIVA</td>\n",
       "      <td>AIRE ACOND. Y CALEFACCION</td>\n",
       "      <td>UNIDADES</td>\n",
       "      <td>H081</td>\n",
       "      <td>2021-05-21</td>\n",
       "      <td>371132</td>\n",
       "      <td>2021-05-24</td>\n",
       "      <td>0</td>\n",
       "      <td>IRIZAR SOCIEDAD COOPERATIVA</td>\n",
       "      <td>IRIZAR SOCIEDAD COOPERATIVA</td>\n",
       "      <td>342.0</td>\n",
       "      <td>6719CRJ</td>\n",
       "      <td>2004-01-16</td>\n",
       "      <td>2004-01-16</td>\n",
       "      <td>18.0</td>\n",
       "      <td>44</td>\n",
       "      <td>Herca</td>\n",
       "      <td>MAN</td>\n",
       "      <td>Pb</td>\n",
       "      <td>IRIZAR</td>\n",
       "      <td>Discrecional</td>\n",
       "      <td>2255999.0</td>\n",
       "      <td>bunyol</td>\n",
       "    </tr>\n",
       "    <tr>\n",
       "      <th>7341</th>\n",
       "      <td>2007</td>\n",
       "      <td>73234</td>\n",
       "      <td>1</td>\n",
       "      <td>BOMBA AGUA T-2000</td>\n",
       "      <td>1.0</td>\n",
       "      <td>131.72</td>\n",
       "      <td>79.03</td>\n",
       "      <td>VEDAT MEDITERRANEO S.L.</td>\n",
       "      <td>BOMBA AGUA T-2000</td>\n",
       "      <td>2007-11-08</td>\n",
       "      <td>2007-11-08</td>\n",
       "      <td>79.0300</td>\n",
       "      <td>1</td>\n",
       "      <td>ALMACEN QUART</td>\n",
       "      <td>VEDAT MEDITERRANEO S.L.</td>\n",
       "      <td>VARIOS</td>\n",
       "      <td>UNIDADES</td>\n",
       "      <td>T229</td>\n",
       "      <td>2007-11-09</td>\n",
       "      <td>321091</td>\n",
       "      <td>2007-11-12</td>\n",
       "      <td>0</td>\n",
       "      <td>VEDAT MEDITERRANEO S.L.</td>\n",
       "      <td>VEDAT MEDITERRANEO S.L.</td>\n",
       "      <td>201.0</td>\n",
       "      <td>2008CLF</td>\n",
       "      <td>2003-08-01</td>\n",
       "      <td>2003-08-01</td>\n",
       "      <td>19.0</td>\n",
       "      <td>2</td>\n",
       "      <td>Transvia</td>\n",
       "      <td>FORD</td>\n",
       "      <td>SIN ASIGNAR</td>\n",
       "      <td>SIN ASIGNAR</td>\n",
       "      <td>MICROBUS</td>\n",
       "      <td>798280.0</td>\n",
       "      <td>transvia</td>\n",
       "    </tr>\n",
       "  </tbody>\n",
       "</table>\n",
       "</div>"
      ],
      "text/plain": [
       "       anyparte  numparte  numlinea                            descrip  \\\n",
       "35805      2021   2106903         2  EQUILIBRAR TRANSMISION GAMA MEDIA   \n",
       "18887      2014    140740         1               KIT SINCRONIZADOS ZF   \n",
       "98847      2021   2109301         1                RELE BASCULANTE 24V   \n",
       "14767      2021   2103799         5          KIT MOTOR TRAMPILLA BOSCH   \n",
       "7341       2007     73234         1                  BOMBA AGUA T-2000   \n",
       "\n",
       "       cantidad  precio  importe                    prove mat  \\\n",
       "35805       1.0   70.00    70.00              CARDYFREN, S.L.   \n",
       "18887       1.0  290.00   290.00      REPUESTOS NICOLAS, S.L.   \n",
       "98847       1.0   54.12    47.63  IRIZAR SOCIEDAD COOPERATIVA   \n",
       "14767       1.0   36.30    36.30  IRIZAR SOCIEDAD COOPERATIVA   \n",
       "7341        1.0  131.72    79.03      VEDAT MEDITERRANEO S.L.   \n",
       "\n",
       "                                nomartic   fec_alta  fecultcom  preciouc  \\\n",
       "35805  EQUILIBRAR TRANSMISION GAMA MEDIA 2012-11-28 2022-06-06   70.0000   \n",
       "18887               KIT SINCRONIZADOS ZF 2013-02-19 2021-03-22  285.0000   \n",
       "98847                RELE BASCULANTE 24V 2021-12-10 2021-11-18   47.6256   \n",
       "14767          KIT MOTOR TRAMPILLA BOSCH 2010-10-04 2022-03-17   41.7380   \n",
       "7341                   BOMBA AGUA T-2000 2007-11-08 2007-11-08   79.0300   \n",
       "\n",
       "       ctr_stock       nomalmac                    prove art  \\\n",
       "35805          0  ALMACEN QUART              CARDYFREN, S.L.   \n",
       "18887          1  ALMACEN QUART      REPUESTOS NICOLAS, S.L.   \n",
       "98847          1  ALMACEN QUART  IRIZAR SOCIEDAD COOPERATIVA   \n",
       "14767          1  ALMACEN QUART  IRIZAR SOCIEDAD COOPERATIVA   \n",
       "7341           1  ALMACEN QUART      VEDAT MEDITERRANEO S.L.   \n",
       "\n",
       "                        nomfamia  nomunida codigbus   fechaent  numkms  \\\n",
       "35805               MANO DE OBRA  UNIDADES     F179 2021-09-23  103346   \n",
       "18887      MATERIAL CAJAS CAMBIO  UNIDADES     B116 2014-02-03  821080   \n",
       "98847         MATERIAL ELECTRICO  UNIDADES     H134 2021-12-10  421000   \n",
       "14767  AIRE ACOND. Y CALEFACCION  UNIDADES     H081 2021-05-21  371132   \n",
       "7341                      VARIOS  UNIDADES     T229 2007-11-09  321091   \n",
       "\n",
       "        fechasal  siniestro                  descripcion  \\\n",
       "35805 2021-09-23          0              CARDYFREN, S.L.   \n",
       "18887 2014-02-03          0      REPUESTOS NICOLAS, S.L.   \n",
       "98847 2021-12-10          0  IRIZAR SOCIEDAD COOPERATIVA   \n",
       "14767 2021-05-24          0  IRIZAR SOCIEDAD COOPERATIVA   \n",
       "7341  2007-11-12          0      VEDAT MEDITERRANEO S.L.   \n",
       "\n",
       "                           cliente  id_vehiculo matricul   fechamat  \\\n",
       "35805              CARDYFREN, S.L.        896.0  8376GCM 2008-04-04   \n",
       "18887      REPUESTOS NICOLAS, S.L.        278.0  6441CGM 2003-04-04   \n",
       "98847  IRIZAR SOCIEDAD COOPERATIVA       1255.0  3284JFK 2015-05-12   \n",
       "14767  IRIZAR SOCIEDAD COOPERATIVA        342.0  6719CRJ 2004-01-16   \n",
       "7341       VEDAT MEDITERRANEO S.L.        201.0  2008CLF 2003-08-01   \n",
       "\n",
       "      matriculacion_planner  edad numempre   nomempre   marca  \\\n",
       "35805            2008-04-04  14.0       95  Fernanbus  SCANIA   \n",
       "18887            2003-04-04  19.0       43      Buñol     MAN   \n",
       "98847            2015-05-12   7.0       44      Herca     MAN   \n",
       "14767            2004-01-16  18.0       44      Herca     MAN   \n",
       "7341             2003-08-01  19.0        2   Transvia    FORD   \n",
       "\n",
       "                modelo    carrocero              tipo   totkilom dns_vehiculo  \n",
       "35805   CITY MAGNUS II    CASTROSUA            Urbano   849776.0    fernanbus  \n",
       "18887          TOURING         NOGE      Discrecional  2223838.0       bunyol  \n",
       "98847  N CENTURY 12.35       IRIZAR  NORMAL 45-62 PAX   454717.0       bunyol  \n",
       "14767               Pb       IRIZAR      Discrecional  2255999.0       bunyol  \n",
       "7341       SIN ASIGNAR  SIN ASIGNAR          MICROBUS   798280.0     transvia  "
      ]
     },
     "execution_count": 105,
     "metadata": {},
     "output_type": "execute_result"
    }
   ],
   "source": [
    "df.sample(5)"
   ]
  },
  {
   "cell_type": "markdown",
   "id": "ef23599b-a6b7-44cb-acc6-5d55c84a288c",
   "metadata": {},
   "source": [
    "## Correlaciones"
   ]
  },
  {
   "cell_type": "code",
   "execution_count": 106,
   "id": "36af4278-4c12-4c79-b434-79ab06f209f2",
   "metadata": {},
   "outputs": [],
   "source": [
    "# from warnings import filterwarnings\n",
    "# filterwarnings(action='ignore', category=DeprecationWarning, message='`np.bool` is a deprecated alias')"
   ]
  },
  {
   "cell_type": "code",
   "execution_count": 107,
   "id": "d7cd59aa-9635-4b8f-aaaf-e5d8c21c4475",
   "metadata": {},
   "outputs": [
    {
     "data": {
      "image/png": "[encoded data removed]",
      "text/plain": [
       "<Figure size 1080x720 with 2 Axes>"
      ]
     },
     "metadata": {},
     "output_type": "display_data"
    }
   ],
   "source": [
    "correlaciones(df)"
   ]
  },
  {
   "cell_type": "code",
   "execution_count": 108,
   "id": "a58b6684-67fd-43bb-9920-4869e63a62ca",
   "metadata": {},
   "outputs": [],
   "source": [
    "# df.drop(df['totkilom']"
   ]
  },
  {
   "cell_type": "code",
   "execution_count": 109,
   "id": "cc2fb1cd-1954-41ae-af5c-333ed2133bfa",
   "metadata": {},
   "outputs": [
    {
     "data": {
      "text/plain": [
       "Index(['anyparte', 'numparte', 'numlinea', 'descrip', 'cantidad', 'precio',\n",
       "       'importe', 'prove mat', 'nomartic', 'fec_alta', 'fecultcom', 'preciouc',\n",
       "       'ctr_stock', 'nomalmac', 'prove art', 'nomfamia', 'nomunida',\n",
       "       'codigbus', 'fechaent', 'numkms', 'fechasal', 'siniestro',\n",
       "       'descripcion', 'cliente', 'id_vehiculo', 'matricul', 'fechamat',\n",
       "       'matriculacion_planner', 'edad', 'numempre', 'nomempre', 'marca',\n",
       "       'modelo', 'carrocero', 'tipo', 'totkilom', 'dns_vehiculo'],\n",
       "      dtype='object')"
      ]
     },
     "execution_count": 109,
     "metadata": {},
     "output_type": "execute_result"
    }
   ],
   "source": [
    "df.columns"
   ]
  },
  {
   "cell_type": "markdown",
   "id": "761a4642-70f9-4660-bb93-937b743afc91",
   "metadata": {
    "tags": []
   },
   "source": [
    "# Graficos"
   ]
  },
  {
   "cell_type": "markdown",
   "id": "764f70be-e332-4a4e-aa3a-aae44bf1b642",
   "metadata": {},
   "source": [
    " correlación entre pares"
   ]
  },
  {
   "cell_type": "code",
   "execution_count": 110,
   "id": "e0ff0a6e-abfc-4398-9d96-796700766791",
   "metadata": {},
   "outputs": [],
   "source": [
    "#sns.pairplot(df,hue='nomfamia')\n",
    "#plt.show()"
   ]
  },
  {
   "cell_type": "markdown",
   "id": "cbd00b14-68d9-4c34-932e-e7f1bfb2989f",
   "metadata": {},
   "source": [
    "Mostramos el número de partes por año"
   ]
  },
  {
   "cell_type": "code",
   "execution_count": 111,
   "id": "4a3e97eb-f7af-47be-960b-69082df1ec47",
   "metadata": {},
   "outputs": [
    {
     "data": {
      "text/plain": [
       "Text(0.5, 0, 'Cantidad de observaciones')"
      ]
     },
     "execution_count": 111,
     "metadata": {},
     "output_type": "execute_result"
    },
    {
     "data": {
      "image/png": "[encoded data removed]",
      "text/plain": [
       "<Figure size 1080x720 with 1 Axes>"
      ]
     },
     "metadata": {},
     "output_type": "display_data"
    }
   ],
   "source": [
    "plt.figure(figsize=(15,10))\n",
    "sns.set(style='darkgrid')\n",
    "\n",
    "sns.countplot(y='anyparte',data=df)\n",
    "\n",
    "plt.xlabel('Cantidad de observaciones') "
   ]
  },
  {
   "cell_type": "code",
   "execution_count": null,
   "id": "fd2e763e-6eab-4dea-96b8-18599fbef86a",
   "metadata": {},
   "outputs": [],
   "source": []
  },
  {
   "cell_type": "code",
   "execution_count": 112,
   "id": "7bc7b291-ecad-4bd6-90e0-2d9fb1ece141",
   "metadata": {},
   "outputs": [
    {
     "data": {
      "text/plain": [
       "nomfamia\n",
       "ACEITES Y LUBRICANTES          18.846649\n",
       "AIRE ACOND. Y CALEFACCION     167.392633\n",
       "ALMACEN COMPROMISOS             8.666974\n",
       "BOMBAS AGUA Y VALVULAS        233.196178\n",
       "CARROCERIA                     82.333851\n",
       "CORREAS                        44.160594\n",
       "CUBIERTAS                      94.693497\n",
       "DIRECCIONES                   189.416908\n",
       "ELEMENTOS MOTOR               166.528559\n",
       "EMBRAGUES                     364.105091\n",
       "FILTROS                        47.933373\n",
       "FRENOS                        102.049272\n",
       "HERRAMIENTAS                   34.385928\n",
       "IMAGEN Y SONIDO               111.717821\n",
       "LATIGUILLO/MANGUITO/CABLE      68.274226\n",
       "LUNAS                        1012.335009\n",
       "MANO DE OBRA                   97.372204\n",
       "MATERIAL CAJAS CAMBIO         177.379579\n",
       "MATERIAL ELECTRICO            111.613424\n",
       "MATERIAL LIMPIEZA              10.102250\n",
       "MATERIAL MECANICOS            222.507190\n",
       "MATERIAL PINTURA               77.974789\n",
       "PRODUCTO                        8.100000\n",
       "PRODUCTOS QUIMICOS             18.863531\n",
       "RESIDUOS                        3.973784\n",
       "RODAMIENTOS                    71.620154\n",
       "SIN ASIGNAR                    67.639535\n",
       "SUSPENSION                    128.148717\n",
       "TORNILLERIA Y VARIOS           11.176021\n",
       "TRANSMISION                   185.827562\n",
       "VARIOS                         61.075825\n",
       "VOITH                         289.233056\n",
       "ZF                             39.728574\n",
       "Name: precio, dtype: float64"
      ]
     },
     "execution_count": 112,
     "metadata": {},
     "output_type": "execute_result"
    }
   ],
   "source": [
    "df1 = df.groupby('nomfamia').precio.mean()\n",
    "df1"
   ]
  },
  {
   "cell_type": "markdown",
   "id": "f95f187b-2a92-4a40-a984-751550c929ee",
   "metadata": {},
   "source": [
    "Mostramos la media de precios por famila de avería"
   ]
  },
  {
   "cell_type": "code",
   "execution_count": 113,
   "id": "8a9855e8-1a09-4f38-b0db-274e61905cdc",
   "metadata": {},
   "outputs": [
    {
     "data": {
      "image/png": "[encoded data removed]",
      "text/plain": [
       "<Figure size 1080x1080 with 1 Axes>"
      ]
     },
     "metadata": {},
     "output_type": "display_data"
    }
   ],
   "source": [
    "plt.figure(figsize=(15,15))\n",
    "sns.set(style='darkgrid')\n",
    "\n",
    "sns.barplot(x='precio',y='nomfamia',data=df)\n",
    "\n",
    "#plt.xlabel('Cantidad de observaciones') \n",
    "plt.show()"
   ]
  },
  {
   "cell_type": "code",
   "execution_count": 114,
   "id": "cc41f8be-4d4e-4975-9e75-621f2b2856e8",
   "metadata": {},
   "outputs": [],
   "source": [
    "df2=df.groupby('siniestro').precio.mean() \n"
   ]
  },
  {
   "cell_type": "markdown",
   "id": "2557fd29-3f30-45dd-8a51-a91c1824d898",
   "metadata": {},
   "source": [
    "\n",
    "media de preciossi es siniestro o no\n",
    "\n"
   ]
  },
  {
   "cell_type": "code",
   "execution_count": 115,
   "id": "9bf15fb3-77bc-4b2d-afe7-872ce16510c5",
   "metadata": {},
   "outputs": [
    {
     "name": "stdout",
     "output_type": "stream",
     "text": [
      "siniestro\n",
      "0    104.697421\n",
      "1    517.028946\n",
      "Name: precio, dtype: float64\n"
     ]
    },
    {
     "data": {
      "image/png": "[encoded data removed]",
      "text/plain": [
       "<Figure size 720x720 with 1 Axes>"
      ]
     },
     "metadata": {},
     "output_type": "display_data"
    }
   ],
   "source": [
    "# Cambiar Grafica de barras\n",
    "colors = sns.color_palette('pastel')[0:5]\n",
    "plt.figure(figsize=(10,10))\n",
    "sin=['No Siniestro','Siniestro']\n",
    "#create pie chart\n",
    "plt.pie(df2,labels=sin, colors = colors)#, autopct='%.0f%%')\n",
    "print(df2)\n",
    "plt.show()"
   ]
  },
  {
   "cell_type": "code",
   "execution_count": 116,
   "id": "4683b6ae-0d22-412f-b79d-08fc3ce4ce57",
   "metadata": {},
   "outputs": [
    {
     "data": {
      "text/plain": [
       "siniestro\n",
       "0    91571\n",
       "1     1824\n",
       "Name: siniestro, dtype: int64"
      ]
     },
     "execution_count": 116,
     "metadata": {},
     "output_type": "execute_result"
    }
   ],
   "source": [
    "df2=df.groupby('siniestro').siniestro.count()\n",
    "df2"
   ]
  },
  {
   "cell_type": "code",
   "execution_count": 117,
   "id": "5e185b46-da71-4a3c-aed4-576727615031",
   "metadata": {},
   "outputs": [
    {
     "name": "stdout",
     "output_type": "stream",
     "text": [
      "siniestro\n",
      "0    91571\n",
      "1     1824\n",
      "Name: siniestro, dtype: int64\n"
     ]
    },
    {
     "data": {
      "image/png": "[encoded data removed]",
      "text/plain": [
       "<Figure size 720x720 with 1 Axes>"
      ]
     },
     "metadata": {},
     "output_type": "display_data"
    }
   ],
   "source": [
    "colors = sns.color_palette('pastel')[0:5]\n",
    "plt.figure(figsize=(10,10))\n",
    "sin=['No Siniestro','Siniestro']\n",
    "#create pie chart\n",
    "plt.pie(df2,labels=sin, colors = colors)#, autopct='%.0f%%')\n",
    "print(df2)\n",
    "plt.show()"
   ]
  },
  {
   "cell_type": "code",
   "execution_count": null,
   "id": "919b7082-b03f-477e-9741-e75a98342437",
   "metadata": {},
   "outputs": [],
   "source": []
  },
  {
   "cell_type": "code",
   "execution_count": 118,
   "id": "5a25d586-49ae-4980-a25a-4a4b539b4347",
   "metadata": {},
   "outputs": [
    {
     "data": {
      "text/plain": [
       "10"
      ]
     },
     "execution_count": 118,
     "metadata": {},
     "output_type": "execute_result"
    }
   ],
   "source": [
    "\n",
    "\n",
    "df4=df.groupby('codigbus')['codigbus'].count()\n",
    "df4=df4.sort_values()\n",
    "filtered = df4[(df4 >= 700)]\n",
    "filtered.count()"
   ]
  },
  {
   "cell_type": "code",
   "execution_count": null,
   "id": "b3f294c8-5203-46b5-a05d-8ced77e38a3c",
   "metadata": {},
   "outputs": [],
   "source": []
  },
  {
   "cell_type": "code",
   "execution_count": 119,
   "id": "e60838e6-8be3-4a74-9f5f-6b4ce5ad2d42",
   "metadata": {},
   "outputs": [
    {
     "data": {
      "text/plain": [
       "['712', '717', '722', '725', '762', '805', '827', '926', '1290', '1356']"
      ]
     },
     "execution_count": 119,
     "metadata": {},
     "output_type": "execute_result"
    }
   ],
   "source": [
    "values= list(map(str,filtered))\n",
    "values\n",
    "#list(map(str, values))"
   ]
  },
  {
   "cell_type": "code",
   "execution_count": 120,
   "id": "d9577820-5d8c-4e37-bd1c-0e232c34af59",
   "metadata": {},
   "outputs": [
    {
     "name": "stdout",
     "output_type": "stream",
     "text": [
      "codigbus\n",
      "A109     712\n",
      "D112     717\n",
      "T251     722\n",
      "E651     725\n",
      "F176     762\n",
      "I707     805\n",
      "T227     827\n",
      "H094     926\n",
      "T241    1290\n",
      "T222    1356\n",
      "Name: codigbus, dtype: int64\n"
     ]
    },
    {
     "data": {
      "image/png": "[encoded data removed]",
      "text/plain": [
       "<Figure size 720x720 with 1 Axes>"
      ]
     },
     "metadata": {},
     "output_type": "display_data"
    }
   ],
   "source": [
    "colors = sns.color_palette('pastel')[0:23]\n",
    "plt.figure(figsize=(10,10))\n",
    "\n",
    "#create pie chart\n",
    "plt.pie(filtered ,labels=filtered .index, colors = colors, autopct='%1.00f%%', pctdistance=0.9) #'%.0f%%')\n",
    "print(filtered )\n",
    "\n",
    "plt.show()"
   ]
  },
  {
   "cell_type": "code",
   "execution_count": 121,
   "id": "57236e65-446f-412b-a954-36a681852004",
   "metadata": {},
   "outputs": [],
   "source": [
    "df3=df.groupby('nomempre').precio.sum()\n",
    "df3=df3.sort_values(ascending=False)"
   ]
  },
  {
   "cell_type": "markdown",
   "id": "b675bda1-68bb-4cc0-b48c-14fbd8181783",
   "metadata": {},
   "source": [
    "Gasto total  repartido por las empresas"
   ]
  },
  {
   "cell_type": "code",
   "execution_count": null,
   "id": "39b68e5a-f8f3-4487-a6e4-c9bf427d0d57",
   "metadata": {},
   "outputs": [],
   "source": []
  },
  {
   "cell_type": "code",
   "execution_count": 122,
   "id": "1f6c931d-fbc5-47ae-998a-883dbd7b2c5a",
   "metadata": {},
   "outputs": [
    {
     "name": "stdout",
     "output_type": "stream",
     "text": [
      "nomempre\n",
      "Fernanbus                1.487171e+06\n",
      "Transvia                 1.468236e+06\n",
      "Buñol                    1.377791e+06\n",
      "Herca                    1.236621e+06\n",
      "La Marina Gandiense      5.838147e+05\n",
      "Viajes Transvia          5.389857e+05\n",
      "La Hispano Chelvana      5.298868e+05\n",
      "La Concepcion            4.871729e+05\n",
      "HOSOJU                   4.764711e+05\n",
      "Autos Diamond            4.475198e+05\n",
      "Transvia Toledo          4.413478e+05\n",
      "Starbus                  3.232026e+05\n",
      "Medtrast                 3.093513e+05\n",
      "La Serranica             2.635219e+05\n",
      "Urbanos de Torrent       2.310004e+05\n",
      "Travicoi                 2.210011e+05\n",
      "Cave Talleres            1.034514e+05\n",
      "Escartin                 1.620000e+03\n",
      "Ambulancias Autónomas    8.535500e+02\n",
      "Magallon                 5.975600e+02\n",
      "Ambulancias Edetanas     3.742500e+02\n",
      "NOC RENTING              1.882100e+02\n",
      "J. Aguilar               1.285300e+02\n",
      "Name: precio, dtype: float64\n",
      "\n",
      "Total = 10530308.355300002\n",
      "\n"
     ]
    },
    {
     "data": {
      "image/png": "[encoded data removed]",
      "text/plain": [
       "<Figure size 720x720 with 1 Axes>"
      ]
     },
     "metadata": {},
     "output_type": "display_data"
    }
   ],
   "source": [
    "colors = sns.color_palette('pastel')[0:23]\n",
    "plt.figure(figsize=(10,10))\n",
    "\n",
    "#create pie chart\n",
    "plt.pie(df3,labels=df3.index, colors = colors, autopct='%.0f%%', pctdistance=0.9)\n",
    "print(df3)\n",
    "print(f'\\nTotal = {df3.sum()}\\n')\n",
    "plt.show()"
   ]
  },
  {
   "cell_type": "markdown",
   "id": "60d052d1-4f49-44bf-b136-a6067a1edca0",
   "metadata": {},
   "source": [
    "Media de los gasto por empresa"
   ]
  },
  {
   "cell_type": "code",
   "execution_count": 123,
   "id": "4dc09800-6fb8-48c6-aa39-aa1d601a57e4",
   "metadata": {},
   "outputs": [
    {
     "data": {
      "image/png": "[encoded data removed]",
      "text/plain": [
       "<Figure size 1080x1080 with 1 Axes>"
      ]
     },
     "metadata": {},
     "output_type": "display_data"
    }
   ],
   "source": [
    "plt.figure(figsize=(15,15))\n",
    "sns.set(style='darkgrid')\n",
    "\n",
    "sns.barplot(x='precio',y='nomempre',data=df)\n",
    "\n",
    "#plt.xlabel('Cantidad de observaciones') \n",
    "plt.show()"
   ]
  },
  {
   "cell_type": "markdown",
   "id": "4a38ae2f-8bc8-452e-8e83-19976897707e",
   "metadata": {},
   "source": [
    "distibución de 'anyparte'"
   ]
  },
  {
   "cell_type": "code",
   "execution_count": 124,
   "id": "37324487-da38-40c9-81f6-6c1519034d0c",
   "metadata": {},
   "outputs": [
    {
     "data": {
      "image/png": "[encoded data removed]",
      "text/plain": [
       "<Figure size 360x360 with 1 Axes>"
      ]
     },
     "metadata": {},
     "output_type": "display_data"
    }
   ],
   "source": [
    "#fig, ax = plt.subplots(figsize=(8, 6))\n",
    "#sns.displot(df['anyparte'], kde=True, bins=40, rug=True)\n",
    "sns.displot(df['anyparte'], kind=\"kde\", bw_adjust=1.5)\n",
    "plt.show()"
   ]
  },
  {
   "cell_type": "markdown",
   "id": "4a9dd0a1-3630-4fe6-9519-9a6fed9664cf",
   "metadata": {},
   "source": [
    " relación entre cantidad  e importe"
   ]
  },
  {
   "cell_type": "code",
   "execution_count": 125,
   "id": "094c5aca-d0a5-4253-a03a-fd84bcd8102a",
   "metadata": {},
   "outputs": [
    {
     "ename": "KeyboardInterrupt",
     "evalue": "",
     "output_type": "error",
     "traceback": [
      "\u001b[1;31m---------------------------------------------------------------------------\u001b[0m",
      "\u001b[1;31mKeyboardInterrupt\u001b[0m                         Traceback (most recent call last)",
      "\u001b[1;32m~\\AppData\\Local\\Temp/ipykernel_13764/192486808.py\u001b[0m in \u001b[0;36m<module>\u001b[1;34m\u001b[0m\n\u001b[0;32m      1\u001b[0m \u001b[0mfig\u001b[0m\u001b[1;33m,\u001b[0m \u001b[0max\u001b[0m \u001b[1;33m=\u001b[0m \u001b[0mplt\u001b[0m\u001b[1;33m.\u001b[0m\u001b[0msubplots\u001b[0m\u001b[1;33m(\u001b[0m\u001b[0mfigsize\u001b[0m\u001b[1;33m=\u001b[0m\u001b[1;33m(\u001b[0m\u001b[1;36m8\u001b[0m\u001b[1;33m,\u001b[0m \u001b[1;36m6\u001b[0m\u001b[1;33m)\u001b[0m\u001b[1;33m)\u001b[0m\u001b[1;33m\u001b[0m\u001b[1;33m\u001b[0m\u001b[0m\n\u001b[1;32m----> 2\u001b[1;33m \u001b[0msns\u001b[0m\u001b[1;33m.\u001b[0m\u001b[0mregplot\u001b[0m\u001b[1;33m(\u001b[0m\u001b[0mx\u001b[0m\u001b[1;33m=\u001b[0m\u001b[1;34m\"cantidad\"\u001b[0m\u001b[1;33m,\u001b[0m \u001b[0my\u001b[0m\u001b[1;33m=\u001b[0m\u001b[1;34m\"importe\"\u001b[0m\u001b[1;33m,\u001b[0m \u001b[0mdata\u001b[0m\u001b[1;33m=\u001b[0m\u001b[0mdf\u001b[0m\u001b[1;33m,\u001b[0m \u001b[0morder\u001b[0m\u001b[1;33m=\u001b[0m\u001b[1;36m4\u001b[0m\u001b[1;33m)\u001b[0m\u001b[1;33m\u001b[0m\u001b[1;33m\u001b[0m\u001b[0m\n\u001b[0m\u001b[0;32m      3\u001b[0m \u001b[1;33m\u001b[0m\u001b[0m\n\u001b[0;32m      4\u001b[0m \u001b[0mplt\u001b[0m\u001b[1;33m.\u001b[0m\u001b[0mshow\u001b[0m\u001b[1;33m(\u001b[0m\u001b[1;33m)\u001b[0m\u001b[1;33m\u001b[0m\u001b[1;33m\u001b[0m\u001b[0m\n",
      "\u001b[1;32m~\\anaconda3\\lib\\site-packages\\seaborn\\_decorators.py\u001b[0m in \u001b[0;36minner_f\u001b[1;34m(*args, **kwargs)\u001b[0m\n\u001b[0;32m     44\u001b[0m             )\n\u001b[0;32m     45\u001b[0m         \u001b[0mkwargs\u001b[0m\u001b[1;33m.\u001b[0m\u001b[0mupdate\u001b[0m\u001b[1;33m(\u001b[0m\u001b[1;33m{\u001b[0m\u001b[0mk\u001b[0m\u001b[1;33m:\u001b[0m \u001b[0marg\u001b[0m \u001b[1;32mfor\u001b[0m \u001b[0mk\u001b[0m\u001b[1;33m,\u001b[0m \u001b[0marg\u001b[0m \u001b[1;32min\u001b[0m \u001b[0mzip\u001b[0m\u001b[1;33m(\u001b[0m\u001b[0msig\u001b[0m\u001b[1;33m.\u001b[0m\u001b[0mparameters\u001b[0m\u001b[1;33m,\u001b[0m \u001b[0margs\u001b[0m\u001b[1;33m)\u001b[0m\u001b[1;33m}\u001b[0m\u001b[1;33m)\u001b[0m\u001b[1;33m\u001b[0m\u001b[1;33m\u001b[0m\u001b[0m\n\u001b[1;32m---> 46\u001b[1;33m         \u001b[1;32mreturn\u001b[0m \u001b[0mf\u001b[0m\u001b[1;33m(\u001b[0m\u001b[1;33m**\u001b[0m\u001b[0mkwargs\u001b[0m\u001b[1;33m)\u001b[0m\u001b[1;33m\u001b[0m\u001b[1;33m\u001b[0m\u001b[0m\n\u001b[0m\u001b[0;32m     47\u001b[0m     \u001b[1;32mreturn\u001b[0m \u001b[0minner_f\u001b[0m\u001b[1;33m\u001b[0m\u001b[1;33m\u001b[0m\u001b[0m\n\u001b[0;32m     48\u001b[0m \u001b[1;33m\u001b[0m\u001b[0m\n",
      "\u001b[1;32m~\\anaconda3\\lib\\site-packages\\seaborn\\regression.py\u001b[0m in \u001b[0;36mregplot\u001b[1;34m(x, y, data, x_estimator, x_bins, x_ci, scatter, fit_reg, ci, n_boot, units, seed, order, logistic, lowess, robust, logx, x_partial, y_partial, truncate, dropna, x_jitter, y_jitter, label, color, marker, scatter_kws, line_kws, ax)\u001b[0m\n\u001b[0;32m    861\u001b[0m     \u001b[0mscatter_kws\u001b[0m\u001b[1;33m[\u001b[0m\u001b[1;34m\"marker\"\u001b[0m\u001b[1;33m]\u001b[0m \u001b[1;33m=\u001b[0m \u001b[0mmarker\u001b[0m\u001b[1;33m\u001b[0m\u001b[1;33m\u001b[0m\u001b[0m\n\u001b[0;32m    862\u001b[0m     \u001b[0mline_kws\u001b[0m \u001b[1;33m=\u001b[0m \u001b[1;33m{\u001b[0m\u001b[1;33m}\u001b[0m \u001b[1;32mif\u001b[0m \u001b[0mline_kws\u001b[0m \u001b[1;32mis\u001b[0m \u001b[1;32mNone\u001b[0m \u001b[1;32melse\u001b[0m \u001b[0mcopy\u001b[0m\u001b[1;33m.\u001b[0m\u001b[0mcopy\u001b[0m\u001b[1;33m(\u001b[0m\u001b[0mline_kws\u001b[0m\u001b[1;33m)\u001b[0m\u001b[1;33m\u001b[0m\u001b[1;33m\u001b[0m\u001b[0m\n\u001b[1;32m--> 863\u001b[1;33m     \u001b[0mplotter\u001b[0m\u001b[1;33m.\u001b[0m\u001b[0mplot\u001b[0m\u001b[1;33m(\u001b[0m\u001b[0max\u001b[0m\u001b[1;33m,\u001b[0m \u001b[0mscatter_kws\u001b[0m\u001b[1;33m,\u001b[0m \u001b[0mline_kws\u001b[0m\u001b[1;33m)\u001b[0m\u001b[1;33m\u001b[0m\u001b[1;33m\u001b[0m\u001b[0m\n\u001b[0m\u001b[0;32m    864\u001b[0m     \u001b[1;32mreturn\u001b[0m \u001b[0max\u001b[0m\u001b[1;33m\u001b[0m\u001b[1;33m\u001b[0m\u001b[0m\n\u001b[0;32m    865\u001b[0m \u001b[1;33m\u001b[0m\u001b[0m\n",
      "\u001b[1;32m~\\anaconda3\\lib\\site-packages\\seaborn\\regression.py\u001b[0m in \u001b[0;36mplot\u001b[1;34m(self, ax, scatter_kws, line_kws)\u001b[0m\n\u001b[0;32m    368\u001b[0m \u001b[1;33m\u001b[0m\u001b[0m\n\u001b[0;32m    369\u001b[0m         \u001b[1;32mif\u001b[0m \u001b[0mself\u001b[0m\u001b[1;33m.\u001b[0m\u001b[0mfit_reg\u001b[0m\u001b[1;33m:\u001b[0m\u001b[1;33m\u001b[0m\u001b[1;33m\u001b[0m\u001b[0m\n\u001b[1;32m--> 370\u001b[1;33m             \u001b[0mself\u001b[0m\u001b[1;33m.\u001b[0m\u001b[0mlineplot\u001b[0m\u001b[1;33m(\u001b[0m\u001b[0max\u001b[0m\u001b[1;33m,\u001b[0m \u001b[0mline_kws\u001b[0m\u001b[1;33m)\u001b[0m\u001b[1;33m\u001b[0m\u001b[1;33m\u001b[0m\u001b[0m\n\u001b[0m\u001b[0;32m    371\u001b[0m \u001b[1;33m\u001b[0m\u001b[0m\n\u001b[0;32m    372\u001b[0m         \u001b[1;31m# Label the axes\u001b[0m\u001b[1;33m\u001b[0m\u001b[1;33m\u001b[0m\u001b[0m\n",
      "\u001b[1;32m~\\anaconda3\\lib\\site-packages\\seaborn\\regression.py\u001b[0m in \u001b[0;36mlineplot\u001b[1;34m(self, ax, kws)\u001b[0m\n\u001b[0;32m    411\u001b[0m         \u001b[1;34m\"\"\"Draw the model.\"\"\"\u001b[0m\u001b[1;33m\u001b[0m\u001b[1;33m\u001b[0m\u001b[0m\n\u001b[0;32m    412\u001b[0m         \u001b[1;31m# Fit the regression model\u001b[0m\u001b[1;33m\u001b[0m\u001b[1;33m\u001b[0m\u001b[0m\n\u001b[1;32m--> 413\u001b[1;33m         \u001b[0mgrid\u001b[0m\u001b[1;33m,\u001b[0m \u001b[0myhat\u001b[0m\u001b[1;33m,\u001b[0m \u001b[0merr_bands\u001b[0m \u001b[1;33m=\u001b[0m \u001b[0mself\u001b[0m\u001b[1;33m.\u001b[0m\u001b[0mfit_regression\u001b[0m\u001b[1;33m(\u001b[0m\u001b[0max\u001b[0m\u001b[1;33m)\u001b[0m\u001b[1;33m\u001b[0m\u001b[1;33m\u001b[0m\u001b[0m\n\u001b[0m\u001b[0;32m    414\u001b[0m         \u001b[0medges\u001b[0m \u001b[1;33m=\u001b[0m \u001b[0mgrid\u001b[0m\u001b[1;33m[\u001b[0m\u001b[1;36m0\u001b[0m\u001b[1;33m]\u001b[0m\u001b[1;33m,\u001b[0m \u001b[0mgrid\u001b[0m\u001b[1;33m[\u001b[0m\u001b[1;33m-\u001b[0m\u001b[1;36m1\u001b[0m\u001b[1;33m]\u001b[0m\u001b[1;33m\u001b[0m\u001b[1;33m\u001b[0m\u001b[0m\n\u001b[0;32m    415\u001b[0m \u001b[1;33m\u001b[0m\u001b[0m\n",
      "\u001b[1;32m~\\anaconda3\\lib\\site-packages\\seaborn\\regression.py\u001b[0m in \u001b[0;36mfit_regression\u001b[1;34m(self, ax, x_range, grid)\u001b[0m\n\u001b[0;32m    204\u001b[0m         \u001b[1;31m# Fit the regression\u001b[0m\u001b[1;33m\u001b[0m\u001b[1;33m\u001b[0m\u001b[0m\n\u001b[0;32m    205\u001b[0m         \u001b[1;32mif\u001b[0m \u001b[0mself\u001b[0m\u001b[1;33m.\u001b[0m\u001b[0morder\u001b[0m \u001b[1;33m>\u001b[0m \u001b[1;36m1\u001b[0m\u001b[1;33m:\u001b[0m\u001b[1;33m\u001b[0m\u001b[1;33m\u001b[0m\u001b[0m\n\u001b[1;32m--> 206\u001b[1;33m             \u001b[0myhat\u001b[0m\u001b[1;33m,\u001b[0m \u001b[0myhat_boots\u001b[0m \u001b[1;33m=\u001b[0m \u001b[0mself\u001b[0m\u001b[1;33m.\u001b[0m\u001b[0mfit_poly\u001b[0m\u001b[1;33m(\u001b[0m\u001b[0mgrid\u001b[0m\u001b[1;33m,\u001b[0m \u001b[0mself\u001b[0m\u001b[1;33m.\u001b[0m\u001b[0morder\u001b[0m\u001b[1;33m)\u001b[0m\u001b[1;33m\u001b[0m\u001b[1;33m\u001b[0m\u001b[0m\n\u001b[0m\u001b[0;32m    207\u001b[0m         \u001b[1;32melif\u001b[0m \u001b[0mself\u001b[0m\u001b[1;33m.\u001b[0m\u001b[0mlogistic\u001b[0m\u001b[1;33m:\u001b[0m\u001b[1;33m\u001b[0m\u001b[1;33m\u001b[0m\u001b[0m\n\u001b[0;32m    208\u001b[0m             \u001b[1;32mfrom\u001b[0m \u001b[0mstatsmodels\u001b[0m\u001b[1;33m.\u001b[0m\u001b[0mgenmod\u001b[0m\u001b[1;33m.\u001b[0m\u001b[0mgeneralized_linear_model\u001b[0m \u001b[1;32mimport\u001b[0m \u001b[0mGLM\u001b[0m\u001b[1;33m\u001b[0m\u001b[1;33m\u001b[0m\u001b[0m\n",
      "\u001b[1;32m~\\anaconda3\\lib\\site-packages\\seaborn\\regression.py\u001b[0m in \u001b[0;36mfit_poly\u001b[1;34m(self, grid, order)\u001b[0m\n\u001b[0;32m    258\u001b[0m             \u001b[1;32mreturn\u001b[0m \u001b[0myhat\u001b[0m\u001b[1;33m,\u001b[0m \u001b[1;32mNone\u001b[0m\u001b[1;33m\u001b[0m\u001b[1;33m\u001b[0m\u001b[0m\n\u001b[0;32m    259\u001b[0m \u001b[1;33m\u001b[0m\u001b[0m\n\u001b[1;32m--> 260\u001b[1;33m         yhat_boots = algo.bootstrap(x, y,\n\u001b[0m\u001b[0;32m    261\u001b[0m                                     \u001b[0mfunc\u001b[0m\u001b[1;33m=\u001b[0m\u001b[0mreg_func\u001b[0m\u001b[1;33m,\u001b[0m\u001b[1;33m\u001b[0m\u001b[1;33m\u001b[0m\u001b[0m\n\u001b[0;32m    262\u001b[0m                                     \u001b[0mn_boot\u001b[0m\u001b[1;33m=\u001b[0m\u001b[0mself\u001b[0m\u001b[1;33m.\u001b[0m\u001b[0mn_boot\u001b[0m\u001b[1;33m,\u001b[0m\u001b[1;33m\u001b[0m\u001b[1;33m\u001b[0m\u001b[0m\n",
      "\u001b[1;32m~\\anaconda3\\lib\\site-packages\\seaborn\\algorithms.py\u001b[0m in \u001b[0;36mbootstrap\u001b[1;34m(*args, **kwargs)\u001b[0m\n\u001b[0;32m     81\u001b[0m     \u001b[0mboot_dist\u001b[0m \u001b[1;33m=\u001b[0m \u001b[1;33m[\u001b[0m\u001b[1;33m]\u001b[0m\u001b[1;33m\u001b[0m\u001b[1;33m\u001b[0m\u001b[0m\n\u001b[0;32m     82\u001b[0m     \u001b[1;32mfor\u001b[0m \u001b[0mi\u001b[0m \u001b[1;32min\u001b[0m \u001b[0mrange\u001b[0m\u001b[1;33m(\u001b[0m\u001b[0mint\u001b[0m\u001b[1;33m(\u001b[0m\u001b[0mn_boot\u001b[0m\u001b[1;33m)\u001b[0m\u001b[1;33m)\u001b[0m\u001b[1;33m:\u001b[0m\u001b[1;33m\u001b[0m\u001b[1;33m\u001b[0m\u001b[0m\n\u001b[1;32m---> 83\u001b[1;33m         \u001b[0mresampler\u001b[0m \u001b[1;33m=\u001b[0m \u001b[0mintegers\u001b[0m\u001b[1;33m(\u001b[0m\u001b[1;36m0\u001b[0m\u001b[1;33m,\u001b[0m \u001b[0mn\u001b[0m\u001b[1;33m,\u001b[0m \u001b[0mn\u001b[0m\u001b[1;33m,\u001b[0m \u001b[0mdtype\u001b[0m\u001b[1;33m=\u001b[0m\u001b[0mnp\u001b[0m\u001b[1;33m.\u001b[0m\u001b[0mintp\u001b[0m\u001b[1;33m)\u001b[0m  \u001b[1;31m# intp is indexing dtype\u001b[0m\u001b[1;33m\u001b[0m\u001b[1;33m\u001b[0m\u001b[0m\n\u001b[0m\u001b[0;32m     84\u001b[0m         \u001b[0msample\u001b[0m \u001b[1;33m=\u001b[0m \u001b[1;33m[\u001b[0m\u001b[0ma\u001b[0m\u001b[1;33m.\u001b[0m\u001b[0mtake\u001b[0m\u001b[1;33m(\u001b[0m\u001b[0mresampler\u001b[0m\u001b[1;33m,\u001b[0m \u001b[0maxis\u001b[0m\u001b[1;33m=\u001b[0m\u001b[1;36m0\u001b[0m\u001b[1;33m)\u001b[0m \u001b[1;32mfor\u001b[0m \u001b[0ma\u001b[0m \u001b[1;32min\u001b[0m \u001b[0margs\u001b[0m\u001b[1;33m]\u001b[0m\u001b[1;33m\u001b[0m\u001b[1;33m\u001b[0m\u001b[0m\n\u001b[0;32m     85\u001b[0m         \u001b[0mboot_dist\u001b[0m\u001b[1;33m.\u001b[0m\u001b[0mappend\u001b[0m\u001b[1;33m(\u001b[0m\u001b[0mf\u001b[0m\u001b[1;33m(\u001b[0m\u001b[1;33m*\u001b[0m\u001b[0msample\u001b[0m\u001b[1;33m,\u001b[0m \u001b[1;33m**\u001b[0m\u001b[0mfunc_kwargs\u001b[0m\u001b[1;33m)\u001b[0m\u001b[1;33m)\u001b[0m\u001b[1;33m\u001b[0m\u001b[1;33m\u001b[0m\u001b[0m\n",
      "\u001b[1;31mKeyboardInterrupt\u001b[0m: "
     ]
    },
    {
     "name": "stdout",
     "output_type": "stream",
     "text": [
      "Error in callback <function flush_figures at 0x0000022C615488B0> (for post_execute):\n"
     ]
    },
    {
     "ename": "KeyboardInterrupt",
     "evalue": "",
     "output_type": "error",
     "traceback": [
      "\u001b[1;31m---------------------------------------------------------------------------\u001b[0m",
      "\u001b[1;31mKeyboardInterrupt\u001b[0m                         Traceback (most recent call last)",
      "\u001b[1;32m~\\anaconda3\\lib\\site-packages\\matplotlib_inline\\backend_inline.py\u001b[0m in \u001b[0;36mflush_figures\u001b[1;34m()\u001b[0m\n\u001b[0;32m    119\u001b[0m         \u001b[1;31m# ignore the tracking, just draw and close all figures\u001b[0m\u001b[1;33m\u001b[0m\u001b[1;33m\u001b[0m\u001b[0m\n\u001b[0;32m    120\u001b[0m         \u001b[1;32mtry\u001b[0m\u001b[1;33m:\u001b[0m\u001b[1;33m\u001b[0m\u001b[1;33m\u001b[0m\u001b[0m\n\u001b[1;32m--> 121\u001b[1;33m             \u001b[1;32mreturn\u001b[0m \u001b[0mshow\u001b[0m\u001b[1;33m(\u001b[0m\u001b[1;32mTrue\u001b[0m\u001b[1;33m)\u001b[0m\u001b[1;33m\u001b[0m\u001b[1;33m\u001b[0m\u001b[0m\n\u001b[0m\u001b[0;32m    122\u001b[0m         \u001b[1;32mexcept\u001b[0m \u001b[0mException\u001b[0m \u001b[1;32mas\u001b[0m \u001b[0me\u001b[0m\u001b[1;33m:\u001b[0m\u001b[1;33m\u001b[0m\u001b[1;33m\u001b[0m\u001b[0m\n\u001b[0;32m    123\u001b[0m             \u001b[1;31m# safely show traceback if in IPython, else raise\u001b[0m\u001b[1;33m\u001b[0m\u001b[1;33m\u001b[0m\u001b[0m\n",
      "\u001b[1;32m~\\anaconda3\\lib\\site-packages\\matplotlib_inline\\backend_inline.py\u001b[0m in \u001b[0;36mshow\u001b[1;34m(close, block)\u001b[0m\n\u001b[0;32m     39\u001b[0m     \u001b[1;32mtry\u001b[0m\u001b[1;33m:\u001b[0m\u001b[1;33m\u001b[0m\u001b[1;33m\u001b[0m\u001b[0m\n\u001b[0;32m     40\u001b[0m         \u001b[1;32mfor\u001b[0m \u001b[0mfigure_manager\u001b[0m \u001b[1;32min\u001b[0m \u001b[0mGcf\u001b[0m\u001b[1;33m.\u001b[0m\u001b[0mget_all_fig_managers\u001b[0m\u001b[1;33m(\u001b[0m\u001b[1;33m)\u001b[0m\u001b[1;33m:\u001b[0m\u001b[1;33m\u001b[0m\u001b[1;33m\u001b[0m\u001b[0m\n\u001b[1;32m---> 41\u001b[1;33m             display(\n\u001b[0m\u001b[0;32m     42\u001b[0m                 \u001b[0mfigure_manager\u001b[0m\u001b[1;33m.\u001b[0m\u001b[0mcanvas\u001b[0m\u001b[1;33m.\u001b[0m\u001b[0mfigure\u001b[0m\u001b[1;33m,\u001b[0m\u001b[1;33m\u001b[0m\u001b[1;33m\u001b[0m\u001b[0m\n\u001b[0;32m     43\u001b[0m                 \u001b[0mmetadata\u001b[0m\u001b[1;33m=\u001b[0m\u001b[0m_fetch_figure_metadata\u001b[0m\u001b[1;33m(\u001b[0m\u001b[0mfigure_manager\u001b[0m\u001b[1;33m.\u001b[0m\u001b[0mcanvas\u001b[0m\u001b[1;33m.\u001b[0m\u001b[0mfigure\u001b[0m\u001b[1;33m)\u001b[0m\u001b[1;33m\u001b[0m\u001b[1;33m\u001b[0m\u001b[0m\n",
      "\u001b[1;32m~\\anaconda3\\lib\\site-packages\\IPython\\core\\display.py\u001b[0m in \u001b[0;36mdisplay\u001b[1;34m(include, exclude, metadata, transient, display_id, *objs, **kwargs)\u001b[0m\n\u001b[0;32m    318\u001b[0m             \u001b[0mpublish_display_data\u001b[0m\u001b[1;33m(\u001b[0m\u001b[0mdata\u001b[0m\u001b[1;33m=\u001b[0m\u001b[0mobj\u001b[0m\u001b[1;33m,\u001b[0m \u001b[0mmetadata\u001b[0m\u001b[1;33m=\u001b[0m\u001b[0mmetadata\u001b[0m\u001b[1;33m,\u001b[0m \u001b[1;33m**\u001b[0m\u001b[0mkwargs\u001b[0m\u001b[1;33m)\u001b[0m\u001b[1;33m\u001b[0m\u001b[1;33m\u001b[0m\u001b[0m\n\u001b[0;32m    319\u001b[0m         \u001b[1;32melse\u001b[0m\u001b[1;33m:\u001b[0m\u001b[1;33m\u001b[0m\u001b[1;33m\u001b[0m\u001b[0m\n\u001b[1;32m--> 320\u001b[1;33m             \u001b[0mformat_dict\u001b[0m\u001b[1;33m,\u001b[0m \u001b[0mmd_dict\u001b[0m \u001b[1;33m=\u001b[0m \u001b[0mformat\u001b[0m\u001b[1;33m(\u001b[0m\u001b[0mobj\u001b[0m\u001b[1;33m,\u001b[0m \u001b[0minclude\u001b[0m\u001b[1;33m=\u001b[0m\u001b[0minclude\u001b[0m\u001b[1;33m,\u001b[0m \u001b[0mexclude\u001b[0m\u001b[1;33m=\u001b[0m\u001b[0mexclude\u001b[0m\u001b[1;33m)\u001b[0m\u001b[1;33m\u001b[0m\u001b[1;33m\u001b[0m\u001b[0m\n\u001b[0m\u001b[0;32m    321\u001b[0m             \u001b[1;32mif\u001b[0m \u001b[1;32mnot\u001b[0m \u001b[0mformat_dict\u001b[0m\u001b[1;33m:\u001b[0m\u001b[1;33m\u001b[0m\u001b[1;33m\u001b[0m\u001b[0m\n\u001b[0;32m    322\u001b[0m                 \u001b[1;31m# nothing to display (e.g. _ipython_display_ took over)\u001b[0m\u001b[1;33m\u001b[0m\u001b[1;33m\u001b[0m\u001b[0m\n",
      "\u001b[1;32m~\\anaconda3\\lib\\site-packages\\IPython\\core\\formatters.py\u001b[0m in \u001b[0;36mformat\u001b[1;34m(self, obj, include, exclude)\u001b[0m\n\u001b[0;32m    178\u001b[0m             \u001b[0mmd\u001b[0m \u001b[1;33m=\u001b[0m \u001b[1;32mNone\u001b[0m\u001b[1;33m\u001b[0m\u001b[1;33m\u001b[0m\u001b[0m\n\u001b[0;32m    179\u001b[0m             \u001b[1;32mtry\u001b[0m\u001b[1;33m:\u001b[0m\u001b[1;33m\u001b[0m\u001b[1;33m\u001b[0m\u001b[0m\n\u001b[1;32m--> 180\u001b[1;33m                 \u001b[0mdata\u001b[0m \u001b[1;33m=\u001b[0m \u001b[0mformatter\u001b[0m\u001b[1;33m(\u001b[0m\u001b[0mobj\u001b[0m\u001b[1;33m)\u001b[0m\u001b[1;33m\u001b[0m\u001b[1;33m\u001b[0m\u001b[0m\n\u001b[0m\u001b[0;32m    181\u001b[0m             \u001b[1;32mexcept\u001b[0m\u001b[1;33m:\u001b[0m\u001b[1;33m\u001b[0m\u001b[1;33m\u001b[0m\u001b[0m\n\u001b[0;32m    182\u001b[0m                 \u001b[1;31m# FIXME: log the exception\u001b[0m\u001b[1;33m\u001b[0m\u001b[1;33m\u001b[0m\u001b[0m\n",
      "\u001b[1;32m~\\anaconda3\\lib\\site-packages\\decorator.py\u001b[0m in \u001b[0;36mfun\u001b[1;34m(*args, **kw)\u001b[0m\n\u001b[0;32m    230\u001b[0m             \u001b[1;32mif\u001b[0m \u001b[1;32mnot\u001b[0m \u001b[0mkwsyntax\u001b[0m\u001b[1;33m:\u001b[0m\u001b[1;33m\u001b[0m\u001b[1;33m\u001b[0m\u001b[0m\n\u001b[0;32m    231\u001b[0m                 \u001b[0margs\u001b[0m\u001b[1;33m,\u001b[0m \u001b[0mkw\u001b[0m \u001b[1;33m=\u001b[0m \u001b[0mfix\u001b[0m\u001b[1;33m(\u001b[0m\u001b[0margs\u001b[0m\u001b[1;33m,\u001b[0m \u001b[0mkw\u001b[0m\u001b[1;33m,\u001b[0m \u001b[0msig\u001b[0m\u001b[1;33m)\u001b[0m\u001b[1;33m\u001b[0m\u001b[1;33m\u001b[0m\u001b[0m\n\u001b[1;32m--> 232\u001b[1;33m             \u001b[1;32mreturn\u001b[0m \u001b[0mcaller\u001b[0m\u001b[1;33m(\u001b[0m\u001b[0mfunc\u001b[0m\u001b[1;33m,\u001b[0m \u001b[1;33m*\u001b[0m\u001b[1;33m(\u001b[0m\u001b[0mextras\u001b[0m \u001b[1;33m+\u001b[0m \u001b[0margs\u001b[0m\u001b[1;33m)\u001b[0m\u001b[1;33m,\u001b[0m \u001b[1;33m**\u001b[0m\u001b[0mkw\u001b[0m\u001b[1;33m)\u001b[0m\u001b[1;33m\u001b[0m\u001b[1;33m\u001b[0m\u001b[0m\n\u001b[0m\u001b[0;32m    233\u001b[0m     \u001b[0mfun\u001b[0m\u001b[1;33m.\u001b[0m\u001b[0m__name__\u001b[0m \u001b[1;33m=\u001b[0m \u001b[0mfunc\u001b[0m\u001b[1;33m.\u001b[0m\u001b[0m__name__\u001b[0m\u001b[1;33m\u001b[0m\u001b[1;33m\u001b[0m\u001b[0m\n\u001b[0;32m    234\u001b[0m     \u001b[0mfun\u001b[0m\u001b[1;33m.\u001b[0m\u001b[0m__doc__\u001b[0m \u001b[1;33m=\u001b[0m \u001b[0mfunc\u001b[0m\u001b[1;33m.\u001b[0m\u001b[0m__doc__\u001b[0m\u001b[1;33m\u001b[0m\u001b[1;33m\u001b[0m\u001b[0m\n",
      "\u001b[1;32m~\\anaconda3\\lib\\site-packages\\IPython\\core\\formatters.py\u001b[0m in \u001b[0;36mcatch_format_error\u001b[1;34m(method, self, *args, **kwargs)\u001b[0m\n\u001b[0;32m    222\u001b[0m     \u001b[1;34m\"\"\"show traceback on failed format call\"\"\"\u001b[0m\u001b[1;33m\u001b[0m\u001b[1;33m\u001b[0m\u001b[0m\n\u001b[0;32m    223\u001b[0m     \u001b[1;32mtry\u001b[0m\u001b[1;33m:\u001b[0m\u001b[1;33m\u001b[0m\u001b[1;33m\u001b[0m\u001b[0m\n\u001b[1;32m--> 224\u001b[1;33m         \u001b[0mr\u001b[0m \u001b[1;33m=\u001b[0m \u001b[0mmethod\u001b[0m\u001b[1;33m(\u001b[0m\u001b[0mself\u001b[0m\u001b[1;33m,\u001b[0m \u001b[1;33m*\u001b[0m\u001b[0margs\u001b[0m\u001b[1;33m,\u001b[0m \u001b[1;33m**\u001b[0m\u001b[0mkwargs\u001b[0m\u001b[1;33m)\u001b[0m\u001b[1;33m\u001b[0m\u001b[1;33m\u001b[0m\u001b[0m\n\u001b[0m\u001b[0;32m    225\u001b[0m     \u001b[1;32mexcept\u001b[0m \u001b[0mNotImplementedError\u001b[0m\u001b[1;33m:\u001b[0m\u001b[1;33m\u001b[0m\u001b[1;33m\u001b[0m\u001b[0m\n\u001b[0;32m    226\u001b[0m         \u001b[1;31m# don't warn on NotImplementedErrors\u001b[0m\u001b[1;33m\u001b[0m\u001b[1;33m\u001b[0m\u001b[0m\n",
      "\u001b[1;32m~\\anaconda3\\lib\\site-packages\\IPython\\core\\formatters.py\u001b[0m in \u001b[0;36m__call__\u001b[1;34m(self, obj)\u001b[0m\n\u001b[0;32m    339\u001b[0m                 \u001b[1;32mpass\u001b[0m\u001b[1;33m\u001b[0m\u001b[1;33m\u001b[0m\u001b[0m\n\u001b[0;32m    340\u001b[0m             \u001b[1;32melse\u001b[0m\u001b[1;33m:\u001b[0m\u001b[1;33m\u001b[0m\u001b[1;33m\u001b[0m\u001b[0m\n\u001b[1;32m--> 341\u001b[1;33m                 \u001b[1;32mreturn\u001b[0m \u001b[0mprinter\u001b[0m\u001b[1;33m(\u001b[0m\u001b[0mobj\u001b[0m\u001b[1;33m)\u001b[0m\u001b[1;33m\u001b[0m\u001b[1;33m\u001b[0m\u001b[0m\n\u001b[0m\u001b[0;32m    342\u001b[0m             \u001b[1;31m# Finally look for special method names\u001b[0m\u001b[1;33m\u001b[0m\u001b[1;33m\u001b[0m\u001b[0m\n\u001b[0;32m    343\u001b[0m             \u001b[0mmethod\u001b[0m \u001b[1;33m=\u001b[0m \u001b[0mget_real_method\u001b[0m\u001b[1;33m(\u001b[0m\u001b[0mobj\u001b[0m\u001b[1;33m,\u001b[0m \u001b[0mself\u001b[0m\u001b[1;33m.\u001b[0m\u001b[0mprint_method\u001b[0m\u001b[1;33m)\u001b[0m\u001b[1;33m\u001b[0m\u001b[1;33m\u001b[0m\u001b[0m\n",
      "\u001b[1;32m~\\anaconda3\\lib\\site-packages\\IPython\\core\\pylabtools.py\u001b[0m in \u001b[0;36mprint_figure\u001b[1;34m(fig, fmt, bbox_inches, base64, **kwargs)\u001b[0m\n\u001b[0;32m    149\u001b[0m         \u001b[0mFigureCanvasBase\u001b[0m\u001b[1;33m(\u001b[0m\u001b[0mfig\u001b[0m\u001b[1;33m)\u001b[0m\u001b[1;33m\u001b[0m\u001b[1;33m\u001b[0m\u001b[0m\n\u001b[0;32m    150\u001b[0m \u001b[1;33m\u001b[0m\u001b[0m\n\u001b[1;32m--> 151\u001b[1;33m     \u001b[0mfig\u001b[0m\u001b[1;33m.\u001b[0m\u001b[0mcanvas\u001b[0m\u001b[1;33m.\u001b[0m\u001b[0mprint_figure\u001b[0m\u001b[1;33m(\u001b[0m\u001b[0mbytes_io\u001b[0m\u001b[1;33m,\u001b[0m \u001b[1;33m**\u001b[0m\u001b[0mkw\u001b[0m\u001b[1;33m)\u001b[0m\u001b[1;33m\u001b[0m\u001b[1;33m\u001b[0m\u001b[0m\n\u001b[0m\u001b[0;32m    152\u001b[0m     \u001b[0mdata\u001b[0m \u001b[1;33m=\u001b[0m \u001b[0mbytes_io\u001b[0m\u001b[1;33m.\u001b[0m\u001b[0mgetvalue\u001b[0m\u001b[1;33m(\u001b[0m\u001b[1;33m)\u001b[0m\u001b[1;33m\u001b[0m\u001b[1;33m\u001b[0m\u001b[0m\n\u001b[0;32m    153\u001b[0m     \u001b[1;32mif\u001b[0m \u001b[0mfmt\u001b[0m \u001b[1;33m==\u001b[0m \u001b[1;34m'svg'\u001b[0m\u001b[1;33m:\u001b[0m\u001b[1;33m\u001b[0m\u001b[1;33m\u001b[0m\u001b[0m\n",
      "\u001b[1;32m~\\anaconda3\\lib\\site-packages\\matplotlib\\backend_bases.py\u001b[0m in \u001b[0;36mprint_figure\u001b[1;34m(self, filename, dpi, facecolor, edgecolor, orientation, format, bbox_inches, pad_inches, bbox_extra_artists, backend, **kwargs)\u001b[0m\n\u001b[0;32m   2232\u001b[0m             \u001b[1;32mif\u001b[0m \u001b[0mbbox_inches\u001b[0m\u001b[1;33m:\u001b[0m\u001b[1;33m\u001b[0m\u001b[1;33m\u001b[0m\u001b[0m\n\u001b[0;32m   2233\u001b[0m                 \u001b[1;32mif\u001b[0m \u001b[0mbbox_inches\u001b[0m \u001b[1;33m==\u001b[0m \u001b[1;34m\"tight\"\u001b[0m\u001b[1;33m:\u001b[0m\u001b[1;33m\u001b[0m\u001b[1;33m\u001b[0m\u001b[0m\n\u001b[1;32m-> 2234\u001b[1;33m                     bbox_inches = self.figure.get_tightbbox(\n\u001b[0m\u001b[0;32m   2235\u001b[0m                         renderer, bbox_extra_artists=bbox_extra_artists)\n\u001b[0;32m   2236\u001b[0m                     \u001b[1;32mif\u001b[0m \u001b[0mpad_inches\u001b[0m \u001b[1;32mis\u001b[0m \u001b[1;32mNone\u001b[0m\u001b[1;33m:\u001b[0m\u001b[1;33m\u001b[0m\u001b[1;33m\u001b[0m\u001b[0m\n",
      "\u001b[1;32m~\\anaconda3\\lib\\site-packages\\matplotlib\\figure.py\u001b[0m in \u001b[0;36mget_tightbbox\u001b[1;34m(self, renderer, bbox_extra_artists)\u001b[0m\n\u001b[0;32m   1637\u001b[0m \u001b[1;33m\u001b[0m\u001b[0m\n\u001b[0;32m   1638\u001b[0m         \u001b[1;32mfor\u001b[0m \u001b[0ma\u001b[0m \u001b[1;32min\u001b[0m \u001b[0martists\u001b[0m\u001b[1;33m:\u001b[0m\u001b[1;33m\u001b[0m\u001b[1;33m\u001b[0m\u001b[0m\n\u001b[1;32m-> 1639\u001b[1;33m             \u001b[0mbbox\u001b[0m \u001b[1;33m=\u001b[0m \u001b[0ma\u001b[0m\u001b[1;33m.\u001b[0m\u001b[0mget_tightbbox\u001b[0m\u001b[1;33m(\u001b[0m\u001b[0mrenderer\u001b[0m\u001b[1;33m)\u001b[0m\u001b[1;33m\u001b[0m\u001b[1;33m\u001b[0m\u001b[0m\n\u001b[0m\u001b[0;32m   1640\u001b[0m             \u001b[1;32mif\u001b[0m \u001b[0mbbox\u001b[0m \u001b[1;32mis\u001b[0m \u001b[1;32mnot\u001b[0m \u001b[1;32mNone\u001b[0m \u001b[1;32mand\u001b[0m \u001b[1;33m(\u001b[0m\u001b[0mbbox\u001b[0m\u001b[1;33m.\u001b[0m\u001b[0mwidth\u001b[0m \u001b[1;33m!=\u001b[0m \u001b[1;36m0\u001b[0m \u001b[1;32mor\u001b[0m \u001b[0mbbox\u001b[0m\u001b[1;33m.\u001b[0m\u001b[0mheight\u001b[0m \u001b[1;33m!=\u001b[0m \u001b[1;36m0\u001b[0m\u001b[1;33m)\u001b[0m\u001b[1;33m:\u001b[0m\u001b[1;33m\u001b[0m\u001b[1;33m\u001b[0m\u001b[0m\n\u001b[0;32m   1641\u001b[0m                 \u001b[0mbb\u001b[0m\u001b[1;33m.\u001b[0m\u001b[0mappend\u001b[0m\u001b[1;33m(\u001b[0m\u001b[0mbbox\u001b[0m\u001b[1;33m)\u001b[0m\u001b[1;33m\u001b[0m\u001b[1;33m\u001b[0m\u001b[0m\n",
      "\u001b[1;32m~\\anaconda3\\lib\\site-packages\\matplotlib\\axes\\_base.py\u001b[0m in \u001b[0;36mget_tightbbox\u001b[1;34m(self, renderer, call_axes_locator, bbox_extra_artists, for_layout_only)\u001b[0m\n\u001b[0;32m   4444\u001b[0m                 \u001b[1;32mif\u001b[0m \u001b[0mbb_yaxis\u001b[0m\u001b[1;33m:\u001b[0m\u001b[1;33m\u001b[0m\u001b[1;33m\u001b[0m\u001b[0m\n\u001b[0;32m   4445\u001b[0m                     \u001b[0mbb\u001b[0m\u001b[1;33m.\u001b[0m\u001b[0mappend\u001b[0m\u001b[1;33m(\u001b[0m\u001b[0mbb_yaxis\u001b[0m\u001b[1;33m)\u001b[0m\u001b[1;33m\u001b[0m\u001b[1;33m\u001b[0m\u001b[0m\n\u001b[1;32m-> 4446\u001b[1;33m         \u001b[0mself\u001b[0m\u001b[1;33m.\u001b[0m\u001b[0m_update_title_position\u001b[0m\u001b[1;33m(\u001b[0m\u001b[0mrenderer\u001b[0m\u001b[1;33m)\u001b[0m\u001b[1;33m\u001b[0m\u001b[1;33m\u001b[0m\u001b[0m\n\u001b[0m\u001b[0;32m   4447\u001b[0m         \u001b[0maxbbox\u001b[0m \u001b[1;33m=\u001b[0m \u001b[0mself\u001b[0m\u001b[1;33m.\u001b[0m\u001b[0mget_window_extent\u001b[0m\u001b[1;33m(\u001b[0m\u001b[0mrenderer\u001b[0m\u001b[1;33m)\u001b[0m\u001b[1;33m\u001b[0m\u001b[1;33m\u001b[0m\u001b[0m\n\u001b[0;32m   4448\u001b[0m         \u001b[0mbb\u001b[0m\u001b[1;33m.\u001b[0m\u001b[0mappend\u001b[0m\u001b[1;33m(\u001b[0m\u001b[0maxbbox\u001b[0m\u001b[1;33m)\u001b[0m\u001b[1;33m\u001b[0m\u001b[1;33m\u001b[0m\u001b[0m\n",
      "\u001b[1;32m~\\anaconda3\\lib\\site-packages\\matplotlib\\axes\\_base.py\u001b[0m in \u001b[0;36m_update_title_position\u001b[1;34m(self, renderer)\u001b[0m\n\u001b[0;32m   2810\u001b[0m                 if (ax.xaxis.get_ticks_position() in ['top', 'unknown']\n\u001b[0;32m   2811\u001b[0m                         or ax.xaxis.get_label_position() == 'top'):\n\u001b[1;32m-> 2812\u001b[1;33m                     \u001b[0mbb\u001b[0m \u001b[1;33m=\u001b[0m \u001b[0max\u001b[0m\u001b[1;33m.\u001b[0m\u001b[0mxaxis\u001b[0m\u001b[1;33m.\u001b[0m\u001b[0mget_tightbbox\u001b[0m\u001b[1;33m(\u001b[0m\u001b[0mrenderer\u001b[0m\u001b[1;33m)\u001b[0m\u001b[1;33m\u001b[0m\u001b[1;33m\u001b[0m\u001b[0m\n\u001b[0m\u001b[0;32m   2813\u001b[0m                 \u001b[1;32melse\u001b[0m\u001b[1;33m:\u001b[0m\u001b[1;33m\u001b[0m\u001b[1;33m\u001b[0m\u001b[0m\n\u001b[0;32m   2814\u001b[0m                     \u001b[0mbb\u001b[0m \u001b[1;33m=\u001b[0m \u001b[0max\u001b[0m\u001b[1;33m.\u001b[0m\u001b[0mget_window_extent\u001b[0m\u001b[1;33m(\u001b[0m\u001b[0mrenderer\u001b[0m\u001b[1;33m)\u001b[0m\u001b[1;33m\u001b[0m\u001b[1;33m\u001b[0m\u001b[0m\n",
      "\u001b[1;32m~\\anaconda3\\lib\\site-packages\\matplotlib\\axis.py\u001b[0m in \u001b[0;36mget_tightbbox\u001b[1;34m(self, renderer, for_layout_only)\u001b[0m\n\u001b[0;32m   1084\u001b[0m             \u001b[1;32mreturn\u001b[0m\u001b[1;33m\u001b[0m\u001b[1;33m\u001b[0m\u001b[0m\n\u001b[0;32m   1085\u001b[0m \u001b[1;33m\u001b[0m\u001b[0m\n\u001b[1;32m-> 1086\u001b[1;33m         \u001b[0mticks_to_draw\u001b[0m \u001b[1;33m=\u001b[0m \u001b[0mself\u001b[0m\u001b[1;33m.\u001b[0m\u001b[0m_update_ticks\u001b[0m\u001b[1;33m(\u001b[0m\u001b[1;33m)\u001b[0m\u001b[1;33m\u001b[0m\u001b[1;33m\u001b[0m\u001b[0m\n\u001b[0m\u001b[0;32m   1087\u001b[0m \u001b[1;33m\u001b[0m\u001b[0m\n\u001b[0;32m   1088\u001b[0m         \u001b[0mself\u001b[0m\u001b[1;33m.\u001b[0m\u001b[0m_update_label_position\u001b[0m\u001b[1;33m(\u001b[0m\u001b[0mrenderer\u001b[0m\u001b[1;33m)\u001b[0m\u001b[1;33m\u001b[0m\u001b[1;33m\u001b[0m\u001b[0m\n",
      "\u001b[1;32m~\\anaconda3\\lib\\site-packages\\matplotlib\\axis.py\u001b[0m in \u001b[0;36m_update_ticks\u001b[1;34m(self)\u001b[0m\n\u001b[0;32m   1026\u001b[0m         \u001b[0mthe\u001b[0m \u001b[0maxes\u001b[0m\u001b[1;33m.\u001b[0m  \u001b[0mReturn\u001b[0m \u001b[0mthe\u001b[0m \u001b[0mlist\u001b[0m \u001b[0mof\u001b[0m \u001b[0mticks\u001b[0m \u001b[0mthat\u001b[0m \u001b[0mwill\u001b[0m \u001b[0mbe\u001b[0m \u001b[0mdrawn\u001b[0m\u001b[1;33m.\u001b[0m\u001b[1;33m\u001b[0m\u001b[1;33m\u001b[0m\u001b[0m\n\u001b[0;32m   1027\u001b[0m         \"\"\"\n\u001b[1;32m-> 1028\u001b[1;33m         \u001b[0mmajor_locs\u001b[0m \u001b[1;33m=\u001b[0m \u001b[0mself\u001b[0m\u001b[1;33m.\u001b[0m\u001b[0mget_majorticklocs\u001b[0m\u001b[1;33m(\u001b[0m\u001b[1;33m)\u001b[0m\u001b[1;33m\u001b[0m\u001b[1;33m\u001b[0m\u001b[0m\n\u001b[0m\u001b[0;32m   1029\u001b[0m         \u001b[0mmajor_labels\u001b[0m \u001b[1;33m=\u001b[0m \u001b[0mself\u001b[0m\u001b[1;33m.\u001b[0m\u001b[0mmajor\u001b[0m\u001b[1;33m.\u001b[0m\u001b[0mformatter\u001b[0m\u001b[1;33m.\u001b[0m\u001b[0mformat_ticks\u001b[0m\u001b[1;33m(\u001b[0m\u001b[0mmajor_locs\u001b[0m\u001b[1;33m)\u001b[0m\u001b[1;33m\u001b[0m\u001b[1;33m\u001b[0m\u001b[0m\n\u001b[0;32m   1030\u001b[0m         \u001b[0mmajor_ticks\u001b[0m \u001b[1;33m=\u001b[0m \u001b[0mself\u001b[0m\u001b[1;33m.\u001b[0m\u001b[0mget_major_ticks\u001b[0m\u001b[1;33m(\u001b[0m\u001b[0mlen\u001b[0m\u001b[1;33m(\u001b[0m\u001b[0mmajor_locs\u001b[0m\u001b[1;33m)\u001b[0m\u001b[1;33m)\u001b[0m\u001b[1;33m\u001b[0m\u001b[1;33m\u001b[0m\u001b[0m\n",
      "\u001b[1;32m~\\anaconda3\\lib\\site-packages\\matplotlib\\axis.py\u001b[0m in \u001b[0;36mget_majorticklocs\u001b[1;34m(self)\u001b[0m\n\u001b[0;32m   1258\u001b[0m     \u001b[1;32mdef\u001b[0m \u001b[0mget_majorticklocs\u001b[0m\u001b[1;33m(\u001b[0m\u001b[0mself\u001b[0m\u001b[1;33m)\u001b[0m\u001b[1;33m:\u001b[0m\u001b[1;33m\u001b[0m\u001b[1;33m\u001b[0m\u001b[0m\n\u001b[0;32m   1259\u001b[0m         \u001b[1;34m\"\"\"Return this Axis' major tick locations in data coordinates.\"\"\"\u001b[0m\u001b[1;33m\u001b[0m\u001b[1;33m\u001b[0m\u001b[0m\n\u001b[1;32m-> 1260\u001b[1;33m         \u001b[1;32mreturn\u001b[0m \u001b[0mself\u001b[0m\u001b[1;33m.\u001b[0m\u001b[0mmajor\u001b[0m\u001b[1;33m.\u001b[0m\u001b[0mlocator\u001b[0m\u001b[1;33m(\u001b[0m\u001b[1;33m)\u001b[0m\u001b[1;33m\u001b[0m\u001b[1;33m\u001b[0m\u001b[0m\n\u001b[0m\u001b[0;32m   1261\u001b[0m \u001b[1;33m\u001b[0m\u001b[0m\n\u001b[0;32m   1262\u001b[0m     \u001b[1;32mdef\u001b[0m \u001b[0mget_minorticklocs\u001b[0m\u001b[1;33m(\u001b[0m\u001b[0mself\u001b[0m\u001b[1;33m)\u001b[0m\u001b[1;33m:\u001b[0m\u001b[1;33m\u001b[0m\u001b[1;33m\u001b[0m\u001b[0m\n",
      "\u001b[1;32m~\\anaconda3\\lib\\site-packages\\matplotlib\\ticker.py\u001b[0m in \u001b[0;36m__call__\u001b[1;34m(self)\u001b[0m\n\u001b[0;32m   2262\u001b[0m     \u001b[1;32mdef\u001b[0m \u001b[0m__call__\u001b[0m\u001b[1;33m(\u001b[0m\u001b[0mself\u001b[0m\u001b[1;33m)\u001b[0m\u001b[1;33m:\u001b[0m\u001b[1;33m\u001b[0m\u001b[1;33m\u001b[0m\u001b[0m\n\u001b[0;32m   2263\u001b[0m         \u001b[0mvmin\u001b[0m\u001b[1;33m,\u001b[0m \u001b[0mvmax\u001b[0m \u001b[1;33m=\u001b[0m \u001b[0mself\u001b[0m\u001b[1;33m.\u001b[0m\u001b[0maxis\u001b[0m\u001b[1;33m.\u001b[0m\u001b[0mget_view_interval\u001b[0m\u001b[1;33m(\u001b[0m\u001b[1;33m)\u001b[0m\u001b[1;33m\u001b[0m\u001b[1;33m\u001b[0m\u001b[0m\n\u001b[1;32m-> 2264\u001b[1;33m         \u001b[1;32mreturn\u001b[0m \u001b[0mself\u001b[0m\u001b[1;33m.\u001b[0m\u001b[0mtick_values\u001b[0m\u001b[1;33m(\u001b[0m\u001b[0mvmin\u001b[0m\u001b[1;33m,\u001b[0m \u001b[0mvmax\u001b[0m\u001b[1;33m)\u001b[0m\u001b[1;33m\u001b[0m\u001b[1;33m\u001b[0m\u001b[0m\n\u001b[0m\u001b[0;32m   2265\u001b[0m \u001b[1;33m\u001b[0m\u001b[0m\n\u001b[0;32m   2266\u001b[0m     \u001b[1;32mdef\u001b[0m \u001b[0mtick_values\u001b[0m\u001b[1;33m(\u001b[0m\u001b[0mself\u001b[0m\u001b[1;33m,\u001b[0m \u001b[0mvmin\u001b[0m\u001b[1;33m,\u001b[0m \u001b[0mvmax\u001b[0m\u001b[1;33m)\u001b[0m\u001b[1;33m:\u001b[0m\u001b[1;33m\u001b[0m\u001b[1;33m\u001b[0m\u001b[0m\n",
      "\u001b[1;32m~\\anaconda3\\lib\\site-packages\\matplotlib\\ticker.py\u001b[0m in \u001b[0;36mtick_values\u001b[1;34m(self, vmin, vmax)\u001b[0m\n\u001b[0;32m   2270\u001b[0m         vmin, vmax = mtransforms.nonsingular(\n\u001b[0;32m   2271\u001b[0m             vmin, vmax, expander=1e-13, tiny=1e-14)\n\u001b[1;32m-> 2272\u001b[1;33m         \u001b[0mlocs\u001b[0m \u001b[1;33m=\u001b[0m \u001b[0mself\u001b[0m\u001b[1;33m.\u001b[0m\u001b[0m_raw_ticks\u001b[0m\u001b[1;33m(\u001b[0m\u001b[0mvmin\u001b[0m\u001b[1;33m,\u001b[0m \u001b[0mvmax\u001b[0m\u001b[1;33m)\u001b[0m\u001b[1;33m\u001b[0m\u001b[1;33m\u001b[0m\u001b[0m\n\u001b[0m\u001b[0;32m   2273\u001b[0m \u001b[1;33m\u001b[0m\u001b[0m\n\u001b[0;32m   2274\u001b[0m         \u001b[0mprune\u001b[0m \u001b[1;33m=\u001b[0m \u001b[0mself\u001b[0m\u001b[1;33m.\u001b[0m\u001b[0m_prune\u001b[0m\u001b[1;33m\u001b[0m\u001b[1;33m\u001b[0m\u001b[0m\n",
      "\u001b[1;32m~\\anaconda3\\lib\\site-packages\\matplotlib\\ticker.py\u001b[0m in \u001b[0;36m_raw_ticks\u001b[1;34m(self, vmin, vmax)\u001b[0m\n\u001b[0;32m   2209\u001b[0m         \u001b[1;32mif\u001b[0m \u001b[0mself\u001b[0m\u001b[1;33m.\u001b[0m\u001b[0m_nbins\u001b[0m \u001b[1;33m==\u001b[0m \u001b[1;34m'auto'\u001b[0m\u001b[1;33m:\u001b[0m\u001b[1;33m\u001b[0m\u001b[1;33m\u001b[0m\u001b[0m\n\u001b[0;32m   2210\u001b[0m             \u001b[1;32mif\u001b[0m \u001b[0mself\u001b[0m\u001b[1;33m.\u001b[0m\u001b[0maxis\u001b[0m \u001b[1;32mis\u001b[0m \u001b[1;32mnot\u001b[0m \u001b[1;32mNone\u001b[0m\u001b[1;33m:\u001b[0m\u001b[1;33m\u001b[0m\u001b[1;33m\u001b[0m\u001b[0m\n\u001b[1;32m-> 2211\u001b[1;33m                 nbins = np.clip(self.axis.get_tick_space(),\n\u001b[0m\u001b[0;32m   2212\u001b[0m                                 max(1, self._min_n_ticks - 1), 9)\n\u001b[0;32m   2213\u001b[0m             \u001b[1;32melse\u001b[0m\u001b[1;33m:\u001b[0m\u001b[1;33m\u001b[0m\u001b[1;33m\u001b[0m\u001b[0m\n",
      "\u001b[1;32m~\\anaconda3\\lib\\site-packages\\matplotlib\\axis.py\u001b[0m in \u001b[0;36mget_tick_space\u001b[1;34m(self)\u001b[0m\n\u001b[0;32m   2268\u001b[0m     \u001b[1;32mdef\u001b[0m \u001b[0mget_tick_space\u001b[0m\u001b[1;33m(\u001b[0m\u001b[0mself\u001b[0m\u001b[1;33m)\u001b[0m\u001b[1;33m:\u001b[0m\u001b[1;33m\u001b[0m\u001b[1;33m\u001b[0m\u001b[0m\n\u001b[0;32m   2269\u001b[0m         \u001b[0mends\u001b[0m \u001b[1;33m=\u001b[0m \u001b[0mmtransforms\u001b[0m\u001b[1;33m.\u001b[0m\u001b[0mBbox\u001b[0m\u001b[1;33m.\u001b[0m\u001b[0mfrom_bounds\u001b[0m\u001b[1;33m(\u001b[0m\u001b[1;36m0\u001b[0m\u001b[1;33m,\u001b[0m \u001b[1;36m0\u001b[0m\u001b[1;33m,\u001b[0m \u001b[1;36m1\u001b[0m\u001b[1;33m,\u001b[0m \u001b[1;36m1\u001b[0m\u001b[1;33m)\u001b[0m\u001b[1;33m\u001b[0m\u001b[1;33m\u001b[0m\u001b[0m\n\u001b[1;32m-> 2270\u001b[1;33m         ends = ends.transformed(self.axes.transAxes -\n\u001b[0m\u001b[0;32m   2271\u001b[0m                                 self.figure.dpi_scale_trans)\n\u001b[0;32m   2272\u001b[0m         \u001b[0mlength\u001b[0m \u001b[1;33m=\u001b[0m \u001b[0mends\u001b[0m\u001b[1;33m.\u001b[0m\u001b[0mwidth\u001b[0m \u001b[1;33m*\u001b[0m \u001b[1;36m72\u001b[0m\u001b[1;33m\u001b[0m\u001b[1;33m\u001b[0m\u001b[0m\n",
      "\u001b[1;32m~\\anaconda3\\lib\\site-packages\\matplotlib\\transforms.py\u001b[0m in \u001b[0;36mtransformed\u001b[1;34m(self, transform)\u001b[0m\n\u001b[0;32m    490\u001b[0m         \"\"\"\n\u001b[0;32m    491\u001b[0m         \u001b[0mpts\u001b[0m \u001b[1;33m=\u001b[0m \u001b[0mself\u001b[0m\u001b[1;33m.\u001b[0m\u001b[0mget_points\u001b[0m\u001b[1;33m(\u001b[0m\u001b[1;33m)\u001b[0m\u001b[1;33m\u001b[0m\u001b[1;33m\u001b[0m\u001b[0m\n\u001b[1;32m--> 492\u001b[1;33m         ll, ul, lr = transform.transform(np.array(\n\u001b[0m\u001b[0;32m    493\u001b[0m             [pts[0], [pts[0, 0], pts[1, 1]], [pts[1, 0], pts[0, 1]]]))\n\u001b[0;32m    494\u001b[0m         \u001b[1;32mreturn\u001b[0m \u001b[0mBbox\u001b[0m\u001b[1;33m(\u001b[0m\u001b[1;33m[\u001b[0m\u001b[0mll\u001b[0m\u001b[1;33m,\u001b[0m \u001b[1;33m[\u001b[0m\u001b[0mlr\u001b[0m\u001b[1;33m[\u001b[0m\u001b[1;36m0\u001b[0m\u001b[1;33m]\u001b[0m\u001b[1;33m,\u001b[0m \u001b[0mul\u001b[0m\u001b[1;33m[\u001b[0m\u001b[1;36m1\u001b[0m\u001b[1;33m]\u001b[0m\u001b[1;33m]\u001b[0m\u001b[1;33m]\u001b[0m\u001b[1;33m)\u001b[0m\u001b[1;33m\u001b[0m\u001b[1;33m\u001b[0m\u001b[0m\n",
      "\u001b[1;32m~\\anaconda3\\lib\\site-packages\\matplotlib\\transforms.py\u001b[0m in \u001b[0;36mtransform\u001b[1;34m(self, values)\u001b[0m\n\u001b[0;32m   1468\u001b[0m \u001b[1;33m\u001b[0m\u001b[0m\n\u001b[0;32m   1469\u001b[0m         \u001b[1;31m# Transform the values\u001b[0m\u001b[1;33m\u001b[0m\u001b[1;33m\u001b[0m\u001b[0m\n\u001b[1;32m-> 1470\u001b[1;33m         \u001b[0mres\u001b[0m \u001b[1;33m=\u001b[0m \u001b[0mself\u001b[0m\u001b[1;33m.\u001b[0m\u001b[0mtransform_affine\u001b[0m\u001b[1;33m(\u001b[0m\u001b[0mself\u001b[0m\u001b[1;33m.\u001b[0m\u001b[0mtransform_non_affine\u001b[0m\u001b[1;33m(\u001b[0m\u001b[0mvalues\u001b[0m\u001b[1;33m)\u001b[0m\u001b[1;33m)\u001b[0m\u001b[1;33m\u001b[0m\u001b[1;33m\u001b[0m\u001b[0m\n\u001b[0m\u001b[0;32m   1471\u001b[0m \u001b[1;33m\u001b[0m\u001b[0m\n\u001b[0;32m   1472\u001b[0m         \u001b[1;31m# Convert the result back to the shape of the input values.\u001b[0m\u001b[1;33m\u001b[0m\u001b[1;33m\u001b[0m\u001b[0m\n",
      "\u001b[1;32m~\\anaconda3\\lib\\site-packages\\matplotlib\\transforms.py\u001b[0m in \u001b[0;36mtransform_affine\u001b[1;34m(self, points)\u001b[0m\n\u001b[0;32m   2377\u001b[0m     \u001b[1;32mdef\u001b[0m \u001b[0mtransform_affine\u001b[0m\u001b[1;33m(\u001b[0m\u001b[0mself\u001b[0m\u001b[1;33m,\u001b[0m \u001b[0mpoints\u001b[0m\u001b[1;33m)\u001b[0m\u001b[1;33m:\u001b[0m\u001b[1;33m\u001b[0m\u001b[1;33m\u001b[0m\u001b[0m\n\u001b[0;32m   2378\u001b[0m         \u001b[1;31m# docstring inherited\u001b[0m\u001b[1;33m\u001b[0m\u001b[1;33m\u001b[0m\u001b[0m\n\u001b[1;32m-> 2379\u001b[1;33m         \u001b[1;32mreturn\u001b[0m \u001b[0mself\u001b[0m\u001b[1;33m.\u001b[0m\u001b[0mget_affine\u001b[0m\u001b[1;33m(\u001b[0m\u001b[1;33m)\u001b[0m\u001b[1;33m.\u001b[0m\u001b[0mtransform\u001b[0m\u001b[1;33m(\u001b[0m\u001b[0mpoints\u001b[0m\u001b[1;33m)\u001b[0m\u001b[1;33m\u001b[0m\u001b[1;33m\u001b[0m\u001b[0m\n\u001b[0m\u001b[0;32m   2380\u001b[0m \u001b[1;33m\u001b[0m\u001b[0m\n\u001b[0;32m   2381\u001b[0m     \u001b[1;32mdef\u001b[0m \u001b[0mtransform_non_affine\u001b[0m\u001b[1;33m(\u001b[0m\u001b[0mself\u001b[0m\u001b[1;33m,\u001b[0m \u001b[0mpoints\u001b[0m\u001b[1;33m)\u001b[0m\u001b[1;33m:\u001b[0m\u001b[1;33m\u001b[0m\u001b[1;33m\u001b[0m\u001b[0m\n",
      "\u001b[1;32m~\\anaconda3\\lib\\site-packages\\matplotlib\\transforms.py\u001b[0m in \u001b[0;36mget_affine\u001b[1;34m(self)\u001b[0m\n\u001b[0;32m   2404\u001b[0m             \u001b[1;32mreturn\u001b[0m \u001b[0mself\u001b[0m\u001b[1;33m.\u001b[0m\u001b[0m_b\u001b[0m\u001b[1;33m.\u001b[0m\u001b[0mget_affine\u001b[0m\u001b[1;33m(\u001b[0m\u001b[1;33m)\u001b[0m\u001b[1;33m\u001b[0m\u001b[1;33m\u001b[0m\u001b[0m\n\u001b[0;32m   2405\u001b[0m         \u001b[1;32melse\u001b[0m\u001b[1;33m:\u001b[0m\u001b[1;33m\u001b[0m\u001b[1;33m\u001b[0m\u001b[0m\n\u001b[1;32m-> 2406\u001b[1;33m             return Affine2D(np.dot(self._b.get_affine().get_matrix(),\n\u001b[0m\u001b[0;32m   2407\u001b[0m                                    self._a.get_affine().get_matrix()))\n\u001b[0;32m   2408\u001b[0m \u001b[1;33m\u001b[0m\u001b[0m\n",
      "\u001b[1;32m<__array_function__ internals>\u001b[0m in \u001b[0;36mdot\u001b[1;34m(*args, **kwargs)\u001b[0m\n",
      "\u001b[1;31mKeyboardInterrupt\u001b[0m: "
     ]
    }
   ],
   "source": [
    "fig, ax = plt.subplots(figsize=(8, 6))\n",
    "sns.regplot(x=\"cantidad\", y=\"importe\", data=df, order=4)\n",
    "\n",
    "plt.show()"
   ]
  },
  {
   "cell_type": "markdown",
   "id": "88394a4c-d136-44d8-b9ec-2e545b76f7f5",
   "metadata": {},
   "source": [
    "relación entre preciouc y precio"
   ]
  },
  {
   "cell_type": "code",
   "execution_count": null,
   "id": "2bcaa163-38c0-4c23-816c-cc1abcd2c2e2",
   "metadata": {},
   "outputs": [],
   "source": [
    "fig, ax = plt.subplots(figsize=(8, 6))\n",
    "sns.regplot(x=\"precio\", y=\"importe\",data=df, order=1)"
   ]
  },
  {
   "cell_type": "code",
   "execution_count": null,
   "id": "488c127b-7d93-49a3-aecb-7312a8ba3dff",
   "metadata": {},
   "outputs": [],
   "source": [
    "fig, ax = plt.subplots(figsize=(8, 6))\n",
    "sns.regplot(x=\"preciouc\", y=\"precio\",data=df, order=1)\n",
    "ax.annotate('Valores Atípicos', xy=(7900, 48000), xytext=(4000, 40000), arrowprops = dict(facecolor='r', shrink=0.1))\n",
    "ax.annotate('', xy=(6300, 19000), xytext=(5000, 40000), arrowprops = dict(facecolor='r', shrink=0.1))\n",
    "plt.show()"
   ]
  },
  {
   "cell_type": "markdown",
   "id": "ddf93f6b-ee66-4d2d-8953-f5c1902c142a",
   "metadata": {},
   "source": [
    "relación entr epreciuc y la la edad"
   ]
  },
  {
   "cell_type": "code",
   "execution_count": null,
   "id": "72ddb91c-f48c-453d-9cff-171d29131252",
   "metadata": {},
   "outputs": [],
   "source": [
    "fig, ax = plt.subplots(figsize=(8, 6))\n",
    "sns.regplot(x=\"preciouc\", y=\"edad\", data=df, order=3)\n",
    "plt.show()"
   ]
  },
  {
   "cell_type": "code",
   "execution_count": null,
   "id": "0a5f1b51-d043-4d7e-9869-41f201091e9f",
   "metadata": {},
   "outputs": [],
   "source": [
    "#sns.pairplot(df, hue='ctr_stock')\n",
    "#plt.show()"
   ]
  },
  {
   "cell_type": "code",
   "execution_count": null,
   "id": "7e86e6ba-dd26-412a-a420-b8e87e7ee4f7",
   "metadata": {},
   "outputs": [],
   "source": [
    "#sns.pairplot(df,hue='nomfamia')\n",
    "#plt.show()"
   ]
  }
 ],
 "metadata": {
  "kernelspec": {
   "display_name": "Python 3 (ipykernel)",
   "language": "python",
   "name": "python3"
  },
  "language_info": {
   "codemirror_mode": {
    "name": "ipython",
    "version": 3
   },
   "file_extension": ".py",
   "mimetype": "text/x-python",
   "name": "python",
   "nbconvert_exporter": "python",
   "pygments_lexer": "ipython3",
   "version": "3.9.7"
  },
  "toc-autonumbering": true,
  "toc-showcode": false,
  "toc-showmarkdowntxt": false
 },
 "nbformat": 4,
 "nbformat_minor": 5
}
